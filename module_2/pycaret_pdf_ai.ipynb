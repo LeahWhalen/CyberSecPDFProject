{
 "cells": [
  {
   "cell_type": "code",
   "execution_count": 62,
   "id": "fcff6c76-ae96-4667-82a7-42c3f01c5e8c",
   "metadata": {},
   "outputs": [],
   "source": [
    "import os\n",
    "import numpy as np\n",
    "import pandas as pd\n",
    "import csv\n",
    "from pycaret.anomaly import *\n",
    "from pycaret.datasets import get_data\n",
    "\n",
    "# set this to the directory with the malicious pdf's\n",
    "current_directory=\"/home/leahwhalen/Documents/ece_509/CyberSecPDFProject/\"\n",
    "os.chdir(current_directory)\n",
    "\n",
    "\n",
    "# class that defines pdfs and operates on them\n",
    "class PDFInformation:\n",
    "    #attributes:\n",
    "    # pdf - raw text of the pdf\n",
    "    # pdf_as_str = divide pdf raw text into lines\n",
    "    # pdf_objects = divide pdf into objects\n",
    "\n",
    "    def __init__(self, pdf_dir):\n",
    "        self.pdf = self.convert(pdf_dir)\n",
    "\n",
    "    # converts pdf to plain text?\n",
    "    def convert(self, pdf_dir):\n",
    "        f = open(pdf_dir, \"r\")\n",
    "\n",
    "        # creates the pdf_as_str attribute\n",
    "        self.pdf_as_str = f.read()\n",
    "\n",
    "        self.pdf_strings = self.pdf_as_str.split(\"\\n\")\n",
    "        # print(self.pdf_strings[1] + \"\\n\\n\")\n",
    "        # print(self.pdf_as_str)\n",
    "\n",
    "        obj_indices = []\n",
    "        temp_object = []\n",
    "        pdf_objects = []\n",
    "        in_object = 0"
   ]
  },
  {
   "cell_type": "code",
   "execution_count": 63,
   "id": "28433870-a07f-452c-8761-81c0b7b356df",
   "metadata": {},
   "outputs": [
    {
     "name": "stdout",
     "output_type": "stream",
     "text": [
      "/home/leahwhalen/Documents/ece_509/CyberSecPDFProject/\n",
      "/home/leahwhalen/Documents/ece_509/CyberSecPDFProject\n"
     ]
    }
   ],
   "source": [
    "print(current_directory)\n",
    "print(os.getcwd())"
   ]
  },
  {
   "cell_type": "code",
   "execution_count": 83,
   "id": "2dae73bf-d7cb-4b5f-a274-a8a5ecdfffb8",
   "metadata": {},
   "outputs": [
    {
     "name": "stdout",
     "output_type": "stream",
     "text": [
      "         0     1     2     3     4     5     6     7     8     9\n",
      "0     37.0  37.0  37.0  37.0  37.0  37.0  37.0  37.0  37.0  37.0\n",
      "1     80.0  80.0  80.0  80.0  80.0  80.0  80.0  80.0  80.0  80.0\n",
      "2     68.0  68.0  68.0  68.0  68.0  68.0  68.0  68.0  68.0  68.0\n",
      "3     70.0  70.0  70.0  70.0  70.0  70.0  70.0  70.0  70.0  70.0\n",
      "4     45.0  45.0  45.0  45.0  45.0  45.0  45.0  45.0  45.0  45.0\n",
      "...    ...   ...   ...   ...   ...   ...   ...   ...   ...   ...\n",
      "1171   NaN   NaN   NaN   NaN   NaN   NaN   NaN   NaN  37.0   NaN\n",
      "1172   NaN   NaN   NaN   NaN   NaN   NaN   NaN   NaN  69.0   NaN\n",
      "1173   NaN   NaN   NaN   NaN   NaN   NaN   NaN   NaN  79.0   NaN\n",
      "1174   NaN   NaN   NaN   NaN   NaN   NaN   NaN   NaN  70.0   NaN\n",
      "1175   NaN   NaN   NaN   NaN   NaN   NaN   NaN   NaN  10.0   NaN\n",
      "\n",
      "[1176 rows x 10 columns]\n"
     ]
    }
   ],
   "source": [
    "# create the csv from the data\n",
    "with open(\"pdf_csv.csv\", \"w\") as csv_f:\n",
    "    writer = csv.writer(csv_f)\n",
    "\n",
    "    # add all the pdfs to arrays and convert them\n",
    "    pdf_array = []\n",
    "    headers = []\n",
    "    for i in range(1, 11):\n",
    "        # gets name of file and reads it in\n",
    "        pdf_file_name = current_directory+\"/Malicious_PFD_1/test\"+str(i)+\".pdf\"\n",
    "        pdf_name_short = \"test\"+str(i)+\".pdf\"\n",
    "\n",
    "        # cut line by line\n",
    "        f = open(pdf_file_name, \"r\")\n",
    "        pdf_as_str = f.read()\n",
    "\n",
    "        # encodes data into characters\n",
    "        pdf_strings = pdf_as_str.split('/n')\n",
    "        pdf_chars = list(pdf_as_str)\n",
    "        pdf_numbers = []\n",
    "        for character in pdf_chars:\n",
    "            pdf_numbers.append(ord(character))\n",
    "            # pdf_numbers.append(character)\n",
    "        # print(pdf_numbers)\n",
    "\n",
    "        # add headers to a list\n",
    "        headers.append(pdf_name_short)\n",
    "\n",
    "        # append for dataframe\n",
    "        pdf_array.append(pdf_numbers)\n",
    "\n",
    "        f.close()\n",
    "\n",
    "    df = pd.DataFrame(pdf_array)\n",
    "    df = df.transpose()\n",
    "    dataset = df.set_axis(headers, axis='columns')\n",
    "    print(df)\n",
    "    # writer.writerows(pdf_array)\n",
    "    csv_f.close()"
   ]
  },
  {
   "cell_type": "code",
   "execution_count": 84,
   "id": "972205bc-5b54-404f-bb60-1fedd87fcacd",
   "metadata": {},
   "outputs": [
    {
     "name": "stdout",
     "output_type": "stream",
     "text": [
      "      test1.pdf  test2.pdf  test3.pdf  test4.pdf  test5.pdf  test6.pdf  \\\n",
      "0          37.0       37.0       37.0       37.0       37.0       37.0   \n",
      "1          80.0       80.0       80.0       80.0       80.0       80.0   \n",
      "2          68.0       68.0       68.0       68.0       68.0       68.0   \n",
      "3          70.0       70.0       70.0       70.0       70.0       70.0   \n",
      "4          45.0       45.0       45.0       45.0       45.0       45.0   \n",
      "...         ...        ...        ...        ...        ...        ...   \n",
      "1171        NaN        NaN        NaN        NaN        NaN        NaN   \n",
      "1172        NaN        NaN        NaN        NaN        NaN        NaN   \n",
      "1173        NaN        NaN        NaN        NaN        NaN        NaN   \n",
      "1174        NaN        NaN        NaN        NaN        NaN        NaN   \n",
      "1175        NaN        NaN        NaN        NaN        NaN        NaN   \n",
      "\n",
      "      test7.pdf  test8.pdf  test9.pdf  test10.pdf  \n",
      "0          37.0       37.0       37.0        37.0  \n",
      "1          80.0       80.0       80.0        80.0  \n",
      "2          68.0       68.0       68.0        68.0  \n",
      "3          70.0       70.0       70.0        70.0  \n",
      "4          45.0       45.0       45.0        45.0  \n",
      "...         ...        ...        ...         ...  \n",
      "1171        NaN        NaN       37.0         NaN  \n",
      "1172        NaN        NaN       69.0         NaN  \n",
      "1173        NaN        NaN       79.0         NaN  \n",
      "1174        NaN        NaN       70.0         NaN  \n",
      "1175        NaN        NaN       10.0         NaN  \n",
      "\n",
      "[1176 rows x 10 columns]\n"
     ]
    }
   ],
   "source": [
    "print(dataset)"
   ]
  },
  {
   "cell_type": "code",
   "execution_count": 85,
   "id": "66ffcbf7-48de-4116-b03a-a8e890354c84",
   "metadata": {},
   "outputs": [
    {
     "data": {
      "text/plain": [
       "'%'"
      ]
     },
     "execution_count": 85,
     "metadata": {},
     "output_type": "execute_result"
    }
   ],
   "source": [
    "chr(37)"
   ]
  },
  {
   "cell_type": "code",
   "execution_count": 87,
   "id": "6a6a1128-b98d-472d-86b6-c184ac1a8b64",
   "metadata": {},
   "outputs": [
    {
     "name": "stdout",
     "output_type": "stream",
     "text": [
      "         0     1     2     3     4     5     6     7     8     9\n",
      "0     37.0  37.0  37.0  37.0  37.0  37.0  37.0  37.0  37.0  37.0\n",
      "1     80.0  80.0  80.0  80.0  80.0  80.0  80.0  80.0  80.0  80.0\n",
      "2     68.0  68.0  68.0  68.0  68.0  68.0  68.0  68.0  68.0  68.0\n",
      "3     70.0  70.0  70.0  70.0  70.0  70.0  70.0  70.0  70.0  70.0\n",
      "4     45.0  45.0  45.0  45.0  45.0  45.0  45.0  45.0  45.0  45.0\n",
      "...    ...   ...   ...   ...   ...   ...   ...   ...   ...   ...\n",
      "1171  32.0  32.0  32.0  32.0  32.0  32.0  32.0  32.0  37.0  32.0\n",
      "1172  32.0  32.0  32.0  32.0  32.0  32.0  32.0  32.0  69.0  32.0\n",
      "1173  32.0  32.0  32.0  32.0  32.0  32.0  32.0  32.0  79.0  32.0\n",
      "1174  32.0  32.0  32.0  32.0  32.0  32.0  32.0  32.0  70.0  32.0\n",
      "1175  32.0  32.0  32.0  32.0  32.0  32.0  32.0  32.0  10.0  32.0\n",
      "\n",
      "[1176 rows x 10 columns]\n"
     ]
    }
   ],
   "source": [
    "blank_data = df.replace(np.nan, 32)\n",
    "# blank_data = df.replace(None, ' ')\n",
    "\n",
    "print(blank_data)"
   ]
  },
  {
   "cell_type": "code",
   "execution_count": 19,
   "id": "161f16ca-7c48-4215-87f8-7943e6af309f",
   "metadata": {},
   "outputs": [
    {
     "name": "stdout",
     "output_type": "stream",
     "text": [
      "          0      1     2      3      4      5      6      7      8      9\n",
      "158    50.0  101.0  58.0  108.0   62.0   62.0   62.0   41.0  111.0  111.0\n",
      "744   116.0   32.0  32.0   32.0   53.0   53.0   53.0   32.0   62.0   32.0\n",
      "779    32.0   32.0  32.0   32.0   47.0   47.0   47.0  116.0   32.0   32.0\n",
      "310    49.0   99.0  32.0   32.0  121.0  121.0  121.0   32.0   32.0   32.0\n",
      "952    32.0   32.0  32.0   32.0   48.0   48.0   51.0   48.0   46.0   32.0\n",
      "...     ...    ...   ...    ...    ...    ...    ...    ...    ...    ...\n",
      "1076   32.0   32.0  32.0   32.0   32.0   62.0   10.0  102.0   48.0   32.0\n",
      "225    48.0  100.0  32.0   32.0  115.0  115.0  115.0   48.0   32.0   32.0\n",
      "1129   32.0   32.0  32.0   32.0   32.0   32.0   32.0   32.0  111.0   32.0\n",
      "806    32.0   32.0  32.0   32.0   46.0  105.0  108.0   10.0   97.0   32.0\n",
      "506    60.0   32.0  32.0   32.0   53.0   53.0   53.0   32.0   60.0   32.0\n",
      "\n",
      "[1117 rows x 10 columns]\n",
      "          0      1      2      3      4      5      6      7      8      9\n",
      "5      49.0   49.0   49.0   10.0   49.0   49.0   49.0   49.0   49.0   49.0\n",
      "17     60.0   62.0   60.0   62.0   32.0   32.0   32.0   32.0   32.0   60.0\n",
      "48    110.0  116.0   32.0   10.0   32.0   32.0   32.0   32.0   32.0   82.0\n",
      "86     93.0  115.0   32.0   83.0   47.0   47.0   47.0  114.0   84.0  115.0\n",
      "89    111.0  116.0   32.0  105.0  103.0  103.0  103.0  111.0  101.0  101.0\n",
      "97     10.0   32.0  118.0  103.0   32.0   32.0   32.0   70.0   32.0  105.0\n",
      "122    97.0   97.0   32.0   61.0  116.0  116.0  116.0   83.0   32.0  115.0\n",
      "132    32.0  112.0   32.0   34.0   77.0   77.0   77.0  105.0   32.0  111.0\n",
      "176    10.0  111.0   58.0   60.0   32.0   32.0   32.0   62.0   84.0   32.0\n",
      "201    48.0  103.0   41.0   32.0  101.0  101.0  101.0  112.0   32.0   32.0\n",
      "202    48.0  101.0   44.0   32.0  110.0  110.0  110.0  101.0   48.0   32.0\n",
      "212    48.0   32.0   84.0   70.0   32.0   32.0   32.0   32.0   47.0   32.0\n",
      "275   114.0   82.0   32.0   32.0   32.0   32.0   32.0   62.0   47.0   32.0\n",
      "276    10.0  101.0   32.0   32.0   47.0   47.0   47.0   62.0   84.0   32.0\n",
      "279    47.0  121.0   32.0   32.0  112.0  112.0  112.0  110.0  101.0   32.0\n",
      "286    47.0   34.0   32.0   32.0  116.0  116.0  116.0   32.0   10.0   32.0\n",
      "318   111.0   32.0   32.0   32.0  101.0  101.0  101.0  114.0   99.0   32.0\n",
      "331    47.0  115.0   32.0  101.0   32.0   32.0   32.0   32.0   47.0   32.0\n",
      "363    60.0   69.0   32.0   10.0   32.0   32.0   32.0   32.0   32.0   32.0\n",
      "366     9.0  111.0   32.0   32.0   32.0   32.0   32.0   32.0   32.0   32.0\n",
      "380    32.0   10.0   32.0   32.0   32.0   32.0   32.0   32.0  110.0   32.0\n",
      "402    66.0  120.0   32.0   32.0   65.0   65.0   65.0  111.0  117.0   32.0\n",
      "405   105.0   67.0   32.0   32.0  111.0  111.0  111.0   10.0  121.0   32.0\n",
      "425    48.0  115.0   32.0   62.0   10.0   10.0   10.0  117.0   32.0   32.0\n",
      "445    69.0   32.0   32.0   32.0  117.0  117.0  117.0   32.0  111.0   32.0\n",
      "449    32.0   32.0   32.0   32.0  112.0  112.0  112.0   32.0  101.0   32.0\n",
      "455    32.0   97.0   32.0   32.0  110.0  110.0  110.0   32.0   32.0   32.0\n",
      "485   101.0  110.0   32.0   32.0   10.0   10.0   10.0   32.0   32.0   32.0\n",
      "564    66.0  110.0   32.0   32.0   57.0   57.0   57.0  101.0   32.0   32.0\n",
      "574    72.0  110.0   32.0   32.0   32.0   32.0   32.0   62.0  110.0   32.0\n",
      "586     9.0  114.0   32.0   32.0   62.0   62.0   62.0   84.0   32.0   32.0\n",
      "599    62.0  116.0   32.0   32.0  116.0  116.0  116.0   84.0   65.0   32.0\n",
      "611   101.0   32.0   32.0   32.0   93.0   93.0   93.0   48.0   32.0   32.0\n",
      "615    98.0  114.0   32.0   32.0   62.0   62.0   62.0   10.0   32.0   32.0\n",
      "622   111.0   60.0   32.0   32.0   98.0   98.0   98.0  101.0   32.0   32.0\n",
      "630   101.0   32.0   32.0   32.0   98.0   98.0   98.0   32.0   32.0   32.0\n",
      "730   115.0  100.0   32.0   32.0  115.0  115.0  115.0  101.0   60.0   32.0\n",
      "733   101.0  116.0   32.0   32.0  101.0  101.0  101.0   70.0   47.0   32.0\n",
      "735   109.0   32.0   32.0   32.0  109.0  109.0  109.0  108.0  101.0   32.0\n",
      "752    60.0   32.0   32.0   32.0   32.0   32.0   32.0   47.0  109.0   32.0\n",
      "757    82.0  101.0   32.0   32.0   47.0   47.0   47.0   46.0   84.0   32.0\n",
      "759   111.0  116.0   32.0   32.0  121.0  121.0  121.0   83.0   32.0   32.0\n",
      "772    37.0   32.0   32.0   32.0   32.0   32.0   32.0   99.0   10.0   32.0\n",
      "773    69.0   32.0   32.0   32.0   32.0   32.0   32.0  111.0   32.0   32.0\n",
      "798    32.0   32.0   32.0   32.0  112.0   47.0   84.0   32.0  115.0   32.0\n",
      "819    32.0   32.0   32.0   32.0  103.0  116.0  116.0   52.0   69.0   32.0\n",
      "825    32.0   32.0   32.0   32.0  116.0   47.0  119.0   98.0  115.0   32.0\n",
      "832    32.0   32.0   32.0   32.0   32.0   85.0   45.0   76.0  101.0   32.0\n",
      "847    32.0   32.0   32.0   32.0  102.0   47.0  116.0   50.0   32.0   32.0\n",
      "883    32.0   32.0   32.0   32.0   48.0   32.0   47.0  109.0  116.0   32.0\n",
      "929    32.0   32.0   32.0   32.0   48.0   48.0  120.0   10.0   65.0   32.0\n",
      "935    32.0   32.0   32.0   32.0   48.0   53.0   32.0   48.0   45.0   32.0\n",
      "936    32.0   32.0   32.0   32.0   54.0   51.0   54.0   48.0   66.0   32.0\n",
      "957    32.0   32.0   32.0   32.0   57.0   32.0   48.0   56.0   32.0   32.0\n",
      "967    32.0   32.0   32.0   32.0  116.0   48.0   32.0   10.0   70.0   32.0\n",
      "1014   32.0   32.0   32.0   32.0  116.0   32.0   48.0   55.0   53.0   32.0\n",
      "1027   32.0   32.0   32.0   32.0   79.0   32.0   48.0   97.0   48.0   32.0\n",
      "1070   32.0   32.0   32.0   32.0   32.0  101.0   32.0   97.0   48.0   32.0\n",
      "1143   32.0   32.0   32.0   32.0   32.0   32.0   32.0   32.0   47.0   32.0\n"
     ]
    }
   ],
   "source": [
    "# data parsing\n",
    "data = blank_data.sample(frac=0.95, random_state=786)\n",
    "data_unseen = blank_data.drop(data.index)\n",
    "    \n",
    "print(data)\n",
    "print(data_unseen)"
   ]
  },
  {
   "cell_type": "code",
   "execution_count": 20,
   "id": "49bf037c-9bdc-4edf-9925-4d1562f8ee45",
   "metadata": {},
   "outputs": [
    {
     "name": "stdout",
     "output_type": "stream",
     "text": [
      "          0      1     2      3      4      5      6      7      8      9\n",
      "0      50.0  101.0  58.0  108.0   62.0   62.0   62.0   41.0  111.0  111.0\n",
      "1     116.0   32.0  32.0   32.0   53.0   53.0   53.0   32.0   62.0   32.0\n",
      "2      32.0   32.0  32.0   32.0   47.0   47.0   47.0  116.0   32.0   32.0\n",
      "3      49.0   99.0  32.0   32.0  121.0  121.0  121.0   32.0   32.0   32.0\n",
      "4      32.0   32.0  32.0   32.0   48.0   48.0   51.0   48.0   46.0   32.0\n",
      "...     ...    ...   ...    ...    ...    ...    ...    ...    ...    ...\n",
      "1112   32.0   32.0  32.0   32.0   32.0   62.0   10.0  102.0   48.0   32.0\n",
      "1113   48.0  100.0  32.0   32.0  115.0  115.0  115.0   48.0   32.0   32.0\n",
      "1114   32.0   32.0  32.0   32.0   32.0   32.0   32.0   32.0  111.0   32.0\n",
      "1115   32.0   32.0  32.0   32.0   46.0  105.0  108.0   10.0   97.0   32.0\n",
      "1116   60.0   32.0  32.0   32.0   53.0   53.0   53.0   32.0   60.0   32.0\n",
      "\n",
      "[1117 rows x 10 columns]\n",
      "        0      1      2      3      4      5      6      7      8      9\n",
      "0    49.0   49.0   49.0   10.0   49.0   49.0   49.0   49.0   49.0   49.0\n",
      "1    60.0   62.0   60.0   62.0   32.0   32.0   32.0   32.0   32.0   60.0\n",
      "2   110.0  116.0   32.0   10.0   32.0   32.0   32.0   32.0   32.0   82.0\n",
      "3    93.0  115.0   32.0   83.0   47.0   47.0   47.0  114.0   84.0  115.0\n",
      "4   111.0  116.0   32.0  105.0  103.0  103.0  103.0  111.0  101.0  101.0\n",
      "5    10.0   32.0  118.0  103.0   32.0   32.0   32.0   70.0   32.0  105.0\n",
      "6    97.0   97.0   32.0   61.0  116.0  116.0  116.0   83.0   32.0  115.0\n",
      "7    32.0  112.0   32.0   34.0   77.0   77.0   77.0  105.0   32.0  111.0\n",
      "8    10.0  111.0   58.0   60.0   32.0   32.0   32.0   62.0   84.0   32.0\n",
      "9    48.0  103.0   41.0   32.0  101.0  101.0  101.0  112.0   32.0   32.0\n",
      "10   48.0  101.0   44.0   32.0  110.0  110.0  110.0  101.0   48.0   32.0\n",
      "11   48.0   32.0   84.0   70.0   32.0   32.0   32.0   32.0   47.0   32.0\n",
      "12  114.0   82.0   32.0   32.0   32.0   32.0   32.0   62.0   47.0   32.0\n",
      "13   10.0  101.0   32.0   32.0   47.0   47.0   47.0   62.0   84.0   32.0\n",
      "14   47.0  121.0   32.0   32.0  112.0  112.0  112.0  110.0  101.0   32.0\n",
      "15   47.0   34.0   32.0   32.0  116.0  116.0  116.0   32.0   10.0   32.0\n",
      "16  111.0   32.0   32.0   32.0  101.0  101.0  101.0  114.0   99.0   32.0\n",
      "17   47.0  115.0   32.0  101.0   32.0   32.0   32.0   32.0   47.0   32.0\n",
      "18   60.0   69.0   32.0   10.0   32.0   32.0   32.0   32.0   32.0   32.0\n",
      "19    9.0  111.0   32.0   32.0   32.0   32.0   32.0   32.0   32.0   32.0\n",
      "20   32.0   10.0   32.0   32.0   32.0   32.0   32.0   32.0  110.0   32.0\n",
      "21   66.0  120.0   32.0   32.0   65.0   65.0   65.0  111.0  117.0   32.0\n",
      "22  105.0   67.0   32.0   32.0  111.0  111.0  111.0   10.0  121.0   32.0\n",
      "23   48.0  115.0   32.0   62.0   10.0   10.0   10.0  117.0   32.0   32.0\n",
      "24   69.0   32.0   32.0   32.0  117.0  117.0  117.0   32.0  111.0   32.0\n",
      "25   32.0   32.0   32.0   32.0  112.0  112.0  112.0   32.0  101.0   32.0\n",
      "26   32.0   97.0   32.0   32.0  110.0  110.0  110.0   32.0   32.0   32.0\n",
      "27  101.0  110.0   32.0   32.0   10.0   10.0   10.0   32.0   32.0   32.0\n",
      "28   66.0  110.0   32.0   32.0   57.0   57.0   57.0  101.0   32.0   32.0\n",
      "29   72.0  110.0   32.0   32.0   32.0   32.0   32.0   62.0  110.0   32.0\n",
      "30    9.0  114.0   32.0   32.0   62.0   62.0   62.0   84.0   32.0   32.0\n",
      "31   62.0  116.0   32.0   32.0  116.0  116.0  116.0   84.0   65.0   32.0\n",
      "32  101.0   32.0   32.0   32.0   93.0   93.0   93.0   48.0   32.0   32.0\n",
      "33   98.0  114.0   32.0   32.0   62.0   62.0   62.0   10.0   32.0   32.0\n",
      "34  111.0   60.0   32.0   32.0   98.0   98.0   98.0  101.0   32.0   32.0\n",
      "35  101.0   32.0   32.0   32.0   98.0   98.0   98.0   32.0   32.0   32.0\n",
      "36  115.0  100.0   32.0   32.0  115.0  115.0  115.0  101.0   60.0   32.0\n",
      "37  101.0  116.0   32.0   32.0  101.0  101.0  101.0   70.0   47.0   32.0\n",
      "38  109.0   32.0   32.0   32.0  109.0  109.0  109.0  108.0  101.0   32.0\n",
      "39   60.0   32.0   32.0   32.0   32.0   32.0   32.0   47.0  109.0   32.0\n",
      "40   82.0  101.0   32.0   32.0   47.0   47.0   47.0   46.0   84.0   32.0\n",
      "41  111.0  116.0   32.0   32.0  121.0  121.0  121.0   83.0   32.0   32.0\n",
      "42   37.0   32.0   32.0   32.0   32.0   32.0   32.0   99.0   10.0   32.0\n",
      "43   69.0   32.0   32.0   32.0   32.0   32.0   32.0  111.0   32.0   32.0\n",
      "44   32.0   32.0   32.0   32.0  112.0   47.0   84.0   32.0  115.0   32.0\n",
      "45   32.0   32.0   32.0   32.0  103.0  116.0  116.0   52.0   69.0   32.0\n",
      "46   32.0   32.0   32.0   32.0  116.0   47.0  119.0   98.0  115.0   32.0\n",
      "47   32.0   32.0   32.0   32.0   32.0   85.0   45.0   76.0  101.0   32.0\n",
      "48   32.0   32.0   32.0   32.0  102.0   47.0  116.0   50.0   32.0   32.0\n",
      "49   32.0   32.0   32.0   32.0   48.0   32.0   47.0  109.0  116.0   32.0\n",
      "50   32.0   32.0   32.0   32.0   48.0   48.0  120.0   10.0   65.0   32.0\n",
      "51   32.0   32.0   32.0   32.0   48.0   53.0   32.0   48.0   45.0   32.0\n",
      "52   32.0   32.0   32.0   32.0   54.0   51.0   54.0   48.0   66.0   32.0\n",
      "53   32.0   32.0   32.0   32.0   57.0   32.0   48.0   56.0   32.0   32.0\n",
      "54   32.0   32.0   32.0   32.0  116.0   48.0   32.0   10.0   70.0   32.0\n",
      "55   32.0   32.0   32.0   32.0  116.0   32.0   48.0   55.0   53.0   32.0\n",
      "56   32.0   32.0   32.0   32.0   79.0   32.0   48.0   97.0   48.0   32.0\n",
      "57   32.0   32.0   32.0   32.0   32.0  101.0   32.0   97.0   48.0   32.0\n",
      "58   32.0   32.0   32.0   32.0   32.0   32.0   32.0   32.0   47.0   32.0\n"
     ]
    }
   ],
   "source": [
    "data.reset_index(drop=True, inplace=True)\n",
    "data_unseen.reset_index(drop=True, inplace=True)\n",
    "\n",
    "print(data)\n",
    "print(data_unseen)"
   ]
  },
  {
   "cell_type": "code",
   "execution_count": 21,
   "id": "cf5b0b68-8de1-431c-b0a2-c51f4dd8b65f",
   "metadata": {},
   "outputs": [
    {
     "data": {
      "text/html": [
       "<style type=\"text/css\">\n",
       "#T_61516_row21_col1 {\n",
       "  background-color: lightgreen;\n",
       "}\n",
       "</style>\n",
       "<table id=\"T_61516_\">\n",
       "  <thead>\n",
       "    <tr>\n",
       "      <th class=\"blank level0\" >&nbsp;</th>\n",
       "      <th class=\"col_heading level0 col0\" >Description</th>\n",
       "      <th class=\"col_heading level0 col1\" >Value</th>\n",
       "    </tr>\n",
       "  </thead>\n",
       "  <tbody>\n",
       "    <tr>\n",
       "      <th id=\"T_61516_level0_row0\" class=\"row_heading level0 row0\" >0</th>\n",
       "      <td id=\"T_61516_row0_col0\" class=\"data row0 col0\" >session_id</td>\n",
       "      <td id=\"T_61516_row0_col1\" class=\"data row0 col1\" >7715</td>\n",
       "    </tr>\n",
       "    <tr>\n",
       "      <th id=\"T_61516_level0_row1\" class=\"row_heading level0 row1\" >1</th>\n",
       "      <td id=\"T_61516_row1_col0\" class=\"data row1 col0\" >Original Data</td>\n",
       "      <td id=\"T_61516_row1_col1\" class=\"data row1 col1\" >(1117, 10)</td>\n",
       "    </tr>\n",
       "    <tr>\n",
       "      <th id=\"T_61516_level0_row2\" class=\"row_heading level0 row2\" >2</th>\n",
       "      <td id=\"T_61516_row2_col0\" class=\"data row2 col0\" >Missing Values</td>\n",
       "      <td id=\"T_61516_row2_col1\" class=\"data row2 col1\" >False</td>\n",
       "    </tr>\n",
       "    <tr>\n",
       "      <th id=\"T_61516_level0_row3\" class=\"row_heading level0 row3\" >3</th>\n",
       "      <td id=\"T_61516_row3_col0\" class=\"data row3 col0\" >Numeric Features</td>\n",
       "      <td id=\"T_61516_row3_col1\" class=\"data row3 col1\" >10</td>\n",
       "    </tr>\n",
       "    <tr>\n",
       "      <th id=\"T_61516_level0_row4\" class=\"row_heading level0 row4\" >4</th>\n",
       "      <td id=\"T_61516_row4_col0\" class=\"data row4 col0\" >Categorical Features</td>\n",
       "      <td id=\"T_61516_row4_col1\" class=\"data row4 col1\" >0</td>\n",
       "    </tr>\n",
       "    <tr>\n",
       "      <th id=\"T_61516_level0_row5\" class=\"row_heading level0 row5\" >5</th>\n",
       "      <td id=\"T_61516_row5_col0\" class=\"data row5 col0\" >Ordinal Features</td>\n",
       "      <td id=\"T_61516_row5_col1\" class=\"data row5 col1\" >False</td>\n",
       "    </tr>\n",
       "    <tr>\n",
       "      <th id=\"T_61516_level0_row6\" class=\"row_heading level0 row6\" >6</th>\n",
       "      <td id=\"T_61516_row6_col0\" class=\"data row6 col0\" >High Cardinality Features</td>\n",
       "      <td id=\"T_61516_row6_col1\" class=\"data row6 col1\" >False</td>\n",
       "    </tr>\n",
       "    <tr>\n",
       "      <th id=\"T_61516_level0_row7\" class=\"row_heading level0 row7\" >7</th>\n",
       "      <td id=\"T_61516_row7_col0\" class=\"data row7 col0\" >High Cardinality Method</td>\n",
       "      <td id=\"T_61516_row7_col1\" class=\"data row7 col1\" >None</td>\n",
       "    </tr>\n",
       "    <tr>\n",
       "      <th id=\"T_61516_level0_row8\" class=\"row_heading level0 row8\" >8</th>\n",
       "      <td id=\"T_61516_row8_col0\" class=\"data row8 col0\" >Transformed Data</td>\n",
       "      <td id=\"T_61516_row8_col1\" class=\"data row8 col1\" >(1117, 10)</td>\n",
       "    </tr>\n",
       "    <tr>\n",
       "      <th id=\"T_61516_level0_row9\" class=\"row_heading level0 row9\" >9</th>\n",
       "      <td id=\"T_61516_row9_col0\" class=\"data row9 col0\" >CPU Jobs</td>\n",
       "      <td id=\"T_61516_row9_col1\" class=\"data row9 col1\" >-1</td>\n",
       "    </tr>\n",
       "    <tr>\n",
       "      <th id=\"T_61516_level0_row10\" class=\"row_heading level0 row10\" >10</th>\n",
       "      <td id=\"T_61516_row10_col0\" class=\"data row10 col0\" >Use GPU</td>\n",
       "      <td id=\"T_61516_row10_col1\" class=\"data row10 col1\" >False</td>\n",
       "    </tr>\n",
       "    <tr>\n",
       "      <th id=\"T_61516_level0_row11\" class=\"row_heading level0 row11\" >11</th>\n",
       "      <td id=\"T_61516_row11_col0\" class=\"data row11 col0\" >Log Experiment</td>\n",
       "      <td id=\"T_61516_row11_col1\" class=\"data row11 col1\" >False</td>\n",
       "    </tr>\n",
       "    <tr>\n",
       "      <th id=\"T_61516_level0_row12\" class=\"row_heading level0 row12\" >12</th>\n",
       "      <td id=\"T_61516_row12_col0\" class=\"data row12 col0\" >Experiment Name</td>\n",
       "      <td id=\"T_61516_row12_col1\" class=\"data row12 col1\" >anomaly-default-name</td>\n",
       "    </tr>\n",
       "    <tr>\n",
       "      <th id=\"T_61516_level0_row13\" class=\"row_heading level0 row13\" >13</th>\n",
       "      <td id=\"T_61516_row13_col0\" class=\"data row13 col0\" >USI</td>\n",
       "      <td id=\"T_61516_row13_col1\" class=\"data row13 col1\" >6b30</td>\n",
       "    </tr>\n",
       "    <tr>\n",
       "      <th id=\"T_61516_level0_row14\" class=\"row_heading level0 row14\" >14</th>\n",
       "      <td id=\"T_61516_row14_col0\" class=\"data row14 col0\" >Imputation Type</td>\n",
       "      <td id=\"T_61516_row14_col1\" class=\"data row14 col1\" >simple</td>\n",
       "    </tr>\n",
       "    <tr>\n",
       "      <th id=\"T_61516_level0_row15\" class=\"row_heading level0 row15\" >15</th>\n",
       "      <td id=\"T_61516_row15_col0\" class=\"data row15 col0\" >Iterative Imputation Iteration</td>\n",
       "      <td id=\"T_61516_row15_col1\" class=\"data row15 col1\" >None</td>\n",
       "    </tr>\n",
       "    <tr>\n",
       "      <th id=\"T_61516_level0_row16\" class=\"row_heading level0 row16\" >16</th>\n",
       "      <td id=\"T_61516_row16_col0\" class=\"data row16 col0\" >Numeric Imputer</td>\n",
       "      <td id=\"T_61516_row16_col1\" class=\"data row16 col1\" >mean</td>\n",
       "    </tr>\n",
       "    <tr>\n",
       "      <th id=\"T_61516_level0_row17\" class=\"row_heading level0 row17\" >17</th>\n",
       "      <td id=\"T_61516_row17_col0\" class=\"data row17 col0\" >Iterative Imputation Numeric Model</td>\n",
       "      <td id=\"T_61516_row17_col1\" class=\"data row17 col1\" >None</td>\n",
       "    </tr>\n",
       "    <tr>\n",
       "      <th id=\"T_61516_level0_row18\" class=\"row_heading level0 row18\" >18</th>\n",
       "      <td id=\"T_61516_row18_col0\" class=\"data row18 col0\" >Categorical Imputer</td>\n",
       "      <td id=\"T_61516_row18_col1\" class=\"data row18 col1\" >mode</td>\n",
       "    </tr>\n",
       "    <tr>\n",
       "      <th id=\"T_61516_level0_row19\" class=\"row_heading level0 row19\" >19</th>\n",
       "      <td id=\"T_61516_row19_col0\" class=\"data row19 col0\" >Iterative Imputation Categorical Model</td>\n",
       "      <td id=\"T_61516_row19_col1\" class=\"data row19 col1\" >None</td>\n",
       "    </tr>\n",
       "    <tr>\n",
       "      <th id=\"T_61516_level0_row20\" class=\"row_heading level0 row20\" >20</th>\n",
       "      <td id=\"T_61516_row20_col0\" class=\"data row20 col0\" >Unknown Categoricals Handling</td>\n",
       "      <td id=\"T_61516_row20_col1\" class=\"data row20 col1\" >least_frequent</td>\n",
       "    </tr>\n",
       "    <tr>\n",
       "      <th id=\"T_61516_level0_row21\" class=\"row_heading level0 row21\" >21</th>\n",
       "      <td id=\"T_61516_row21_col0\" class=\"data row21 col0\" >Normalize</td>\n",
       "      <td id=\"T_61516_row21_col1\" class=\"data row21 col1\" >True</td>\n",
       "    </tr>\n",
       "    <tr>\n",
       "      <th id=\"T_61516_level0_row22\" class=\"row_heading level0 row22\" >22</th>\n",
       "      <td id=\"T_61516_row22_col0\" class=\"data row22 col0\" >Normalize Method</td>\n",
       "      <td id=\"T_61516_row22_col1\" class=\"data row22 col1\" >zscore</td>\n",
       "    </tr>\n",
       "    <tr>\n",
       "      <th id=\"T_61516_level0_row23\" class=\"row_heading level0 row23\" >23</th>\n",
       "      <td id=\"T_61516_row23_col0\" class=\"data row23 col0\" >Transformation</td>\n",
       "      <td id=\"T_61516_row23_col1\" class=\"data row23 col1\" >False</td>\n",
       "    </tr>\n",
       "    <tr>\n",
       "      <th id=\"T_61516_level0_row24\" class=\"row_heading level0 row24\" >24</th>\n",
       "      <td id=\"T_61516_row24_col0\" class=\"data row24 col0\" >Transformation Method</td>\n",
       "      <td id=\"T_61516_row24_col1\" class=\"data row24 col1\" >None</td>\n",
       "    </tr>\n",
       "    <tr>\n",
       "      <th id=\"T_61516_level0_row25\" class=\"row_heading level0 row25\" >25</th>\n",
       "      <td id=\"T_61516_row25_col0\" class=\"data row25 col0\" >PCA</td>\n",
       "      <td id=\"T_61516_row25_col1\" class=\"data row25 col1\" >False</td>\n",
       "    </tr>\n",
       "    <tr>\n",
       "      <th id=\"T_61516_level0_row26\" class=\"row_heading level0 row26\" >26</th>\n",
       "      <td id=\"T_61516_row26_col0\" class=\"data row26 col0\" >PCA Method</td>\n",
       "      <td id=\"T_61516_row26_col1\" class=\"data row26 col1\" >None</td>\n",
       "    </tr>\n",
       "    <tr>\n",
       "      <th id=\"T_61516_level0_row27\" class=\"row_heading level0 row27\" >27</th>\n",
       "      <td id=\"T_61516_row27_col0\" class=\"data row27 col0\" >PCA Components</td>\n",
       "      <td id=\"T_61516_row27_col1\" class=\"data row27 col1\" >None</td>\n",
       "    </tr>\n",
       "    <tr>\n",
       "      <th id=\"T_61516_level0_row28\" class=\"row_heading level0 row28\" >28</th>\n",
       "      <td id=\"T_61516_row28_col0\" class=\"data row28 col0\" >Ignore Low Variance</td>\n",
       "      <td id=\"T_61516_row28_col1\" class=\"data row28 col1\" >False</td>\n",
       "    </tr>\n",
       "    <tr>\n",
       "      <th id=\"T_61516_level0_row29\" class=\"row_heading level0 row29\" >29</th>\n",
       "      <td id=\"T_61516_row29_col0\" class=\"data row29 col0\" >Combine Rare Levels</td>\n",
       "      <td id=\"T_61516_row29_col1\" class=\"data row29 col1\" >False</td>\n",
       "    </tr>\n",
       "    <tr>\n",
       "      <th id=\"T_61516_level0_row30\" class=\"row_heading level0 row30\" >30</th>\n",
       "      <td id=\"T_61516_row30_col0\" class=\"data row30 col0\" >Rare Level Threshold</td>\n",
       "      <td id=\"T_61516_row30_col1\" class=\"data row30 col1\" >None</td>\n",
       "    </tr>\n",
       "    <tr>\n",
       "      <th id=\"T_61516_level0_row31\" class=\"row_heading level0 row31\" >31</th>\n",
       "      <td id=\"T_61516_row31_col0\" class=\"data row31 col0\" >Numeric Binning</td>\n",
       "      <td id=\"T_61516_row31_col1\" class=\"data row31 col1\" >False</td>\n",
       "    </tr>\n",
       "    <tr>\n",
       "      <th id=\"T_61516_level0_row32\" class=\"row_heading level0 row32\" >32</th>\n",
       "      <td id=\"T_61516_row32_col0\" class=\"data row32 col0\" >Remove Outliers</td>\n",
       "      <td id=\"T_61516_row32_col1\" class=\"data row32 col1\" >False</td>\n",
       "    </tr>\n",
       "    <tr>\n",
       "      <th id=\"T_61516_level0_row33\" class=\"row_heading level0 row33\" >33</th>\n",
       "      <td id=\"T_61516_row33_col0\" class=\"data row33 col0\" >Outliers Threshold</td>\n",
       "      <td id=\"T_61516_row33_col1\" class=\"data row33 col1\" >None</td>\n",
       "    </tr>\n",
       "    <tr>\n",
       "      <th id=\"T_61516_level0_row34\" class=\"row_heading level0 row34\" >34</th>\n",
       "      <td id=\"T_61516_row34_col0\" class=\"data row34 col0\" >Remove Multicollinearity</td>\n",
       "      <td id=\"T_61516_row34_col1\" class=\"data row34 col1\" >False</td>\n",
       "    </tr>\n",
       "    <tr>\n",
       "      <th id=\"T_61516_level0_row35\" class=\"row_heading level0 row35\" >35</th>\n",
       "      <td id=\"T_61516_row35_col0\" class=\"data row35 col0\" >Multicollinearity Threshold</td>\n",
       "      <td id=\"T_61516_row35_col1\" class=\"data row35 col1\" >None</td>\n",
       "    </tr>\n",
       "    <tr>\n",
       "      <th id=\"T_61516_level0_row36\" class=\"row_heading level0 row36\" >36</th>\n",
       "      <td id=\"T_61516_row36_col0\" class=\"data row36 col0\" >Remove Perfect Collinearity</td>\n",
       "      <td id=\"T_61516_row36_col1\" class=\"data row36 col1\" >False</td>\n",
       "    </tr>\n",
       "    <tr>\n",
       "      <th id=\"T_61516_level0_row37\" class=\"row_heading level0 row37\" >37</th>\n",
       "      <td id=\"T_61516_row37_col0\" class=\"data row37 col0\" >Clustering</td>\n",
       "      <td id=\"T_61516_row37_col1\" class=\"data row37 col1\" >False</td>\n",
       "    </tr>\n",
       "    <tr>\n",
       "      <th id=\"T_61516_level0_row38\" class=\"row_heading level0 row38\" >38</th>\n",
       "      <td id=\"T_61516_row38_col0\" class=\"data row38 col0\" >Clustering Iteration</td>\n",
       "      <td id=\"T_61516_row38_col1\" class=\"data row38 col1\" >None</td>\n",
       "    </tr>\n",
       "    <tr>\n",
       "      <th id=\"T_61516_level0_row39\" class=\"row_heading level0 row39\" >39</th>\n",
       "      <td id=\"T_61516_row39_col0\" class=\"data row39 col0\" >Polynomial Features</td>\n",
       "      <td id=\"T_61516_row39_col1\" class=\"data row39 col1\" >False</td>\n",
       "    </tr>\n",
       "    <tr>\n",
       "      <th id=\"T_61516_level0_row40\" class=\"row_heading level0 row40\" >40</th>\n",
       "      <td id=\"T_61516_row40_col0\" class=\"data row40 col0\" >Polynomial Degree</td>\n",
       "      <td id=\"T_61516_row40_col1\" class=\"data row40 col1\" >None</td>\n",
       "    </tr>\n",
       "    <tr>\n",
       "      <th id=\"T_61516_level0_row41\" class=\"row_heading level0 row41\" >41</th>\n",
       "      <td id=\"T_61516_row41_col0\" class=\"data row41 col0\" >Trignometry Features</td>\n",
       "      <td id=\"T_61516_row41_col1\" class=\"data row41 col1\" >False</td>\n",
       "    </tr>\n",
       "    <tr>\n",
       "      <th id=\"T_61516_level0_row42\" class=\"row_heading level0 row42\" >42</th>\n",
       "      <td id=\"T_61516_row42_col0\" class=\"data row42 col0\" >Polynomial Threshold</td>\n",
       "      <td id=\"T_61516_row42_col1\" class=\"data row42 col1\" >None</td>\n",
       "    </tr>\n",
       "    <tr>\n",
       "      <th id=\"T_61516_level0_row43\" class=\"row_heading level0 row43\" >43</th>\n",
       "      <td id=\"T_61516_row43_col0\" class=\"data row43 col0\" >Group Features</td>\n",
       "      <td id=\"T_61516_row43_col1\" class=\"data row43 col1\" >False</td>\n",
       "    </tr>\n",
       "    <tr>\n",
       "      <th id=\"T_61516_level0_row44\" class=\"row_heading level0 row44\" >44</th>\n",
       "      <td id=\"T_61516_row44_col0\" class=\"data row44 col0\" >Feature Selection</td>\n",
       "      <td id=\"T_61516_row44_col1\" class=\"data row44 col1\" >False</td>\n",
       "    </tr>\n",
       "    <tr>\n",
       "      <th id=\"T_61516_level0_row45\" class=\"row_heading level0 row45\" >45</th>\n",
       "      <td id=\"T_61516_row45_col0\" class=\"data row45 col0\" >Feature Selection Method</td>\n",
       "      <td id=\"T_61516_row45_col1\" class=\"data row45 col1\" >classic</td>\n",
       "    </tr>\n",
       "    <tr>\n",
       "      <th id=\"T_61516_level0_row46\" class=\"row_heading level0 row46\" >46</th>\n",
       "      <td id=\"T_61516_row46_col0\" class=\"data row46 col0\" >Features Selection Threshold</td>\n",
       "      <td id=\"T_61516_row46_col1\" class=\"data row46 col1\" >None</td>\n",
       "    </tr>\n",
       "    <tr>\n",
       "      <th id=\"T_61516_level0_row47\" class=\"row_heading level0 row47\" >47</th>\n",
       "      <td id=\"T_61516_row47_col0\" class=\"data row47 col0\" >Feature Interaction</td>\n",
       "      <td id=\"T_61516_row47_col1\" class=\"data row47 col1\" >False</td>\n",
       "    </tr>\n",
       "    <tr>\n",
       "      <th id=\"T_61516_level0_row48\" class=\"row_heading level0 row48\" >48</th>\n",
       "      <td id=\"T_61516_row48_col0\" class=\"data row48 col0\" >Feature Ratio</td>\n",
       "      <td id=\"T_61516_row48_col1\" class=\"data row48 col1\" >False</td>\n",
       "    </tr>\n",
       "    <tr>\n",
       "      <th id=\"T_61516_level0_row49\" class=\"row_heading level0 row49\" >49</th>\n",
       "      <td id=\"T_61516_row49_col0\" class=\"data row49 col0\" >Interaction Threshold</td>\n",
       "      <td id=\"T_61516_row49_col1\" class=\"data row49 col1\" >None</td>\n",
       "    </tr>\n",
       "  </tbody>\n",
       "</table>\n"
      ],
      "text/plain": [
       "<pandas.io.formats.style.Styler at 0x7f4a195dd990>"
      ]
     },
     "metadata": {},
     "output_type": "display_data"
    }
   ],
   "source": [
    "exp_ano101 = setup(data, normalize = True)"
   ]
  },
  {
   "cell_type": "code",
   "execution_count": 26,
   "id": "cdf28f65-81d4-4c72-914e-d0965509ad37",
   "metadata": {},
   "outputs": [
    {
     "name": "stdout",
     "output_type": "stream",
     "text": [
      "IForest(behaviour='new', bootstrap=False, contamination=0.05,\n",
      "    max_features=1.0, max_samples='auto', n_estimators=100, n_jobs=-1,\n",
      "    random_state=7715, verbose=0)\n",
      "        0      1      2      3      4      5      6      7      8      9  \\\n",
      "0    49.0   49.0   49.0   10.0   49.0   49.0   49.0   49.0   49.0   49.0   \n",
      "1    60.0   62.0   60.0   62.0   32.0   32.0   32.0   32.0   32.0   60.0   \n",
      "2   110.0  116.0   32.0   10.0   32.0   32.0   32.0   32.0   32.0   82.0   \n",
      "3    93.0  115.0   32.0   83.0   47.0   47.0   47.0  114.0   84.0  115.0   \n",
      "4   111.0  116.0   32.0  105.0  103.0  103.0  103.0  111.0  101.0  101.0   \n",
      "5    10.0   32.0  118.0  103.0   32.0   32.0   32.0   70.0   32.0  105.0   \n",
      "6    97.0   97.0   32.0   61.0  116.0  116.0  116.0   83.0   32.0  115.0   \n",
      "7    32.0  112.0   32.0   34.0   77.0   77.0   77.0  105.0   32.0  111.0   \n",
      "8    10.0  111.0   58.0   60.0   32.0   32.0   32.0   62.0   84.0   32.0   \n",
      "9    48.0  103.0   41.0   32.0  101.0  101.0  101.0  112.0   32.0   32.0   \n",
      "10   48.0  101.0   44.0   32.0  110.0  110.0  110.0  101.0   48.0   32.0   \n",
      "11   48.0   32.0   84.0   70.0   32.0   32.0   32.0   32.0   47.0   32.0   \n",
      "12  114.0   82.0   32.0   32.0   32.0   32.0   32.0   62.0   47.0   32.0   \n",
      "13   10.0  101.0   32.0   32.0   47.0   47.0   47.0   62.0   84.0   32.0   \n",
      "14   47.0  121.0   32.0   32.0  112.0  112.0  112.0  110.0  101.0   32.0   \n",
      "15   47.0   34.0   32.0   32.0  116.0  116.0  116.0   32.0   10.0   32.0   \n",
      "16  111.0   32.0   32.0   32.0  101.0  101.0  101.0  114.0   99.0   32.0   \n",
      "17   47.0  115.0   32.0  101.0   32.0   32.0   32.0   32.0   47.0   32.0   \n",
      "18   60.0   69.0   32.0   10.0   32.0   32.0   32.0   32.0   32.0   32.0   \n",
      "19    9.0  111.0   32.0   32.0   32.0   32.0   32.0   32.0   32.0   32.0   \n",
      "20   32.0   10.0   32.0   32.0   32.0   32.0   32.0   32.0  110.0   32.0   \n",
      "21   66.0  120.0   32.0   32.0   65.0   65.0   65.0  111.0  117.0   32.0   \n",
      "22  105.0   67.0   32.0   32.0  111.0  111.0  111.0   10.0  121.0   32.0   \n",
      "23   48.0  115.0   32.0   62.0   10.0   10.0   10.0  117.0   32.0   32.0   \n",
      "24   69.0   32.0   32.0   32.0  117.0  117.0  117.0   32.0  111.0   32.0   \n",
      "25   32.0   32.0   32.0   32.0  112.0  112.0  112.0   32.0  101.0   32.0   \n",
      "26   32.0   97.0   32.0   32.0  110.0  110.0  110.0   32.0   32.0   32.0   \n",
      "27  101.0  110.0   32.0   32.0   10.0   10.0   10.0   32.0   32.0   32.0   \n",
      "28   66.0  110.0   32.0   32.0   57.0   57.0   57.0  101.0   32.0   32.0   \n",
      "29   72.0  110.0   32.0   32.0   32.0   32.0   32.0   62.0  110.0   32.0   \n",
      "30    9.0  114.0   32.0   32.0   62.0   62.0   62.0   84.0   32.0   32.0   \n",
      "31   62.0  116.0   32.0   32.0  116.0  116.0  116.0   84.0   65.0   32.0   \n",
      "32  101.0   32.0   32.0   32.0   93.0   93.0   93.0   48.0   32.0   32.0   \n",
      "33   98.0  114.0   32.0   32.0   62.0   62.0   62.0   10.0   32.0   32.0   \n",
      "34  111.0   60.0   32.0   32.0   98.0   98.0   98.0  101.0   32.0   32.0   \n",
      "35  101.0   32.0   32.0   32.0   98.0   98.0   98.0   32.0   32.0   32.0   \n",
      "36  115.0  100.0   32.0   32.0  115.0  115.0  115.0  101.0   60.0   32.0   \n",
      "37  101.0  116.0   32.0   32.0  101.0  101.0  101.0   70.0   47.0   32.0   \n",
      "38  109.0   32.0   32.0   32.0  109.0  109.0  109.0  108.0  101.0   32.0   \n",
      "39   60.0   32.0   32.0   32.0   32.0   32.0   32.0   47.0  109.0   32.0   \n",
      "40   82.0  101.0   32.0   32.0   47.0   47.0   47.0   46.0   84.0   32.0   \n",
      "41  111.0  116.0   32.0   32.0  121.0  121.0  121.0   83.0   32.0   32.0   \n",
      "42   37.0   32.0   32.0   32.0   32.0   32.0   32.0   99.0   10.0   32.0   \n",
      "43   69.0   32.0   32.0   32.0   32.0   32.0   32.0  111.0   32.0   32.0   \n",
      "44   32.0   32.0   32.0   32.0  112.0   47.0   84.0   32.0  115.0   32.0   \n",
      "45   32.0   32.0   32.0   32.0  103.0  116.0  116.0   52.0   69.0   32.0   \n",
      "46   32.0   32.0   32.0   32.0  116.0   47.0  119.0   98.0  115.0   32.0   \n",
      "47   32.0   32.0   32.0   32.0   32.0   85.0   45.0   76.0  101.0   32.0   \n",
      "48   32.0   32.0   32.0   32.0  102.0   47.0  116.0   50.0   32.0   32.0   \n",
      "49   32.0   32.0   32.0   32.0   48.0   32.0   47.0  109.0  116.0   32.0   \n",
      "50   32.0   32.0   32.0   32.0   48.0   48.0  120.0   10.0   65.0   32.0   \n",
      "51   32.0   32.0   32.0   32.0   48.0   53.0   32.0   48.0   45.0   32.0   \n",
      "52   32.0   32.0   32.0   32.0   54.0   51.0   54.0   48.0   66.0   32.0   \n",
      "53   32.0   32.0   32.0   32.0   57.0   32.0   48.0   56.0   32.0   32.0   \n",
      "54   32.0   32.0   32.0   32.0  116.0   48.0   32.0   10.0   70.0   32.0   \n",
      "55   32.0   32.0   32.0   32.0  116.0   32.0   48.0   55.0   53.0   32.0   \n",
      "56   32.0   32.0   32.0   32.0   79.0   32.0   48.0   97.0   48.0   32.0   \n",
      "57   32.0   32.0   32.0   32.0   32.0  101.0   32.0   97.0   48.0   32.0   \n",
      "58   32.0   32.0   32.0   32.0   32.0   32.0   32.0   32.0   47.0   32.0   \n",
      "\n",
      "    Anomaly  Anomaly_Score  \n",
      "0         0      -0.120689  \n",
      "1         0      -0.103170  \n",
      "2         0      -0.066176  \n",
      "3         0      -0.031464  \n",
      "4         1       0.008565  \n",
      "5         1       0.012843  \n",
      "6         0      -0.013262  \n",
      "7         0      -0.058145  \n",
      "8         0      -0.083852  \n",
      "9         0      -0.115738  \n",
      "10        0      -0.110582  \n",
      "11        0      -0.126739  \n",
      "12        0      -0.167874  \n",
      "13        0      -0.138207  \n",
      "14        0      -0.079128  \n",
      "15        0      -0.108428  \n",
      "16        0      -0.093572  \n",
      "17        0      -0.130741  \n",
      "18        0      -0.169595  \n",
      "19        0      -0.173544  \n",
      "20        0      -0.182975  \n",
      "21        0      -0.097628  \n",
      "22        0      -0.050120  \n",
      "23        0      -0.049670  \n",
      "24        0      -0.095910  \n",
      "25        0      -0.144305  \n",
      "26        0      -0.137068  \n",
      "27        0      -0.100994  \n",
      "28        0      -0.151715  \n",
      "29        0      -0.160913  \n",
      "30        0      -0.122698  \n",
      "31        0      -0.103186  \n",
      "32        0      -0.130342  \n",
      "33        0      -0.103561  \n",
      "34        0      -0.108949  \n",
      "35        0      -0.122992  \n",
      "36        0      -0.084551  \n",
      "37        0      -0.098076  \n",
      "38        0      -0.092931  \n",
      "39        0      -0.208025  \n",
      "40        0      -0.170962  \n",
      "41        0      -0.039123  \n",
      "42        0      -0.188506  \n",
      "43        0      -0.201696  \n",
      "44        0      -0.141805  \n",
      "45        0      -0.154717  \n",
      "46        0      -0.106032  \n",
      "47        0      -0.171903  \n",
      "48        0      -0.166258  \n",
      "49        0      -0.170114  \n",
      "50        0      -0.135292  \n",
      "51        0      -0.229398  \n",
      "52        0      -0.224764  \n",
      "53        0      -0.212740  \n",
      "54        0      -0.127296  \n",
      "55        0      -0.170600  \n",
      "56        0      -0.189222  \n",
      "57        0      -0.177155  \n",
      "58        0      -0.243737  \n"
     ]
    },
    {
     "data": {
      "text/html": [
       "<div>\n",
       "<style scoped>\n",
       "    .dataframe tbody tr th:only-of-type {\n",
       "        vertical-align: middle;\n",
       "    }\n",
       "\n",
       "    .dataframe tbody tr th {\n",
       "        vertical-align: top;\n",
       "    }\n",
       "\n",
       "    .dataframe thead th {\n",
       "        text-align: right;\n",
       "    }\n",
       "</style>\n",
       "<table border=\"1\" class=\"dataframe\">\n",
       "  <thead>\n",
       "    <tr style=\"text-align: right;\">\n",
       "      <th></th>\n",
       "      <th>0</th>\n",
       "      <th>1</th>\n",
       "      <th>2</th>\n",
       "      <th>3</th>\n",
       "      <th>4</th>\n",
       "      <th>5</th>\n",
       "      <th>6</th>\n",
       "      <th>7</th>\n",
       "      <th>8</th>\n",
       "      <th>9</th>\n",
       "      <th>Anomaly</th>\n",
       "      <th>Anomaly_Score</th>\n",
       "    </tr>\n",
       "  </thead>\n",
       "  <tbody>\n",
       "    <tr>\n",
       "      <th>0</th>\n",
       "      <td>50.0</td>\n",
       "      <td>101.0</td>\n",
       "      <td>58.0</td>\n",
       "      <td>108.0</td>\n",
       "      <td>62.0</td>\n",
       "      <td>62.0</td>\n",
       "      <td>62.0</td>\n",
       "      <td>41.0</td>\n",
       "      <td>111.0</td>\n",
       "      <td>111.0</td>\n",
       "      <td>0</td>\n",
       "      <td>-0.015838</td>\n",
       "    </tr>\n",
       "    <tr>\n",
       "      <th>1</th>\n",
       "      <td>116.0</td>\n",
       "      <td>32.0</td>\n",
       "      <td>32.0</td>\n",
       "      <td>32.0</td>\n",
       "      <td>53.0</td>\n",
       "      <td>53.0</td>\n",
       "      <td>53.0</td>\n",
       "      <td>32.0</td>\n",
       "      <td>62.0</td>\n",
       "      <td>32.0</td>\n",
       "      <td>0</td>\n",
       "      <td>-0.168341</td>\n",
       "    </tr>\n",
       "    <tr>\n",
       "      <th>2</th>\n",
       "      <td>32.0</td>\n",
       "      <td>32.0</td>\n",
       "      <td>32.0</td>\n",
       "      <td>32.0</td>\n",
       "      <td>47.0</td>\n",
       "      <td>47.0</td>\n",
       "      <td>47.0</td>\n",
       "      <td>116.0</td>\n",
       "      <td>32.0</td>\n",
       "      <td>32.0</td>\n",
       "      <td>0</td>\n",
       "      <td>-0.196821</td>\n",
       "    </tr>\n",
       "    <tr>\n",
       "      <th>3</th>\n",
       "      <td>49.0</td>\n",
       "      <td>99.0</td>\n",
       "      <td>32.0</td>\n",
       "      <td>32.0</td>\n",
       "      <td>121.0</td>\n",
       "      <td>121.0</td>\n",
       "      <td>121.0</td>\n",
       "      <td>32.0</td>\n",
       "      <td>32.0</td>\n",
       "      <td>32.0</td>\n",
       "      <td>0</td>\n",
       "      <td>-0.098997</td>\n",
       "    </tr>\n",
       "    <tr>\n",
       "      <th>4</th>\n",
       "      <td>32.0</td>\n",
       "      <td>32.0</td>\n",
       "      <td>32.0</td>\n",
       "      <td>32.0</td>\n",
       "      <td>48.0</td>\n",
       "      <td>48.0</td>\n",
       "      <td>51.0</td>\n",
       "      <td>48.0</td>\n",
       "      <td>46.0</td>\n",
       "      <td>32.0</td>\n",
       "      <td>0</td>\n",
       "      <td>-0.231198</td>\n",
       "    </tr>\n",
       "  </tbody>\n",
       "</table>\n",
       "</div>"
      ],
      "text/plain": [
       "       0      1     2      3      4      5      6      7      8      9  \\\n",
       "0   50.0  101.0  58.0  108.0   62.0   62.0   62.0   41.0  111.0  111.0   \n",
       "1  116.0   32.0  32.0   32.0   53.0   53.0   53.0   32.0   62.0   32.0   \n",
       "2   32.0   32.0  32.0   32.0   47.0   47.0   47.0  116.0   32.0   32.0   \n",
       "3   49.0   99.0  32.0   32.0  121.0  121.0  121.0   32.0   32.0   32.0   \n",
       "4   32.0   32.0  32.0   32.0   48.0   48.0   51.0   48.0   46.0   32.0   \n",
       "\n",
       "   Anomaly  Anomaly_Score  \n",
       "0        0      -0.015838  \n",
       "1        0      -0.168341  \n",
       "2        0      -0.196821  \n",
       "3        0      -0.098997  \n",
       "4        0      -0.231198  "
      ]
     },
     "execution_count": 26,
     "metadata": {},
     "output_type": "execute_result"
    }
   ],
   "source": [
    "# iforest model\n",
    "iforest = create_model('iforest')\n",
    "iforest_predictions = predict_model(model = iforest, data = data_unseen)\n",
    "iforest_predictions.head()\n",
    "print(iforest_predictions)\n",
    "    \n",
    "iforest_results = assign_model(iforest)\n",
    "iforest_results.head()"
   ]
  },
  {
   "cell_type": "code",
   "execution_count": 69,
   "id": "538fb646-3beb-4fea-9351-afc7ea995bfa",
   "metadata": {},
   "outputs": [
    {
     "name": "stdout",
     "output_type": "stream",
     "text": [
      "       0      1      2      3      4      5      6      7      8      9  \\\n",
      "4  111.0  116.0   32.0  105.0  103.0  103.0  103.0  111.0  101.0  101.0   \n",
      "5   10.0   32.0  118.0  103.0   32.0   32.0   32.0   70.0   32.0  105.0   \n",
      "\n",
      "   Anomaly  Anomaly_Score  \n",
      "4        1       0.008565  \n",
      "5        1       0.012843  \n",
      "\n",
      "ot igggoee\n",
      " vg   F i\n"
     ]
    }
   ],
   "source": [
    "print(iforest_predictions.iloc[4:6])\n",
    "pred_rows = iforest_predictions.iloc[4:6].values\n",
    "pred_ints = pred_rows.astype(int)\n",
    "print()\n",
    "\n",
    "sentence = \"\"\n",
    "for i in range(2):\n",
    "    for j in range(10):\n",
    "        sentence = sentence + chr(pred_ints[i][j])\n",
    "        # print(chr(pred_ints[i][j]))\n",
    "\n",
    "print(sentence)"
   ]
  },
  {
   "cell_type": "code",
   "execution_count": 70,
   "id": "d8328b31-1d0b-41ea-a72a-a9509223d2fe",
   "metadata": {},
   "outputs": [
    {
     "data": {
      "application/vnd.plotly.v1+json": {
       "config": {
        "plotlyServerURL": "https://plot.ly"
       },
       "data": [
        {
         "customdata": [
          [
           50
          ],
          [
           116
          ],
          [
           32
          ],
          [
           49
          ],
          [
           32
          ],
          [
           32
          ],
          [
           32
          ],
          [
           48
          ],
          [
           50
          ],
          [
           48
          ],
          [
           48
          ],
          [
           47
          ],
          [
           101
          ],
          [
           32
          ],
          [
           32
          ],
          [
           52
          ],
          [
           47
          ],
          [
           99
          ],
          [
           32
          ],
          [
           48
          ],
          [
           32
          ],
          [
           32
          ],
          [
           9
          ],
          [
           32
          ],
          [
           114
          ],
          [
           106
          ],
          [
           65
          ],
          [
           32
          ],
          [
           32
          ],
          [
           62
          ],
          [
           32
          ],
          [
           32
          ],
          [
           121
          ],
          [
           9
          ],
          [
           32
          ],
          [
           32
          ],
          [
           32
          ],
          [
           32
          ],
          [
           32
          ],
          [
           111
          ],
          [
           32
          ],
          [
           112
          ],
          [
           48
          ],
          [
           101
          ],
          [
           92
          ],
          [
           32
          ],
          [
           102
          ],
          [
           32
          ],
          [
           32
          ],
          [
           32
          ],
          [
           82
          ],
          [
           32
          ],
          [
           32
          ],
          [
           32
          ],
          [
           100
          ],
          [
           32
          ],
          [
           119
          ],
          [
           32
          ],
          [
           32
          ],
          [
           32
          ],
          [
           32
          ],
          [
           32
          ],
          [
           49
          ],
          [
           32
          ],
          [
           10
          ],
          [
           32
          ],
          [
           48
          ],
          [
           91
          ],
          [
           32
          ],
          [
           114
          ],
          [
           32
          ],
          [
           53
          ],
          [
           116
          ],
          [
           116
          ],
          [
           32
          ],
          [
           32
          ],
          [
           32
          ],
          [
           32
          ],
          [
           115
          ],
          [
           112
          ],
          [
           10
          ],
          [
           32
          ],
          [
           91
          ],
          [
           101
          ],
          [
           32
          ],
          [
           67
          ],
          [
           105
          ],
          [
           32
          ],
          [
           84
          ],
          [
           32
          ],
          [
           41
          ],
          [
           48
          ],
          [
           10
          ],
          [
           32
          ],
          [
           112
          ],
          [
           32
          ],
          [
           10
          ],
          [
           32
          ],
          [
           117
          ],
          [
           32
          ],
          [
           32
          ],
          [
           32
          ],
          [
           47
          ],
          [
           47
          ],
          [
           111
          ],
          [
           10
          ],
          [
           9
          ],
          [
           84
          ],
          [
           114
          ],
          [
           32
          ],
          [
           32
          ],
          [
           32
          ],
          [
           111
          ],
          [
           32
          ],
          [
           32
          ],
          [
           47
          ],
          [
           48
          ],
          [
           62
          ],
          [
           111
          ],
          [
           32
          ],
          [
           32
          ],
          [
           32
          ],
          [
           32
          ],
          [
           47
          ],
          [
           32
          ],
          [
           106
          ],
          [
           83
          ],
          [
           9
          ],
          [
           49
          ],
          [
           10
          ],
          [
           32
          ],
          [
           32
          ],
          [
           48
          ],
          [
           80
          ],
          [
           32
          ],
          [
           101
          ],
          [
           48
          ],
          [
           84
          ],
          [
           115
          ],
          [
           32
          ],
          [
           48
          ],
          [
           32
          ],
          [
           102
          ],
          [
           101
          ],
          [
           32
          ],
          [
           32
          ],
          [
           32
          ],
          [
           116
          ],
          [
           32
          ],
          [
           32
          ],
          [
           32
          ],
          [
           48
          ],
          [
           10
          ],
          [
           32
          ],
          [
           45
          ],
          [
           105
          ],
          [
           32
          ],
          [
           32
          ],
          [
           62
          ],
          [
           32
          ],
          [
           32
          ],
          [
           97
          ],
          [
           101
          ],
          [
           62
          ],
          [
           48
          ],
          [
           32
          ],
          [
           32
          ],
          [
           32
          ],
          [
           32
          ],
          [
           60
          ],
          [
           110
          ],
          [
           32
          ],
          [
           32
          ],
          [
           32
          ],
          [
           101
          ],
          [
           10
          ],
          [
           49
          ],
          [
           32
          ],
          [
           121
          ],
          [
           32
          ],
          [
           49
          ],
          [
           32
          ],
          [
           32
          ],
          [
           9
          ],
          [
           48
          ],
          [
           99
          ],
          [
           32
          ],
          [
           10
          ],
          [
           32
          ],
          [
           32
          ],
          [
           32
          ],
          [
           32
          ],
          [
           83
          ],
          [
           32
          ],
          [
           110
          ],
          [
           32
          ],
          [
           37
          ],
          [
           9
          ],
          [
           99
          ],
          [
           101
          ],
          [
           111
          ],
          [
           10
          ],
          [
           48
          ],
          [
           101
          ],
          [
           32
          ],
          [
           82
          ],
          [
           32
          ],
          [
           48
          ],
          [
           32
          ],
          [
           32
          ],
          [
           32
          ],
          [
           110
          ],
          [
           62
          ],
          [
           114
          ],
          [
           32
          ],
          [
           50
          ],
          [
           32
          ],
          [
           80
          ],
          [
           98
          ],
          [
           32
          ],
          [
           9
          ],
          [
           9
          ],
          [
           32
          ],
          [
           32
          ],
          [
           46
          ],
          [
           32
          ],
          [
           116
          ],
          [
           32
          ],
          [
           32
          ],
          [
           111
          ],
          [
           32
          ],
          [
           32
          ],
          [
           62
          ],
          [
           32
          ],
          [
           82
          ],
          [
           47
          ],
          [
           32
          ],
          [
           117
          ],
          [
           32
          ],
          [
           32
          ],
          [
           47
          ],
          [
           9
          ],
          [
           32
          ],
          [
           51
          ],
          [
           47
          ],
          [
           32
          ],
          [
           82
          ],
          [
           110
          ],
          [
           110
          ],
          [
           48
          ],
          [
           103
          ],
          [
           47
          ],
          [
           9
          ],
          [
           32
          ],
          [
           48
          ],
          [
           32
          ],
          [
           32
          ],
          [
           46
          ],
          [
           70
          ],
          [
           111
          ],
          [
           57
          ],
          [
           32
          ],
          [
           32
          ],
          [
           32
          ],
          [
           10
          ],
          [
           32
          ],
          [
           80
          ],
          [
           110
          ],
          [
           52
          ],
          [
           110
          ],
          [
           9
          ],
          [
           32
          ],
          [
           109
          ],
          [
           110
          ],
          [
           32
          ],
          [
           32
          ],
          [
           83
          ],
          [
           48
          ],
          [
           10
          ],
          [
           32
          ],
          [
           32
          ],
          [
           101
          ],
          [
           110
          ],
          [
           32
          ],
          [
           32
          ],
          [
           32
          ],
          [
           32
          ],
          [
           32
          ],
          [
           32
          ],
          [
           32
          ],
          [
           48
          ],
          [
           100
          ],
          [
           106
          ],
          [
           62
          ],
          [
           9
          ],
          [
           48
          ],
          [
           32
          ],
          [
           32
          ],
          [
           49
          ],
          [
           112
          ],
          [
           101
          ],
          [
           111
          ],
          [
           110
          ],
          [
           60
          ],
          [
           48
          ],
          [
           111
          ],
          [
           70
          ],
          [
           48
          ],
          [
           101
          ],
          [
           10
          ],
          [
           116
          ],
          [
           48
          ],
          [
           32
          ],
          [
           32
          ],
          [
           32
          ],
          [
           115
          ],
          [
           32
          ],
          [
           48
          ],
          [
           9
          ],
          [
           100
          ],
          [
           84
          ],
          [
           10
          ],
          [
           114
          ],
          [
           91
          ],
          [
           62
          ],
          [
           32
          ],
          [
           32
          ],
          [
           9
          ],
          [
           117
          ],
          [
           9
          ],
          [
           79
          ],
          [
           48
          ],
          [
           53
          ],
          [
           32
          ],
          [
           97
          ],
          [
           48
          ],
          [
           111
          ],
          [
           10
          ],
          [
           105
          ],
          [
           93
          ],
          [
           10
          ],
          [
           62
          ],
          [
           47
          ],
          [
           69
          ],
          [
           46
          ],
          [
           10
          ],
          [
           47
          ],
          [
           32
          ],
          [
           32
          ],
          [
           32
          ],
          [
           32
          ],
          [
           49
          ],
          [
           32
          ],
          [
           121
          ],
          [
           32
          ],
          [
           32
          ],
          [
           60
          ],
          [
           32
          ],
          [
           32
          ],
          [
           55
          ],
          [
           116
          ],
          [
           114
          ],
          [
           103
          ],
          [
           32
          ],
          [
           68
          ],
          [
           10
          ],
          [
           54
          ],
          [
           66
          ],
          [
           48
          ],
          [
           114
          ],
          [
           114
          ],
          [
           32
          ],
          [
           48
          ],
          [
           98
          ],
          [
           32
          ],
          [
           115
          ],
          [
           70
          ],
          [
           32
          ],
          [
           32
          ],
          [
           32
          ],
          [
           10
          ],
          [
           77
          ],
          [
           65
          ],
          [
           32
          ],
          [
           32
          ],
          [
           32
          ],
          [
           32
          ],
          [
           110
          ],
          [
           32
          ],
          [
           32
          ],
          [
           54
          ],
          [
           62
          ],
          [
           32
          ],
          [
           103
          ],
          [
           97
          ],
          [
           9
          ],
          [
           49
          ],
          [
           32
          ],
          [
           32
          ],
          [
           9
          ],
          [
           32
          ],
          [
           48
          ],
          [
           48
          ],
          [
           32
          ],
          [
           10
          ],
          [
           32
          ],
          [
           117
          ],
          [
           85
          ],
          [
           92
          ],
          [
           97
          ],
          [
           32
          ],
          [
           32
          ],
          [
           32
          ],
          [
           47
          ],
          [
           32
          ],
          [
           121
          ],
          [
           32
          ],
          [
           32
          ],
          [
           60
          ],
          [
           32
          ],
          [
           112
          ],
          [
           100
          ],
          [
           32
          ],
          [
           92
          ],
          [
           47
          ],
          [
           108
          ],
          [
           84
          ],
          [
           115
          ],
          [
           32
          ],
          [
           32
          ],
          [
           10
          ],
          [
           48
          ],
          [
           101
          ],
          [
           115
          ],
          [
           62
          ],
          [
           32
          ],
          [
           32
          ],
          [
           32
          ],
          [
           54
          ],
          [
           32
          ],
          [
           9
          ],
          [
           55
          ],
          [
           32
          ],
          [
           32
          ],
          [
           32
          ],
          [
           115
          ],
          [
           32
          ],
          [
           48
          ],
          [
           32
          ],
          [
           101
          ],
          [
           9
          ],
          [
           97
          ],
          [
           106
          ],
          [
           110
          ],
          [
           32
          ],
          [
           32
          ],
          [
           32
          ],
          [
           48
          ],
          [
           68
          ],
          [
           115
          ],
          [
           32
          ],
          [
           104
          ],
          [
           119
          ],
          [
           103
          ],
          [
           50
          ],
          [
           32
          ],
          [
           111
          ],
          [
           32
          ],
          [
           32
          ],
          [
           32
          ],
          [
           110
          ],
          [
           32
          ],
          [
           32
          ],
          [
           32
          ],
          [
           32
          ],
          [
           10
          ],
          [
           32
          ],
          [
           10
          ],
          [
           49
          ],
          [
           110
          ],
          [
           47
          ],
          [
           102
          ],
          [
           47
          ],
          [
           9
          ],
          [
           32
          ],
          [
           32
          ],
          [
           10
          ],
          [
           112
          ],
          [
           32
          ],
          [
           32
          ],
          [
           32
          ],
          [
           32
          ],
          [
           111
          ],
          [
           98
          ],
          [
           111
          ],
          [
           32
          ],
          [
           98
          ],
          [
           32
          ],
          [
           10
          ],
          [
           60
          ],
          [
           116
          ],
          [
           53
          ],
          [
           84
          ],
          [
           83
          ],
          [
           32
          ],
          [
           98
          ],
          [
           9
          ],
          [
           32
          ],
          [
           47
          ],
          [
           32
          ],
          [
           10
          ],
          [
           9
          ],
          [
           57
          ],
          [
           32
          ],
          [
           32
          ],
          [
           32
          ],
          [
           32
          ],
          [
           106
          ],
          [
           32
          ],
          [
           32
          ],
          [
           32
          ],
          [
           32
          ],
          [
           32
          ],
          [
           9
          ],
          [
           9
          ],
          [
           32
          ],
          [
           37
          ],
          [
           97
          ],
          [
           32
          ],
          [
           111
          ],
          [
           32
          ],
          [
           52
          ],
          [
           103
          ],
          [
           48
          ],
          [
           32
          ],
          [
           116
          ],
          [
           32
          ],
          [
           32
          ],
          [
           32
          ],
          [
           48
          ],
          [
           32
          ],
          [
           111
          ],
          [
           111
          ],
          [
           32
          ],
          [
           51
          ],
          [
           9
          ],
          [
           60
          ],
          [
           97
          ],
          [
           32
          ],
          [
           32
          ],
          [
           10
          ],
          [
           32
          ],
          [
           32
          ],
          [
           117
          ],
          [
           116
          ],
          [
           32
          ],
          [
           32
          ],
          [
           32
          ],
          [
           32
          ],
          [
           110
          ],
          [
           80
          ],
          [
           32
          ],
          [
           48
          ],
          [
           49
          ],
          [
           32
          ],
          [
           92
          ],
          [
           32
          ],
          [
           48
          ],
          [
           10
          ],
          [
           54
          ],
          [
           10
          ],
          [
           32
          ],
          [
           101
          ],
          [
           9
          ],
          [
           45
          ],
          [
           122
          ],
          [
           47
          ],
          [
           111
          ],
          [
           48
          ],
          [
           9
          ],
          [
           46
          ],
          [
           70
          ],
          [
           32
          ],
          [
           32
          ],
          [
           66
          ],
          [
           32
          ],
          [
           32
          ],
          [
           32
          ],
          [
           32
          ],
          [
           32
          ],
          [
           121
          ],
          [
           48
          ],
          [
           48
          ],
          [
           9
          ],
          [
           62
          ],
          [
           32
          ],
          [
           9
          ],
          [
           60
          ],
          [
           10
          ],
          [
           108
          ],
          [
           111
          ],
          [
           92
          ],
          [
           119
          ],
          [
           9
          ],
          [
           73
          ],
          [
           70
          ],
          [
           32
          ],
          [
           9
          ],
          [
           101
          ],
          [
           32
          ],
          [
           110
          ],
          [
           101
          ],
          [
           114
          ],
          [
           84
          ],
          [
           48
          ],
          [
           97
          ],
          [
           97
          ],
          [
           32
          ],
          [
           32
          ],
          [
           32
          ],
          [
           32
          ],
          [
           110
          ],
          [
           62
          ],
          [
           32
          ],
          [
           32
          ],
          [
           10
          ],
          [
           32
          ],
          [
           32
          ],
          [
           111
          ],
          [
           10
          ],
          [
           10
          ],
          [
           32
          ],
          [
           32
          ],
          [
           105
          ],
          [
           48
          ],
          [
           32
          ],
          [
           82
          ],
          [
           32
          ],
          [
           32
          ],
          [
           32
          ],
          [
           32
          ],
          [
           32
          ],
          [
           62
          ],
          [
           32
          ],
          [
           32
          ],
          [
           114
          ],
          [
           41
          ],
          [
           32
          ],
          [
           50
          ],
          [
           97
          ],
          [
           32
          ],
          [
           10
          ],
          [
           51
          ],
          [
           32
          ],
          [
           32
          ],
          [
           32
          ],
          [
           112
          ],
          [
           95
          ],
          [
           75
          ],
          [
           70
          ],
          [
           32
          ],
          [
           32
          ],
          [
           32
          ],
          [
           32
          ],
          [
           111
          ],
          [
           9
          ],
          [
           47
          ],
          [
           48
          ],
          [
           32
          ],
          [
           49
          ],
          [
           116
          ],
          [
           32
          ],
          [
           32
          ],
          [
           32
          ],
          [
           84
          ],
          [
           32
          ],
          [
           48
          ],
          [
           111
          ],
          [
           105
          ],
          [
           32
          ],
          [
           98
          ],
          [
           32
          ],
          [
           32
          ],
          [
           32
          ],
          [
           47
          ],
          [
           32
          ],
          [
           92
          ],
          [
           10
          ],
          [
           32
          ],
          [
           48
          ],
          [
           32
          ],
          [
           32
          ],
          [
           40
          ],
          [
           106
          ],
          [
           32
          ],
          [
           70
          ],
          [
           101
          ],
          [
           10
          ],
          [
           32
          ],
          [
           82
          ],
          [
           32
          ],
          [
           32
          ],
          [
           32
          ],
          [
           82
          ],
          [
           109
          ],
          [
           62
          ],
          [
           111
          ],
          [
           48
          ],
          [
           32
          ],
          [
           105
          ],
          [
           106
          ],
          [
           32
          ],
          [
           32
          ],
          [
           49
          ],
          [
           32
          ],
          [
           32
          ],
          [
           32
          ],
          [
           49
          ],
          [
           32
          ],
          [
           67
          ],
          [
           99
          ],
          [
           62
          ],
          [
           32
          ],
          [
           32
          ],
          [
           32
          ],
          [
           82
          ],
          [
           32
          ],
          [
           51
          ],
          [
           68
          ],
          [
           32
          ],
          [
           32
          ],
          [
           80
          ],
          [
           70
          ],
          [
           48
          ],
          [
           116
          ],
          [
           32
          ],
          [
           32
          ],
          [
           10
          ],
          [
           32
          ],
          [
           32
          ],
          [
           32
          ],
          [
           32
          ],
          [
           48
          ],
          [
           32
          ],
          [
           46
          ],
          [
           32
          ],
          [
           45
          ],
          [
           32
          ],
          [
           32
          ],
          [
           32
          ],
          [
           97
          ],
          [
           32
          ],
          [
           32
          ],
          [
           48
          ],
          [
           62
          ],
          [
           32
          ],
          [
           32
          ],
          [
           60
          ],
          [
           32
          ],
          [
           32
          ],
          [
           32
          ],
          [
           32
          ],
          [
           32
          ],
          [
           116
          ],
          [
           109
          ],
          [
           32
          ],
          [
           32
          ],
          [
           101
          ],
          [
           32
          ],
          [
           32
          ],
          [
           101
          ],
          [
           52
          ],
          [
           32
          ],
          [
           60
          ],
          [
           10
          ],
          [
           116
          ],
          [
           10
          ],
          [
           32
          ],
          [
           32
          ],
          [
           48
          ],
          [
           32
          ],
          [
           60
          ],
          [
           32
          ],
          [
           48
          ],
          [
           32
          ],
          [
           97
          ],
          [
           116
          ],
          [
           101
          ],
          [
           84
          ],
          [
           115
          ],
          [
           49
          ],
          [
           101
          ],
          [
           47
          ],
          [
           32
          ],
          [
           32
          ],
          [
           48
          ],
          [
           32
          ],
          [
           99
          ],
          [
           47
          ],
          [
           48
          ],
          [
           101
          ],
          [
           32
          ],
          [
           32
          ],
          [
           32
          ],
          [
           101
          ],
          [
           115
          ],
          [
           32
          ],
          [
           98
          ],
          [
           48
          ],
          [
           32
          ],
          [
           32
          ],
          [
           32
          ],
          [
           32
          ],
          [
           57
          ],
          [
           48
          ],
          [
           47
          ],
          [
           32
          ],
          [
           32
          ],
          [
           10
          ],
          [
           32
          ],
          [
           48
          ],
          [
           32
          ],
          [
           32
          ],
          [
           32
          ],
          [
           32
          ],
          [
           32
          ],
          [
           32
          ],
          [
           9
          ],
          [
           97
          ],
          [
           32
          ],
          [
           32
          ],
          [
           49
          ],
          [
           48
          ],
          [
           120
          ],
          [
           105
          ],
          [
           32
          ],
          [
           62
          ],
          [
           55
          ],
          [
           101
          ],
          [
           32
          ],
          [
           32
          ],
          [
           32
          ],
          [
           32
          ],
          [
           111
          ],
          [
           32
          ],
          [
           32
          ],
          [
           46
          ],
          [
           71
          ],
          [
           9
          ],
          [
           32
          ],
          [
           116
          ],
          [
           48
          ],
          [
           32
          ],
          [
           93
          ],
          [
           32
          ],
          [
           32
          ],
          [
           32
          ],
          [
           100
          ],
          [
           32
          ],
          [
           120
          ],
          [
           32
          ],
          [
           114
          ],
          [
           48
          ],
          [
           32
          ],
          [
           10
          ],
          [
           9
          ],
          [
           60
          ],
          [
           32
          ],
          [
           32
          ],
          [
           32
          ],
          [
           49
          ],
          [
           32
          ],
          [
           10
          ],
          [
           82
          ],
          [
           47
          ],
          [
           53
          ],
          [
           32
          ],
          [
           60
          ],
          [
           48
          ],
          [
           32
          ],
          [
           48
          ],
          [
           9
          ],
          [
           80
          ],
          [
           32
          ],
          [
           108
          ],
          [
           106
          ],
          [
           47
          ],
          [
           9
          ],
          [
           32
          ],
          [
           32
          ],
          [
           101
          ],
          [
           32
          ],
          [
           48
          ],
          [
           32
          ],
          [
           32
          ],
          [
           114
          ],
          [
           98
          ],
          [
           32
          ],
          [
           62
          ],
          [
           32
          ],
          [
           103
          ],
          [
           62
          ],
          [
           60
          ],
          [
           32
          ],
          [
           32
          ],
          [
           32
          ],
          [
           32
          ],
          [
           32
          ],
          [
           60
          ],
          [
           100
          ],
          [
           32
          ],
          [
           46
          ],
          [
           32
          ],
          [
           32
          ],
          [
           32
          ],
          [
           47
          ],
          [
           9
          ],
          [
           62
          ],
          [
           60
          ],
          [
           118
          ],
          [
           47
          ],
          [
           32
          ],
          [
           48
          ],
          [
           32
          ],
          [
           32
          ],
          [
           32
          ],
          [
           32
          ],
          [
           62
          ],
          [
           32
          ],
          [
           32
          ],
          [
           100
          ],
          [
           10
          ],
          [
           68
          ],
          [
           98
          ],
          [
           60
          ],
          [
           48
          ],
          [
           62
          ],
          [
           48
          ],
          [
           32
          ],
          [
           115
          ],
          [
           32
          ],
          [
           110
          ],
          [
           62
          ],
          [
           47
          ],
          [
           32
          ],
          [
           106
          ],
          [
           46
          ],
          [
           32
          ],
          [
           32
          ],
          [
           48
          ],
          [
           80
          ],
          [
           32
          ],
          [
           10
          ],
          [
           51
          ],
          [
           32
          ],
          [
           100
          ],
          [
           32
          ],
          [
           32
          ],
          [
           101
          ],
          [
           60
          ],
          [
           32
          ],
          [
           32
          ],
          [
           32
          ],
          [
           79
          ],
          [
           32
          ],
          [
           52
          ],
          [
           32
          ],
          [
           102
          ],
          [
           32
          ],
          [
           10
          ],
          [
           101
          ],
          [
           32
          ],
          [
           67
          ],
          [
           32
          ],
          [
           32
          ],
          [
           32
          ],
          [
           82
          ],
          [
           32
          ],
          [
           10
          ],
          [
           32
          ],
          [
           47
          ],
          [
           9
          ],
          [
           116
          ],
          [
           32
          ],
          [
           9
          ],
          [
           48
          ],
          [
           108
          ],
          [
           116
          ],
          [
           10
          ],
          [
           48
          ],
          [
           84
          ],
          [
           32
          ],
          [
           121
          ],
          [
           116
          ],
          [
           70
          ],
          [
           98
          ],
          [
           32
          ],
          [
           48
          ],
          [
           101
          ],
          [
           110
          ],
          [
           52
          ],
          [
           101
          ],
          [
           76
          ],
          [
           10
          ],
          [
           32
          ],
          [
           32
          ],
          [
           32
          ],
          [
           103
          ],
          [
           32
          ],
          [
           32
          ],
          [
           47
          ],
          [
           32
          ],
          [
           32
          ],
          [
           10
          ],
          [
           32
          ],
          [
           53
          ],
          [
           47
          ],
          [
           101
          ],
          [
           32
          ],
          [
           32
          ],
          [
           9
          ],
          [
           32
          ],
          [
           84
          ],
          [
           32
          ],
          [
           32
          ],
          [
           32
          ],
          [
           50
          ],
          [
           10
          ],
          [
           32
          ],
          [
           32
          ],
          [
           9
          ],
          [
           84
          ],
          [
           32
          ],
          [
           84
          ],
          [
           105
          ],
          [
           47
          ],
          [
           32
          ],
          [
           65
          ],
          [
           32
          ],
          [
           9
          ],
          [
           32
          ],
          [
           32
          ],
          [
           60
          ],
          [
           106
          ],
          [
           48
          ],
          [
           97
          ],
          [
           32
          ],
          [
           48
          ],
          [
           32
          ],
          [
           10
          ],
          [
           32
          ],
          [
           32
          ],
          [
           116
          ],
          [
           60
          ],
          [
           32
          ],
          [
           114
          ],
          [
           48
          ],
          [
           115
          ],
          [
           32
          ],
          [
           32
          ],
          [
           32
          ],
          [
           49
          ],
          [
           32
          ],
          [
           60
          ],
          [
           32
          ],
          [
           32
          ],
          [
           9
          ],
          [
           62
          ],
          [
           103
          ],
          [
           9
          ],
          [
           47
          ],
          [
           10
          ],
          [
           48
          ],
          [
           10
          ],
          [
           47
          ],
          [
           32
          ],
          [
           32
          ],
          [
           40
          ],
          [
           32
          ],
          [
           32
          ],
          [
           32
          ],
          [
           32
          ],
          [
           116
          ],
          [
           114
          ],
          [
           32
          ],
          [
           120
          ],
          [
           32
          ],
          [
           60
          ],
          [
           32
          ],
          [
           109
          ],
          [
           97
          ],
          [
           32
          ],
          [
           32
          ],
          [
           80
          ],
          [
           55
          ],
          [
           101
          ],
          [
           10
          ],
          [
           32
          ],
          [
           32
          ],
          [
           121
          ],
          [
           60
          ],
          [
           111
          ],
          [
           48
          ],
          [
           116
          ],
          [
           106
          ],
          [
           32
          ],
          [
           32
          ],
          [
           48
          ],
          [
           32
          ],
          [
           32
          ],
          [
           101
          ],
          [
           32
          ],
          [
           32
          ],
          [
           48
          ],
          [
           32
          ],
          [
           32
          ],
          [
           60
          ]
         ],
         "hovertemplate": "0=%{x}<br>1=%{y}<br>Feature=%{customdata[0]}<br>Anomaly=%{marker.color}<extra></extra>",
         "legendgroup": "",
         "marker": {
          "color": [
           0,
           0,
           0,
           0,
           0,
           0,
           0,
           0,
           1,
           0,
           0,
           0,
           0,
           0,
           0,
           0,
           0,
           0,
           0,
           0,
           0,
           0,
           0,
           0,
           0,
           0,
           0,
           0,
           0,
           0,
           0,
           0,
           0,
           0,
           0,
           0,
           0,
           0,
           0,
           0,
           0,
           0,
           0,
           1,
           0,
           0,
           0,
           0,
           0,
           0,
           0,
           0,
           0,
           0,
           1,
           0,
           0,
           0,
           0,
           0,
           0,
           0,
           0,
           0,
           0,
           0,
           0,
           0,
           0,
           0,
           0,
           0,
           0,
           0,
           0,
           0,
           0,
           0,
           0,
           0,
           0,
           0,
           0,
           0,
           0,
           0,
           0,
           0,
           0,
           0,
           0,
           0,
           0,
           0,
           0,
           0,
           0,
           0,
           1,
           0,
           0,
           0,
           0,
           1,
           0,
           0,
           0,
           0,
           0,
           0,
           0,
           0,
           0,
           0,
           0,
           0,
           0,
           0,
           0,
           0,
           0,
           0,
           0,
           0,
           0,
           0,
           0,
           0,
           0,
           0,
           0,
           0,
           0,
           1,
           0,
           0,
           0,
           0,
           0,
           0,
           0,
           0,
           0,
           0,
           0,
           0,
           0,
           0,
           0,
           0,
           0,
           0,
           0,
           0,
           0,
           0,
           0,
           0,
           0,
           0,
           0,
           1,
           0,
           0,
           0,
           0,
           0,
           0,
           0,
           0,
           0,
           0,
           0,
           0,
           0,
           0,
           0,
           0,
           0,
           0,
           0,
           0,
           0,
           0,
           0,
           0,
           0,
           0,
           0,
           0,
           0,
           0,
           0,
           0,
           0,
           0,
           0,
           0,
           0,
           0,
           1,
           1,
           0,
           0,
           0,
           0,
           0,
           0,
           0,
           0,
           0,
           0,
           0,
           0,
           0,
           1,
           0,
           0,
           1,
           0,
           0,
           0,
           0,
           0,
           0,
           0,
           0,
           0,
           0,
           0,
           0,
           0,
           1,
           0,
           0,
           0,
           0,
           0,
           0,
           0,
           0,
           0,
           0,
           0,
           0,
           0,
           0,
           0,
           1,
           0,
           0,
           0,
           0,
           0,
           0,
           0,
           0,
           0,
           0,
           0,
           0,
           0,
           0,
           0,
           1,
           0,
           0,
           0,
           0,
           0,
           0,
           0,
           0,
           0,
           0,
           0,
           0,
           0,
           0,
           0,
           0,
           0,
           0,
           0,
           0,
           0,
           0,
           0,
           0,
           0,
           0,
           0,
           1,
           0,
           0,
           0,
           0,
           0,
           0,
           0,
           0,
           0,
           0,
           0,
           0,
           0,
           0,
           0,
           0,
           0,
           0,
           0,
           0,
           0,
           0,
           0,
           0,
           0,
           0,
           0,
           0,
           0,
           0,
           0,
           0,
           0,
           0,
           0,
           0,
           0,
           0,
           0,
           0,
           0,
           0,
           1,
           0,
           0,
           0,
           1,
           0,
           0,
           0,
           0,
           0,
           0,
           1,
           0,
           0,
           0,
           0,
           0,
           0,
           0,
           0,
           0,
           0,
           0,
           0,
           0,
           0,
           0,
           0,
           0,
           0,
           0,
           0,
           0,
           0,
           0,
           0,
           0,
           0,
           0,
           0,
           0,
           0,
           0,
           0,
           0,
           0,
           1,
           0,
           0,
           0,
           0,
           0,
           0,
           0,
           0,
           0,
           0,
           0,
           1,
           0,
           0,
           0,
           0,
           0,
           0,
           0,
           0,
           0,
           0,
           0,
           0,
           0,
           0,
           0,
           0,
           0,
           0,
           0,
           0,
           0,
           0,
           0,
           0,
           0,
           0,
           0,
           1,
           0,
           0,
           0,
           0,
           0,
           0,
           0,
           0,
           0,
           0,
           1,
           0,
           0,
           0,
           0,
           0,
           0,
           0,
           0,
           0,
           0,
           0,
           0,
           1,
           0,
           0,
           0,
           0,
           0,
           0,
           1,
           0,
           0,
           0,
           0,
           0,
           0,
           0,
           0,
           0,
           0,
           0,
           0,
           0,
           1,
           0,
           0,
           0,
           0,
           0,
           0,
           0,
           0,
           0,
           0,
           0,
           0,
           0,
           0,
           0,
           0,
           0,
           0,
           0,
           0,
           1,
           0,
           0,
           0,
           0,
           0,
           0,
           0,
           0,
           0,
           0,
           0,
           0,
           0,
           0,
           0,
           0,
           0,
           1,
           0,
           0,
           0,
           0,
           0,
           0,
           0,
           0,
           0,
           0,
           0,
           0,
           0,
           0,
           0,
           0,
           0,
           0,
           0,
           0,
           0,
           0,
           0,
           0,
           0,
           0,
           0,
           0,
           0,
           1,
           0,
           0,
           0,
           0,
           0,
           0,
           0,
           0,
           0,
           0,
           0,
           0,
           0,
           0,
           0,
           0,
           0,
           1,
           0,
           0,
           0,
           0,
           0,
           0,
           0,
           0,
           0,
           0,
           0,
           0,
           0,
           0,
           0,
           0,
           1,
           0,
           0,
           0,
           0,
           0,
           0,
           0,
           0,
           0,
           0,
           0,
           0,
           0,
           0,
           0,
           0,
           0,
           0,
           0,
           0,
           0,
           0,
           0,
           0,
           0,
           0,
           0,
           0,
           0,
           0,
           0,
           0,
           0,
           0,
           0,
           0,
           0,
           0,
           0,
           0,
           0,
           0,
           0,
           0,
           0,
           0,
           0,
           0,
           0,
           0,
           0,
           1,
           0,
           0,
           0,
           0,
           0,
           0,
           0,
           0,
           0,
           0,
           0,
           0,
           0,
           0,
           0,
           0,
           0,
           0,
           0,
           1,
           0,
           0,
           0,
           0,
           0,
           0,
           0,
           0,
           0,
           0,
           0,
           0,
           0,
           0,
           0,
           0,
           0,
           0,
           0,
           0,
           0,
           0,
           0,
           0,
           0,
           0,
           0,
           0,
           0,
           0,
           0,
           0,
           0,
           0,
           1,
           0,
           0,
           0,
           0,
           0,
           0,
           0,
           0,
           0,
           1,
           0,
           0,
           0,
           0,
           0,
           0,
           0,
           0,
           1,
           0,
           0,
           0,
           0,
           0,
           0,
           0,
           0,
           0,
           0,
           0,
           0,
           0,
           0,
           0,
           0,
           0,
           0,
           0,
           0,
           0,
           0,
           0,
           0,
           0,
           0,
           0,
           0,
           1,
           0,
           0,
           0,
           0,
           0,
           1,
           0,
           0,
           0,
           0,
           0,
           0,
           0,
           0,
           0,
           0,
           0,
           0,
           0,
           0,
           0,
           0,
           0,
           0,
           0,
           0,
           0,
           0,
           0,
           0,
           1,
           0,
           0,
           0,
           0,
           0,
           0,
           0,
           0,
           0,
           0,
           0,
           0,
           0,
           0,
           0,
           0,
           0,
           0,
           0,
           0,
           0,
           0,
           1,
           0,
           1,
           0,
           0,
           0,
           0,
           0,
           0,
           0,
           1,
           0,
           0,
           0,
           0,
           0,
           0,
           0,
           0,
           0,
           0,
           0,
           0,
           0,
           0,
           0,
           0,
           0,
           1,
           0,
           0,
           0,
           0,
           0,
           0,
           0,
           0,
           0,
           0,
           0,
           0,
           0,
           0,
           0,
           0,
           0,
           0,
           0,
           0,
           1,
           0,
           0,
           0,
           0,
           1,
           0,
           0,
           0,
           0,
           0,
           0,
           0,
           0,
           0,
           0,
           0,
           0,
           0,
           0,
           0,
           0,
           0,
           0,
           0,
           0,
           0,
           0,
           0,
           0,
           0,
           0,
           0,
           1,
           0,
           0,
           0,
           0,
           0,
           0,
           0,
           0,
           0,
           0,
           0,
           0,
           0,
           0,
           0,
           0,
           0,
           0,
           0,
           0,
           0,
           0,
           0,
           0,
           0,
           0,
           0,
           0,
           0,
           0,
           0,
           0,
           0,
           0,
           0,
           0,
           0,
           0,
           1,
           0,
           0,
           0,
           0,
           0,
           0,
           0,
           1,
           0,
           0,
           0,
           0,
           0,
           0,
           0,
           0,
           0,
           0,
           0,
           0,
           0,
           0,
           0,
           0,
           0,
           0,
           0,
           0,
           0,
           0,
           0,
           0,
           0,
           0,
           0,
           0,
           0,
           0,
           0,
           0,
           0,
           0,
           0,
           0,
           0,
           0,
           0,
           0,
           0,
           0,
           0,
           0,
           0,
           0,
           0,
           0,
           0,
           0,
           0,
           0,
           0,
           0,
           0,
           0,
           0,
           0,
           0,
           0,
           0,
           0,
           0,
           0,
           0,
           0,
           0,
           0,
           0,
           0,
           0,
           1,
           0,
           0,
           0,
           0,
           0,
           0,
           0,
           0,
           0,
           0,
           0,
           1,
           0,
           0,
           0,
           0,
           0,
           0,
           0,
           0,
           0,
           0,
           0,
           0,
           0,
           0,
           0,
           0,
           0,
           0,
           0,
           0,
           0,
           0,
           0,
           0,
           1,
           0,
           0,
           0,
           0,
           0,
           0,
           0,
           0,
           0,
           0,
           0,
           0,
           0,
           0,
           0,
           0,
           0,
           0,
           0,
           0,
           0,
           0,
           0,
           0,
           0,
           0,
           0,
           1,
           0,
           0,
           0,
           0,
           0,
           0,
           0,
           0,
           0,
           0,
           0,
           0,
           0,
           0,
           0,
           0,
           0,
           0,
           0,
           0,
           0,
           0,
           0,
           0,
           0,
           0,
           1,
           0,
           1,
           0,
           0,
           0,
           0,
           0,
           0,
           0,
           0,
           0,
           0,
           0,
           0,
           0,
           0,
           0,
           0,
           0,
           0,
           1,
           0,
           0,
           1,
           0,
           0,
           0,
           0,
           1,
           0,
           0,
           0,
           0,
           0,
           0,
           0,
           0,
           0,
           0,
           0,
           0,
           0,
           0,
           0
          ],
          "coloraxis": "coloraxis",
          "opacity": 0.7,
          "symbol": "circle"
         },
         "mode": "markers",
         "name": "",
         "showlegend": false,
         "type": "scattergl",
         "x": [
          2.5977814197540283,
          9.169795036315918,
          9.038362503051758,
          3.222005605697632,
          11.18437671661377,
          7.569511890411377,
          6.199673175811768,
          9.706488609313965,
          4.952521324157715,
          2.4796934127807617,
          11.336296081542969,
          5.161420822143555,
          6.082263946533203,
          8.538312911987305,
          6.47519063949585,
          5.130233287811279,
          6.195382118225098,
          6.008334159851074,
          7.607570648193359,
          1.5800906419754028,
          5.47698974609375,
          12.62625503540039,
          5.417736053466797,
          9.057513236999512,
          8.599823951721191,
          8.08031177520752,
          5.142369270324707,
          12.257156372070312,
          12.557601928710938,
          3.3572258949279785,
          1.74996018409729,
          6.800081253051758,
          2.816800832748413,
          9.73972225189209,
          8.999463081359863,
          2.286306619644165,
          6.658153533935547,
          11.895713806152344,
          5.837897300720215,
          8.308128356933594,
          12.715140342712402,
          4.912009239196777,
          2.0060842037200928,
          3.9743645191192627,
          8.641606330871582,
          10.20648193359375,
          9.103419303894043,
          8.672981262207031,
          2.827471971511841,
          9.579446792602539,
          0.6650115251541138,
          8.853620529174805,
          9.454924583435059,
          1.8285757303237915,
          3.671529531478882,
          12.682099342346191,
          9.164497375488281,
          4.543799877166748,
          8.811041831970215,
          11.082120895385742,
          8.006382942199707,
          1.8145462274551392,
          6.358152866363525,
          1.6503856182098389,
          3.3309285640716553,
          1.498866081237793,
          1.6455870866775513,
          4.630533218383789,
          11.066211700439453,
          9.040976524353027,
          11.232297897338867,
          9.72805404663086,
          8.100631713867188,
          2.70400333404541,
          12.614083290100098,
          6.195789813995361,
          11.430459976196289,
          1.7423419952392578,
          5.96993350982666,
          9.00098991394043,
          2.5492680072784424,
          5.799478054046631,
          3.160629987716675,
          9.368077278137207,
          12.894159317016602,
          3.989448308944702,
          9.359890937805176,
          3.481584072113037,
          8.876550674438477,
          6.175883769989014,
          3.7775776386260986,
          1.8407236337661743,
          12.20979118347168,
          13.357351303100586,
          9.079230308532715,
          5.833393096923828,
          5.015771389007568,
          9.12397289276123,
          3.5154433250427246,
          6.523219108581543,
          5.206913471221924,
          5.322176456451416,
          10.761856079101562,
          3.435337543487549,
          4.789838790893555,
          12.215035438537598,
          3.3063313961029053,
          2.7515478134155273,
          5.43339204788208,
          9.481294631958008,
          5.571444988250732,
          8.709885597229004,
          1.7534061670303345,
          10.050204277038574,
          6.2571120262146,
          6.78565788269043,
          10.729597091674805,
          3.2118496894836426,
          1.4254615306854248,
          9.749152183532715,
          1.8184782266616821,
          12.638689041137695,
          1.6976383924484253,
          5.428594589233398,
          1.6203614473342896,
          0.6361901164054871,
          9.488799095153809,
          2.9979865550994873,
          12.739521026611328,
          5.31339168548584,
          5.648801803588867,
          6.725276470184326,
          5.0630669593811035,
          2.836864948272705,
          3.3018105030059814,
          8.655089378356934,
          13.146153450012207,
          3.7920587062835693,
          9.20494270324707,
          12.521183967590332,
          1.9571702480316162,
          12.757013320922852,
          2.168828248977661,
          4.758384704589844,
          4.885697841644287,
          2.420670986175537,
          13.475616455078125,
          9.351869583129883,
          6.192297458648682,
          2.225600004196167,
          6.173568248748779,
          2.8551268577575684,
          9.671932220458984,
          7.499663352966309,
          10.992679595947266,
          5.244612693786621,
          1.786389708518982,
          4.840602397918701,
          1.514894962310791,
          7.291279315948486,
          8.59384536743164,
          3.4339523315429688,
          2.694998025894165,
          10.53016185760498,
          13.06072998046875,
          10.174345016479492,
          8.299983978271484,
          9.760923385620117,
          8.664304733276367,
          9.715476989746094,
          3.1448915004730225,
          6.882606029510498,
          6.780680179595947,
          12.923483848571777,
          2.1183454990386963,
          4.1270432472229,
          2.5181736946105957,
          13.061509132385254,
          9.399300575256348,
          12.694771766662598,
          8.914631843566895,
          7.498622894287109,
          6.404959201812744,
          5.495574951171875,
          2.483339786529541,
          5.422345161437988,
          9.531336784362793,
          1.8211555480957031,
          6.196042060852051,
          6.649910926818848,
          11.678948402404785,
          2.3165199756622314,
          1.4884189367294312,
          10.156172752380371,
          0.6141072511672974,
          9.554975509643555,
          12.65933609008789,
          9.144025802612305,
          5.446775436401367,
          4.381907939910889,
          2.5815467834472656,
          3.5185387134552,
          9.632400512695312,
          2.157548666000366,
          12.271578788757324,
          2.5490849018096924,
          12.83593463897705,
          12.876399993896484,
          10.269983291625977,
          3.5212223529815674,
          5.683538436889648,
          5.981092929840088,
          5.4735870361328125,
          0.6836720108985901,
          9.554978370666504,
          4.809451103210449,
          7.553611755371094,
          5.542823791503906,
          3.7608418464660645,
          9.258056640625,
          13.286030769348145,
          6.908965587615967,
          9.509519577026367,
          11.08960247039795,
          10.59456729888916,
          9.505138397216797,
          1.4003740549087524,
          2.477792263031006,
          6.278285980224609,
          5.981668949127197,
          11.183104515075684,
          5.091363430023193,
          2.755150079727173,
          12.695244789123535,
          3.2497918605804443,
          5.202638626098633,
          5.307718276977539,
          6.543609619140625,
          8.565779685974121,
          1.8906527757644653,
          9.791976928710938,
          8.892372131347656,
          8.704804420471191,
          8.926177978515625,
          4.312337875366211,
          13.037614822387695,
          9.822389602661133,
          1.2242107391357422,
          3.339657783508301,
          8.315114974975586,
          4.850614547729492,
          9.670866012573242,
          6.422918796539307,
          11.656991958618164,
          2.4455573558807373,
          11.426486015319824,
          2.05755615234375,
          6.762400150299072,
          6.781701564788818,
          4.729202747344971,
          3.2448484897613525,
          1.908146619796753,
          6.727410316467285,
          11.085052490234375,
          11.638680458068848,
          12.949577331542969,
          3.3980231285095215,
          5.862950325012207,
          2.3812966346740723,
          8.73544979095459,
          11.78161907196045,
          9.66781234741211,
          8.66336727142334,
          2.0794291496276855,
          10.25946044921875,
          9.38500690460205,
          6.632020950317383,
          9.624330520629883,
          11.765143394470215,
          5.672338008880615,
          5.497813701629639,
          5.339595794677734,
          8.705423355102539,
          11.66968059539795,
          2.519970178604126,
          11.063028335571289,
          3.273489475250244,
          10.15927791595459,
          7.487899303436279,
          6.302417755126953,
          6.436818599700928,
          4.520552635192871,
          3.42824649810791,
          5.148253440856934,
          9.460373878479004,
          5.330852508544922,
          6.2037835121154785,
          2.700308322906494,
          10.911247253417969,
          2.7039928436279297,
          3.3527679443359375,
          4.621933937072754,
          1.7308788299560547,
          10.651737213134766,
          2.527527332305908,
          2.7818973064422607,
          10.41873836517334,
          8.308921813964844,
          1.2047107219696045,
          5.345479488372803,
          5.919571876525879,
          10.84664535522461,
          3.8401615619659424,
          6.246582508087158,
          5.473242282867432,
          5.980105400085449,
          10.213340759277344,
          5.285558223724365,
          12.168595314025879,
          9.31474781036377,
          9.788694381713867,
          11.9903564453125,
          9.398046493530273,
          3.1522319316864014,
          5.507439613342285,
          1.9054137468338013,
          6.632544040679932,
          12.2105073928833,
          4.8282928466796875,
          9.194786071777344,
          9.969098091125488,
          2.698025941848755,
          6.689037799835205,
          11.896040916442871,
          5.040067195892334,
          1.7862021923065186,
          8.628936767578125,
          3.264950752258301,
          9.040901184082031,
          2.6910130977630615,
          12.038664817810059,
          10.547211647033691,
          5.174209117889404,
          6.339705467224121,
          11.089190483093262,
          12.133627891540527,
          2.866180658340454,
          6.905419826507568,
          12.613492012023926,
          13.332213401794434,
          2.5870862007141113,
          13.201475143432617,
          13.633222579956055,
          9.364890098571777,
          8.34201431274414,
          6.871716499328613,
          10.555414199829102,
          8.230796813964844,
          9.218622207641602,
          10.70984172821045,
          5.9417572021484375,
          2.9570565223693848,
          4.97053861618042,
          11.414749145507812,
          1.527068853378296,
          5.46151065826416,
          1.621904969215393,
          4.586516857147217,
          9.775781631469727,
          5.515491008758545,
          2.0771846771240234,
          8.353780746459961,
          5.0126118659973145,
          8.204176902770996,
          10.336420059204102,
          4.775388240814209,
          6.308030605316162,
          2.5176303386688232,
          12.863846778869629,
          11.6588773727417,
          6.42726469039917,
          2.53493332862854,
          9.892839431762695,
          1.4992815256118774,
          7.265651702880859,
          7.402090549468994,
          9.831282615661621,
          0.6224678754806519,
          12.71461296081543,
          6.254148483276367,
          5.123167037963867,
          3.912003755569458,
          11.547540664672852,
          3.403862714767456,
          9.39440631866455,
          9.410514831542969,
          9.866463661193848,
          6.625613689422607,
          3.240406036376953,
          3.9205946922302246,
          6.862734794616699,
          4.153719425201416,
          10.791723251342773,
          10.0810546875,
          8.557928085327148,
          10.186591148376465,
          8.659797668457031,
          9.466073989868164,
          8.470942497253418,
          9.211271286010742,
          2.418410301208496,
          2.6250228881835938,
          11.066777229309082,
          1.7214723825454712,
          1.8795050382614136,
          5.920809745788574,
          11.38416862487793,
          1.8863918781280518,
          2.482163667678833,
          10.187283515930176,
          2.6397740840911865,
          4.1995649337768555,
          12.686504364013672,
          8.068001747131348,
          4.094367027282715,
          5.177387237548828,
          2.988861083984375,
          4.564843654632568,
          8.71352767944336,
          9.116416931152344,
          6.906042098999023,
          5.546869277954102,
          2.6530442237854004,
          9.096179008483887,
          4.870447635650635,
          12.272493362426758,
          9.177491188049316,
          10.474785804748535,
          10.571533203125,
          10.03593921661377,
          5.502654552459717,
          2.856386661529541,
          5.784539222717285,
          10.212043762207031,
          3.33984637260437,
          4.113262176513672,
          5.389047145843506,
          1.7100952863693237,
          2.274492025375366,
          4.997374057769775,
          10.167326927185059,
          1.1738313436508179,
          6.612710952758789,
          9.201388359069824,
          6.753089904785156,
          13.289669036865234,
          13.635580062866211,
          8.436883926391602,
          3.2520570755004883,
          9.09144115447998,
          3.55167555809021,
          9.390793800354004,
          8.13412857055664,
          3.124509572982788,
          2.3574328422546387,
          12.657607078552246,
          3.7739720344543457,
          5.4637770652771,
          10.0487642288208,
          11.3294677734375,
          2.641094923019409,
          2.4433388710021973,
          11.099237442016602,
          2.81984806060791,
          6.169814586639404,
          6.475085735321045,
          6.6809186935424805,
          8.985696792602539,
          6.715687274932861,
          9.286648750305176,
          2.684155225753784,
          4.265707015991211,
          2.4093799591064453,
          11.98873233795166,
          2.424818277359009,
          8.849193572998047,
          2.0275912284851074,
          3.0792291164398193,
          6.672848701477051,
          13.68456745147705,
          11.179386138916016,
          8.602336883544922,
          2.1414453983306885,
          0.6044278740882874,
          4.603848457336426,
          1.6947333812713623,
          2.496715545654297,
          12.435351371765137,
          2.3574721813201904,
          2.6686477661132812,
          8.88381576538086,
          13.17945671081543,
          8.445565223693848,
          8.941568374633789,
          11.757575035095215,
          3.4072425365448,
          5.3701324462890625,
          1.8617489337921143,
          6.593634128570557,
          4.730990886688232,
          10.090106964111328,
          12.180124282836914,
          3.030928611755371,
          5.627959728240967,
          9.554293632507324,
          7.955233573913574,
          9.792280197143555,
          2.2532131671905518,
          8.723250389099121,
          12.98232650756836,
          8.478748321533203,
          1.792366862297058,
          6.5641913414001465,
          1.7953743934631348,
          9.350735664367676,
          12.663182258605957,
          9.710126876831055,
          9.390750885009766,
          7.515832901000977,
          8.54629135131836,
          5.651795387268066,
          1.7974077463150024,
          9.432352066040039,
          12.970911979675293,
          6.756535053253174,
          4.4722514152526855,
          8.602716445922852,
          12.501755714416504,
          5.49338960647583,
          6.283290863037109,
          1.5168536901474,
          4.629070281982422,
          4.072870254516602,
          12.328330039978027,
          2.81668758392334,
          2.460092067718506,
          3.8953630924224854,
          4.56086540222168,
          13.058807373046875,
          2.336091995239258,
          9.179959297180176,
          2.386101722717285,
          8.02468204498291,
          2.5507171154022217,
          8.675413131713867,
          3.1157209873199463,
          1.9488778114318848,
          11.742992401123047,
          7.47968864440918,
          4.943195819854736,
          9.46872329711914,
          9.773622512817383,
          3.316221237182617,
          10.709319114685059,
          7.567346096038818,
          8.84549331665039,
          7.757164001464844,
          5.252192497253418,
          8.526006698608398,
          4.644138813018799,
          11.718954086303711,
          3.7336041927337646,
          2.932919979095459,
          3.523763656616211,
          8.50580883026123,
          6.482824325561523,
          9.967369079589844,
          5.95784330368042,
          9.741042137145996,
          3.2581164836883545,
          5.143689155578613,
          10.617197036743164,
          5.650399208068848,
          6.7861151695251465,
          8.35126781463623,
          12.633024215698242,
          4.8426594734191895,
          3.243103265762329,
          1.8264901638031006,
          6.94301700592041,
          3.0499322414398193,
          8.575905799865723,
          2.584487199783325,
          3.0461974143981934,
          10.531269073486328,
          10.322394371032715,
          12.062220573425293,
          10.634647369384766,
          2.5773873329162598,
          4.479887008666992,
          0.6276301145553589,
          9.01022720336914,
          9.368559837341309,
          9.990342140197754,
          1.4668997526168823,
          5.12390661239624,
          8.80121898651123,
          6.557490348815918,
          4.773670673370361,
          11.68555736541748,
          4.958886623382568,
          9.320453643798828,
          1.2308679819107056,
          9.67286205291748,
          2.6634535789489746,
          6.145350456237793,
          4.793576717376709,
          8.96257209777832,
          8.387060165405273,
          8.54290771484375,
          2.303525924682617,
          6.501825332641602,
          4.167366027832031,
          12.90537166595459,
          6.7519049644470215,
          5.36838960647583,
          10.070042610168457,
          11.790349960327148,
          1.4843071699142456,
          12.176309585571289,
          11.769632339477539,
          12.361604690551758,
          9.397056579589844,
          4.8459062576293945,
          5.323398113250732,
          2.3585286140441895,
          4.0787129402160645,
          8.154036521911621,
          1.8571070432662964,
          7.510138034820557,
          12.696625709533691,
          6.157144069671631,
          4.129974365234375,
          10.354018211364746,
          8.756355285644531,
          2.862166404724121,
          3.7848451137542725,
          12.275352478027344,
          2.5635826587677,
          9.567256927490234,
          11.801063537597656,
          9.039568901062012,
          8.59936809539795,
          6.275996685028076,
          6.21288537979126,
          5.314271450042725,
          2.224867582321167,
          1.5318472385406494,
          5.435790538787842,
          9.828022956848145,
          6.779013633728027,
          1.9511380195617676,
          6.244841575622559,
          10.320237159729004,
          3.1174440383911133,
          9.446130752563477,
          9.951706886291504,
          6.641330718994141,
          2.351747989654541,
          3.9729247093200684,
          5.945862293243408,
          11.118443489074707,
          13.441855430603027,
          4.829686641693115,
          5.778700828552246,
          2.597114324569702,
          2.5088205337524414,
          3.513986349105835,
          5.9845404624938965,
          2.121922016143799,
          6.562122821807861,
          5.797393321990967,
          3.322934865951538,
          8.39077377319336,
          1.6074180603027344,
          7.579451560974121,
          8.772525787353516,
          4.145667552947998,
          8.992133140563965,
          5.132580757141113,
          1.7802138328552246,
          11.516048431396484,
          6.837118148803711,
          4.3907999992370605,
          10.218988418579102,
          1.5275042057037354,
          2.5196471214294434,
          8.626864433288574,
          6.671528339385986,
          2.883220911026001,
          12.984539031982422,
          5.372975826263428,
          12.059809684753418,
          0.6704839468002319,
          1.964233636856079,
          10.675995826721191,
          3.3989803791046143,
          3.9965381622314453,
          8.395201683044434,
          4.485235214233398,
          4.852923393249512,
          8.589777946472168,
          5.604782581329346,
          9.839326858520508,
          6.241934776306152,
          13.364879608154297,
          9.384765625,
          3.281118869781494,
          1.879446268081665,
          2.466003656387329,
          3.2592062950134277,
          3.99247145652771,
          10.080601692199707,
          9.694629669189453,
          12.293416023254395,
          4.0745625495910645,
          3.4532294273376465,
          9.648477554321289,
          3.509509325027466,
          6.4986958503723145,
          13.10103702545166,
          2.48067045211792,
          10.486242294311523,
          5.612058162689209,
          5.037643909454346,
          12.481587409973145,
          8.532048225402832,
          9.91165542602539,
          6.872997283935547,
          7.356011867523193,
          2.6649115085601807,
          11.011611938476562,
          2.164808750152588,
          12.873262405395508,
          8.203866958618164,
          8.436555862426758,
          9.651047706604004,
          11.25047779083252,
          11.241994857788086,
          12.687752723693848,
          5.65152645111084,
          11.122491836547852,
          12.906511306762695,
          6.905168533325195,
          10.593749046325684,
          12.674840927124023,
          2.750795841217041,
          9.79825210571289,
          2.5815353393554688,
          2.2316861152648926,
          8.300965309143066,
          6.274709224700928,
          13.323190689086914,
          5.824732780456543,
          9.425042152404785,
          5.40338659286499,
          10.046685218811035,
          4.6660356521606445,
          9.570737838745117,
          5.8963494300842285,
          0.6250908970832825,
          10.745519638061523,
          10.260053634643555,
          10.631366729736328,
          1.7682658433914185,
          5.921218395233154,
          3.3104310035705566,
          6.285224914550781,
          12.692717552185059,
          4.065433979034424,
          6.252410411834717,
          2.397573471069336,
          5.699615001678467,
          10.769399642944336,
          2.6396372318267822,
          5.403238773345947,
          9.024046897888184,
          5.4961371421813965,
          9.032017707824707,
          2.7778100967407227,
          10.557221412658691,
          8.94051456451416,
          5.835113525390625,
          12.015172958374023,
          5.123113632202148,
          2.3856418132781982,
          2.695051431655884,
          8.200593948364258,
          2.524301528930664,
          8.617533683776855,
          8.597557067871094,
          1.6892380714416504,
          12.629575729370117,
          2.3037056922912598,
          1.1920706033706665,
          3.202353000640869,
          6.506927490234375,
          5.586504936218262,
          6.230610370635986,
          1.8428505659103394,
          5.347944736480713,
          2.8820323944091797,
          6.658025741577148,
          9.68662166595459,
          6.421463966369629,
          2.8612706661224365,
          8.58170223236084,
          9.713639259338379,
          3.2091355323791504,
          6.639598846435547,
          10.714612007141113,
          8.829059600830078,
          5.310070514678955,
          8.602228164672852,
          10.297303199768066,
          6.132333278656006,
          5.394268035888672,
          3.379662036895752,
          3.797527313232422,
          7.468928337097168,
          11.106965065002441,
          6.806369781494141,
          2.6331822872161865,
          3.339545965194702,
          5.881766319274902,
          2.1979832649230957,
          3.9857964515686035,
          8.857183456420898,
          6.582841873168945,
          1.8216488361358643,
          6.634979248046875,
          11.082011222839355,
          5.856265068054199,
          2.6502835750579834,
          6.041571140289307,
          6.869296073913574,
          9.572317123413086,
          9.710685729980469,
          5.370239734649658,
          11.855477333068848,
          4.874202728271484,
          5.4935688972473145,
          2.3552050590515137,
          9.047685623168945,
          11.184309959411621,
          3.0602266788482666,
          12.701029777526855,
          4.5408616065979,
          1.947845458984375,
          3.0823583602905273,
          11.397134780883789,
          5.525832653045654,
          3.385789632797241,
          8.815165519714355,
          3.2645456790924072,
          3.280740737915039,
          6.602884769439697,
          2.410703182220459,
          8.055364608764648,
          9.080401420593262,
          5.448343753814697,
          9.858868598937988,
          1.8505401611328125,
          5.414607048034668,
          2.465510845184326,
          9.666242599487305,
          7.994718551635742,
          6.444578170776367,
          11.23134994506836,
          6.77734375,
          11.033869743347168,
          5.529207229614258,
          3.394770622253418,
          1.8043897151947021,
          1.2428724765777588,
          2.776336669921875,
          2.75704288482666,
          6.407905578613281,
          6.450708866119385,
          5.835721015930176,
          1.406136393547058,
          5.647412300109863,
          2.5599799156188965,
          2.6058785915374756,
          8.555818557739258,
          3.107111692428589,
          4.124431610107422,
          13.446351051330566,
          1.5568698644638062,
          5.44276762008667,
          3.3155062198638916,
          4.923861026763916,
          2.1925113201141357,
          8.104686737060547,
          8.875802993774414,
          9.090638160705566,
          11.536678314208984,
          2.7836754322052,
          4.165072917938232,
          5.4255595207214355,
          3.3419382572174072,
          1.7806267738342285,
          9.660022735595703,
          11.092253684997559,
          7.711040019989014,
          6.940412521362305,
          10.139219284057617,
          10.66553783416748,
          2.6877942085266113,
          6.5664873123168945,
          8.492037773132324,
          6.874670505523682,
          5.066679954528809,
          2.512747049331665,
          8.989413261413574,
          1.8890752792358398,
          5.413876533508301,
          1.992979645729065,
          8.57538890838623,
          11.149426460266113,
          1.208540678024292,
          2.521653175354004,
          5.858471393585205,
          1.6458253860473633,
          7.288007736206055,
          6.077154636383057,
          6.74818754196167,
          9.709806442260742,
          2.043226718902588,
          9.156049728393555,
          9.431195259094238,
          1.6115591526031494,
          6.764745235443115,
          5.177178859710693,
          2.5503909587860107,
          4.923539161682129,
          2.976733446121216,
          12.704248428344727,
          6.437292098999023,
          6.846256732940674,
          5.086946487426758,
          8.496931076049805,
          8.021790504455566,
          2.544342517852783,
          12.685516357421875,
          2.2323687076568604,
          2.6317193508148193,
          5.614681243896484,
          3.2928154468536377,
          10.825043678283691,
          12.01407527923584,
          12.69773006439209,
          11.089393615722656,
          9.489411354064941,
          8.813980102539062,
          9.685590744018555,
          8.349987983703613,
          1.7665141820907593,
          7.518554210662842,
          9.844127655029297,
          4.898131847381592,
          10.188281059265137,
          1.5014188289642334,
          5.3934454917907715,
          12.294269561767578,
          4.948850154876709,
          1.4877697229385376,
          12.639041900634766,
          5.484275817871094,
          12.531412124633789,
          2.4462287425994873,
          6.892582416534424,
          5.929215908050537,
          2.7955377101898193,
          2.7598726749420166,
          6.0625081062316895,
          6.578633785247803,
          5.233850002288818,
          3.2666053771972656,
          2.5130577087402344,
          9.478342056274414,
          7.547398090362549,
          3.1808667182922363,
          5.341728210449219,
          3.500457763671875,
          7.99492883682251,
          6.100829601287842,
          6.124189376831055,
          4.768711090087891,
          3.1508591175079346,
          3.3625383377075195,
          6.468517303466797,
          0.8330208659172058,
          9.352437019348145,
          6.206319332122803,
          2.656742572784424,
          5.409639835357666,
          3.940640687942505,
          10.111858367919922,
          1.9090797901153564,
          3.2359025478363037,
          11.663763046264648,
          5.448048114776611,
          8.927227973937988,
          2.5975470542907715,
          3.2164735794067383,
          9.773716926574707,
          3.329637289047241,
          10.250249862670898,
          5.212322235107422,
          12.124073028564453,
          6.231725692749023,
          9.173848152160645,
          11.435718536376953,
          8.168435096740723,
          5.836027145385742,
          9.050702095031738,
          12.100698471069336,
          8.020187377929688,
          9.197165489196777,
          1.8346900939941406,
          1.2001032829284668,
          10.995853424072266,
          3.0063602924346924,
          8.099499702453613,
          10.771970748901367,
          6.634220600128174,
          5.156377792358398,
          1.5296202898025513,
          2.9835622310638428,
          2.61911940574646,
          12.339192390441895,
          8.497106552124023,
          9.426583290100098,
          10.841660499572754,
          3.4197795391082764,
          8.583850860595703,
          6.217084884643555,
          2.349195718765259,
          9.344429016113281,
          5.40964412689209,
          10.052553176879883,
          0.6181439161300659,
          10.877806663513184,
          9.81838321685791,
          5.019034385681152,
          6.665221691131592,
          5.052141189575195,
          9.448625564575195,
          4.411736011505127,
          12.725963592529297,
          6.772394180297852,
          3.154757261276245,
          6.452836036682129,
          13.662642478942871,
          12.8765869140625,
          11.810839653015137,
          11.11209774017334,
          1.4339758157730103,
          12.16649055480957,
          6.741174697875977,
          11.793882369995117,
          2.485679864883423,
          1.7468621730804443,
          3.9327480792999268,
          3.1264960765838623,
          2.7594196796417236,
          8.389703750610352,
          1.785760760307312,
          9.551389694213867,
          11.079251289367676,
          6.244255065917969,
          2.3168623447418213,
          1.4758445024490356,
          7.535619735717773,
          5.420273303985596,
          12.840886116027832,
          5.126104354858398,
          5.197964668273926,
          5.159450531005859,
          2.794001579284668,
          8.867177963256836,
          2.3411636352539062,
          3.5147738456726074,
          10.87243366241455,
          4.0721869468688965,
          1.4992661476135254,
          9.585949897766113,
          8.576070785522461,
          1.7511553764343262,
          10.671238899230957,
          3.411278247833252,
          8.618220329284668,
          3.1158831119537354,
          4.532351970672607,
          3.278085470199585,
          2.5209972858428955,
          5.212381839752197,
          6.126236915588379,
          12.663636207580566,
          2.599853992462158,
          6.114816188812256,
          9.465322494506836,
          3.1915063858032227,
          10.178869247436523,
          4.8366618156433105,
          10.628807067871094
         ],
         "xaxis": "x",
         "y": [
          8.275659561157227,
          8.484321594238281,
          4.434364318847656,
          4.179104328155518,
          8.432234764099121,
          0.08889944851398468,
          7.420077323913574,
          5.519455432891846,
          9.305315971374512,
          8.1417818069458,
          9.791909217834473,
          5.297748565673828,
          6.0458984375,
          1.4461355209350586,
          7.647496223449707,
          9.055400848388672,
          7.524656295776367,
          6.200520992279053,
          0.12317724525928497,
          2.2354953289031982,
          0.28518909215927124,
          11.220144271850586,
          4.964766979217529,
          4.401825428009033,
          8.853880882263184,
          3.7636759281158447,
          5.424611568450928,
          8.627632141113281,
          10.469746589660645,
          4.408884048461914,
          0.9270671010017395,
          0.1432839035987854,
          7.777145862579346,
          1.1707334518432617,
          4.372518539428711,
          0.43374183773994446,
          -0.36498722434043884,
          8.646199226379395,
          0.6702396869659424,
          8.845113754272461,
          9.184160232543945,
          6.164815425872803,
          1.9870113134384155,
          9.028850555419922,
          8.107394218444824,
          0.9654962420463562,
          9.001015663146973,
          1.0040363073349,
          2.5267727375030518,
          4.81508207321167,
          4.094367504119873,
          1.2346338033676147,
          5.1847968101501465,
          0.7134858965873718,
          9.55151081085205,
          11.29007625579834,
          8.69362735748291,
          4.384308338165283,
          4.244617462158203,
          11.205195426940918,
          2.202071189880371,
          3.238950729370117,
          3.6251072883605957,
          0.9822810888290405,
          2.5084800720214844,
          2.280376434326172,
          3.804443120956421,
          6.341220378875732,
          11.175771713256836,
          8.700840950012207,
          8.617181777954102,
          5.230197906494141,
          3.8162946701049805,
          7.889300346374512,
          9.155055046081543,
          1.7274835109710693,
          8.30351734161377,
          3.2824952602386475,
          6.256516933441162,
          8.7401762008667,
          8.193323135375977,
          0.6209749579429626,
          4.795403480529785,
          6.737821102142334,
          9.492663383483887,
          9.915781021118164,
          6.728736877441406,
          2.514742374420166,
          8.180744171142578,
          0.9982418417930603,
          4.165687561035156,
          3.0796256065368652,
          10.34849739074707,
          8.850092887878418,
          8.845352172851562,
          0.68466717004776,
          8.77029037475586,
          1.0466773509979248,
          9.31261157989502,
          7.972825527191162,
          5.184584140777588,
          0.1955341398715973,
          9.785478591918945,
          9.39075756072998,
          6.360805511474609,
          10.448302268981934,
          3.938526153564453,
          7.881827354431152,
          7.20459508895874,
          5.271417140960693,
          0.35078105330467224,
          1.3298077583312988,
          4.514986991882324,
          1.561598539352417,
          1.8108097314834595,
          6.127708435058594,
          9.276385307312012,
          4.487146854400635,
          4.356941223144531,
          4.5444254875183105,
          0.7309523820877075,
          11.252424240112305,
          0.8737331032752991,
          5.368197441101074,
          1.3863471746444702,
          4.136263370513916,
          6.565914630889893,
          2.9969539642333984,
          9.136250495910645,
          5.017755508422852,
          0.26031842827796936,
          7.7945380210876465,
          8.71431827545166,
          8.940223693847656,
          4.0486907958984375,
          8.145031929016113,
          8.924673080444336,
          4.810570240020752,
          8.676827430725098,
          11.102570533752441,
          1.8070095777511597,
          9.334897994995117,
          4.887939929962158,
          6.327888011932373,
          0.10256940126419067,
          0.36697500944137573,
          8.74837875366211,
          6.76007080078125,
          1.598397970199585,
          2.5380303859710693,
          1.7311711311340332,
          8.919625282287598,
          1.6979074478149414,
          1.8722001314163208,
          8.759825706481934,
          7.363653182983398,
          0.776494026184082,
          0.13288718461990356,
          3.7750613689422607,
          -0.08986062556505203,
          1.364288330078125,
          9.407041549682617,
          6.112582683563232,
          8.789823532104492,
          8.988500595092773,
          0.6302908658981323,
          3.0056326389312744,
          1.0120960474014282,
          1.5074450969696045,
          5.354283809661865,
          4.8536176681518555,
          5.674040794372559,
          -0.3238619863986969,
          9.618812561035156,
          5.438228607177734,
          9.327413558959961,
          5.112059593200684,
          8.937039375305176,
          6.692770481109619,
          11.296991348266602,
          4.268763542175293,
          1.9488524198532104,
          -0.34875547885894775,
          4.888120651245117,
          5.031687259674072,
          6.619197845458984,
          4.757089138031006,
          3.196164846420288,
          1.3132743835449219,
          -0.5841902494430542,
          8.492005348205566,
          7.049496173858643,
          4.2467169761657715,
          1.07942795753479,
          4.1379241943359375,
          5.101958274841309,
          11.207573890686035,
          5.549899578094482,
          9.080703735351562,
          6.208582401275635,
          7.424313068389893,
          9.362317085266113,
          1.453397512435913,
          4.877534866333008,
          8.503045082092285,
          8.035691261291504,
          9.56832504272461,
          9.047962188720703,
          0.5602985620498657,
          2.4868884086608887,
          0.5379430651664734,
          6.223319053649902,
          7.717211723327637,
          4.182214260101318,
          5.188930511474609,
          8.864908218383789,
          0.11889456957578659,
          7.429019927978516,
          9.572847366333008,
          4.420126914978027,
          8.97600269317627,
          5.723209381103516,
          4.816843509674072,
          11.105365753173828,
          8.53920841217041,
          1.1598937511444092,
          4.363141059875488,
          8.139561653137207,
          1.7616158723831177,
          6.242210865020752,
          8.502054214477539,
          8.670463562011719,
          8.720295906066895,
          11.274502754211426,
          4.656286716461182,
          8.531545639038086,
          0.04289289563894272,
          4.491303443908691,
          1.361379623413086,
          0.6212545037269592,
          1.1932400465011597,
          4.24107027053833,
          0.9698589444160461,
          1.2465425729751587,
          4.450903415679932,
          9.051131248474121,
          9.291069984436035,
          5.136961936950684,
          9.15313720703125,
          2.972881555557251,
          9.391108512878418,
          5.185606002807617,
          3.5711288452148438,
          7.968491077423096,
          2.7546234130859375,
          8.48082447052002,
          2.837595224380493,
          4.02768611907959,
          5.724541187286377,
          9.480972290039062,
          4.328835964202881,
          0.6526618599891663,
          5.543564796447754,
          11.194513320922852,
          10.666762351989746,
          9.109373092651367,
          9.07245922088623,
          6.159618854522705,
          2.578202724456787,
          8.224645614624023,
          9.76539134979248,
          4.530435562133789,
          8.166914939880371,
          4.836523532867432,
          0.5480958819389343,
          4.69040584564209,
          4.393006324768066,
          0.959595263004303,
          10.853172302246094,
          -0.24621441960334778,
          5.153206825256348,
          7.475769519805908,
          8.149362564086914,
          9.862567901611328,
          0.27880731225013733,
          11.204590797424316,
          4.116596221923828,
          1.2490519285202026,
          2.7341971397399902,
          1.8155577182769775,
          4.179518699645996,
          6.786288261413574,
          9.369050025939941,
          8.540484428405762,
          4.694450855255127,
          9.036966323852539,
          1.2673273086547852,
          2.650292158126831,
          8.773137092590332,
          7.797096252441406,
          8.826279640197754,
          6.469414234161377,
          4.554243087768555,
          9.669110298156738,
          5.906027317047119,
          8.768054962158203,
          9.58618450164795,
          1.879201889038086,
          5.132430553436279,
          4.992787837982178,
          6.267457485198975,
          8.389204025268555,
          4.479434967041016,
          1.7548389434814453,
          7.7171196937561035,
          6.200397491455078,
          0.9636568427085876,
          5.129735946655273,
          10.381438255310059,
          7.122281074523926,
          8.736332893371582,
          10.218914031982422,
          6.796760082244873,
          8.995122909545898,
          7.861945152282715,
          1.766433835029602,
          -0.5904273986816406,
          10.4386625289917,
          6.43855619430542,
          5.118082046508789,
          8.563020706176758,
          8.81385326385498,
          3.9989302158355713,
          8.603167533874512,
          7.255173206329346,
          3.947613477706909,
          8.1445894241333,
          3.9022915363311768,
          8.854460716247559,
          7.784368991851807,
          10.688807487487793,
          9.629805564880371,
          5.347315788269043,
          4.119664192199707,
          8.589533805847168,
          10.371270179748535,
          8.922755241394043,
          5.692196369171143,
          11.26341438293457,
          8.858297348022461,
          8.163033485412598,
          8.898828506469727,
          8.601829528808594,
          6.95421028137207,
          3.0411670207977295,
          5.674849033355713,
          9.629499435424805,
          3.0966694355010986,
          5.402425765991211,
          9.689780235290527,
          6.227169990539551,
          7.9474101066589355,
          6.080082416534424,
          8.543437957763672,
          3.808086633682251,
          4.908322334289551,
          3.6796085834503174,
          9.209078788757324,
          5.223541259765625,
          9.1106538772583,
          5.3307366371154785,
          2.964860200881958,
          8.766955375671387,
          3.6392719745635986,
          0.49373868107795715,
          6.349025249481201,
          5.705519199371338,
          8.117067337036133,
          9.59620475769043,
          9.175670623779297,
          3.5437324047088623,
          6.064755916595459,
          5.196690559387207,
          2.3320164680480957,
          -0.11705288290977478,
          1.8103439807891846,
          0.9968004822731018,
          4.139084339141846,
          11.361614227294922,
          1.786125898361206,
          9.170028686523438,
          4.3737592697143555,
          8.427127838134766,
          9.340022087097168,
          6.676951885223389,
          1.9765689373016357,
          5.09564733505249,
          -0.5847988724708557,
          4.0792317390441895,
          4.437309265136719,
          -0.17217570543289185,
          9.935513496398926,
          9.778029441833496,
          1.4278620481491089,
          2.9229185581207275,
          0.6497232913970947,
          8.167524337768555,
          6.5688910484313965,
          8.877727508544922,
          8.6468505859375,
          0.3384894132614136,
          8.394829750061035,
          11.194123268127441,
          3.3968615531921387,
          1.7874245643615723,
          6.205611228942871,
          8.574241638183594,
          0.6708235144615173,
          6.909111022949219,
          0.6480341553688049,
          7.544835567474365,
          9.36136245727539,
          11.306779861450195,
          8.73391342163086,
          9.370373725891113,
          7.1915411949157715,
          4.88808012008667,
          6.732889652252197,
          1.013282060623169,
          1.5506492853164673,
          6.065078258514404,
          8.037858009338379,
          8.838545799255371,
          8.894676208496094,
          9.264528274536133,
          8.669304847717285,
          4.441981792449951,
          8.51015567779541,
          8.76934814453125,
          1.3816821575164795,
          4.933528423309326,
          8.697442054748535,
          0.6512412428855896,
          0.6501150131225586,
          2.3874099254608154,
          9.786266326904297,
          -0.1211722269654274,
          3.4033498764038086,
          0.4736112654209137,
          6.047306537628174,
          1.1188303232192993,
          5.054882049560547,
          4.496199131011963,
          9.018776893615723,
          0.09853393584489822,
          8.887492179870605,
          8.600948333740234,
          1.5195435285568237,
          4.448983669281006,
          8.75157642364502,
          2.4459760189056396,
          6.694541931152344,
          8.76266860961914,
          4.852572441101074,
          7.066331386566162,
          11.260479927062988,
          9.590861320495605,
          -0.05779050663113594,
          1.5905933380126953,
          8.337325096130371,
          7.947447299957275,
          0.3605329096317291,
          11.185054779052734,
          8.540328979492188,
          1.6866533756256104,
          3.558183193206787,
          -0.35215479135513306,
          4.4360270500183105,
          4.096827983856201,
          8.552351951599121,
          6.043095111846924,
          9.764418601989746,
          5.939806938171387,
          10.070428848266602,
          8.1646728515625,
          4.173243999481201,
          2.864901542663574,
          9.040889739990234,
          -0.5145029425621033,
          8.563247680664062,
          8.482217788696289,
          1.3232226371765137,
          5.2961273193359375,
          4.1469011306762695,
          6.385809421539307,
          0.8622691631317139,
          6.0563554763793945,
          10.9094877243042,
          5.298413276672363,
          8.666319847106934,
          8.220860481262207,
          8.888486862182617,
          8.8881196975708,
          8.777790069580078,
          8.232954978942871,
          9.325563430786133,
          4.963783264160156,
          3.2442126274108887,
          3.7849063873291016,
          9.003485679626465,
          1.3818168640136719,
          10.51870059967041,
          9.023722648620605,
          -0.22279971837997437,
          4.877854824066162,
          2.8761563301086426,
          1.4854285717010498,
          5.242483139038086,
          4.254859447479248,
          9.062332153320312,
          1.3710861206054688,
          3.2405097484588623,
          -0.2538120746612549,
          1.9039796590805054,
          5.270242691040039,
          11.266982078552246,
          1.4552702903747559,
          6.7257466316223145,
          1.869645357131958,
          8.88831615447998,
          0.47873055934906006,
          2.0754306316375732,
          6.630093574523926,
          9.027201652526855,
          0.09760459512472153,
          6.904395580291748,
          1.5130231380462646,
          9.061779975891113,
          7.754549026489258,
          7.525894641876221,
          2.2551794052124023,
          6.742912769317627,
          9.889815330505371,
          8.471003532409668,
          6.0824294090271,
          2.6680984497070312,
          4.539302825927734,
          9.088948249816895,
          9.046441078186035,
          0.4176494777202606,
          5.341029644012451,
          5.775215148925781,
          2.4071173667907715,
          7.386147975921631,
          8.154559135437012,
          3.6349830627441406,
          1.9086668491363525,
          8.273724555969238,
          0.04299516975879669,
          6.100551128387451,
          6.4904255867004395,
          1.0578978061676025,
          4.252206802368164,
          8.676547050476074,
          1.8477851152420044,
          8.95485782623291,
          2.4910969734191895,
          8.836091995239258,
          2.9082515239715576,
          9.082258224487305,
          10.55854606628418,
          4.392761707305908,
          8.927990913391113,
          2.5226762294769287,
          2.3324053287506104,
          4.5550456047058105,
          0.7654339671134949,
          6.222074508666992,
          5.283993244171143,
          3.875380277633667,
          5.332217693328857,
          9.500307083129883,
          -0.25349804759025574,
          3.5140838623046875,
          3.473083019256592,
          11.21065616607666,
          0.12815333902835846,
          4.0283427238464355,
          0.7020642161369324,
          5.616696357727051,
          7.891436576843262,
          3.1759912967681885,
          8.301691055297852,
          3.390472412109375,
          8.698006629943848,
          0.5049567222595215,
          10.169292449951172,
          9.877623558044434,
          6.301950454711914,
          6.287056922912598,
          4.15281343460083,
          8.915633201599121,
          8.500700950622559,
          1.1981406211853027,
          3.9155657291412354,
          5.483229160308838,
          1.5961153507232666,
          3.5796608924865723,
          5.998107433319092,
          8.137364387512207,
          6.1026291847229,
          7.025642395019531,
          5.139284610748291,
          9.02530574798584,
          2.667814016342163,
          5.991825103759766,
          6.3348541259765625,
          4.303829193115234,
          1.9599554538726807,
          1.5122815370559692,
          0.49074220657348633,
          4.4205451011657715,
          9.399975776672363,
          9.560261726379395,
          -0.05353809520602226,
          4.93418550491333,
          1.4889326095581055,
          10.01218318939209,
          4.4055705070495605,
          10.486907958984375,
          9.677838325500488,
          8.542783737182617,
          4.664806365966797,
          6.2541961669921875,
          5.278306007385254,
          7.130823135375977,
          9.868768692016602,
          2.7972660064697266,
          1.6128500699996948,
          1.8982106447219849,
          9.1333646774292,
          1.7540351152420044,
          9.360142707824707,
          0.4643840491771698,
          1.4272174835205078,
          6.18263578414917,
          4.322465419769287,
          8.520889282226562,
          8.272985458374023,
          8.571650505065918,
          8.371259689331055,
          5.556228160858154,
          3.654493570327759,
          1.811799168586731,
          1.5324771404266357,
          5.13488245010376,
          4.909402847290039,
          4.363555908203125,
          7.571323394775391,
          0.7990431785583496,
          0.07540858536958694,
          2.393052339553833,
          1.3180259466171265,
          0.4895978271961212,
          5.060626029968262,
          5.058218955993652,
          0.8309659361839294,
          3.772472620010376,
          0.4098413288593292,
          9.959094047546387,
          6.380271911621094,
          8.43255615234375,
          8.785158157348633,
          0.12615709006786346,
          6.011772155761719,
          2.733100175857544,
          2.6213932037353516,
          9.399699211120605,
          6.204718112945557,
          3.0458545684814453,
          4.4754157066345215,
          0.2723785638809204,
          4.055722236633301,
          1.6859886646270752,
          3.6787631511688232,
          0.09870582818984985,
          8.115625381469727,
          9.370469093322754,
          1.4775655269622803,
          8.640594482421875,
          0.7989921569824219,
          8.576517105102539,
          7.861708641052246,
          6.211272716522217,
          0.624693751335144,
          3.8575496673583984,
          7.257943153381348,
          2.949704885482788,
          -0.4305242598056793,
          7.908169746398926,
          9.489361763000488,
          -0.003762120846658945,
          8.824566841125488,
          4.084885597229004,
          4.740084648132324,
          9.746828079223633,
          5.195190906524658,
          9.919936180114746,
          3.00538969039917,
          9.08773136138916,
          6.232392311096191,
          1.3856136798858643,
          0.4682462811470032,
          5.066312313079834,
          1.6553633213043213,
          8.847663879394531,
          4.5842461585998535,
          4.230741500854492,
          1.8165550231933594,
          7.165625095367432,
          4.959911346435547,
          9.911434173583984,
          1.504550814628601,
          4.474512100219727,
          8.495452880859375,
          9.931622505187988,
          2.5061490535736084,
          5.446058750152588,
          8.715140342712402,
          3.6412112712860107,
          8.9946928024292,
          7.162468910217285,
          8.621541023254395,
          7.9789814949035645,
          6.0277018547058105,
          9.071674346923828,
          1.3786711692810059,
          1.1726394891738892,
          5.687788963317871,
          -0.05770866572856903,
          4.814675331115723,
          8.611685752868652,
          2.5564839839935303,
          9.588892936706543,
          2.9062438011169434,
          2.9375765323638916,
          5.256311416625977,
          8.376121520996094,
          8.537217140197754,
          9.266106605529785,
          6.789878845214844,
          8.42757797241211,
          9.589052200317383,
          5.715141773223877,
          8.707926750183105,
          11.283564567565918,
          5.864413738250732,
          0.7690025568008423,
          5.815042495727539,
          0.4394044280052185,
          2.8572795391082764,
          1.7125401496887207,
          8.860603332519531,
          6.185523986816406,
          8.497283935546875,
          -0.011663069017231464,
          1.4823169708251953,
          9.121384620666504,
          1.040239930152893,
          0.5205007195472717,
          4.126011848449707,
          9.827387809753418,
          0.5833110213279724,
          9.585092544555664,
          3.2373995780944824,
          6.392280101776123,
          3.9320127964019775,
          1.7985986471176147,
          11.297062873840332,
          9.326141357421875,
          1.050976276397705,
          5.922569751739502,
          0.5038936138153076,
          8.66779613494873,
          8.854918479919434,
          7.569675445556641,
          8.71497917175293,
          9.089032173156738,
          8.884052276611328,
          8.810349464416504,
          8.584762573242188,
          8.759232521057129,
          5.375331401824951,
          8.589151382446289,
          4.983884334564209,
          7.033661365509033,
          4.78177547454834,
          3.53475284576416,
          8.187339782714844,
          3.766500949859619,
          8.886414527893066,
          0.8911909461021423,
          9.209959030151367,
          0.46147042512893677,
          5.112400054931641,
          4.881662845611572,
          3.5585503578186035,
          7.270344257354736,
          7.4784321784973145,
          3.208345890045166,
          5.114207744598389,
          2.5611965656280518,
          -0.5569528341293335,
          5.345398902893066,
          3.6635591983795166,
          8.916927337646484,
          1.3041856288909912,
          4.511231899261475,
          2.525883674621582,
          -0.5614286065101624,
          9.568307876586914,
          1.1071385145187378,
          0.03086894191801548,
          1.1867693662643433,
          0.5178530812263489,
          1.725454330444336,
          0.01614319533109665,
          4.037097930908203,
          9.728094100952148,
          0.03104577586054802,
          11.217798233032227,
          5.625102996826172,
          8.337333679199219,
          8.900900840759277,
          6.293563365936279,
          2.7029972076416016,
          9.920313835144043,
          4.174696445465088,
          4.420051097869873,
          1.8782105445861816,
          -0.5189803838729858,
          11.183192253112793,
          0.7086218595504761,
          7.911045074462891,
          0.8826794624328613,
          3.9202966690063477,
          0.9259899854660034,
          0.8112176060676575,
          4.950093746185303,
          8.397440910339355,
          9.237591743469238,
          7.687914848327637,
          0.3960478901863098,
          8.906543731689453,
          8.545670509338379,
          2.40476131439209,
          11.305554389953613,
          6.809562683105469,
          0.6187300682067871,
          4.930699825286865,
          8.252435684204102,
          9.080679893493652,
          4.2242536544799805,
          4.203248977661133,
          3.966623544692993,
          3.9971179962158203,
          3.701643943786621,
          0.35495808720588684,
          3.1945533752441406,
          4.428664684295654,
          7.7635884284973145,
          0.8932406306266785,
          1.8242355585098267,
          7.587399482727051,
          6.054581165313721,
          5.598260879516602,
          2.617994785308838,
          3.6220462322235107,
          9.788277626037598,
          0.08328995108604431,
          11.135604858398438,
          4.9078545570373535,
          8.650762557983398,
          1.8782373666763306,
          5.138088226318359,
          6.904779434204102,
          8.75605583190918,
          3.4665722846984863,
          -0.38932639360427856,
          -0.3262796103954315,
          4.347157001495361,
          0.46998122334480286,
          5.041516304016113,
          2.3844082355499268,
          1.4137684106826782,
          4.8458733558654785,
          9.903855323791504,
          8.777158737182617,
          3.719419240951538,
          0.2974638044834137,
          9.216306686401367,
          9.304300308227539,
          5.341712474822998,
          2.7292520999908447,
          4.128412246704102,
          1.4517930746078491,
          8.513228416442871,
          2.6345055103302,
          9.397433280944824,
          9.127212524414062,
          4.128674507141113,
          2.0933454036712646,
          4.504039764404297,
          11.187891960144043,
          1.948104977607727,
          5.4137043952941895,
          1.0961565971374512,
          9.927414894104004,
          8.592618942260742,
          4.46257209777832,
          3.1683719158172607,
          6.010114669799805,
          8.713687896728516,
          8.242464065551758,
          1.5209786891937256,
          3.0220136642456055,
          0.15088191628456116,
          1.9225273132324219,
          1.5944768190383911,
          11.190922737121582,
          5.129072189331055,
          5.070949554443359,
          0.7238367795944214,
          4.482912063598633,
          8.03463077545166,
          7.4776716232299805,
          5.728768825531006,
          5.616883754730225,
          2.6028530597686768,
          8.482938766479492,
          5.183937072753906,
          4.5953826904296875,
          5.720661163330078,
          5.343916416168213,
          2.7271342277526855,
          8.868170738220215,
          2.5373764038085938,
          11.270659446716309,
          3.5093727111816406,
          5.4592390060424805,
          5.726774215698242,
          1.4601690769195557,
          2.7734076976776123,
          8.096506118774414,
          11.29142951965332,
          4.965953350067139,
          2.710987091064453,
          0.4554244875907898,
          9.2161226272583,
          9.543112754821777,
          8.637308120727539,
          11.30909252166748,
          8.32867431640625,
          6.494701862335205,
          4.268979072570801,
          5.058234691619873,
          2.9572951793670654,
          4.594158172607422,
          1.856440782546997,
          1.2199727296829224,
          6.033059120178223,
          1.0404266119003296,
          3.811285972595215,
          0.01967448741197586,
          8.478373527526855,
          0.11405850201845169,
          3.905310869216919,
          11.29317855834961,
          7.710275173187256,
          9.298964500427246,
          7.172817707061768,
          5.67019510269165,
          6.25814151763916,
          2.59179425239563,
          2.689075469970703,
          7.443396091461182,
          4.461443901062012,
          6.5774054527282715,
          3.9258511066436768,
          4.964054107666016,
          6.552525520324707,
          2.2539663314819336,
          8.670193672180176,
          7.390521049499512,
          8.72752571105957,
          8.690573692321777,
          0.9505740404129028,
          5.38704252243042,
          6.348227024078369,
          4.953256607055664,
          4.297373294830322,
          4.436603546142578,
          4.017935752868652,
          5.026760101318359,
          7.527824878692627,
          5.0654401779174805,
          0.24838146567344666,
          9.848583221435547,
          0.9455795884132385,
          1.8253048658370972,
          4.222162246704102,
          8.13369083404541,
          -0.054445914924144745,
          4.290383338928223,
          2.7052369117736816,
          4.253440856933594,
          1.3279801607131958,
          9.220601081848145,
          0.8141155242919922,
          5.164731502532959,
          10.477371215820312,
          1.7860714197158813,
          9.002099990844727,
          8.635612487792969,
          2.7540011405944824,
          -0.34044012427330017,
          5.5042805671691895,
          10.1256103515625,
          2.880282163619995,
          4.48354434967041,
          1.8391249179840088,
          5.111613750457764,
          8.368742942810059,
          7.947208404541016,
          3.7124924659729004,
          9.677627563476562,
          7.7392706871032715,
          5.409512519836426,
          2.289863109588623,
          3.240943193435669,
          2.7217459678649902,
          8.49714183807373,
          3.574531316757202,
          6.592505931854248,
          9.762505531311035,
          9.246397018432617,
          1.3901951313018799,
          7.417264938354492,
          0.3983326554298401,
          1.9990158081054688,
          0.09615059196949005,
          1.540893316268921,
          4.133302211761475,
          9.034690856933594,
          5.073317050933838,
          6.0999932289123535,
          3.608997106552124,
          7.151139259338379,
          4.438787937164307,
          4.313849925994873,
          10.837174415588379,
          3.888705015182495,
          3.789809465408325,
          3.590561628341675,
          8.576875686645508,
          9.575349807739258,
          9.793777465820312,
          9.7142915725708,
          4.3559746742248535,
          10.410890579223633,
          3.978377103805542,
          10.049043655395508,
          7.2846503257751465,
          3.2136054039001465,
          9.411112785339355,
          3.534207344055176,
          2.590695858001709,
          3.0612497329711914,
          1.8163930177688599,
          5.138893127441406,
          11.199196815490723,
          1.742807149887085,
          4.894596576690674,
          4.384425163269043,
          1.8659592866897583,
          6.9602813720703125,
          9.542036056518555,
          5.460505485534668,
          5.133335113525391,
          7.278433799743652,
          7.916680335998535,
          4.167078495025635,
          0.4378840923309326,
          9.426657676696777,
          8.67233943939209,
          9.880191802978516,
          2.3652071952819824,
          4.859746932983398,
          1.5373424291610718,
          4.576826572418213,
          9.759710311889648,
          9.3668851852417,
          3.752840995788574,
          4.841429233551025,
          8.99669361114502,
          4.127695560455322,
          8.110089302062988,
          5.356802940368652,
          1.3719627857208252,
          11.296278953552246,
          8.02311897277832,
          0.9588790535926819,
          4.743875026702881,
          4.233277320861816,
          1.000760793685913,
          0.12113851308822632,
          8.672639846801758
         ],
         "yaxis": "y"
        }
       ],
       "layout": {
        "coloraxis": {
         "colorbar": {
          "title": {
           "text": "Anomaly"
          }
         },
         "colorscale": [
          [
           0,
           "#0d0887"
          ],
          [
           0.1111111111111111,
           "#46039f"
          ],
          [
           0.2222222222222222,
           "#7201a8"
          ],
          [
           0.3333333333333333,
           "#9c179e"
          ],
          [
           0.4444444444444444,
           "#bd3786"
          ],
          [
           0.5555555555555556,
           "#d8576b"
          ],
          [
           0.6666666666666666,
           "#ed7953"
          ],
          [
           0.7777777777777778,
           "#fb9f3a"
          ],
          [
           0.8888888888888888,
           "#fdca26"
          ],
          [
           1,
           "#f0f921"
          ]
         ]
        },
        "height": 800,
        "legend": {
         "tracegroupgap": 0
        },
        "template": {
         "data": {
          "bar": [
           {
            "error_x": {
             "color": "#2a3f5f"
            },
            "error_y": {
             "color": "#2a3f5f"
            },
            "marker": {
             "line": {
              "color": "#E5ECF6",
              "width": 0.5
             },
             "pattern": {
              "fillmode": "overlay",
              "size": 10,
              "solidity": 0.2
             }
            },
            "type": "bar"
           }
          ],
          "barpolar": [
           {
            "marker": {
             "line": {
              "color": "#E5ECF6",
              "width": 0.5
             },
             "pattern": {
              "fillmode": "overlay",
              "size": 10,
              "solidity": 0.2
             }
            },
            "type": "barpolar"
           }
          ],
          "carpet": [
           {
            "aaxis": {
             "endlinecolor": "#2a3f5f",
             "gridcolor": "white",
             "linecolor": "white",
             "minorgridcolor": "white",
             "startlinecolor": "#2a3f5f"
            },
            "baxis": {
             "endlinecolor": "#2a3f5f",
             "gridcolor": "white",
             "linecolor": "white",
             "minorgridcolor": "white",
             "startlinecolor": "#2a3f5f"
            },
            "type": "carpet"
           }
          ],
          "choropleth": [
           {
            "colorbar": {
             "outlinewidth": 0,
             "ticks": ""
            },
            "type": "choropleth"
           }
          ],
          "contour": [
           {
            "colorbar": {
             "outlinewidth": 0,
             "ticks": ""
            },
            "colorscale": [
             [
              0,
              "#0d0887"
             ],
             [
              0.1111111111111111,
              "#46039f"
             ],
             [
              0.2222222222222222,
              "#7201a8"
             ],
             [
              0.3333333333333333,
              "#9c179e"
             ],
             [
              0.4444444444444444,
              "#bd3786"
             ],
             [
              0.5555555555555556,
              "#d8576b"
             ],
             [
              0.6666666666666666,
              "#ed7953"
             ],
             [
              0.7777777777777778,
              "#fb9f3a"
             ],
             [
              0.8888888888888888,
              "#fdca26"
             ],
             [
              1,
              "#f0f921"
             ]
            ],
            "type": "contour"
           }
          ],
          "contourcarpet": [
           {
            "colorbar": {
             "outlinewidth": 0,
             "ticks": ""
            },
            "type": "contourcarpet"
           }
          ],
          "heatmap": [
           {
            "colorbar": {
             "outlinewidth": 0,
             "ticks": ""
            },
            "colorscale": [
             [
              0,
              "#0d0887"
             ],
             [
              0.1111111111111111,
              "#46039f"
             ],
             [
              0.2222222222222222,
              "#7201a8"
             ],
             [
              0.3333333333333333,
              "#9c179e"
             ],
             [
              0.4444444444444444,
              "#bd3786"
             ],
             [
              0.5555555555555556,
              "#d8576b"
             ],
             [
              0.6666666666666666,
              "#ed7953"
             ],
             [
              0.7777777777777778,
              "#fb9f3a"
             ],
             [
              0.8888888888888888,
              "#fdca26"
             ],
             [
              1,
              "#f0f921"
             ]
            ],
            "type": "heatmap"
           }
          ],
          "heatmapgl": [
           {
            "colorbar": {
             "outlinewidth": 0,
             "ticks": ""
            },
            "colorscale": [
             [
              0,
              "#0d0887"
             ],
             [
              0.1111111111111111,
              "#46039f"
             ],
             [
              0.2222222222222222,
              "#7201a8"
             ],
             [
              0.3333333333333333,
              "#9c179e"
             ],
             [
              0.4444444444444444,
              "#bd3786"
             ],
             [
              0.5555555555555556,
              "#d8576b"
             ],
             [
              0.6666666666666666,
              "#ed7953"
             ],
             [
              0.7777777777777778,
              "#fb9f3a"
             ],
             [
              0.8888888888888888,
              "#fdca26"
             ],
             [
              1,
              "#f0f921"
             ]
            ],
            "type": "heatmapgl"
           }
          ],
          "histogram": [
           {
            "marker": {
             "pattern": {
              "fillmode": "overlay",
              "size": 10,
              "solidity": 0.2
             }
            },
            "type": "histogram"
           }
          ],
          "histogram2d": [
           {
            "colorbar": {
             "outlinewidth": 0,
             "ticks": ""
            },
            "colorscale": [
             [
              0,
              "#0d0887"
             ],
             [
              0.1111111111111111,
              "#46039f"
             ],
             [
              0.2222222222222222,
              "#7201a8"
             ],
             [
              0.3333333333333333,
              "#9c179e"
             ],
             [
              0.4444444444444444,
              "#bd3786"
             ],
             [
              0.5555555555555556,
              "#d8576b"
             ],
             [
              0.6666666666666666,
              "#ed7953"
             ],
             [
              0.7777777777777778,
              "#fb9f3a"
             ],
             [
              0.8888888888888888,
              "#fdca26"
             ],
             [
              1,
              "#f0f921"
             ]
            ],
            "type": "histogram2d"
           }
          ],
          "histogram2dcontour": [
           {
            "colorbar": {
             "outlinewidth": 0,
             "ticks": ""
            },
            "colorscale": [
             [
              0,
              "#0d0887"
             ],
             [
              0.1111111111111111,
              "#46039f"
             ],
             [
              0.2222222222222222,
              "#7201a8"
             ],
             [
              0.3333333333333333,
              "#9c179e"
             ],
             [
              0.4444444444444444,
              "#bd3786"
             ],
             [
              0.5555555555555556,
              "#d8576b"
             ],
             [
              0.6666666666666666,
              "#ed7953"
             ],
             [
              0.7777777777777778,
              "#fb9f3a"
             ],
             [
              0.8888888888888888,
              "#fdca26"
             ],
             [
              1,
              "#f0f921"
             ]
            ],
            "type": "histogram2dcontour"
           }
          ],
          "mesh3d": [
           {
            "colorbar": {
             "outlinewidth": 0,
             "ticks": ""
            },
            "type": "mesh3d"
           }
          ],
          "parcoords": [
           {
            "line": {
             "colorbar": {
              "outlinewidth": 0,
              "ticks": ""
             }
            },
            "type": "parcoords"
           }
          ],
          "pie": [
           {
            "automargin": true,
            "type": "pie"
           }
          ],
          "scatter": [
           {
            "fillpattern": {
             "fillmode": "overlay",
             "size": 10,
             "solidity": 0.2
            },
            "type": "scatter"
           }
          ],
          "scatter3d": [
           {
            "line": {
             "colorbar": {
              "outlinewidth": 0,
              "ticks": ""
             }
            },
            "marker": {
             "colorbar": {
              "outlinewidth": 0,
              "ticks": ""
             }
            },
            "type": "scatter3d"
           }
          ],
          "scattercarpet": [
           {
            "marker": {
             "colorbar": {
              "outlinewidth": 0,
              "ticks": ""
             }
            },
            "type": "scattercarpet"
           }
          ],
          "scattergeo": [
           {
            "marker": {
             "colorbar": {
              "outlinewidth": 0,
              "ticks": ""
             }
            },
            "type": "scattergeo"
           }
          ],
          "scattergl": [
           {
            "marker": {
             "colorbar": {
              "outlinewidth": 0,
              "ticks": ""
             }
            },
            "type": "scattergl"
           }
          ],
          "scattermapbox": [
           {
            "marker": {
             "colorbar": {
              "outlinewidth": 0,
              "ticks": ""
             }
            },
            "type": "scattermapbox"
           }
          ],
          "scatterpolar": [
           {
            "marker": {
             "colorbar": {
              "outlinewidth": 0,
              "ticks": ""
             }
            },
            "type": "scatterpolar"
           }
          ],
          "scatterpolargl": [
           {
            "marker": {
             "colorbar": {
              "outlinewidth": 0,
              "ticks": ""
             }
            },
            "type": "scatterpolargl"
           }
          ],
          "scatterternary": [
           {
            "marker": {
             "colorbar": {
              "outlinewidth": 0,
              "ticks": ""
             }
            },
            "type": "scatterternary"
           }
          ],
          "surface": [
           {
            "colorbar": {
             "outlinewidth": 0,
             "ticks": ""
            },
            "colorscale": [
             [
              0,
              "#0d0887"
             ],
             [
              0.1111111111111111,
              "#46039f"
             ],
             [
              0.2222222222222222,
              "#7201a8"
             ],
             [
              0.3333333333333333,
              "#9c179e"
             ],
             [
              0.4444444444444444,
              "#bd3786"
             ],
             [
              0.5555555555555556,
              "#d8576b"
             ],
             [
              0.6666666666666666,
              "#ed7953"
             ],
             [
              0.7777777777777778,
              "#fb9f3a"
             ],
             [
              0.8888888888888888,
              "#fdca26"
             ],
             [
              1,
              "#f0f921"
             ]
            ],
            "type": "surface"
           }
          ],
          "table": [
           {
            "cells": {
             "fill": {
              "color": "#EBF0F8"
             },
             "line": {
              "color": "white"
             }
            },
            "header": {
             "fill": {
              "color": "#C8D4E3"
             },
             "line": {
              "color": "white"
             }
            },
            "type": "table"
           }
          ]
         },
         "layout": {
          "annotationdefaults": {
           "arrowcolor": "#2a3f5f",
           "arrowhead": 0,
           "arrowwidth": 1
          },
          "autotypenumbers": "strict",
          "coloraxis": {
           "colorbar": {
            "outlinewidth": 0,
            "ticks": ""
           }
          },
          "colorscale": {
           "diverging": [
            [
             0,
             "#8e0152"
            ],
            [
             0.1,
             "#c51b7d"
            ],
            [
             0.2,
             "#de77ae"
            ],
            [
             0.3,
             "#f1b6da"
            ],
            [
             0.4,
             "#fde0ef"
            ],
            [
             0.5,
             "#f7f7f7"
            ],
            [
             0.6,
             "#e6f5d0"
            ],
            [
             0.7,
             "#b8e186"
            ],
            [
             0.8,
             "#7fbc41"
            ],
            [
             0.9,
             "#4d9221"
            ],
            [
             1,
             "#276419"
            ]
           ],
           "sequential": [
            [
             0,
             "#0d0887"
            ],
            [
             0.1111111111111111,
             "#46039f"
            ],
            [
             0.2222222222222222,
             "#7201a8"
            ],
            [
             0.3333333333333333,
             "#9c179e"
            ],
            [
             0.4444444444444444,
             "#bd3786"
            ],
            [
             0.5555555555555556,
             "#d8576b"
            ],
            [
             0.6666666666666666,
             "#ed7953"
            ],
            [
             0.7777777777777778,
             "#fb9f3a"
            ],
            [
             0.8888888888888888,
             "#fdca26"
            ],
            [
             1,
             "#f0f921"
            ]
           ],
           "sequentialminus": [
            [
             0,
             "#0d0887"
            ],
            [
             0.1111111111111111,
             "#46039f"
            ],
            [
             0.2222222222222222,
             "#7201a8"
            ],
            [
             0.3333333333333333,
             "#9c179e"
            ],
            [
             0.4444444444444444,
             "#bd3786"
            ],
            [
             0.5555555555555556,
             "#d8576b"
            ],
            [
             0.6666666666666666,
             "#ed7953"
            ],
            [
             0.7777777777777778,
             "#fb9f3a"
            ],
            [
             0.8888888888888888,
             "#fdca26"
            ],
            [
             1,
             "#f0f921"
            ]
           ]
          },
          "colorway": [
           "#636efa",
           "#EF553B",
           "#00cc96",
           "#ab63fa",
           "#FFA15A",
           "#19d3f3",
           "#FF6692",
           "#B6E880",
           "#FF97FF",
           "#FECB52"
          ],
          "font": {
           "color": "#2a3f5f"
          },
          "geo": {
           "bgcolor": "white",
           "lakecolor": "white",
           "landcolor": "#E5ECF6",
           "showlakes": true,
           "showland": true,
           "subunitcolor": "white"
          },
          "hoverlabel": {
           "align": "left"
          },
          "hovermode": "closest",
          "mapbox": {
           "style": "light"
          },
          "paper_bgcolor": "white",
          "plot_bgcolor": "#E5ECF6",
          "polar": {
           "angularaxis": {
            "gridcolor": "white",
            "linecolor": "white",
            "ticks": ""
           },
           "bgcolor": "#E5ECF6",
           "radialaxis": {
            "gridcolor": "white",
            "linecolor": "white",
            "ticks": ""
           }
          },
          "scene": {
           "xaxis": {
            "backgroundcolor": "#E5ECF6",
            "gridcolor": "white",
            "gridwidth": 2,
            "linecolor": "white",
            "showbackground": true,
            "ticks": "",
            "zerolinecolor": "white"
           },
           "yaxis": {
            "backgroundcolor": "#E5ECF6",
            "gridcolor": "white",
            "gridwidth": 2,
            "linecolor": "white",
            "showbackground": true,
            "ticks": "",
            "zerolinecolor": "white"
           },
           "zaxis": {
            "backgroundcolor": "#E5ECF6",
            "gridcolor": "white",
            "gridwidth": 2,
            "linecolor": "white",
            "showbackground": true,
            "ticks": "",
            "zerolinecolor": "white"
           }
          },
          "shapedefaults": {
           "line": {
            "color": "#2a3f5f"
           }
          },
          "ternary": {
           "aaxis": {
            "gridcolor": "white",
            "linecolor": "white",
            "ticks": ""
           },
           "baxis": {
            "gridcolor": "white",
            "linecolor": "white",
            "ticks": ""
           },
           "bgcolor": "#E5ECF6",
           "caxis": {
            "gridcolor": "white",
            "linecolor": "white",
            "ticks": ""
           }
          },
          "title": {
           "x": 0.05
          },
          "xaxis": {
           "automargin": true,
           "gridcolor": "white",
           "linecolor": "white",
           "ticks": "",
           "title": {
            "standoff": 15
           },
           "zerolinecolor": "white",
           "zerolinewidth": 2
          },
          "yaxis": {
           "automargin": true,
           "gridcolor": "white",
           "linecolor": "white",
           "ticks": "",
           "title": {
            "standoff": 15
           },
           "zerolinecolor": "white",
           "zerolinewidth": 2
          }
         }
        },
        "title": {
         "text": "uMAP Plot for Outliers"
        },
        "width": 900,
        "xaxis": {
         "anchor": "y",
         "autorange": true,
         "domain": [
          0,
          1
         ],
         "range": [
          -0.20757703313492293,
          14.496572358700261
         ],
         "title": {
          "text": "0"
         },
         "type": "linear"
        },
        "yaxis": {
         "anchor": "x",
         "autorange": true,
         "domain": [
          0,
          1
         ],
         "range": [
          -1.344893241556637,
          12.116080070169918
         ],
         "title": {
          "text": "1"
         },
         "type": "linear"
        }
       }
      },
      "image/png": "[encoded data removed]",
      "text/html": [
       "<div>                            <div id=\"77a321a7-5af3-4f75-92b4-76e0d163fec5\" class=\"plotly-graph-div\" style=\"height:800px; width:900px;\"></div>            <script type=\"text/javascript\">                require([\"plotly\"], function(Plotly) {                    window.PLOTLYENV=window.PLOTLYENV || {};                                    if (document.getElementById(\"77a321a7-5af3-4f75-92b4-76e0d163fec5\")) {                    Plotly.newPlot(                        \"77a321a7-5af3-4f75-92b4-76e0d163fec5\",                        [{\"customdata\":[[50.0],[116.0],[32.0],[49.0],[32.0],[32.0],[32.0],[48.0],[50.0],[48.0],[48.0],[47.0],[101.0],[32.0],[32.0],[52.0],[47.0],[99.0],[32.0],[48.0],[32.0],[32.0],[9.0],[32.0],[114.0],[106.0],[65.0],[32.0],[32.0],[62.0],[32.0],[32.0],[121.0],[9.0],[32.0],[32.0],[32.0],[32.0],[32.0],[111.0],[32.0],[112.0],[48.0],[101.0],[92.0],[32.0],[102.0],[32.0],[32.0],[32.0],[82.0],[32.0],[32.0],[32.0],[100.0],[32.0],[119.0],[32.0],[32.0],[32.0],[32.0],[32.0],[49.0],[32.0],[10.0],[32.0],[48.0],[91.0],[32.0],[114.0],[32.0],[53.0],[116.0],[116.0],[32.0],[32.0],[32.0],[32.0],[115.0],[112.0],[10.0],[32.0],[91.0],[101.0],[32.0],[67.0],[105.0],[32.0],[84.0],[32.0],[41.0],[48.0],[10.0],[32.0],[112.0],[32.0],[10.0],[32.0],[117.0],[32.0],[32.0],[32.0],[47.0],[47.0],[111.0],[10.0],[9.0],[84.0],[114.0],[32.0],[32.0],[32.0],[111.0],[32.0],[32.0],[47.0],[48.0],[62.0],[111.0],[32.0],[32.0],[32.0],[32.0],[47.0],[32.0],[106.0],[83.0],[9.0],[49.0],[10.0],[32.0],[32.0],[48.0],[80.0],[32.0],[101.0],[48.0],[84.0],[115.0],[32.0],[48.0],[32.0],[102.0],[101.0],[32.0],[32.0],[32.0],[116.0],[32.0],[32.0],[32.0],[48.0],[10.0],[32.0],[45.0],[105.0],[32.0],[32.0],[62.0],[32.0],[32.0],[97.0],[101.0],[62.0],[48.0],[32.0],[32.0],[32.0],[32.0],[60.0],[110.0],[32.0],[32.0],[32.0],[101.0],[10.0],[49.0],[32.0],[121.0],[32.0],[49.0],[32.0],[32.0],[9.0],[48.0],[99.0],[32.0],[10.0],[32.0],[32.0],[32.0],[32.0],[83.0],[32.0],[110.0],[32.0],[37.0],[9.0],[99.0],[101.0],[111.0],[10.0],[48.0],[101.0],[32.0],[82.0],[32.0],[48.0],[32.0],[32.0],[32.0],[110.0],[62.0],[114.0],[32.0],[50.0],[32.0],[80.0],[98.0],[32.0],[9.0],[9.0],[32.0],[32.0],[46.0],[32.0],[116.0],[32.0],[32.0],[111.0],[32.0],[32.0],[62.0],[32.0],[82.0],[47.0],[32.0],[117.0],[32.0],[32.0],[47.0],[9.0],[32.0],[51.0],[47.0],[32.0],[82.0],[110.0],[110.0],[48.0],[103.0],[47.0],[9.0],[32.0],[48.0],[32.0],[32.0],[46.0],[70.0],[111.0],[57.0],[32.0],[32.0],[32.0],[10.0],[32.0],[80.0],[110.0],[52.0],[110.0],[9.0],[32.0],[109.0],[110.0],[32.0],[32.0],[83.0],[48.0],[10.0],[32.0],[32.0],[101.0],[110.0],[32.0],[32.0],[32.0],[32.0],[32.0],[32.0],[32.0],[48.0],[100.0],[106.0],[62.0],[9.0],[48.0],[32.0],[32.0],[49.0],[112.0],[101.0],[111.0],[110.0],[60.0],[48.0],[111.0],[70.0],[48.0],[101.0],[10.0],[116.0],[48.0],[32.0],[32.0],[32.0],[115.0],[32.0],[48.0],[9.0],[100.0],[84.0],[10.0],[114.0],[91.0],[62.0],[32.0],[32.0],[9.0],[117.0],[9.0],[79.0],[48.0],[53.0],[32.0],[97.0],[48.0],[111.0],[10.0],[105.0],[93.0],[10.0],[62.0],[47.0],[69.0],[46.0],[10.0],[47.0],[32.0],[32.0],[32.0],[32.0],[49.0],[32.0],[121.0],[32.0],[32.0],[60.0],[32.0],[32.0],[55.0],[116.0],[114.0],[103.0],[32.0],[68.0],[10.0],[54.0],[66.0],[48.0],[114.0],[114.0],[32.0],[48.0],[98.0],[32.0],[115.0],[70.0],[32.0],[32.0],[32.0],[10.0],[77.0],[65.0],[32.0],[32.0],[32.0],[32.0],[110.0],[32.0],[32.0],[54.0],[62.0],[32.0],[103.0],[97.0],[9.0],[49.0],[32.0],[32.0],[9.0],[32.0],[48.0],[48.0],[32.0],[10.0],[32.0],[117.0],[85.0],[92.0],[97.0],[32.0],[32.0],[32.0],[47.0],[32.0],[121.0],[32.0],[32.0],[60.0],[32.0],[112.0],[100.0],[32.0],[92.0],[47.0],[108.0],[84.0],[115.0],[32.0],[32.0],[10.0],[48.0],[101.0],[115.0],[62.0],[32.0],[32.0],[32.0],[54.0],[32.0],[9.0],[55.0],[32.0],[32.0],[32.0],[115.0],[32.0],[48.0],[32.0],[101.0],[9.0],[97.0],[106.0],[110.0],[32.0],[32.0],[32.0],[48.0],[68.0],[115.0],[32.0],[104.0],[119.0],[103.0],[50.0],[32.0],[111.0],[32.0],[32.0],[32.0],[110.0],[32.0],[32.0],[32.0],[32.0],[10.0],[32.0],[10.0],[49.0],[110.0],[47.0],[102.0],[47.0],[9.0],[32.0],[32.0],[10.0],[112.0],[32.0],[32.0],[32.0],[32.0],[111.0],[98.0],[111.0],[32.0],[98.0],[32.0],[10.0],[60.0],[116.0],[53.0],[84.0],[83.0],[32.0],[98.0],[9.0],[32.0],[47.0],[32.0],[10.0],[9.0],[57.0],[32.0],[32.0],[32.0],[32.0],[106.0],[32.0],[32.0],[32.0],[32.0],[32.0],[9.0],[9.0],[32.0],[37.0],[97.0],[32.0],[111.0],[32.0],[52.0],[103.0],[48.0],[32.0],[116.0],[32.0],[32.0],[32.0],[48.0],[32.0],[111.0],[111.0],[32.0],[51.0],[9.0],[60.0],[97.0],[32.0],[32.0],[10.0],[32.0],[32.0],[117.0],[116.0],[32.0],[32.0],[32.0],[32.0],[110.0],[80.0],[32.0],[48.0],[49.0],[32.0],[92.0],[32.0],[48.0],[10.0],[54.0],[10.0],[32.0],[101.0],[9.0],[45.0],[122.0],[47.0],[111.0],[48.0],[9.0],[46.0],[70.0],[32.0],[32.0],[66.0],[32.0],[32.0],[32.0],[32.0],[32.0],[121.0],[48.0],[48.0],[9.0],[62.0],[32.0],[9.0],[60.0],[10.0],[108.0],[111.0],[92.0],[119.0],[9.0],[73.0],[70.0],[32.0],[9.0],[101.0],[32.0],[110.0],[101.0],[114.0],[84.0],[48.0],[97.0],[97.0],[32.0],[32.0],[32.0],[32.0],[110.0],[62.0],[32.0],[32.0],[10.0],[32.0],[32.0],[111.0],[10.0],[10.0],[32.0],[32.0],[105.0],[48.0],[32.0],[82.0],[32.0],[32.0],[32.0],[32.0],[32.0],[62.0],[32.0],[32.0],[114.0],[41.0],[32.0],[50.0],[97.0],[32.0],[10.0],[51.0],[32.0],[32.0],[32.0],[112.0],[95.0],[75.0],[70.0],[32.0],[32.0],[32.0],[32.0],[111.0],[9.0],[47.0],[48.0],[32.0],[49.0],[116.0],[32.0],[32.0],[32.0],[84.0],[32.0],[48.0],[111.0],[105.0],[32.0],[98.0],[32.0],[32.0],[32.0],[47.0],[32.0],[92.0],[10.0],[32.0],[48.0],[32.0],[32.0],[40.0],[106.0],[32.0],[70.0],[101.0],[10.0],[32.0],[82.0],[32.0],[32.0],[32.0],[82.0],[109.0],[62.0],[111.0],[48.0],[32.0],[105.0],[106.0],[32.0],[32.0],[49.0],[32.0],[32.0],[32.0],[49.0],[32.0],[67.0],[99.0],[62.0],[32.0],[32.0],[32.0],[82.0],[32.0],[51.0],[68.0],[32.0],[32.0],[80.0],[70.0],[48.0],[116.0],[32.0],[32.0],[10.0],[32.0],[32.0],[32.0],[32.0],[48.0],[32.0],[46.0],[32.0],[45.0],[32.0],[32.0],[32.0],[97.0],[32.0],[32.0],[48.0],[62.0],[32.0],[32.0],[60.0],[32.0],[32.0],[32.0],[32.0],[32.0],[116.0],[109.0],[32.0],[32.0],[101.0],[32.0],[32.0],[101.0],[52.0],[32.0],[60.0],[10.0],[116.0],[10.0],[32.0],[32.0],[48.0],[32.0],[60.0],[32.0],[48.0],[32.0],[97.0],[116.0],[101.0],[84.0],[115.0],[49.0],[101.0],[47.0],[32.0],[32.0],[48.0],[32.0],[99.0],[47.0],[48.0],[101.0],[32.0],[32.0],[32.0],[101.0],[115.0],[32.0],[98.0],[48.0],[32.0],[32.0],[32.0],[32.0],[57.0],[48.0],[47.0],[32.0],[32.0],[10.0],[32.0],[48.0],[32.0],[32.0],[32.0],[32.0],[32.0],[32.0],[9.0],[97.0],[32.0],[32.0],[49.0],[48.0],[120.0],[105.0],[32.0],[62.0],[55.0],[101.0],[32.0],[32.0],[32.0],[32.0],[111.0],[32.0],[32.0],[46.0],[71.0],[9.0],[32.0],[116.0],[48.0],[32.0],[93.0],[32.0],[32.0],[32.0],[100.0],[32.0],[120.0],[32.0],[114.0],[48.0],[32.0],[10.0],[9.0],[60.0],[32.0],[32.0],[32.0],[49.0],[32.0],[10.0],[82.0],[47.0],[53.0],[32.0],[60.0],[48.0],[32.0],[48.0],[9.0],[80.0],[32.0],[108.0],[106.0],[47.0],[9.0],[32.0],[32.0],[101.0],[32.0],[48.0],[32.0],[32.0],[114.0],[98.0],[32.0],[62.0],[32.0],[103.0],[62.0],[60.0],[32.0],[32.0],[32.0],[32.0],[32.0],[60.0],[100.0],[32.0],[46.0],[32.0],[32.0],[32.0],[47.0],[9.0],[62.0],[60.0],[118.0],[47.0],[32.0],[48.0],[32.0],[32.0],[32.0],[32.0],[62.0],[32.0],[32.0],[100.0],[10.0],[68.0],[98.0],[60.0],[48.0],[62.0],[48.0],[32.0],[115.0],[32.0],[110.0],[62.0],[47.0],[32.0],[106.0],[46.0],[32.0],[32.0],[48.0],[80.0],[32.0],[10.0],[51.0],[32.0],[100.0],[32.0],[32.0],[101.0],[60.0],[32.0],[32.0],[32.0],[79.0],[32.0],[52.0],[32.0],[102.0],[32.0],[10.0],[101.0],[32.0],[67.0],[32.0],[32.0],[32.0],[82.0],[32.0],[10.0],[32.0],[47.0],[9.0],[116.0],[32.0],[9.0],[48.0],[108.0],[116.0],[10.0],[48.0],[84.0],[32.0],[121.0],[116.0],[70.0],[98.0],[32.0],[48.0],[101.0],[110.0],[52.0],[101.0],[76.0],[10.0],[32.0],[32.0],[32.0],[103.0],[32.0],[32.0],[47.0],[32.0],[32.0],[10.0],[32.0],[53.0],[47.0],[101.0],[32.0],[32.0],[9.0],[32.0],[84.0],[32.0],[32.0],[32.0],[50.0],[10.0],[32.0],[32.0],[9.0],[84.0],[32.0],[84.0],[105.0],[47.0],[32.0],[65.0],[32.0],[9.0],[32.0],[32.0],[60.0],[106.0],[48.0],[97.0],[32.0],[48.0],[32.0],[10.0],[32.0],[32.0],[116.0],[60.0],[32.0],[114.0],[48.0],[115.0],[32.0],[32.0],[32.0],[49.0],[32.0],[60.0],[32.0],[32.0],[9.0],[62.0],[103.0],[9.0],[47.0],[10.0],[48.0],[10.0],[47.0],[32.0],[32.0],[40.0],[32.0],[32.0],[32.0],[32.0],[116.0],[114.0],[32.0],[120.0],[32.0],[60.0],[32.0],[109.0],[97.0],[32.0],[32.0],[80.0],[55.0],[101.0],[10.0],[32.0],[32.0],[121.0],[60.0],[111.0],[48.0],[116.0],[106.0],[32.0],[32.0],[48.0],[32.0],[32.0],[101.0],[32.0],[32.0],[48.0],[32.0],[32.0],[60.0]],\"hovertemplate\":\"0=%{x}<br>1=%{y}<br>Feature=%{customdata[0]}<br>Anomaly=%{marker.color}<extra></extra>\",\"legendgroup\":\"\",\"marker\":{\"color\":[0,0,0,0,0,0,0,0,1,0,0,0,0,0,0,0,0,0,0,0,0,0,0,0,0,0,0,0,0,0,0,0,0,0,0,0,0,0,0,0,0,0,0,1,0,0,0,0,0,0,0,0,0,0,1,0,0,0,0,0,0,0,0,0,0,0,0,0,0,0,0,0,0,0,0,0,0,0,0,0,0,0,0,0,0,0,0,0,0,0,0,0,0,0,0,0,0,0,1,0,0,0,0,1,0,0,0,0,0,0,0,0,0,0,0,0,0,0,0,0,0,0,0,0,0,0,0,0,0,0,0,0,0,1,0,0,0,0,0,0,0,0,0,0,0,0,0,0,0,0,0,0,0,0,0,0,0,0,0,0,0,1,0,0,0,0,0,0,0,0,0,0,0,0,0,0,0,0,0,0,0,0,0,0,0,0,0,0,0,0,0,0,0,0,0,0,0,0,0,0,1,1,0,0,0,0,0,0,0,0,0,0,0,0,0,1,0,0,1,0,0,0,0,0,0,0,0,0,0,0,0,0,1,0,0,0,0,0,0,0,0,0,0,0,0,0,0,0,1,0,0,0,0,0,0,0,0,0,0,0,0,0,0,0,1,0,0,0,0,0,0,0,0,0,0,0,0,0,0,0,0,0,0,0,0,0,0,0,0,0,0,0,1,0,0,0,0,0,0,0,0,0,0,0,0,0,0,0,0,0,0,0,0,0,0,0,0,0,0,0,0,0,0,0,0,0,0,0,0,0,0,0,0,0,0,1,0,0,0,1,0,0,0,0,0,0,1,0,0,0,0,0,0,0,0,0,0,0,0,0,0,0,0,0,0,0,0,0,0,0,0,0,0,0,0,0,0,0,0,0,0,1,0,0,0,0,0,0,0,0,0,0,0,1,0,0,0,0,0,0,0,0,0,0,0,0,0,0,0,0,0,0,0,0,0,0,0,0,0,0,0,1,0,0,0,0,0,0,0,0,0,0,1,0,0,0,0,0,0,0,0,0,0,0,0,1,0,0,0,0,0,0,1,0,0,0,0,0,0,0,0,0,0,0,0,0,1,0,0,0,0,0,0,0,0,0,0,0,0,0,0,0,0,0,0,0,0,1,0,0,0,0,0,0,0,0,0,0,0,0,0,0,0,0,0,1,0,0,0,0,0,0,0,0,0,0,0,0,0,0,0,0,0,0,0,0,0,0,0,0,0,0,0,0,0,1,0,0,0,0,0,0,0,0,0,0,0,0,0,0,0,0,0,1,0,0,0,0,0,0,0,0,0,0,0,0,0,0,0,0,1,0,0,0,0,0,0,0,0,0,0,0,0,0,0,0,0,0,0,0,0,0,0,0,0,0,0,0,0,0,0,0,0,0,0,0,0,0,0,0,0,0,0,0,0,0,0,0,0,0,0,0,1,0,0,0,0,0,0,0,0,0,0,0,0,0,0,0,0,0,0,0,1,0,0,0,0,0,0,0,0,0,0,0,0,0,0,0,0,0,0,0,0,0,0,0,0,0,0,0,0,0,0,0,0,0,0,1,0,0,0,0,0,0,0,0,0,1,0,0,0,0,0,0,0,0,1,0,0,0,0,0,0,0,0,0,0,0,0,0,0,0,0,0,0,0,0,0,0,0,0,0,0,0,0,1,0,0,0,0,0,1,0,0,0,0,0,0,0,0,0,0,0,0,0,0,0,0,0,0,0,0,0,0,0,0,1,0,0,0,0,0,0,0,0,0,0,0,0,0,0,0,0,0,0,0,0,0,0,1,0,1,0,0,0,0,0,0,0,1,0,0,0,0,0,0,0,0,0,0,0,0,0,0,0,0,0,1,0,0,0,0,0,0,0,0,0,0,0,0,0,0,0,0,0,0,0,0,1,0,0,0,0,1,0,0,0,0,0,0,0,0,0,0,0,0,0,0,0,0,0,0,0,0,0,0,0,0,0,0,0,1,0,0,0,0,0,0,0,0,0,0,0,0,0,0,0,0,0,0,0,0,0,0,0,0,0,0,0,0,0,0,0,0,0,0,0,0,0,0,1,0,0,0,0,0,0,0,1,0,0,0,0,0,0,0,0,0,0,0,0,0,0,0,0,0,0,0,0,0,0,0,0,0,0,0,0,0,0,0,0,0,0,0,0,0,0,0,0,0,0,0,0,0,0,0,0,0,0,0,0,0,0,0,0,0,0,0,0,0,0,0,0,0,0,0,0,0,0,0,1,0,0,0,0,0,0,0,0,0,0,0,1,0,0,0,0,0,0,0,0,0,0,0,0,0,0,0,0,0,0,0,0,0,0,0,0,1,0,0,0,0,0,0,0,0,0,0,0,0,0,0,0,0,0,0,0,0,0,0,0,0,0,0,0,1,0,0,0,0,0,0,0,0,0,0,0,0,0,0,0,0,0,0,0,0,0,0,0,0,0,0,1,0,1,0,0,0,0,0,0,0,0,0,0,0,0,0,0,0,0,0,0,1,0,0,1,0,0,0,0,1,0,0,0,0,0,0,0,0,0,0,0,0,0,0,0],\"coloraxis\":\"coloraxis\",\"opacity\":0.7,\"symbol\":\"circle\"},\"mode\":\"markers\",\"name\":\"\",\"showlegend\":false,\"x\":[2.5977814197540283,9.169795036315918,9.038362503051758,3.222005605697632,11.18437671661377,7.569511890411377,6.199673175811768,9.706488609313965,4.952521324157715,2.4796934127807617,11.336296081542969,5.161420822143555,6.082263946533203,8.538312911987305,6.47519063949585,5.130233287811279,6.195382118225098,6.008334159851074,7.607570648193359,1.5800906419754028,5.47698974609375,12.62625503540039,5.417736053466797,9.057513236999512,8.599823951721191,8.08031177520752,5.142369270324707,12.257156372070312,12.557601928710938,3.3572258949279785,1.74996018409729,6.800081253051758,2.816800832748413,9.73972225189209,8.999463081359863,2.286306619644165,6.658153533935547,11.895713806152344,5.837897300720215,8.308128356933594,12.715140342712402,4.912009239196777,2.0060842037200928,3.9743645191192627,8.641606330871582,10.20648193359375,9.103419303894043,8.672981262207031,2.827471971511841,9.579446792602539,0.6650115251541138,8.853620529174805,9.454924583435059,1.8285757303237915,3.671529531478882,12.682099342346191,9.164497375488281,4.543799877166748,8.811041831970215,11.082120895385742,8.006382942199707,1.8145462274551392,6.358152866363525,1.6503856182098389,3.3309285640716553,1.498866081237793,1.6455870866775513,4.630533218383789,11.066211700439453,9.040976524353027,11.232297897338867,9.72805404663086,8.100631713867188,2.70400333404541,12.614083290100098,6.195789813995361,11.430459976196289,1.7423419952392578,5.96993350982666,9.00098991394043,2.5492680072784424,5.799478054046631,3.160629987716675,9.368077278137207,12.894159317016602,3.989448308944702,9.359890937805176,3.481584072113037,8.876550674438477,6.175883769989014,3.7775776386260986,1.8407236337661743,12.20979118347168,13.357351303100586,9.079230308532715,5.833393096923828,5.015771389007568,9.12397289276123,3.5154433250427246,6.523219108581543,5.206913471221924,5.322176456451416,10.761856079101562,3.435337543487549,4.789838790893555,12.215035438537598,3.3063313961029053,2.7515478134155273,5.43339204788208,9.481294631958008,5.571444988250732,8.709885597229004,1.7534061670303345,10.050204277038574,6.2571120262146,6.78565788269043,10.729597091674805,3.2118496894836426,1.4254615306854248,9.749152183532715,1.8184782266616821,12.638689041137695,1.6976383924484253,5.428594589233398,1.6203614473342896,0.6361901164054871,9.488799095153809,2.9979865550994873,12.739521026611328,5.31339168548584,5.648801803588867,6.725276470184326,5.0630669593811035,2.836864948272705,3.3018105030059814,8.655089378356934,13.146153450012207,3.7920587062835693,9.20494270324707,12.521183967590332,1.9571702480316162,12.757013320922852,2.168828248977661,4.758384704589844,4.885697841644287,2.420670986175537,13.475616455078125,9.351869583129883,6.192297458648682,2.225600004196167,6.173568248748779,2.8551268577575684,9.671932220458984,7.499663352966309,10.992679595947266,5.244612693786621,1.786389708518982,4.840602397918701,1.514894962310791,7.291279315948486,8.59384536743164,3.4339523315429688,2.694998025894165,10.53016185760498,13.06072998046875,10.174345016479492,8.299983978271484,9.760923385620117,8.664304733276367,9.715476989746094,3.1448915004730225,6.882606029510498,6.780680179595947,12.923483848571777,2.1183454990386963,4.1270432472229,2.5181736946105957,13.061509132385254,9.399300575256348,12.694771766662598,8.914631843566895,7.498622894287109,6.404959201812744,5.495574951171875,2.483339786529541,5.422345161437988,9.531336784362793,1.8211555480957031,6.196042060852051,6.649910926818848,11.678948402404785,2.3165199756622314,1.4884189367294312,10.156172752380371,0.6141072511672974,9.554975509643555,12.65933609008789,9.144025802612305,5.446775436401367,4.381907939910889,2.5815467834472656,3.5185387134552,9.632400512695312,2.157548666000366,12.271578788757324,2.5490849018096924,12.83593463897705,12.876399993896484,10.269983291625977,3.5212223529815674,5.683538436889648,5.981092929840088,5.4735870361328125,0.6836720108985901,9.554978370666504,4.809451103210449,7.553611755371094,5.542823791503906,3.7608418464660645,9.258056640625,13.286030769348145,6.908965587615967,9.509519577026367,11.08960247039795,10.59456729888916,9.505138397216797,1.4003740549087524,2.477792263031006,6.278285980224609,5.981668949127197,11.183104515075684,5.091363430023193,2.755150079727173,12.695244789123535,3.2497918605804443,5.202638626098633,5.307718276977539,6.543609619140625,8.565779685974121,1.8906527757644653,9.791976928710938,8.892372131347656,8.704804420471191,8.926177978515625,4.312337875366211,13.037614822387695,9.822389602661133,1.2242107391357422,3.339657783508301,8.315114974975586,4.850614547729492,9.670866012573242,6.422918796539307,11.656991958618164,2.4455573558807373,11.426486015319824,2.05755615234375,6.762400150299072,6.781701564788818,4.729202747344971,3.2448484897613525,1.908146619796753,6.727410316467285,11.085052490234375,11.638680458068848,12.949577331542969,3.3980231285095215,5.862950325012207,2.3812966346740723,8.73544979095459,11.78161907196045,9.66781234741211,8.66336727142334,2.0794291496276855,10.25946044921875,9.38500690460205,6.632020950317383,9.624330520629883,11.765143394470215,5.672338008880615,5.497813701629639,5.339595794677734,8.705423355102539,11.66968059539795,2.519970178604126,11.063028335571289,3.273489475250244,10.15927791595459,7.487899303436279,6.302417755126953,6.436818599700928,4.520552635192871,3.42824649810791,5.148253440856934,9.460373878479004,5.330852508544922,6.2037835121154785,2.700308322906494,10.911247253417969,2.7039928436279297,3.3527679443359375,4.621933937072754,1.7308788299560547,10.651737213134766,2.527527332305908,2.7818973064422607,10.41873836517334,8.308921813964844,1.2047107219696045,5.345479488372803,5.919571876525879,10.84664535522461,3.8401615619659424,6.246582508087158,5.473242282867432,5.980105400085449,10.213340759277344,5.285558223724365,12.168595314025879,9.31474781036377,9.788694381713867,11.9903564453125,9.398046493530273,3.1522319316864014,5.507439613342285,1.9054137468338013,6.632544040679932,12.2105073928833,4.8282928466796875,9.194786071777344,9.969098091125488,2.698025941848755,6.689037799835205,11.896040916442871,5.040067195892334,1.7862021923065186,8.628936767578125,3.264950752258301,9.040901184082031,2.6910130977630615,12.038664817810059,10.547211647033691,5.174209117889404,6.339705467224121,11.089190483093262,12.133627891540527,2.866180658340454,6.905419826507568,12.613492012023926,13.332213401794434,2.5870862007141113,13.201475143432617,13.633222579956055,9.364890098571777,8.34201431274414,6.871716499328613,10.555414199829102,8.230796813964844,9.218622207641602,10.70984172821045,5.9417572021484375,2.9570565223693848,4.97053861618042,11.414749145507812,1.527068853378296,5.46151065826416,1.621904969215393,4.586516857147217,9.775781631469727,5.515491008758545,2.0771846771240234,8.353780746459961,5.0126118659973145,8.204176902770996,10.336420059204102,4.775388240814209,6.308030605316162,2.5176303386688232,12.863846778869629,11.6588773727417,6.42726469039917,2.53493332862854,9.892839431762695,1.4992815256118774,7.265651702880859,7.402090549468994,9.831282615661621,0.6224678754806519,12.71461296081543,6.254148483276367,5.123167037963867,3.912003755569458,11.547540664672852,3.403862714767456,9.39440631866455,9.410514831542969,9.866463661193848,6.625613689422607,3.240406036376953,3.9205946922302246,6.862734794616699,4.153719425201416,10.791723251342773,10.0810546875,8.557928085327148,10.186591148376465,8.659797668457031,9.466073989868164,8.470942497253418,9.211271286010742,2.418410301208496,2.6250228881835938,11.066777229309082,1.7214723825454712,1.8795050382614136,5.920809745788574,11.38416862487793,1.8863918781280518,2.482163667678833,10.187283515930176,2.6397740840911865,4.1995649337768555,12.686504364013672,8.068001747131348,4.094367027282715,5.177387237548828,2.988861083984375,4.564843654632568,8.71352767944336,9.116416931152344,6.906042098999023,5.546869277954102,2.6530442237854004,9.096179008483887,4.870447635650635,12.272493362426758,9.177491188049316,10.474785804748535,10.571533203125,10.03593921661377,5.502654552459717,2.856386661529541,5.784539222717285,10.212043762207031,3.33984637260437,4.113262176513672,5.389047145843506,1.7100952863693237,2.274492025375366,4.997374057769775,10.167326927185059,1.1738313436508179,6.612710952758789,9.201388359069824,6.753089904785156,13.289669036865234,13.635580062866211,8.436883926391602,3.2520570755004883,9.09144115447998,3.55167555809021,9.390793800354004,8.13412857055664,3.124509572982788,2.3574328422546387,12.657607078552246,3.7739720344543457,5.4637770652771,10.0487642288208,11.3294677734375,2.641094923019409,2.4433388710021973,11.099237442016602,2.81984806060791,6.169814586639404,6.475085735321045,6.6809186935424805,8.985696792602539,6.715687274932861,9.286648750305176,2.684155225753784,4.265707015991211,2.4093799591064453,11.98873233795166,2.424818277359009,8.849193572998047,2.0275912284851074,3.0792291164398193,6.672848701477051,13.68456745147705,11.179386138916016,8.602336883544922,2.1414453983306885,0.6044278740882874,4.603848457336426,1.6947333812713623,2.496715545654297,12.435351371765137,2.3574721813201904,2.6686477661132812,8.88381576538086,13.17945671081543,8.445565223693848,8.941568374633789,11.757575035095215,3.4072425365448,5.3701324462890625,1.8617489337921143,6.593634128570557,4.730990886688232,10.090106964111328,12.180124282836914,3.030928611755371,5.627959728240967,9.554293632507324,7.955233573913574,9.792280197143555,2.2532131671905518,8.723250389099121,12.98232650756836,8.478748321533203,1.792366862297058,6.5641913414001465,1.7953743934631348,9.350735664367676,12.663182258605957,9.710126876831055,9.390750885009766,7.515832901000977,8.54629135131836,5.651795387268066,1.7974077463150024,9.432352066040039,12.970911979675293,6.756535053253174,4.4722514152526855,8.602716445922852,12.501755714416504,5.49338960647583,6.283290863037109,1.5168536901474,4.629070281982422,4.072870254516602,12.328330039978027,2.81668758392334,2.460092067718506,3.8953630924224854,4.56086540222168,13.058807373046875,2.336091995239258,9.179959297180176,2.386101722717285,8.02468204498291,2.5507171154022217,8.675413131713867,3.1157209873199463,1.9488778114318848,11.742992401123047,7.47968864440918,4.943195819854736,9.46872329711914,9.773622512817383,3.316221237182617,10.709319114685059,7.567346096038818,8.84549331665039,7.757164001464844,5.252192497253418,8.526006698608398,4.644138813018799,11.718954086303711,3.7336041927337646,2.932919979095459,3.523763656616211,8.50580883026123,6.482824325561523,9.967369079589844,5.95784330368042,9.741042137145996,3.2581164836883545,5.143689155578613,10.617197036743164,5.650399208068848,6.7861151695251465,8.35126781463623,12.633024215698242,4.8426594734191895,3.243103265762329,1.8264901638031006,6.94301700592041,3.0499322414398193,8.575905799865723,2.584487199783325,3.0461974143981934,10.531269073486328,10.322394371032715,12.062220573425293,10.634647369384766,2.5773873329162598,4.479887008666992,0.6276301145553589,9.01022720336914,9.368559837341309,9.990342140197754,1.4668997526168823,5.12390661239624,8.80121898651123,6.557490348815918,4.773670673370361,11.68555736541748,4.958886623382568,9.320453643798828,1.2308679819107056,9.67286205291748,2.6634535789489746,6.145350456237793,4.793576717376709,8.96257209777832,8.387060165405273,8.54290771484375,2.303525924682617,6.501825332641602,4.167366027832031,12.90537166595459,6.7519049644470215,5.36838960647583,10.070042610168457,11.790349960327148,1.4843071699142456,12.176309585571289,11.769632339477539,12.361604690551758,9.397056579589844,4.8459062576293945,5.323398113250732,2.3585286140441895,4.0787129402160645,8.154036521911621,1.8571070432662964,7.510138034820557,12.696625709533691,6.157144069671631,4.129974365234375,10.354018211364746,8.756355285644531,2.862166404724121,3.7848451137542725,12.275352478027344,2.5635826587677,9.567256927490234,11.801063537597656,9.039568901062012,8.59936809539795,6.275996685028076,6.21288537979126,5.314271450042725,2.224867582321167,1.5318472385406494,5.435790538787842,9.828022956848145,6.779013633728027,1.9511380195617676,6.244841575622559,10.320237159729004,3.1174440383911133,9.446130752563477,9.951706886291504,6.641330718994141,2.351747989654541,3.9729247093200684,5.945862293243408,11.118443489074707,13.441855430603027,4.829686641693115,5.778700828552246,2.597114324569702,2.5088205337524414,3.513986349105835,5.9845404624938965,2.121922016143799,6.562122821807861,5.797393321990967,3.322934865951538,8.39077377319336,1.6074180603027344,7.579451560974121,8.772525787353516,4.145667552947998,8.992133140563965,5.132580757141113,1.7802138328552246,11.516048431396484,6.837118148803711,4.3907999992370605,10.218988418579102,1.5275042057037354,2.5196471214294434,8.626864433288574,6.671528339385986,2.883220911026001,12.984539031982422,5.372975826263428,12.059809684753418,0.6704839468002319,1.964233636856079,10.675995826721191,3.3989803791046143,3.9965381622314453,8.395201683044434,4.485235214233398,4.852923393249512,8.589777946472168,5.604782581329346,9.839326858520508,6.241934776306152,13.364879608154297,9.384765625,3.281118869781494,1.879446268081665,2.466003656387329,3.2592062950134277,3.99247145652771,10.080601692199707,9.694629669189453,12.293416023254395,4.0745625495910645,3.4532294273376465,9.648477554321289,3.509509325027466,6.4986958503723145,13.10103702545166,2.48067045211792,10.486242294311523,5.612058162689209,5.037643909454346,12.481587409973145,8.532048225402832,9.91165542602539,6.872997283935547,7.356011867523193,2.6649115085601807,11.011611938476562,2.164808750152588,12.873262405395508,8.203866958618164,8.436555862426758,9.651047706604004,11.25047779083252,11.241994857788086,12.687752723693848,5.65152645111084,11.122491836547852,12.906511306762695,6.905168533325195,10.593749046325684,12.674840927124023,2.750795841217041,9.79825210571289,2.5815353393554688,2.2316861152648926,8.300965309143066,6.274709224700928,13.323190689086914,5.824732780456543,9.425042152404785,5.40338659286499,10.046685218811035,4.6660356521606445,9.570737838745117,5.8963494300842285,0.6250908970832825,10.745519638061523,10.260053634643555,10.631366729736328,1.7682658433914185,5.921218395233154,3.3104310035705566,6.285224914550781,12.692717552185059,4.065433979034424,6.252410411834717,2.397573471069336,5.699615001678467,10.769399642944336,2.6396372318267822,5.403238773345947,9.024046897888184,5.4961371421813965,9.032017707824707,2.7778100967407227,10.557221412658691,8.94051456451416,5.835113525390625,12.015172958374023,5.123113632202148,2.3856418132781982,2.695051431655884,8.200593948364258,2.524301528930664,8.617533683776855,8.597557067871094,1.6892380714416504,12.629575729370117,2.3037056922912598,1.1920706033706665,3.202353000640869,6.506927490234375,5.586504936218262,6.230610370635986,1.8428505659103394,5.347944736480713,2.8820323944091797,6.658025741577148,9.68662166595459,6.421463966369629,2.8612706661224365,8.58170223236084,9.713639259338379,3.2091355323791504,6.639598846435547,10.714612007141113,8.829059600830078,5.310070514678955,8.602228164672852,10.297303199768066,6.132333278656006,5.394268035888672,3.379662036895752,3.797527313232422,7.468928337097168,11.106965065002441,6.806369781494141,2.6331822872161865,3.339545965194702,5.881766319274902,2.1979832649230957,3.9857964515686035,8.857183456420898,6.582841873168945,1.8216488361358643,6.634979248046875,11.082011222839355,5.856265068054199,2.6502835750579834,6.041571140289307,6.869296073913574,9.572317123413086,9.710685729980469,5.370239734649658,11.855477333068848,4.874202728271484,5.4935688972473145,2.3552050590515137,9.047685623168945,11.184309959411621,3.0602266788482666,12.701029777526855,4.5408616065979,1.947845458984375,3.0823583602905273,11.397134780883789,5.525832653045654,3.385789632797241,8.815165519714355,3.2645456790924072,3.280740737915039,6.602884769439697,2.410703182220459,8.055364608764648,9.080401420593262,5.448343753814697,9.858868598937988,1.8505401611328125,5.414607048034668,2.465510845184326,9.666242599487305,7.994718551635742,6.444578170776367,11.23134994506836,6.77734375,11.033869743347168,5.529207229614258,3.394770622253418,1.8043897151947021,1.2428724765777588,2.776336669921875,2.75704288482666,6.407905578613281,6.450708866119385,5.835721015930176,1.406136393547058,5.647412300109863,2.5599799156188965,2.6058785915374756,8.555818557739258,3.107111692428589,4.124431610107422,13.446351051330566,1.5568698644638062,5.44276762008667,3.3155062198638916,4.923861026763916,2.1925113201141357,8.104686737060547,8.875802993774414,9.090638160705566,11.536678314208984,2.7836754322052,4.165072917938232,5.4255595207214355,3.3419382572174072,1.7806267738342285,9.660022735595703,11.092253684997559,7.711040019989014,6.940412521362305,10.139219284057617,10.66553783416748,2.6877942085266113,6.5664873123168945,8.492037773132324,6.874670505523682,5.066679954528809,2.512747049331665,8.989413261413574,1.8890752792358398,5.413876533508301,1.992979645729065,8.57538890838623,11.149426460266113,1.208540678024292,2.521653175354004,5.858471393585205,1.6458253860473633,7.288007736206055,6.077154636383057,6.74818754196167,9.709806442260742,2.043226718902588,9.156049728393555,9.431195259094238,1.6115591526031494,6.764745235443115,5.177178859710693,2.5503909587860107,4.923539161682129,2.976733446121216,12.704248428344727,6.437292098999023,6.846256732940674,5.086946487426758,8.496931076049805,8.021790504455566,2.544342517852783,12.685516357421875,2.2323687076568604,2.6317193508148193,5.614681243896484,3.2928154468536377,10.825043678283691,12.01407527923584,12.69773006439209,11.089393615722656,9.489411354064941,8.813980102539062,9.685590744018555,8.349987983703613,1.7665141820907593,7.518554210662842,9.844127655029297,4.898131847381592,10.188281059265137,1.5014188289642334,5.3934454917907715,12.294269561767578,4.948850154876709,1.4877697229385376,12.639041900634766,5.484275817871094,12.531412124633789,2.4462287425994873,6.892582416534424,5.929215908050537,2.7955377101898193,2.7598726749420166,6.0625081062316895,6.578633785247803,5.233850002288818,3.2666053771972656,2.5130577087402344,9.478342056274414,7.547398090362549,3.1808667182922363,5.341728210449219,3.500457763671875,7.99492883682251,6.100829601287842,6.124189376831055,4.768711090087891,3.1508591175079346,3.3625383377075195,6.468517303466797,0.8330208659172058,9.352437019348145,6.206319332122803,2.656742572784424,5.409639835357666,3.940640687942505,10.111858367919922,1.9090797901153564,3.2359025478363037,11.663763046264648,5.448048114776611,8.927227973937988,2.5975470542907715,3.2164735794067383,9.773716926574707,3.329637289047241,10.250249862670898,5.212322235107422,12.124073028564453,6.231725692749023,9.173848152160645,11.435718536376953,8.168435096740723,5.836027145385742,9.050702095031738,12.100698471069336,8.020187377929688,9.197165489196777,1.8346900939941406,1.2001032829284668,10.995853424072266,3.0063602924346924,8.099499702453613,10.771970748901367,6.634220600128174,5.156377792358398,1.5296202898025513,2.9835622310638428,2.61911940574646,12.339192390441895,8.497106552124023,9.426583290100098,10.841660499572754,3.4197795391082764,8.583850860595703,6.217084884643555,2.349195718765259,9.344429016113281,5.40964412689209,10.052553176879883,0.6181439161300659,10.877806663513184,9.81838321685791,5.019034385681152,6.665221691131592,5.052141189575195,9.448625564575195,4.411736011505127,12.725963592529297,6.772394180297852,3.154757261276245,6.452836036682129,13.662642478942871,12.8765869140625,11.810839653015137,11.11209774017334,1.4339758157730103,12.16649055480957,6.741174697875977,11.793882369995117,2.485679864883423,1.7468621730804443,3.9327480792999268,3.1264960765838623,2.7594196796417236,8.389703750610352,1.785760760307312,9.551389694213867,11.079251289367676,6.244255065917969,2.3168623447418213,1.4758445024490356,7.535619735717773,5.420273303985596,12.840886116027832,5.126104354858398,5.197964668273926,5.159450531005859,2.794001579284668,8.867177963256836,2.3411636352539062,3.5147738456726074,10.87243366241455,4.0721869468688965,1.4992661476135254,9.585949897766113,8.576070785522461,1.7511553764343262,10.671238899230957,3.411278247833252,8.618220329284668,3.1158831119537354,4.532351970672607,3.278085470199585,2.5209972858428955,5.212381839752197,6.126236915588379,12.663636207580566,2.599853992462158,6.114816188812256,9.465322494506836,3.1915063858032227,10.178869247436523,4.8366618156433105,10.628807067871094],\"xaxis\":\"x\",\"y\":[8.275659561157227,8.484321594238281,4.434364318847656,4.179104328155518,8.432234764099121,0.08889944851398468,7.420077323913574,5.519455432891846,9.305315971374512,8.1417818069458,9.791909217834473,5.297748565673828,6.0458984375,1.4461355209350586,7.647496223449707,9.055400848388672,7.524656295776367,6.200520992279053,0.12317724525928497,2.2354953289031982,0.28518909215927124,11.220144271850586,4.964766979217529,4.401825428009033,8.853880882263184,3.7636759281158447,5.424611568450928,8.627632141113281,10.469746589660645,4.408884048461914,0.9270671010017395,0.1432839035987854,7.777145862579346,1.1707334518432617,4.372518539428711,0.43374183773994446,-0.36498722434043884,8.646199226379395,0.6702396869659424,8.845113754272461,9.184160232543945,6.164815425872803,1.9870113134384155,9.028850555419922,8.107394218444824,0.9654962420463562,9.001015663146973,1.0040363073349,2.5267727375030518,4.81508207321167,4.094367504119873,1.2346338033676147,5.1847968101501465,0.7134858965873718,9.55151081085205,11.29007625579834,8.69362735748291,4.384308338165283,4.244617462158203,11.205195426940918,2.202071189880371,3.238950729370117,3.6251072883605957,0.9822810888290405,2.5084800720214844,2.280376434326172,3.804443120956421,6.341220378875732,11.175771713256836,8.700840950012207,8.617181777954102,5.230197906494141,3.8162946701049805,7.889300346374512,9.155055046081543,1.7274835109710693,8.30351734161377,3.2824952602386475,6.256516933441162,8.7401762008667,8.193323135375977,0.6209749579429626,4.795403480529785,6.737821102142334,9.492663383483887,9.915781021118164,6.728736877441406,2.514742374420166,8.180744171142578,0.9982418417930603,4.165687561035156,3.0796256065368652,10.34849739074707,8.850092887878418,8.845352172851562,0.68466717004776,8.77029037475586,1.0466773509979248,9.31261157989502,7.972825527191162,5.184584140777588,0.1955341398715973,9.785478591918945,9.39075756072998,6.360805511474609,10.448302268981934,3.938526153564453,7.881827354431152,7.20459508895874,5.271417140960693,0.35078105330467224,1.3298077583312988,4.514986991882324,1.561598539352417,1.8108097314834595,6.127708435058594,9.276385307312012,4.487146854400635,4.356941223144531,4.5444254875183105,0.7309523820877075,11.252424240112305,0.8737331032752991,5.368197441101074,1.3863471746444702,4.136263370513916,6.565914630889893,2.9969539642333984,9.136250495910645,5.017755508422852,0.26031842827796936,7.7945380210876465,8.71431827545166,8.940223693847656,4.0486907958984375,8.145031929016113,8.924673080444336,4.810570240020752,8.676827430725098,11.102570533752441,1.8070095777511597,9.334897994995117,4.887939929962158,6.327888011932373,0.10256940126419067,0.36697500944137573,8.74837875366211,6.76007080078125,1.598397970199585,2.5380303859710693,1.7311711311340332,8.919625282287598,1.6979074478149414,1.8722001314163208,8.759825706481934,7.363653182983398,0.776494026184082,0.13288718461990356,3.7750613689422607,-0.08986062556505203,1.364288330078125,9.407041549682617,6.112582683563232,8.789823532104492,8.988500595092773,0.6302908658981323,3.0056326389312744,1.0120960474014282,1.5074450969696045,5.354283809661865,4.8536176681518555,5.674040794372559,-0.3238619863986969,9.618812561035156,5.438228607177734,9.327413558959961,5.112059593200684,8.937039375305176,6.692770481109619,11.296991348266602,4.268763542175293,1.9488524198532104,-0.34875547885894775,4.888120651245117,5.031687259674072,6.619197845458984,4.757089138031006,3.196164846420288,1.3132743835449219,-0.5841902494430542,8.492005348205566,7.049496173858643,4.2467169761657715,1.07942795753479,4.1379241943359375,5.101958274841309,11.207573890686035,5.549899578094482,9.080703735351562,6.208582401275635,7.424313068389893,9.362317085266113,1.453397512435913,4.877534866333008,8.503045082092285,8.035691261291504,9.56832504272461,9.047962188720703,0.5602985620498657,2.4868884086608887,0.5379430651664734,6.223319053649902,7.717211723327637,4.182214260101318,5.188930511474609,8.864908218383789,0.11889456957578659,7.429019927978516,9.572847366333008,4.420126914978027,8.97600269317627,5.723209381103516,4.816843509674072,11.105365753173828,8.53920841217041,1.1598937511444092,4.363141059875488,8.139561653137207,1.7616158723831177,6.242210865020752,8.502054214477539,8.670463562011719,8.720295906066895,11.274502754211426,4.656286716461182,8.531545639038086,0.04289289563894272,4.491303443908691,1.361379623413086,0.6212545037269592,1.1932400465011597,4.24107027053833,0.9698589444160461,1.2465425729751587,4.450903415679932,9.051131248474121,9.291069984436035,5.136961936950684,9.15313720703125,2.972881555557251,9.391108512878418,5.185606002807617,3.5711288452148438,7.968491077423096,2.7546234130859375,8.48082447052002,2.837595224380493,4.02768611907959,5.724541187286377,9.480972290039062,4.328835964202881,0.6526618599891663,5.543564796447754,11.194513320922852,10.666762351989746,9.109373092651367,9.07245922088623,6.159618854522705,2.578202724456787,8.224645614624023,9.76539134979248,4.530435562133789,8.166914939880371,4.836523532867432,0.5480958819389343,4.69040584564209,4.393006324768066,0.959595263004303,10.853172302246094,-0.24621441960334778,5.153206825256348,7.475769519805908,8.149362564086914,9.862567901611328,0.27880731225013733,11.204590797424316,4.116596221923828,1.2490519285202026,2.7341971397399902,1.8155577182769775,4.179518699645996,6.786288261413574,9.369050025939941,8.540484428405762,4.694450855255127,9.036966323852539,1.2673273086547852,2.650292158126831,8.773137092590332,7.797096252441406,8.826279640197754,6.469414234161377,4.554243087768555,9.669110298156738,5.906027317047119,8.768054962158203,9.58618450164795,1.879201889038086,5.132430553436279,4.992787837982178,6.267457485198975,8.389204025268555,4.479434967041016,1.7548389434814453,7.7171196937561035,6.200397491455078,0.9636568427085876,5.129735946655273,10.381438255310059,7.122281074523926,8.736332893371582,10.218914031982422,6.796760082244873,8.995122909545898,7.861945152282715,1.766433835029602,-0.5904273986816406,10.4386625289917,6.43855619430542,5.118082046508789,8.563020706176758,8.81385326385498,3.9989302158355713,8.603167533874512,7.255173206329346,3.947613477706909,8.1445894241333,3.9022915363311768,8.854460716247559,7.784368991851807,10.688807487487793,9.629805564880371,5.347315788269043,4.119664192199707,8.589533805847168,10.371270179748535,8.922755241394043,5.692196369171143,11.26341438293457,8.858297348022461,8.163033485412598,8.898828506469727,8.601829528808594,6.95421028137207,3.0411670207977295,5.674849033355713,9.629499435424805,3.0966694355010986,5.402425765991211,9.689780235290527,6.227169990539551,7.9474101066589355,6.080082416534424,8.543437957763672,3.808086633682251,4.908322334289551,3.6796085834503174,9.209078788757324,5.223541259765625,9.1106538772583,5.3307366371154785,2.964860200881958,8.766955375671387,3.6392719745635986,0.49373868107795715,6.349025249481201,5.705519199371338,8.117067337036133,9.59620475769043,9.175670623779297,3.5437324047088623,6.064755916595459,5.196690559387207,2.3320164680480957,-0.11705288290977478,1.8103439807891846,0.9968004822731018,4.139084339141846,11.361614227294922,1.786125898361206,9.170028686523438,4.3737592697143555,8.427127838134766,9.340022087097168,6.676951885223389,1.9765689373016357,5.09564733505249,-0.5847988724708557,4.0792317390441895,4.437309265136719,-0.17217570543289185,9.935513496398926,9.778029441833496,1.4278620481491089,2.9229185581207275,0.6497232913970947,8.167524337768555,6.5688910484313965,8.877727508544922,8.6468505859375,0.3384894132614136,8.394829750061035,11.194123268127441,3.3968615531921387,1.7874245643615723,6.205611228942871,8.574241638183594,0.6708235144615173,6.909111022949219,0.6480341553688049,7.544835567474365,9.36136245727539,11.306779861450195,8.73391342163086,9.370373725891113,7.1915411949157715,4.88808012008667,6.732889652252197,1.013282060623169,1.5506492853164673,6.065078258514404,8.037858009338379,8.838545799255371,8.894676208496094,9.264528274536133,8.669304847717285,4.441981792449951,8.51015567779541,8.76934814453125,1.3816821575164795,4.933528423309326,8.697442054748535,0.6512412428855896,0.6501150131225586,2.3874099254608154,9.786266326904297,-0.1211722269654274,3.4033498764038086,0.4736112654209137,6.047306537628174,1.1188303232192993,5.054882049560547,4.496199131011963,9.018776893615723,0.09853393584489822,8.887492179870605,8.600948333740234,1.5195435285568237,4.448983669281006,8.75157642364502,2.4459760189056396,6.694541931152344,8.76266860961914,4.852572441101074,7.066331386566162,11.260479927062988,9.590861320495605,-0.05779050663113594,1.5905933380126953,8.337325096130371,7.947447299957275,0.3605329096317291,11.185054779052734,8.540328979492188,1.6866533756256104,3.558183193206787,-0.35215479135513306,4.4360270500183105,4.096827983856201,8.552351951599121,6.043095111846924,9.764418601989746,5.939806938171387,10.070428848266602,8.1646728515625,4.173243999481201,2.864901542663574,9.040889739990234,-0.5145029425621033,8.563247680664062,8.482217788696289,1.3232226371765137,5.2961273193359375,4.1469011306762695,6.385809421539307,0.8622691631317139,6.0563554763793945,10.9094877243042,5.298413276672363,8.666319847106934,8.220860481262207,8.888486862182617,8.8881196975708,8.777790069580078,8.232954978942871,9.325563430786133,4.963783264160156,3.2442126274108887,3.7849063873291016,9.003485679626465,1.3818168640136719,10.51870059967041,9.023722648620605,-0.22279971837997437,4.877854824066162,2.8761563301086426,1.4854285717010498,5.242483139038086,4.254859447479248,9.062332153320312,1.3710861206054688,3.2405097484588623,-0.2538120746612549,1.9039796590805054,5.270242691040039,11.266982078552246,1.4552702903747559,6.7257466316223145,1.869645357131958,8.88831615447998,0.47873055934906006,2.0754306316375732,6.630093574523926,9.027201652526855,0.09760459512472153,6.904395580291748,1.5130231380462646,9.061779975891113,7.754549026489258,7.525894641876221,2.2551794052124023,6.742912769317627,9.889815330505371,8.471003532409668,6.0824294090271,2.6680984497070312,4.539302825927734,9.088948249816895,9.046441078186035,0.4176494777202606,5.341029644012451,5.775215148925781,2.4071173667907715,7.386147975921631,8.154559135437012,3.6349830627441406,1.9086668491363525,8.273724555969238,0.04299516975879669,6.100551128387451,6.4904255867004395,1.0578978061676025,4.252206802368164,8.676547050476074,1.8477851152420044,8.95485782623291,2.4910969734191895,8.836091995239258,2.9082515239715576,9.082258224487305,10.55854606628418,4.392761707305908,8.927990913391113,2.5226762294769287,2.3324053287506104,4.5550456047058105,0.7654339671134949,6.222074508666992,5.283993244171143,3.875380277633667,5.332217693328857,9.500307083129883,-0.25349804759025574,3.5140838623046875,3.473083019256592,11.21065616607666,0.12815333902835846,4.0283427238464355,0.7020642161369324,5.616696357727051,7.891436576843262,3.1759912967681885,8.301691055297852,3.390472412109375,8.698006629943848,0.5049567222595215,10.169292449951172,9.877623558044434,6.301950454711914,6.287056922912598,4.15281343460083,8.915633201599121,8.500700950622559,1.1981406211853027,3.9155657291412354,5.483229160308838,1.5961153507232666,3.5796608924865723,5.998107433319092,8.137364387512207,6.1026291847229,7.025642395019531,5.139284610748291,9.02530574798584,2.667814016342163,5.991825103759766,6.3348541259765625,4.303829193115234,1.9599554538726807,1.5122815370559692,0.49074220657348633,4.4205451011657715,9.399975776672363,9.560261726379395,-0.05353809520602226,4.93418550491333,1.4889326095581055,10.01218318939209,4.4055705070495605,10.486907958984375,9.677838325500488,8.542783737182617,4.664806365966797,6.2541961669921875,5.278306007385254,7.130823135375977,9.868768692016602,2.7972660064697266,1.6128500699996948,1.8982106447219849,9.1333646774292,1.7540351152420044,9.360142707824707,0.4643840491771698,1.4272174835205078,6.18263578414917,4.322465419769287,8.520889282226562,8.272985458374023,8.571650505065918,8.371259689331055,5.556228160858154,3.654493570327759,1.811799168586731,1.5324771404266357,5.13488245010376,4.909402847290039,4.363555908203125,7.571323394775391,0.7990431785583496,0.07540858536958694,2.393052339553833,1.3180259466171265,0.4895978271961212,5.060626029968262,5.058218955993652,0.8309659361839294,3.772472620010376,0.4098413288593292,9.959094047546387,6.380271911621094,8.43255615234375,8.785158157348633,0.12615709006786346,6.011772155761719,2.733100175857544,2.6213932037353516,9.399699211120605,6.204718112945557,3.0458545684814453,4.4754157066345215,0.2723785638809204,4.055722236633301,1.6859886646270752,3.6787631511688232,0.09870582818984985,8.115625381469727,9.370469093322754,1.4775655269622803,8.640594482421875,0.7989921569824219,8.576517105102539,7.861708641052246,6.211272716522217,0.624693751335144,3.8575496673583984,7.257943153381348,2.949704885482788,-0.4305242598056793,7.908169746398926,9.489361763000488,-0.003762120846658945,8.824566841125488,4.084885597229004,4.740084648132324,9.746828079223633,5.195190906524658,9.919936180114746,3.00538969039917,9.08773136138916,6.232392311096191,1.3856136798858643,0.4682462811470032,5.066312313079834,1.6553633213043213,8.847663879394531,4.5842461585998535,4.230741500854492,1.8165550231933594,7.165625095367432,4.959911346435547,9.911434173583984,1.504550814628601,4.474512100219727,8.495452880859375,9.931622505187988,2.5061490535736084,5.446058750152588,8.715140342712402,3.6412112712860107,8.9946928024292,7.162468910217285,8.621541023254395,7.9789814949035645,6.0277018547058105,9.071674346923828,1.3786711692810059,1.1726394891738892,5.687788963317871,-0.05770866572856903,4.814675331115723,8.611685752868652,2.5564839839935303,9.588892936706543,2.9062438011169434,2.9375765323638916,5.256311416625977,8.376121520996094,8.537217140197754,9.266106605529785,6.789878845214844,8.42757797241211,9.589052200317383,5.715141773223877,8.707926750183105,11.283564567565918,5.864413738250732,0.7690025568008423,5.815042495727539,0.4394044280052185,2.8572795391082764,1.7125401496887207,8.860603332519531,6.185523986816406,8.497283935546875,-0.011663069017231464,1.4823169708251953,9.121384620666504,1.040239930152893,0.5205007195472717,4.126011848449707,9.827387809753418,0.5833110213279724,9.585092544555664,3.2373995780944824,6.392280101776123,3.9320127964019775,1.7985986471176147,11.297062873840332,9.326141357421875,1.050976276397705,5.922569751739502,0.5038936138153076,8.66779613494873,8.854918479919434,7.569675445556641,8.71497917175293,9.089032173156738,8.884052276611328,8.810349464416504,8.584762573242188,8.759232521057129,5.375331401824951,8.589151382446289,4.983884334564209,7.033661365509033,4.78177547454834,3.53475284576416,8.187339782714844,3.766500949859619,8.886414527893066,0.8911909461021423,9.209959030151367,0.46147042512893677,5.112400054931641,4.881662845611572,3.5585503578186035,7.270344257354736,7.4784321784973145,3.208345890045166,5.114207744598389,2.5611965656280518,-0.5569528341293335,5.345398902893066,3.6635591983795166,8.916927337646484,1.3041856288909912,4.511231899261475,2.525883674621582,-0.5614286065101624,9.568307876586914,1.1071385145187378,0.03086894191801548,1.1867693662643433,0.5178530812263489,1.725454330444336,0.01614319533109665,4.037097930908203,9.728094100952148,0.03104577586054802,11.217798233032227,5.625102996826172,8.337333679199219,8.900900840759277,6.293563365936279,2.7029972076416016,9.920313835144043,4.174696445465088,4.420051097869873,1.8782105445861816,-0.5189803838729858,11.183192253112793,0.7086218595504761,7.911045074462891,0.8826794624328613,3.9202966690063477,0.9259899854660034,0.8112176060676575,4.950093746185303,8.397440910339355,9.237591743469238,7.687914848327637,0.3960478901863098,8.906543731689453,8.545670509338379,2.40476131439209,11.305554389953613,6.809562683105469,0.6187300682067871,4.930699825286865,8.252435684204102,9.080679893493652,4.2242536544799805,4.203248977661133,3.966623544692993,3.9971179962158203,3.701643943786621,0.35495808720588684,3.1945533752441406,4.428664684295654,7.7635884284973145,0.8932406306266785,1.8242355585098267,7.587399482727051,6.054581165313721,5.598260879516602,2.617994785308838,3.6220462322235107,9.788277626037598,0.08328995108604431,11.135604858398438,4.9078545570373535,8.650762557983398,1.8782373666763306,5.138088226318359,6.904779434204102,8.75605583190918,3.4665722846984863,-0.38932639360427856,-0.3262796103954315,4.347157001495361,0.46998122334480286,5.041516304016113,2.3844082355499268,1.4137684106826782,4.8458733558654785,9.903855323791504,8.777158737182617,3.719419240951538,0.2974638044834137,9.216306686401367,9.304300308227539,5.341712474822998,2.7292520999908447,4.128412246704102,1.4517930746078491,8.513228416442871,2.6345055103302,9.397433280944824,9.127212524414062,4.128674507141113,2.0933454036712646,4.504039764404297,11.187891960144043,1.948104977607727,5.4137043952941895,1.0961565971374512,9.927414894104004,8.592618942260742,4.46257209777832,3.1683719158172607,6.010114669799805,8.713687896728516,8.242464065551758,1.5209786891937256,3.0220136642456055,0.15088191628456116,1.9225273132324219,1.5944768190383911,11.190922737121582,5.129072189331055,5.070949554443359,0.7238367795944214,4.482912063598633,8.03463077545166,7.4776716232299805,5.728768825531006,5.616883754730225,2.6028530597686768,8.482938766479492,5.183937072753906,4.5953826904296875,5.720661163330078,5.343916416168213,2.7271342277526855,8.868170738220215,2.5373764038085938,11.270659446716309,3.5093727111816406,5.4592390060424805,5.726774215698242,1.4601690769195557,2.7734076976776123,8.096506118774414,11.29142951965332,4.965953350067139,2.710987091064453,0.4554244875907898,9.2161226272583,9.543112754821777,8.637308120727539,11.30909252166748,8.32867431640625,6.494701862335205,4.268979072570801,5.058234691619873,2.9572951793670654,4.594158172607422,1.856440782546997,1.2199727296829224,6.033059120178223,1.0404266119003296,3.811285972595215,0.01967448741197586,8.478373527526855,0.11405850201845169,3.905310869216919,11.29317855834961,7.710275173187256,9.298964500427246,7.172817707061768,5.67019510269165,6.25814151763916,2.59179425239563,2.689075469970703,7.443396091461182,4.461443901062012,6.5774054527282715,3.9258511066436768,4.964054107666016,6.552525520324707,2.2539663314819336,8.670193672180176,7.390521049499512,8.72752571105957,8.690573692321777,0.9505740404129028,5.38704252243042,6.348227024078369,4.953256607055664,4.297373294830322,4.436603546142578,4.017935752868652,5.026760101318359,7.527824878692627,5.0654401779174805,0.24838146567344666,9.848583221435547,0.9455795884132385,1.8253048658370972,4.222162246704102,8.13369083404541,-0.054445914924144745,4.290383338928223,2.7052369117736816,4.253440856933594,1.3279801607131958,9.220601081848145,0.8141155242919922,5.164731502532959,10.477371215820312,1.7860714197158813,9.002099990844727,8.635612487792969,2.7540011405944824,-0.34044012427330017,5.5042805671691895,10.1256103515625,2.880282163619995,4.48354434967041,1.8391249179840088,5.111613750457764,8.368742942810059,7.947208404541016,3.7124924659729004,9.677627563476562,7.7392706871032715,5.409512519836426,2.289863109588623,3.240943193435669,2.7217459678649902,8.49714183807373,3.574531316757202,6.592505931854248,9.762505531311035,9.246397018432617,1.3901951313018799,7.417264938354492,0.3983326554298401,1.9990158081054688,0.09615059196949005,1.540893316268921,4.133302211761475,9.034690856933594,5.073317050933838,6.0999932289123535,3.608997106552124,7.151139259338379,4.438787937164307,4.313849925994873,10.837174415588379,3.888705015182495,3.789809465408325,3.590561628341675,8.576875686645508,9.575349807739258,9.793777465820312,9.7142915725708,4.3559746742248535,10.410890579223633,3.978377103805542,10.049043655395508,7.2846503257751465,3.2136054039001465,9.411112785339355,3.534207344055176,2.590695858001709,3.0612497329711914,1.8163930177688599,5.138893127441406,11.199196815490723,1.742807149887085,4.894596576690674,4.384425163269043,1.8659592866897583,6.9602813720703125,9.542036056518555,5.460505485534668,5.133335113525391,7.278433799743652,7.916680335998535,4.167078495025635,0.4378840923309326,9.426657676696777,8.67233943939209,9.880191802978516,2.3652071952819824,4.859746932983398,1.5373424291610718,4.576826572418213,9.759710311889648,9.3668851852417,3.752840995788574,4.841429233551025,8.99669361114502,4.127695560455322,8.110089302062988,5.356802940368652,1.3719627857208252,11.296278953552246,8.02311897277832,0.9588790535926819,4.743875026702881,4.233277320861816,1.000760793685913,0.12113851308822632,8.672639846801758],\"yaxis\":\"y\",\"type\":\"scattergl\"}],                        {\"template\":{\"data\":{\"histogram2dcontour\":[{\"type\":\"histogram2dcontour\",\"colorbar\":{\"outlinewidth\":0,\"ticks\":\"\"},\"colorscale\":[[0.0,\"#0d0887\"],[0.1111111111111111,\"#46039f\"],[0.2222222222222222,\"#7201a8\"],[0.3333333333333333,\"#9c179e\"],[0.4444444444444444,\"#bd3786\"],[0.5555555555555556,\"#d8576b\"],[0.6666666666666666,\"#ed7953\"],[0.7777777777777778,\"#fb9f3a\"],[0.8888888888888888,\"#fdca26\"],[1.0,\"#f0f921\"]]}],\"choropleth\":[{\"type\":\"choropleth\",\"colorbar\":{\"outlinewidth\":0,\"ticks\":\"\"}}],\"histogram2d\":[{\"type\":\"histogram2d\",\"colorbar\":{\"outlinewidth\":0,\"ticks\":\"\"},\"colorscale\":[[0.0,\"#0d0887\"],[0.1111111111111111,\"#46039f\"],[0.2222222222222222,\"#7201a8\"],[0.3333333333333333,\"#9c179e\"],[0.4444444444444444,\"#bd3786\"],[0.5555555555555556,\"#d8576b\"],[0.6666666666666666,\"#ed7953\"],[0.7777777777777778,\"#fb9f3a\"],[0.8888888888888888,\"#fdca26\"],[1.0,\"#f0f921\"]]}],\"heatmap\":[{\"type\":\"heatmap\",\"colorbar\":{\"outlinewidth\":0,\"ticks\":\"\"},\"colorscale\":[[0.0,\"#0d0887\"],[0.1111111111111111,\"#46039f\"],[0.2222222222222222,\"#7201a8\"],[0.3333333333333333,\"#9c179e\"],[0.4444444444444444,\"#bd3786\"],[0.5555555555555556,\"#d8576b\"],[0.6666666666666666,\"#ed7953\"],[0.7777777777777778,\"#fb9f3a\"],[0.8888888888888888,\"#fdca26\"],[1.0,\"#f0f921\"]]}],\"heatmapgl\":[{\"type\":\"heatmapgl\",\"colorbar\":{\"outlinewidth\":0,\"ticks\":\"\"},\"colorscale\":[[0.0,\"#0d0887\"],[0.1111111111111111,\"#46039f\"],[0.2222222222222222,\"#7201a8\"],[0.3333333333333333,\"#9c179e\"],[0.4444444444444444,\"#bd3786\"],[0.5555555555555556,\"#d8576b\"],[0.6666666666666666,\"#ed7953\"],[0.7777777777777778,\"#fb9f3a\"],[0.8888888888888888,\"#fdca26\"],[1.0,\"#f0f921\"]]}],\"contourcarpet\":[{\"type\":\"contourcarpet\",\"colorbar\":{\"outlinewidth\":0,\"ticks\":\"\"}}],\"contour\":[{\"type\":\"contour\",\"colorbar\":{\"outlinewidth\":0,\"ticks\":\"\"},\"colorscale\":[[0.0,\"#0d0887\"],[0.1111111111111111,\"#46039f\"],[0.2222222222222222,\"#7201a8\"],[0.3333333333333333,\"#9c179e\"],[0.4444444444444444,\"#bd3786\"],[0.5555555555555556,\"#d8576b\"],[0.6666666666666666,\"#ed7953\"],[0.7777777777777778,\"#fb9f3a\"],[0.8888888888888888,\"#fdca26\"],[1.0,\"#f0f921\"]]}],\"surface\":[{\"type\":\"surface\",\"colorbar\":{\"outlinewidth\":0,\"ticks\":\"\"},\"colorscale\":[[0.0,\"#0d0887\"],[0.1111111111111111,\"#46039f\"],[0.2222222222222222,\"#7201a8\"],[0.3333333333333333,\"#9c179e\"],[0.4444444444444444,\"#bd3786\"],[0.5555555555555556,\"#d8576b\"],[0.6666666666666666,\"#ed7953\"],[0.7777777777777778,\"#fb9f3a\"],[0.8888888888888888,\"#fdca26\"],[1.0,\"#f0f921\"]]}],\"mesh3d\":[{\"type\":\"mesh3d\",\"colorbar\":{\"outlinewidth\":0,\"ticks\":\"\"}}],\"scatter\":[{\"fillpattern\":{\"fillmode\":\"overlay\",\"size\":10,\"solidity\":0.2},\"type\":\"scatter\"}],\"parcoords\":[{\"type\":\"parcoords\",\"line\":{\"colorbar\":{\"outlinewidth\":0,\"ticks\":\"\"}}}],\"scatterpolargl\":[{\"type\":\"scatterpolargl\",\"marker\":{\"colorbar\":{\"outlinewidth\":0,\"ticks\":\"\"}}}],\"bar\":[{\"error_x\":{\"color\":\"#2a3f5f\"},\"error_y\":{\"color\":\"#2a3f5f\"},\"marker\":{\"line\":{\"color\":\"#E5ECF6\",\"width\":0.5},\"pattern\":{\"fillmode\":\"overlay\",\"size\":10,\"solidity\":0.2}},\"type\":\"bar\"}],\"scattergeo\":[{\"type\":\"scattergeo\",\"marker\":{\"colorbar\":{\"outlinewidth\":0,\"ticks\":\"\"}}}],\"scatterpolar\":[{\"type\":\"scatterpolar\",\"marker\":{\"colorbar\":{\"outlinewidth\":0,\"ticks\":\"\"}}}],\"histogram\":[{\"marker\":{\"pattern\":{\"fillmode\":\"overlay\",\"size\":10,\"solidity\":0.2}},\"type\":\"histogram\"}],\"scattergl\":[{\"type\":\"scattergl\",\"marker\":{\"colorbar\":{\"outlinewidth\":0,\"ticks\":\"\"}}}],\"scatter3d\":[{\"type\":\"scatter3d\",\"line\":{\"colorbar\":{\"outlinewidth\":0,\"ticks\":\"\"}},\"marker\":{\"colorbar\":{\"outlinewidth\":0,\"ticks\":\"\"}}}],\"scattermapbox\":[{\"type\":\"scattermapbox\",\"marker\":{\"colorbar\":{\"outlinewidth\":0,\"ticks\":\"\"}}}],\"scatterternary\":[{\"type\":\"scatterternary\",\"marker\":{\"colorbar\":{\"outlinewidth\":0,\"ticks\":\"\"}}}],\"scattercarpet\":[{\"type\":\"scattercarpet\",\"marker\":{\"colorbar\":{\"outlinewidth\":0,\"ticks\":\"\"}}}],\"carpet\":[{\"aaxis\":{\"endlinecolor\":\"#2a3f5f\",\"gridcolor\":\"white\",\"linecolor\":\"white\",\"minorgridcolor\":\"white\",\"startlinecolor\":\"#2a3f5f\"},\"baxis\":{\"endlinecolor\":\"#2a3f5f\",\"gridcolor\":\"white\",\"linecolor\":\"white\",\"minorgridcolor\":\"white\",\"startlinecolor\":\"#2a3f5f\"},\"type\":\"carpet\"}],\"table\":[{\"cells\":{\"fill\":{\"color\":\"#EBF0F8\"},\"line\":{\"color\":\"white\"}},\"header\":{\"fill\":{\"color\":\"#C8D4E3\"},\"line\":{\"color\":\"white\"}},\"type\":\"table\"}],\"barpolar\":[{\"marker\":{\"line\":{\"color\":\"#E5ECF6\",\"width\":0.5},\"pattern\":{\"fillmode\":\"overlay\",\"size\":10,\"solidity\":0.2}},\"type\":\"barpolar\"}],\"pie\":[{\"automargin\":true,\"type\":\"pie\"}]},\"layout\":{\"autotypenumbers\":\"strict\",\"colorway\":[\"#636efa\",\"#EF553B\",\"#00cc96\",\"#ab63fa\",\"#FFA15A\",\"#19d3f3\",\"#FF6692\",\"#B6E880\",\"#FF97FF\",\"#FECB52\"],\"font\":{\"color\":\"#2a3f5f\"},\"hovermode\":\"closest\",\"hoverlabel\":{\"align\":\"left\"},\"paper_bgcolor\":\"white\",\"plot_bgcolor\":\"#E5ECF6\",\"polar\":{\"bgcolor\":\"#E5ECF6\",\"angularaxis\":{\"gridcolor\":\"white\",\"linecolor\":\"white\",\"ticks\":\"\"},\"radialaxis\":{\"gridcolor\":\"white\",\"linecolor\":\"white\",\"ticks\":\"\"}},\"ternary\":{\"bgcolor\":\"#E5ECF6\",\"aaxis\":{\"gridcolor\":\"white\",\"linecolor\":\"white\",\"ticks\":\"\"},\"baxis\":{\"gridcolor\":\"white\",\"linecolor\":\"white\",\"ticks\":\"\"},\"caxis\":{\"gridcolor\":\"white\",\"linecolor\":\"white\",\"ticks\":\"\"}},\"coloraxis\":{\"colorbar\":{\"outlinewidth\":0,\"ticks\":\"\"}},\"colorscale\":{\"sequential\":[[0.0,\"#0d0887\"],[0.1111111111111111,\"#46039f\"],[0.2222222222222222,\"#7201a8\"],[0.3333333333333333,\"#9c179e\"],[0.4444444444444444,\"#bd3786\"],[0.5555555555555556,\"#d8576b\"],[0.6666666666666666,\"#ed7953\"],[0.7777777777777778,\"#fb9f3a\"],[0.8888888888888888,\"#fdca26\"],[1.0,\"#f0f921\"]],\"sequentialminus\":[[0.0,\"#0d0887\"],[0.1111111111111111,\"#46039f\"],[0.2222222222222222,\"#7201a8\"],[0.3333333333333333,\"#9c179e\"],[0.4444444444444444,\"#bd3786\"],[0.5555555555555556,\"#d8576b\"],[0.6666666666666666,\"#ed7953\"],[0.7777777777777778,\"#fb9f3a\"],[0.8888888888888888,\"#fdca26\"],[1.0,\"#f0f921\"]],\"diverging\":[[0,\"#8e0152\"],[0.1,\"#c51b7d\"],[0.2,\"#de77ae\"],[0.3,\"#f1b6da\"],[0.4,\"#fde0ef\"],[0.5,\"#f7f7f7\"],[0.6,\"#e6f5d0\"],[0.7,\"#b8e186\"],[0.8,\"#7fbc41\"],[0.9,\"#4d9221\"],[1,\"#276419\"]]},\"xaxis\":{\"gridcolor\":\"white\",\"linecolor\":\"white\",\"ticks\":\"\",\"title\":{\"standoff\":15},\"zerolinecolor\":\"white\",\"automargin\":true,\"zerolinewidth\":2},\"yaxis\":{\"gridcolor\":\"white\",\"linecolor\":\"white\",\"ticks\":\"\",\"title\":{\"standoff\":15},\"zerolinecolor\":\"white\",\"automargin\":true,\"zerolinewidth\":2},\"scene\":{\"xaxis\":{\"backgroundcolor\":\"#E5ECF6\",\"gridcolor\":\"white\",\"linecolor\":\"white\",\"showbackground\":true,\"ticks\":\"\",\"zerolinecolor\":\"white\",\"gridwidth\":2},\"yaxis\":{\"backgroundcolor\":\"#E5ECF6\",\"gridcolor\":\"white\",\"linecolor\":\"white\",\"showbackground\":true,\"ticks\":\"\",\"zerolinecolor\":\"white\",\"gridwidth\":2},\"zaxis\":{\"backgroundcolor\":\"#E5ECF6\",\"gridcolor\":\"white\",\"linecolor\":\"white\",\"showbackground\":true,\"ticks\":\"\",\"zerolinecolor\":\"white\",\"gridwidth\":2}},\"shapedefaults\":{\"line\":{\"color\":\"#2a3f5f\"}},\"annotationdefaults\":{\"arrowcolor\":\"#2a3f5f\",\"arrowhead\":0,\"arrowwidth\":1},\"geo\":{\"bgcolor\":\"white\",\"landcolor\":\"#E5ECF6\",\"subunitcolor\":\"white\",\"showland\":true,\"showlakes\":true,\"lakecolor\":\"white\"},\"title\":{\"x\":0.05},\"mapbox\":{\"style\":\"light\"}}},\"xaxis\":{\"anchor\":\"y\",\"domain\":[0.0,1.0],\"title\":{\"text\":\"0\"}},\"yaxis\":{\"anchor\":\"x\",\"domain\":[0.0,1.0],\"title\":{\"text\":\"1\"}},\"coloraxis\":{\"colorbar\":{\"title\":{\"text\":\"Anomaly\"}},\"colorscale\":[[0.0,\"#0d0887\"],[0.1111111111111111,\"#46039f\"],[0.2222222222222222,\"#7201a8\"],[0.3333333333333333,\"#9c179e\"],[0.4444444444444444,\"#bd3786\"],[0.5555555555555556,\"#d8576b\"],[0.6666666666666666,\"#ed7953\"],[0.7777777777777778,\"#fb9f3a\"],[0.8888888888888888,\"#fdca26\"],[1.0,\"#f0f921\"]]},\"legend\":{\"tracegroupgap\":0},\"title\":{\"text\":\"uMAP Plot for Outliers\"},\"height\":800,\"width\":900},                        {\"responsive\": true}                    ).then(function(){\n",
       "                            \n",
       "var gd = document.getElementById('77a321a7-5af3-4f75-92b4-76e0d163fec5');\n",
       "var x = new MutationObserver(function (mutations, observer) {{\n",
       "        var display = window.getComputedStyle(gd).display;\n",
       "        if (!display || display === 'none') {{\n",
       "            console.log([gd, 'removed!']);\n",
       "            Plotly.purge(gd);\n",
       "            observer.disconnect();\n",
       "        }}\n",
       "}});\n",
       "\n",
       "// Listen for the removal of the full notebook cells\n",
       "var notebookContainer = gd.closest('#notebook-container');\n",
       "if (notebookContainer) {{\n",
       "    x.observe(notebookContainer, {childList: true});\n",
       "}}\n",
       "\n",
       "// Listen for the clearing of the current output cell\n",
       "var outputEl = gd.closest('.output');\n",
       "if (outputEl) {{\n",
       "    x.observe(outputEl, {childList: true});\n",
       "}}\n",
       "\n",
       "                        })                };                });            </script>        </div>"
      ]
     },
     "metadata": {},
     "output_type": "display_data"
    }
   ],
   "source": [
    "# plot_model(iforest, plot = 'tsne')\n",
    "plot_model(iforest, plot = 'umap')"
   ]
  },
  {
   "cell_type": "code",
   "execution_count": 59,
   "id": "a1d3844d-7447-420b-8f01-a57fccc989cd",
   "metadata": {},
   "outputs": [
    {
     "name": "stdout",
     "output_type": "stream",
     "text": [
      "OCSVM(cache_size=200, coef0=0.0, contamination=0.05, degree=3, gamma='auto',\n",
      "   kernel='rbf', max_iter=-1, nu=0.5, shrinking=True, tol=0.001,\n",
      "   verbose=False)\n",
      "        0      1      2      3      4      5      6      7      8      9  \\\n",
      "0    49.0   49.0   49.0   10.0   49.0   49.0   49.0   49.0   49.0   49.0   \n",
      "1    60.0   62.0   60.0   62.0   32.0   32.0   32.0   32.0   32.0   60.0   \n",
      "2   110.0  116.0   32.0   10.0   32.0   32.0   32.0   32.0   32.0   82.0   \n",
      "3    93.0  115.0   32.0   83.0   47.0   47.0   47.0  114.0   84.0  115.0   \n",
      "4   111.0  116.0   32.0  105.0  103.0  103.0  103.0  111.0  101.0  101.0   \n",
      "5    10.0   32.0  118.0  103.0   32.0   32.0   32.0   70.0   32.0  105.0   \n",
      "6    97.0   97.0   32.0   61.0  116.0  116.0  116.0   83.0   32.0  115.0   \n",
      "7    32.0  112.0   32.0   34.0   77.0   77.0   77.0  105.0   32.0  111.0   \n",
      "8    10.0  111.0   58.0   60.0   32.0   32.0   32.0   62.0   84.0   32.0   \n",
      "9    48.0  103.0   41.0   32.0  101.0  101.0  101.0  112.0   32.0   32.0   \n",
      "10   48.0  101.0   44.0   32.0  110.0  110.0  110.0  101.0   48.0   32.0   \n",
      "11   48.0   32.0   84.0   70.0   32.0   32.0   32.0   32.0   47.0   32.0   \n",
      "12  114.0   82.0   32.0   32.0   32.0   32.0   32.0   62.0   47.0   32.0   \n",
      "13   10.0  101.0   32.0   32.0   47.0   47.0   47.0   62.0   84.0   32.0   \n",
      "14   47.0  121.0   32.0   32.0  112.0  112.0  112.0  110.0  101.0   32.0   \n",
      "15   47.0   34.0   32.0   32.0  116.0  116.0  116.0   32.0   10.0   32.0   \n",
      "16  111.0   32.0   32.0   32.0  101.0  101.0  101.0  114.0   99.0   32.0   \n",
      "17   47.0  115.0   32.0  101.0   32.0   32.0   32.0   32.0   47.0   32.0   \n",
      "18   60.0   69.0   32.0   10.0   32.0   32.0   32.0   32.0   32.0   32.0   \n",
      "19    9.0  111.0   32.0   32.0   32.0   32.0   32.0   32.0   32.0   32.0   \n",
      "20   32.0   10.0   32.0   32.0   32.0   32.0   32.0   32.0  110.0   32.0   \n",
      "21   66.0  120.0   32.0   32.0   65.0   65.0   65.0  111.0  117.0   32.0   \n",
      "22  105.0   67.0   32.0   32.0  111.0  111.0  111.0   10.0  121.0   32.0   \n",
      "23   48.0  115.0   32.0   62.0   10.0   10.0   10.0  117.0   32.0   32.0   \n",
      "24   69.0   32.0   32.0   32.0  117.0  117.0  117.0   32.0  111.0   32.0   \n",
      "25   32.0   32.0   32.0   32.0  112.0  112.0  112.0   32.0  101.0   32.0   \n",
      "26   32.0   97.0   32.0   32.0  110.0  110.0  110.0   32.0   32.0   32.0   \n",
      "27  101.0  110.0   32.0   32.0   10.0   10.0   10.0   32.0   32.0   32.0   \n",
      "28   66.0  110.0   32.0   32.0   57.0   57.0   57.0  101.0   32.0   32.0   \n",
      "29   72.0  110.0   32.0   32.0   32.0   32.0   32.0   62.0  110.0   32.0   \n",
      "30    9.0  114.0   32.0   32.0   62.0   62.0   62.0   84.0   32.0   32.0   \n",
      "31   62.0  116.0   32.0   32.0  116.0  116.0  116.0   84.0   65.0   32.0   \n",
      "32  101.0   32.0   32.0   32.0   93.0   93.0   93.0   48.0   32.0   32.0   \n",
      "33   98.0  114.0   32.0   32.0   62.0   62.0   62.0   10.0   32.0   32.0   \n",
      "34  111.0   60.0   32.0   32.0   98.0   98.0   98.0  101.0   32.0   32.0   \n",
      "35  101.0   32.0   32.0   32.0   98.0   98.0   98.0   32.0   32.0   32.0   \n",
      "36  115.0  100.0   32.0   32.0  115.0  115.0  115.0  101.0   60.0   32.0   \n",
      "37  101.0  116.0   32.0   32.0  101.0  101.0  101.0   70.0   47.0   32.0   \n",
      "38  109.0   32.0   32.0   32.0  109.0  109.0  109.0  108.0  101.0   32.0   \n",
      "39   60.0   32.0   32.0   32.0   32.0   32.0   32.0   47.0  109.0   32.0   \n",
      "40   82.0  101.0   32.0   32.0   47.0   47.0   47.0   46.0   84.0   32.0   \n",
      "41  111.0  116.0   32.0   32.0  121.0  121.0  121.0   83.0   32.0   32.0   \n",
      "42   37.0   32.0   32.0   32.0   32.0   32.0   32.0   99.0   10.0   32.0   \n",
      "43   69.0   32.0   32.0   32.0   32.0   32.0   32.0  111.0   32.0   32.0   \n",
      "44   32.0   32.0   32.0   32.0  112.0   47.0   84.0   32.0  115.0   32.0   \n",
      "45   32.0   32.0   32.0   32.0  103.0  116.0  116.0   52.0   69.0   32.0   \n",
      "46   32.0   32.0   32.0   32.0  116.0   47.0  119.0   98.0  115.0   32.0   \n",
      "47   32.0   32.0   32.0   32.0   32.0   85.0   45.0   76.0  101.0   32.0   \n",
      "48   32.0   32.0   32.0   32.0  102.0   47.0  116.0   50.0   32.0   32.0   \n",
      "49   32.0   32.0   32.0   32.0   48.0   32.0   47.0  109.0  116.0   32.0   \n",
      "50   32.0   32.0   32.0   32.0   48.0   48.0  120.0   10.0   65.0   32.0   \n",
      "51   32.0   32.0   32.0   32.0   48.0   53.0   32.0   48.0   45.0   32.0   \n",
      "52   32.0   32.0   32.0   32.0   54.0   51.0   54.0   48.0   66.0   32.0   \n",
      "53   32.0   32.0   32.0   32.0   57.0   32.0   48.0   56.0   32.0   32.0   \n",
      "54   32.0   32.0   32.0   32.0  116.0   48.0   32.0   10.0   70.0   32.0   \n",
      "55   32.0   32.0   32.0   32.0  116.0   32.0   48.0   55.0   53.0   32.0   \n",
      "56   32.0   32.0   32.0   32.0   79.0   32.0   48.0   97.0   48.0   32.0   \n",
      "57   32.0   32.0   32.0   32.0   32.0  101.0   32.0   97.0   48.0   32.0   \n",
      "58   32.0   32.0   32.0   32.0   32.0   32.0   32.0   32.0   47.0   32.0   \n",
      "\n",
      "    Anomaly  Anomaly_Score  \n",
      "0         0     -25.789310  \n",
      "1         0      -4.261940  \n",
      "2         0      48.822633  \n",
      "3         0      64.122188  \n",
      "4         1      71.415170  \n",
      "5         1      80.498607  \n",
      "6         1      72.527316  \n",
      "7         0      65.424169  \n",
      "8         0       5.670008  \n",
      "9         0       1.303659  \n",
      "10        0      -0.538501  \n",
      "11        0      18.219297  \n",
      "12        0     -17.182380  \n",
      "13        0     -17.037522  \n",
      "14        0      26.860900  \n",
      "15        0      13.736376  \n",
      "16        0      19.271552  \n",
      "17        0      15.435536  \n",
      "18        0     -13.928532  \n",
      "19        0       7.142948  \n",
      "20        0       5.183463  \n",
      "21        0       9.638436  \n",
      "22        0      37.592162  \n",
      "23        0      24.378190  \n",
      "24        0      18.739901  \n",
      "25        0       7.947581  \n",
      "26        0       1.944021  \n",
      "27        0      19.036214  \n",
      "28        0     -21.453285  \n",
      "29        0      -8.493009  \n",
      "30        0      -4.155837  \n",
      "31        0       7.701083  \n",
      "32        0      -8.567620  \n",
      "33        0       6.915653  \n",
      "34        0      -0.056734  \n",
      "35        0       1.579532  \n",
      "36        0      21.688990  \n",
      "37        0       3.155584  \n",
      "38        0      22.456671  \n",
      "39        0     -16.215386  \n",
      "40        0     -31.343470  \n",
      "41        0      31.390158  \n",
      "42        0      -2.361826  \n",
      "43        0     -10.615817  \n",
      "44        0      10.826905  \n",
      "45        0      -9.289494  \n",
      "46        0      26.993351  \n",
      "47        0     -16.152369  \n",
      "48        0       0.950896  \n",
      "49        0       2.595426  \n",
      "50        0       8.022127  \n",
      "51        0     -33.198586  \n",
      "52        0     -42.497736  \n",
      "53        0     -28.061410  \n",
      "54        0      16.859496  \n",
      "55        0       0.909140  \n",
      "56        0     -17.498130  \n",
      "57        0      -4.283833  \n",
      "58        0     -20.659195  \n"
     ]
    },
    {
     "data": {
      "text/html": [
       "<div>\n",
       "<style scoped>\n",
       "    .dataframe tbody tr th:only-of-type {\n",
       "        vertical-align: middle;\n",
       "    }\n",
       "\n",
       "    .dataframe tbody tr th {\n",
       "        vertical-align: top;\n",
       "    }\n",
       "\n",
       "    .dataframe thead th {\n",
       "        text-align: right;\n",
       "    }\n",
       "</style>\n",
       "<table border=\"1\" class=\"dataframe\">\n",
       "  <thead>\n",
       "    <tr style=\"text-align: right;\">\n",
       "      <th></th>\n",
       "      <th>0</th>\n",
       "      <th>1</th>\n",
       "      <th>2</th>\n",
       "      <th>3</th>\n",
       "      <th>4</th>\n",
       "      <th>5</th>\n",
       "      <th>6</th>\n",
       "      <th>7</th>\n",
       "      <th>8</th>\n",
       "      <th>9</th>\n",
       "      <th>Anomaly</th>\n",
       "      <th>Anomaly_Score</th>\n",
       "    </tr>\n",
       "  </thead>\n",
       "  <tbody>\n",
       "    <tr>\n",
       "      <th>0</th>\n",
       "      <td>50.0</td>\n",
       "      <td>101.0</td>\n",
       "      <td>58.0</td>\n",
       "      <td>108.0</td>\n",
       "      <td>62.0</td>\n",
       "      <td>62.0</td>\n",
       "      <td>62.0</td>\n",
       "      <td>41.0</td>\n",
       "      <td>111.0</td>\n",
       "      <td>111.0</td>\n",
       "      <td>0</td>\n",
       "      <td>60.377149</td>\n",
       "    </tr>\n",
       "    <tr>\n",
       "      <th>1</th>\n",
       "      <td>116.0</td>\n",
       "      <td>32.0</td>\n",
       "      <td>32.0</td>\n",
       "      <td>32.0</td>\n",
       "      <td>53.0</td>\n",
       "      <td>53.0</td>\n",
       "      <td>53.0</td>\n",
       "      <td>32.0</td>\n",
       "      <td>62.0</td>\n",
       "      <td>32.0</td>\n",
       "      <td>0</td>\n",
       "      <td>-8.576215</td>\n",
       "    </tr>\n",
       "    <tr>\n",
       "      <th>2</th>\n",
       "      <td>32.0</td>\n",
       "      <td>32.0</td>\n",
       "      <td>32.0</td>\n",
       "      <td>32.0</td>\n",
       "      <td>47.0</td>\n",
       "      <td>47.0</td>\n",
       "      <td>47.0</td>\n",
       "      <td>116.0</td>\n",
       "      <td>32.0</td>\n",
       "      <td>32.0</td>\n",
       "      <td>0</td>\n",
       "      <td>-11.524944</td>\n",
       "    </tr>\n",
       "    <tr>\n",
       "      <th>3</th>\n",
       "      <td>49.0</td>\n",
       "      <td>99.0</td>\n",
       "      <td>32.0</td>\n",
       "      <td>32.0</td>\n",
       "      <td>121.0</td>\n",
       "      <td>121.0</td>\n",
       "      <td>121.0</td>\n",
       "      <td>32.0</td>\n",
       "      <td>32.0</td>\n",
       "      <td>32.0</td>\n",
       "      <td>0</td>\n",
       "      <td>12.394025</td>\n",
       "    </tr>\n",
       "    <tr>\n",
       "      <th>4</th>\n",
       "      <td>32.0</td>\n",
       "      <td>32.0</td>\n",
       "      <td>32.0</td>\n",
       "      <td>32.0</td>\n",
       "      <td>48.0</td>\n",
       "      <td>48.0</td>\n",
       "      <td>51.0</td>\n",
       "      <td>48.0</td>\n",
       "      <td>46.0</td>\n",
       "      <td>32.0</td>\n",
       "      <td>0</td>\n",
       "      <td>-38.740028</td>\n",
       "    </tr>\n",
       "  </tbody>\n",
       "</table>\n",
       "</div>"
      ],
      "text/plain": [
       "       0      1     2      3      4      5      6      7      8      9  \\\n",
       "0   50.0  101.0  58.0  108.0   62.0   62.0   62.0   41.0  111.0  111.0   \n",
       "1  116.0   32.0  32.0   32.0   53.0   53.0   53.0   32.0   62.0   32.0   \n",
       "2   32.0   32.0  32.0   32.0   47.0   47.0   47.0  116.0   32.0   32.0   \n",
       "3   49.0   99.0  32.0   32.0  121.0  121.0  121.0   32.0   32.0   32.0   \n",
       "4   32.0   32.0  32.0   32.0   48.0   48.0   51.0   48.0   46.0   32.0   \n",
       "\n",
       "   Anomaly  Anomaly_Score  \n",
       "0        0      60.377149  \n",
       "1        0      -8.576215  \n",
       "2        0     -11.524944  \n",
       "3        0      12.394025  \n",
       "4        0     -38.740028  "
      ]
     },
     "execution_count": 59,
     "metadata": {},
     "output_type": "execute_result"
    }
   ],
   "source": [
    "# svm model\n",
    "svm = create_model('svm')\n",
    "svm_predictions = predict_model(model = svm, data = data_unseen)\n",
    "svm_predictions.head()\n",
    "print(svm_predictions)\n",
    "    \n",
    "svm_results = assign_model(svm)\n",
    "svm_results.head()"
   ]
  },
  {
   "cell_type": "code",
   "execution_count": 71,
   "id": "42262d7d-9848-4972-b3a9-f4a8eb514065",
   "metadata": {},
   "outputs": [
    {
     "name": "stdout",
     "output_type": "stream",
     "text": [
      "       0      1      2      3      4      5      6      7      8      9  \\\n",
      "4  111.0  116.0   32.0  105.0  103.0  103.0  103.0  111.0  101.0  101.0   \n",
      "5   10.0   32.0  118.0  103.0   32.0   32.0   32.0   70.0   32.0  105.0   \n",
      "6   97.0   97.0   32.0   61.0  116.0  116.0  116.0   83.0   32.0  115.0   \n",
      "\n",
      "   Anomaly  Anomaly_Score  \n",
      "4        1      71.415170  \n",
      "5        1      80.498607  \n",
      "6        1      72.527316  \n",
      "ot igggoee\n",
      " vg   F iaa =tttS s\n"
     ]
    }
   ],
   "source": [
    "print(svm_predictions.iloc[4:7])\n",
    "pred_rows = svm_predictions.iloc[4:7].values\n",
    "pred_ints = pred_rows.astype(int)\n",
    "\n",
    "sentence=\"\"\n",
    "for i in range(3):\n",
    "    for j in range(10):\n",
    "        sentence = sentence + chr(pred_ints[i][j])\n",
    "        # print(chr(pred_ints[i][j]))\n",
    "        \n",
    "print(sentence)"
   ]
  },
  {
   "cell_type": "code",
   "execution_count": 60,
   "id": "4260f4bc-4714-47cf-9a4b-0ab10105ed62",
   "metadata": {},
   "outputs": [
    {
     "data": {
      "application/vnd.plotly.v1+json": {
       "config": {
        "plotlyServerURL": "https://plot.ly"
       },
       "data": [
        {
         "customdata": [
          [
           50
          ],
          [
           116
          ],
          [
           32
          ],
          [
           49
          ],
          [
           32
          ],
          [
           32
          ],
          [
           32
          ],
          [
           48
          ],
          [
           50
          ],
          [
           48
          ],
          [
           48
          ],
          [
           47
          ],
          [
           101
          ],
          [
           32
          ],
          [
           32
          ],
          [
           52
          ],
          [
           47
          ],
          [
           99
          ],
          [
           32
          ],
          [
           48
          ],
          [
           32
          ],
          [
           32
          ],
          [
           9
          ],
          [
           32
          ],
          [
           114
          ],
          [
           106
          ],
          [
           65
          ],
          [
           32
          ],
          [
           32
          ],
          [
           62
          ],
          [
           32
          ],
          [
           32
          ],
          [
           121
          ],
          [
           9
          ],
          [
           32
          ],
          [
           32
          ],
          [
           32
          ],
          [
           32
          ],
          [
           32
          ],
          [
           111
          ],
          [
           32
          ],
          [
           112
          ],
          [
           48
          ],
          [
           101
          ],
          [
           92
          ],
          [
           32
          ],
          [
           102
          ],
          [
           32
          ],
          [
           32
          ],
          [
           32
          ],
          [
           82
          ],
          [
           32
          ],
          [
           32
          ],
          [
           32
          ],
          [
           100
          ],
          [
           32
          ],
          [
           119
          ],
          [
           32
          ],
          [
           32
          ],
          [
           32
          ],
          [
           32
          ],
          [
           32
          ],
          [
           49
          ],
          [
           32
          ],
          [
           10
          ],
          [
           32
          ],
          [
           48
          ],
          [
           91
          ],
          [
           32
          ],
          [
           114
          ],
          [
           32
          ],
          [
           53
          ],
          [
           116
          ],
          [
           116
          ],
          [
           32
          ],
          [
           32
          ],
          [
           32
          ],
          [
           32
          ],
          [
           115
          ],
          [
           112
          ],
          [
           10
          ],
          [
           32
          ],
          [
           91
          ],
          [
           101
          ],
          [
           32
          ],
          [
           67
          ],
          [
           105
          ],
          [
           32
          ],
          [
           84
          ],
          [
           32
          ],
          [
           41
          ],
          [
           48
          ],
          [
           10
          ],
          [
           32
          ],
          [
           112
          ],
          [
           32
          ],
          [
           10
          ],
          [
           32
          ],
          [
           117
          ],
          [
           32
          ],
          [
           32
          ],
          [
           32
          ],
          [
           47
          ],
          [
           47
          ],
          [
           111
          ],
          [
           10
          ],
          [
           9
          ],
          [
           84
          ],
          [
           114
          ],
          [
           32
          ],
          [
           32
          ],
          [
           32
          ],
          [
           111
          ],
          [
           32
          ],
          [
           32
          ],
          [
           47
          ],
          [
           48
          ],
          [
           62
          ],
          [
           111
          ],
          [
           32
          ],
          [
           32
          ],
          [
           32
          ],
          [
           32
          ],
          [
           47
          ],
          [
           32
          ],
          [
           106
          ],
          [
           83
          ],
          [
           9
          ],
          [
           49
          ],
          [
           10
          ],
          [
           32
          ],
          [
           32
          ],
          [
           48
          ],
          [
           80
          ],
          [
           32
          ],
          [
           101
          ],
          [
           48
          ],
          [
           84
          ],
          [
           115
          ],
          [
           32
          ],
          [
           48
          ],
          [
           32
          ],
          [
           102
          ],
          [
           101
          ],
          [
           32
          ],
          [
           32
          ],
          [
           32
          ],
          [
           116
          ],
          [
           32
          ],
          [
           32
          ],
          [
           32
          ],
          [
           48
          ],
          [
           10
          ],
          [
           32
          ],
          [
           45
          ],
          [
           105
          ],
          [
           32
          ],
          [
           32
          ],
          [
           62
          ],
          [
           32
          ],
          [
           32
          ],
          [
           97
          ],
          [
           101
          ],
          [
           62
          ],
          [
           48
          ],
          [
           32
          ],
          [
           32
          ],
          [
           32
          ],
          [
           32
          ],
          [
           60
          ],
          [
           110
          ],
          [
           32
          ],
          [
           32
          ],
          [
           32
          ],
          [
           101
          ],
          [
           10
          ],
          [
           49
          ],
          [
           32
          ],
          [
           121
          ],
          [
           32
          ],
          [
           49
          ],
          [
           32
          ],
          [
           32
          ],
          [
           9
          ],
          [
           48
          ],
          [
           99
          ],
          [
           32
          ],
          [
           10
          ],
          [
           32
          ],
          [
           32
          ],
          [
           32
          ],
          [
           32
          ],
          [
           83
          ],
          [
           32
          ],
          [
           110
          ],
          [
           32
          ],
          [
           37
          ],
          [
           9
          ],
          [
           99
          ],
          [
           101
          ],
          [
           111
          ],
          [
           10
          ],
          [
           48
          ],
          [
           101
          ],
          [
           32
          ],
          [
           82
          ],
          [
           32
          ],
          [
           48
          ],
          [
           32
          ],
          [
           32
          ],
          [
           32
          ],
          [
           110
          ],
          [
           62
          ],
          [
           114
          ],
          [
           32
          ],
          [
           50
          ],
          [
           32
          ],
          [
           80
          ],
          [
           98
          ],
          [
           32
          ],
          [
           9
          ],
          [
           9
          ],
          [
           32
          ],
          [
           32
          ],
          [
           46
          ],
          [
           32
          ],
          [
           116
          ],
          [
           32
          ],
          [
           32
          ],
          [
           111
          ],
          [
           32
          ],
          [
           32
          ],
          [
           62
          ],
          [
           32
          ],
          [
           82
          ],
          [
           47
          ],
          [
           32
          ],
          [
           117
          ],
          [
           32
          ],
          [
           32
          ],
          [
           47
          ],
          [
           9
          ],
          [
           32
          ],
          [
           51
          ],
          [
           47
          ],
          [
           32
          ],
          [
           82
          ],
          [
           110
          ],
          [
           110
          ],
          [
           48
          ],
          [
           103
          ],
          [
           47
          ],
          [
           9
          ],
          [
           32
          ],
          [
           48
          ],
          [
           32
          ],
          [
           32
          ],
          [
           46
          ],
          [
           70
          ],
          [
           111
          ],
          [
           57
          ],
          [
           32
          ],
          [
           32
          ],
          [
           32
          ],
          [
           10
          ],
          [
           32
          ],
          [
           80
          ],
          [
           110
          ],
          [
           52
          ],
          [
           110
          ],
          [
           9
          ],
          [
           32
          ],
          [
           109
          ],
          [
           110
          ],
          [
           32
          ],
          [
           32
          ],
          [
           83
          ],
          [
           48
          ],
          [
           10
          ],
          [
           32
          ],
          [
           32
          ],
          [
           101
          ],
          [
           110
          ],
          [
           32
          ],
          [
           32
          ],
          [
           32
          ],
          [
           32
          ],
          [
           32
          ],
          [
           32
          ],
          [
           32
          ],
          [
           48
          ],
          [
           100
          ],
          [
           106
          ],
          [
           62
          ],
          [
           9
          ],
          [
           48
          ],
          [
           32
          ],
          [
           32
          ],
          [
           49
          ],
          [
           112
          ],
          [
           101
          ],
          [
           111
          ],
          [
           110
          ],
          [
           60
          ],
          [
           48
          ],
          [
           111
          ],
          [
           70
          ],
          [
           48
          ],
          [
           101
          ],
          [
           10
          ],
          [
           116
          ],
          [
           48
          ],
          [
           32
          ],
          [
           32
          ],
          [
           32
          ],
          [
           115
          ],
          [
           32
          ],
          [
           48
          ],
          [
           9
          ],
          [
           100
          ],
          [
           84
          ],
          [
           10
          ],
          [
           114
          ],
          [
           91
          ],
          [
           62
          ],
          [
           32
          ],
          [
           32
          ],
          [
           9
          ],
          [
           117
          ],
          [
           9
          ],
          [
           79
          ],
          [
           48
          ],
          [
           53
          ],
          [
           32
          ],
          [
           97
          ],
          [
           48
          ],
          [
           111
          ],
          [
           10
          ],
          [
           105
          ],
          [
           93
          ],
          [
           10
          ],
          [
           62
          ],
          [
           47
          ],
          [
           69
          ],
          [
           46
          ],
          [
           10
          ],
          [
           47
          ],
          [
           32
          ],
          [
           32
          ],
          [
           32
          ],
          [
           32
          ],
          [
           49
          ],
          [
           32
          ],
          [
           121
          ],
          [
           32
          ],
          [
           32
          ],
          [
           60
          ],
          [
           32
          ],
          [
           32
          ],
          [
           55
          ],
          [
           116
          ],
          [
           114
          ],
          [
           103
          ],
          [
           32
          ],
          [
           68
          ],
          [
           10
          ],
          [
           54
          ],
          [
           66
          ],
          [
           48
          ],
          [
           114
          ],
          [
           114
          ],
          [
           32
          ],
          [
           48
          ],
          [
           98
          ],
          [
           32
          ],
          [
           115
          ],
          [
           70
          ],
          [
           32
          ],
          [
           32
          ],
          [
           32
          ],
          [
           10
          ],
          [
           77
          ],
          [
           65
          ],
          [
           32
          ],
          [
           32
          ],
          [
           32
          ],
          [
           32
          ],
          [
           110
          ],
          [
           32
          ],
          [
           32
          ],
          [
           54
          ],
          [
           62
          ],
          [
           32
          ],
          [
           103
          ],
          [
           97
          ],
          [
           9
          ],
          [
           49
          ],
          [
           32
          ],
          [
           32
          ],
          [
           9
          ],
          [
           32
          ],
          [
           48
          ],
          [
           48
          ],
          [
           32
          ],
          [
           10
          ],
          [
           32
          ],
          [
           117
          ],
          [
           85
          ],
          [
           92
          ],
          [
           97
          ],
          [
           32
          ],
          [
           32
          ],
          [
           32
          ],
          [
           47
          ],
          [
           32
          ],
          [
           121
          ],
          [
           32
          ],
          [
           32
          ],
          [
           60
          ],
          [
           32
          ],
          [
           112
          ],
          [
           100
          ],
          [
           32
          ],
          [
           92
          ],
          [
           47
          ],
          [
           108
          ],
          [
           84
          ],
          [
           115
          ],
          [
           32
          ],
          [
           32
          ],
          [
           10
          ],
          [
           48
          ],
          [
           101
          ],
          [
           115
          ],
          [
           62
          ],
          [
           32
          ],
          [
           32
          ],
          [
           32
          ],
          [
           54
          ],
          [
           32
          ],
          [
           9
          ],
          [
           55
          ],
          [
           32
          ],
          [
           32
          ],
          [
           32
          ],
          [
           115
          ],
          [
           32
          ],
          [
           48
          ],
          [
           32
          ],
          [
           101
          ],
          [
           9
          ],
          [
           97
          ],
          [
           106
          ],
          [
           110
          ],
          [
           32
          ],
          [
           32
          ],
          [
           32
          ],
          [
           48
          ],
          [
           68
          ],
          [
           115
          ],
          [
           32
          ],
          [
           104
          ],
          [
           119
          ],
          [
           103
          ],
          [
           50
          ],
          [
           32
          ],
          [
           111
          ],
          [
           32
          ],
          [
           32
          ],
          [
           32
          ],
          [
           110
          ],
          [
           32
          ],
          [
           32
          ],
          [
           32
          ],
          [
           32
          ],
          [
           10
          ],
          [
           32
          ],
          [
           10
          ],
          [
           49
          ],
          [
           110
          ],
          [
           47
          ],
          [
           102
          ],
          [
           47
          ],
          [
           9
          ],
          [
           32
          ],
          [
           32
          ],
          [
           10
          ],
          [
           112
          ],
          [
           32
          ],
          [
           32
          ],
          [
           32
          ],
          [
           32
          ],
          [
           111
          ],
          [
           98
          ],
          [
           111
          ],
          [
           32
          ],
          [
           98
          ],
          [
           32
          ],
          [
           10
          ],
          [
           60
          ],
          [
           116
          ],
          [
           53
          ],
          [
           84
          ],
          [
           83
          ],
          [
           32
          ],
          [
           98
          ],
          [
           9
          ],
          [
           32
          ],
          [
           47
          ],
          [
           32
          ],
          [
           10
          ],
          [
           9
          ],
          [
           57
          ],
          [
           32
          ],
          [
           32
          ],
          [
           32
          ],
          [
           32
          ],
          [
           106
          ],
          [
           32
          ],
          [
           32
          ],
          [
           32
          ],
          [
           32
          ],
          [
           32
          ],
          [
           9
          ],
          [
           9
          ],
          [
           32
          ],
          [
           37
          ],
          [
           97
          ],
          [
           32
          ],
          [
           111
          ],
          [
           32
          ],
          [
           52
          ],
          [
           103
          ],
          [
           48
          ],
          [
           32
          ],
          [
           116
          ],
          [
           32
          ],
          [
           32
          ],
          [
           32
          ],
          [
           48
          ],
          [
           32
          ],
          [
           111
          ],
          [
           111
          ],
          [
           32
          ],
          [
           51
          ],
          [
           9
          ],
          [
           60
          ],
          [
           97
          ],
          [
           32
          ],
          [
           32
          ],
          [
           10
          ],
          [
           32
          ],
          [
           32
          ],
          [
           117
          ],
          [
           116
          ],
          [
           32
          ],
          [
           32
          ],
          [
           32
          ],
          [
           32
          ],
          [
           110
          ],
          [
           80
          ],
          [
           32
          ],
          [
           48
          ],
          [
           49
          ],
          [
           32
          ],
          [
           92
          ],
          [
           32
          ],
          [
           48
          ],
          [
           10
          ],
          [
           54
          ],
          [
           10
          ],
          [
           32
          ],
          [
           101
          ],
          [
           9
          ],
          [
           45
          ],
          [
           122
          ],
          [
           47
          ],
          [
           111
          ],
          [
           48
          ],
          [
           9
          ],
          [
           46
          ],
          [
           70
          ],
          [
           32
          ],
          [
           32
          ],
          [
           66
          ],
          [
           32
          ],
          [
           32
          ],
          [
           32
          ],
          [
           32
          ],
          [
           32
          ],
          [
           121
          ],
          [
           48
          ],
          [
           48
          ],
          [
           9
          ],
          [
           62
          ],
          [
           32
          ],
          [
           9
          ],
          [
           60
          ],
          [
           10
          ],
          [
           108
          ],
          [
           111
          ],
          [
           92
          ],
          [
           119
          ],
          [
           9
          ],
          [
           73
          ],
          [
           70
          ],
          [
           32
          ],
          [
           9
          ],
          [
           101
          ],
          [
           32
          ],
          [
           110
          ],
          [
           101
          ],
          [
           114
          ],
          [
           84
          ],
          [
           48
          ],
          [
           97
          ],
          [
           97
          ],
          [
           32
          ],
          [
           32
          ],
          [
           32
          ],
          [
           32
          ],
          [
           110
          ],
          [
           62
          ],
          [
           32
          ],
          [
           32
          ],
          [
           10
          ],
          [
           32
          ],
          [
           32
          ],
          [
           111
          ],
          [
           10
          ],
          [
           10
          ],
          [
           32
          ],
          [
           32
          ],
          [
           105
          ],
          [
           48
          ],
          [
           32
          ],
          [
           82
          ],
          [
           32
          ],
          [
           32
          ],
          [
           32
          ],
          [
           32
          ],
          [
           32
          ],
          [
           62
          ],
          [
           32
          ],
          [
           32
          ],
          [
           114
          ],
          [
           41
          ],
          [
           32
          ],
          [
           50
          ],
          [
           97
          ],
          [
           32
          ],
          [
           10
          ],
          [
           51
          ],
          [
           32
          ],
          [
           32
          ],
          [
           32
          ],
          [
           112
          ],
          [
           95
          ],
          [
           75
          ],
          [
           70
          ],
          [
           32
          ],
          [
           32
          ],
          [
           32
          ],
          [
           32
          ],
          [
           111
          ],
          [
           9
          ],
          [
           47
          ],
          [
           48
          ],
          [
           32
          ],
          [
           49
          ],
          [
           116
          ],
          [
           32
          ],
          [
           32
          ],
          [
           32
          ],
          [
           84
          ],
          [
           32
          ],
          [
           48
          ],
          [
           111
          ],
          [
           105
          ],
          [
           32
          ],
          [
           98
          ],
          [
           32
          ],
          [
           32
          ],
          [
           32
          ],
          [
           47
          ],
          [
           32
          ],
          [
           92
          ],
          [
           10
          ],
          [
           32
          ],
          [
           48
          ],
          [
           32
          ],
          [
           32
          ],
          [
           40
          ],
          [
           106
          ],
          [
           32
          ],
          [
           70
          ],
          [
           101
          ],
          [
           10
          ],
          [
           32
          ],
          [
           82
          ],
          [
           32
          ],
          [
           32
          ],
          [
           32
          ],
          [
           82
          ],
          [
           109
          ],
          [
           62
          ],
          [
           111
          ],
          [
           48
          ],
          [
           32
          ],
          [
           105
          ],
          [
           106
          ],
          [
           32
          ],
          [
           32
          ],
          [
           49
          ],
          [
           32
          ],
          [
           32
          ],
          [
           32
          ],
          [
           49
          ],
          [
           32
          ],
          [
           67
          ],
          [
           99
          ],
          [
           62
          ],
          [
           32
          ],
          [
           32
          ],
          [
           32
          ],
          [
           82
          ],
          [
           32
          ],
          [
           51
          ],
          [
           68
          ],
          [
           32
          ],
          [
           32
          ],
          [
           80
          ],
          [
           70
          ],
          [
           48
          ],
          [
           116
          ],
          [
           32
          ],
          [
           32
          ],
          [
           10
          ],
          [
           32
          ],
          [
           32
          ],
          [
           32
          ],
          [
           32
          ],
          [
           48
          ],
          [
           32
          ],
          [
           46
          ],
          [
           32
          ],
          [
           45
          ],
          [
           32
          ],
          [
           32
          ],
          [
           32
          ],
          [
           97
          ],
          [
           32
          ],
          [
           32
          ],
          [
           48
          ],
          [
           62
          ],
          [
           32
          ],
          [
           32
          ],
          [
           60
          ],
          [
           32
          ],
          [
           32
          ],
          [
           32
          ],
          [
           32
          ],
          [
           32
          ],
          [
           116
          ],
          [
           109
          ],
          [
           32
          ],
          [
           32
          ],
          [
           101
          ],
          [
           32
          ],
          [
           32
          ],
          [
           101
          ],
          [
           52
          ],
          [
           32
          ],
          [
           60
          ],
          [
           10
          ],
          [
           116
          ],
          [
           10
          ],
          [
           32
          ],
          [
           32
          ],
          [
           48
          ],
          [
           32
          ],
          [
           60
          ],
          [
           32
          ],
          [
           48
          ],
          [
           32
          ],
          [
           97
          ],
          [
           116
          ],
          [
           101
          ],
          [
           84
          ],
          [
           115
          ],
          [
           49
          ],
          [
           101
          ],
          [
           47
          ],
          [
           32
          ],
          [
           32
          ],
          [
           48
          ],
          [
           32
          ],
          [
           99
          ],
          [
           47
          ],
          [
           48
          ],
          [
           101
          ],
          [
           32
          ],
          [
           32
          ],
          [
           32
          ],
          [
           101
          ],
          [
           115
          ],
          [
           32
          ],
          [
           98
          ],
          [
           48
          ],
          [
           32
          ],
          [
           32
          ],
          [
           32
          ],
          [
           32
          ],
          [
           57
          ],
          [
           48
          ],
          [
           47
          ],
          [
           32
          ],
          [
           32
          ],
          [
           10
          ],
          [
           32
          ],
          [
           48
          ],
          [
           32
          ],
          [
           32
          ],
          [
           32
          ],
          [
           32
          ],
          [
           32
          ],
          [
           32
          ],
          [
           9
          ],
          [
           97
          ],
          [
           32
          ],
          [
           32
          ],
          [
           49
          ],
          [
           48
          ],
          [
           120
          ],
          [
           105
          ],
          [
           32
          ],
          [
           62
          ],
          [
           55
          ],
          [
           101
          ],
          [
           32
          ],
          [
           32
          ],
          [
           32
          ],
          [
           32
          ],
          [
           111
          ],
          [
           32
          ],
          [
           32
          ],
          [
           46
          ],
          [
           71
          ],
          [
           9
          ],
          [
           32
          ],
          [
           116
          ],
          [
           48
          ],
          [
           32
          ],
          [
           93
          ],
          [
           32
          ],
          [
           32
          ],
          [
           32
          ],
          [
           100
          ],
          [
           32
          ],
          [
           120
          ],
          [
           32
          ],
          [
           114
          ],
          [
           48
          ],
          [
           32
          ],
          [
           10
          ],
          [
           9
          ],
          [
           60
          ],
          [
           32
          ],
          [
           32
          ],
          [
           32
          ],
          [
           49
          ],
          [
           32
          ],
          [
           10
          ],
          [
           82
          ],
          [
           47
          ],
          [
           53
          ],
          [
           32
          ],
          [
           60
          ],
          [
           48
          ],
          [
           32
          ],
          [
           48
          ],
          [
           9
          ],
          [
           80
          ],
          [
           32
          ],
          [
           108
          ],
          [
           106
          ],
          [
           47
          ],
          [
           9
          ],
          [
           32
          ],
          [
           32
          ],
          [
           101
          ],
          [
           32
          ],
          [
           48
          ],
          [
           32
          ],
          [
           32
          ],
          [
           114
          ],
          [
           98
          ],
          [
           32
          ],
          [
           62
          ],
          [
           32
          ],
          [
           103
          ],
          [
           62
          ],
          [
           60
          ],
          [
           32
          ],
          [
           32
          ],
          [
           32
          ],
          [
           32
          ],
          [
           32
          ],
          [
           60
          ],
          [
           100
          ],
          [
           32
          ],
          [
           46
          ],
          [
           32
          ],
          [
           32
          ],
          [
           32
          ],
          [
           47
          ],
          [
           9
          ],
          [
           62
          ],
          [
           60
          ],
          [
           118
          ],
          [
           47
          ],
          [
           32
          ],
          [
           48
          ],
          [
           32
          ],
          [
           32
          ],
          [
           32
          ],
          [
           32
          ],
          [
           62
          ],
          [
           32
          ],
          [
           32
          ],
          [
           100
          ],
          [
           10
          ],
          [
           68
          ],
          [
           98
          ],
          [
           60
          ],
          [
           48
          ],
          [
           62
          ],
          [
           48
          ],
          [
           32
          ],
          [
           115
          ],
          [
           32
          ],
          [
           110
          ],
          [
           62
          ],
          [
           47
          ],
          [
           32
          ],
          [
           106
          ],
          [
           46
          ],
          [
           32
          ],
          [
           32
          ],
          [
           48
          ],
          [
           80
          ],
          [
           32
          ],
          [
           10
          ],
          [
           51
          ],
          [
           32
          ],
          [
           100
          ],
          [
           32
          ],
          [
           32
          ],
          [
           101
          ],
          [
           60
          ],
          [
           32
          ],
          [
           32
          ],
          [
           32
          ],
          [
           79
          ],
          [
           32
          ],
          [
           52
          ],
          [
           32
          ],
          [
           102
          ],
          [
           32
          ],
          [
           10
          ],
          [
           101
          ],
          [
           32
          ],
          [
           67
          ],
          [
           32
          ],
          [
           32
          ],
          [
           32
          ],
          [
           82
          ],
          [
           32
          ],
          [
           10
          ],
          [
           32
          ],
          [
           47
          ],
          [
           9
          ],
          [
           116
          ],
          [
           32
          ],
          [
           9
          ],
          [
           48
          ],
          [
           108
          ],
          [
           116
          ],
          [
           10
          ],
          [
           48
          ],
          [
           84
          ],
          [
           32
          ],
          [
           121
          ],
          [
           116
          ],
          [
           70
          ],
          [
           98
          ],
          [
           32
          ],
          [
           48
          ],
          [
           101
          ],
          [
           110
          ],
          [
           52
          ],
          [
           101
          ],
          [
           76
          ],
          [
           10
          ],
          [
           32
          ],
          [
           32
          ],
          [
           32
          ],
          [
           103
          ],
          [
           32
          ],
          [
           32
          ],
          [
           47
          ],
          [
           32
          ],
          [
           32
          ],
          [
           10
          ],
          [
           32
          ],
          [
           53
          ],
          [
           47
          ],
          [
           101
          ],
          [
           32
          ],
          [
           32
          ],
          [
           9
          ],
          [
           32
          ],
          [
           84
          ],
          [
           32
          ],
          [
           32
          ],
          [
           32
          ],
          [
           50
          ],
          [
           10
          ],
          [
           32
          ],
          [
           32
          ],
          [
           9
          ],
          [
           84
          ],
          [
           32
          ],
          [
           84
          ],
          [
           105
          ],
          [
           47
          ],
          [
           32
          ],
          [
           65
          ],
          [
           32
          ],
          [
           9
          ],
          [
           32
          ],
          [
           32
          ],
          [
           60
          ],
          [
           106
          ],
          [
           48
          ],
          [
           97
          ],
          [
           32
          ],
          [
           48
          ],
          [
           32
          ],
          [
           10
          ],
          [
           32
          ],
          [
           32
          ],
          [
           116
          ],
          [
           60
          ],
          [
           32
          ],
          [
           114
          ],
          [
           48
          ],
          [
           115
          ],
          [
           32
          ],
          [
           32
          ],
          [
           32
          ],
          [
           49
          ],
          [
           32
          ],
          [
           60
          ],
          [
           32
          ],
          [
           32
          ],
          [
           9
          ],
          [
           62
          ],
          [
           103
          ],
          [
           9
          ],
          [
           47
          ],
          [
           10
          ],
          [
           48
          ],
          [
           10
          ],
          [
           47
          ],
          [
           32
          ],
          [
           32
          ],
          [
           40
          ],
          [
           32
          ],
          [
           32
          ],
          [
           32
          ],
          [
           32
          ],
          [
           116
          ],
          [
           114
          ],
          [
           32
          ],
          [
           120
          ],
          [
           32
          ],
          [
           60
          ],
          [
           32
          ],
          [
           109
          ],
          [
           97
          ],
          [
           32
          ],
          [
           32
          ],
          [
           80
          ],
          [
           55
          ],
          [
           101
          ],
          [
           10
          ],
          [
           32
          ],
          [
           32
          ],
          [
           121
          ],
          [
           60
          ],
          [
           111
          ],
          [
           48
          ],
          [
           116
          ],
          [
           106
          ],
          [
           32
          ],
          [
           32
          ],
          [
           48
          ],
          [
           32
          ],
          [
           32
          ],
          [
           101
          ],
          [
           32
          ],
          [
           32
          ],
          [
           48
          ],
          [
           32
          ],
          [
           32
          ],
          [
           60
          ]
         ],
         "hovertemplate": "0=%{x}<br>1=%{y}<br>Feature=%{customdata[0]}<br>Anomaly=%{marker.color}<extra></extra>",
         "legendgroup": "",
         "marker": {
          "color": [
           0,
           0,
           0,
           0,
           0,
           0,
           0,
           0,
           0,
           0,
           0,
           0,
           0,
           0,
           0,
           0,
           0,
           0,
           0,
           0,
           0,
           0,
           0,
           0,
           0,
           0,
           0,
           0,
           0,
           0,
           0,
           0,
           1,
           0,
           0,
           0,
           0,
           0,
           0,
           0,
           0,
           0,
           0,
           0,
           0,
           0,
           0,
           0,
           0,
           0,
           0,
           0,
           0,
           0,
           1,
           0,
           0,
           0,
           0,
           0,
           0,
           0,
           0,
           0,
           0,
           0,
           0,
           0,
           0,
           0,
           0,
           0,
           0,
           1,
           0,
           0,
           0,
           0,
           0,
           0,
           1,
           0,
           0,
           0,
           0,
           0,
           0,
           0,
           0,
           0,
           0,
           0,
           0,
           0,
           0,
           0,
           1,
           0,
           1,
           0,
           0,
           0,
           0,
           1,
           0,
           0,
           0,
           0,
           0,
           0,
           0,
           0,
           0,
           0,
           0,
           0,
           0,
           0,
           0,
           0,
           0,
           0,
           0,
           0,
           0,
           0,
           0,
           0,
           0,
           0,
           0,
           0,
           0,
           1,
           0,
           0,
           0,
           0,
           0,
           0,
           0,
           0,
           0,
           0,
           0,
           0,
           0,
           0,
           0,
           0,
           0,
           0,
           0,
           0,
           0,
           0,
           0,
           0,
           0,
           0,
           0,
           1,
           0,
           0,
           0,
           0,
           0,
           0,
           0,
           0,
           0,
           0,
           0,
           0,
           0,
           0,
           0,
           0,
           0,
           0,
           0,
           0,
           0,
           0,
           0,
           0,
           0,
           0,
           0,
           0,
           0,
           1,
           0,
           0,
           0,
           0,
           0,
           0,
           0,
           0,
           0,
           1,
           0,
           0,
           0,
           0,
           0,
           0,
           0,
           0,
           0,
           0,
           0,
           0,
           0,
           0,
           0,
           0,
           1,
           0,
           0,
           0,
           0,
           0,
           0,
           0,
           0,
           0,
           0,
           0,
           0,
           0,
           1,
           0,
           0,
           0,
           0,
           0,
           0,
           0,
           0,
           0,
           0,
           0,
           0,
           0,
           0,
           0,
           0,
           0,
           0,
           0,
           0,
           0,
           0,
           0,
           0,
           0,
           0,
           0,
           0,
           0,
           0,
           0,
           0,
           0,
           0,
           0,
           0,
           0,
           0,
           0,
           0,
           0,
           0,
           0,
           0,
           0,
           0,
           0,
           0,
           0,
           0,
           0,
           0,
           0,
           0,
           0,
           0,
           0,
           0,
           0,
           1,
           0,
           0,
           0,
           0,
           0,
           0,
           0,
           1,
           0,
           0,
           0,
           0,
           1,
           0,
           0,
           0,
           0,
           0,
           0,
           0,
           0,
           0,
           0,
           0,
           0,
           0,
           0,
           0,
           0,
           0,
           0,
           0,
           0,
           0,
           0,
           0,
           0,
           0,
           1,
           0,
           0,
           0,
           0,
           0,
           0,
           0,
           1,
           0,
           0,
           0,
           0,
           0,
           0,
           1,
           0,
           0,
           0,
           0,
           0,
           0,
           0,
           0,
           0,
           0,
           0,
           0,
           0,
           0,
           1,
           0,
           0,
           0,
           0,
           0,
           0,
           0,
           0,
           0,
           0,
           0,
           0,
           0,
           0,
           0,
           0,
           0,
           0,
           0,
           0,
           0,
           0,
           0,
           0,
           0,
           0,
           0,
           0,
           0,
           0,
           0,
           1,
           0,
           0,
           0,
           0,
           0,
           0,
           0,
           0,
           0,
           0,
           0,
           0,
           0,
           0,
           0,
           0,
           0,
           0,
           0,
           0,
           0,
           0,
           0,
           0,
           0,
           0,
           1,
           0,
           0,
           0,
           0,
           0,
           0,
           0,
           0,
           0,
           0,
           0,
           1,
           0,
           0,
           0,
           0,
           0,
           0,
           0,
           0,
           0,
           0,
           0,
           0,
           1,
           0,
           0,
           0,
           0,
           0,
           0,
           0,
           0,
           0,
           0,
           0,
           0,
           0,
           0,
           0,
           0,
           0,
           0,
           1,
           0,
           1,
           0,
           0,
           0,
           0,
           0,
           0,
           0,
           0,
           0,
           0,
           0,
           0,
           0,
           0,
           0,
           0,
           0,
           1,
           0,
           0,
           1,
           0,
           0,
           0,
           0,
           0,
           0,
           0,
           0,
           0,
           0,
           0,
           0,
           0,
           0,
           0,
           0,
           0,
           1,
           0,
           0,
           0,
           0,
           0,
           0,
           1,
           0,
           0,
           0,
           0,
           0,
           0,
           0,
           0,
           0,
           0,
           0,
           0,
           0,
           0,
           0,
           0,
           0,
           0,
           0,
           0,
           0,
           0,
           0,
           0,
           0,
           0,
           0,
           0,
           0,
           0,
           0,
           0,
           0,
           0,
           0,
           0,
           0,
           0,
           0,
           0,
           1,
           0,
           0,
           0,
           0,
           0,
           0,
           0,
           0,
           0,
           0,
           0,
           0,
           0,
           0,
           0,
           0,
           0,
           0,
           1,
           0,
           0,
           0,
           0,
           0,
           0,
           0,
           0,
           0,
           0,
           0,
           0,
           0,
           0,
           0,
           0,
           0,
           0,
           0,
           0,
           0,
           0,
           0,
           0,
           0,
           0,
           0,
           0,
           0,
           0,
           0,
           0,
           0,
           0,
           0,
           0,
           0,
           0,
           0,
           0,
           0,
           0,
           0,
           0,
           0,
           0,
           0,
           0,
           0,
           1,
           0,
           0,
           0,
           0,
           0,
           0,
           0,
           0,
           0,
           0,
           0,
           0,
           0,
           0,
           0,
           0,
           0,
           0,
           0,
           1,
           0,
           0,
           0,
           0,
           0,
           0,
           0,
           0,
           0,
           0,
           0,
           0,
           0,
           0,
           0,
           0,
           0,
           0,
           0,
           0,
           0,
           0,
           0,
           0,
           0,
           0,
           0,
           0,
           0,
           0,
           0,
           0,
           0,
           0,
           1,
           0,
           0,
           0,
           0,
           0,
           0,
           0,
           0,
           0,
           1,
           0,
           0,
           0,
           0,
           0,
           0,
           0,
           0,
           1,
           0,
           0,
           0,
           0,
           0,
           0,
           0,
           0,
           0,
           0,
           0,
           0,
           0,
           0,
           0,
           0,
           0,
           0,
           0,
           0,
           0,
           0,
           0,
           0,
           0,
           0,
           0,
           0,
           0,
           0,
           0,
           0,
           0,
           0,
           1,
           0,
           0,
           0,
           0,
           0,
           0,
           0,
           0,
           0,
           0,
           0,
           0,
           0,
           0,
           0,
           0,
           0,
           0,
           0,
           0,
           0,
           0,
           0,
           0,
           0,
           0,
           0,
           0,
           0,
           0,
           0,
           0,
           0,
           0,
           0,
           0,
           0,
           0,
           0,
           0,
           0,
           0,
           0,
           0,
           0,
           0,
           0,
           1,
           0,
           0,
           0,
           0,
           1,
           0,
           0,
           0,
           0,
           1,
           0,
           0,
           0,
           0,
           0,
           0,
           0,
           0,
           0,
           0,
           0,
           0,
           0,
           0,
           0,
           0,
           0,
           0,
           0,
           0,
           0,
           0,
           0,
           0,
           0,
           1,
           0,
           0,
           0,
           0,
           0,
           0,
           0,
           0,
           0,
           0,
           0,
           0,
           0,
           0,
           0,
           0,
           0,
           1,
           0,
           0,
           0,
           0,
           0,
           0,
           0,
           0,
           0,
           0,
           0,
           0,
           0,
           0,
           0,
           0,
           0,
           0,
           0,
           0,
           0,
           0,
           0,
           0,
           0,
           0,
           0,
           0,
           0,
           0,
           0,
           0,
           0,
           0,
           0,
           0,
           0,
           0,
           0,
           0,
           0,
           0,
           0,
           0,
           0,
           0,
           0,
           0,
           0,
           0,
           0,
           0,
           1,
           0,
           0,
           0,
           0,
           0,
           0,
           0,
           0,
           0,
           0,
           0,
           0,
           0,
           1,
           0,
           0,
           0,
           0,
           0,
           0,
           0,
           0,
           1,
           0,
           0,
           0,
           0,
           0,
           0,
           0,
           0,
           1,
           0,
           0,
           0,
           0,
           0,
           0,
           0,
           0,
           0,
           0,
           0,
           0,
           0,
           0,
           0,
           0,
           0,
           0,
           0,
           0,
           0,
           0,
           0,
           0,
           0,
           0,
           0,
           0,
           0,
           0,
           0,
           0,
           0,
           0,
           1,
           0,
           0,
           0,
           0,
           0,
           0,
           0,
           0,
           0,
           0,
           0,
           0,
           0,
           0,
           0,
           0,
           0,
           0,
           0,
           0,
           0,
           0,
           0,
           0,
           0,
           0,
           1,
           0,
           0,
           0,
           0,
           0,
           0,
           0,
           0,
           0,
           0,
           0,
           0,
           0,
           0,
           0,
           0,
           0,
           0,
           0,
           0,
           0,
           0,
           0,
           0,
           0,
           0,
           1,
           0,
           0,
           0,
           0,
           0,
           0,
           0,
           0,
           0,
           1,
           0,
           0,
           0,
           0,
           0,
           0,
           0,
           0,
           0,
           0,
           0,
           0,
           0,
           0,
           0,
           0,
           0,
           0,
           0,
           0,
           0,
           0,
           0,
           0,
           0,
           0,
           0,
           1,
           0,
           0,
           0,
           0,
           0,
           0,
           0,
           0,
           0,
           0,
           0,
           0,
           0,
           0,
           0,
           0,
           0,
           0,
           0,
           0,
           0,
           0,
           0,
           0,
           0,
           0,
           1,
           0,
           0,
           0,
           0,
           0,
           0,
           0,
           0,
           0,
           0,
           0,
           0,
           0,
           0,
           0,
           0,
           0,
           0,
           0,
           0,
           0,
           0,
           0,
           0,
           0,
           0,
           0,
           0,
           1,
           0,
           0,
           1,
           0,
           0,
           0,
           0,
           0,
           1,
           0,
           0,
           0,
           0,
           0,
           0
          ],
          "coloraxis": "coloraxis",
          "opacity": 0.7,
          "symbol": "circle"
         },
         "mode": "markers",
         "name": "",
         "showlegend": false,
         "type": "scattergl",
         "x": [
          -0.6797153949737549,
          3.786151647567749,
          6.423851013183594,
          1.6508562564849854,
          6.137270927429199,
          7.669083118438721,
          0.7042180895805359,
          6.112130165100098,
          -0.08022048324346542,
          -0.7934803366661072,
          5.966363906860352,
          2.8061599731445312,
          3.3652231693267822,
          8.438053131103516,
          2.344348907470703,
          0.1646559238433838,
          2.1862058639526367,
          3.2607181072235107,
          7.674444675445557,
          1.5180085897445679,
          5.68064546585083,
          5.622796535491943,
          3.316096544265747,
          6.5100626945495605,
          3.5026986598968506,
          6.373503684997559,
          2.6333558559417725,
          7.188386917114258,
          7.134654521942139,
          1.5601519346237183,
          2.318099021911621,
          6.689309120178223,
          -0.330587774515152,
          9.540924072265625,
          6.429101467132568,
          2.9220352172851562,
          6.879391670227051,
          6.834561347961426,
          5.780520439147949,
          3.3169288635253906,
          7.483365058898926,
          1.9574960470199585,
          1.8483542203903198,
          -0.5731921792030334,
          2.955312490463257,
          9.9454345703125,
          3.7301158905029297,
          8.759907722473145,
          2.6119191646575928,
          6.5638651847839355,
          -0.23734813928604126,
          8.636483192443848,
          6.277118682861328,
          2.503600597381592,
          -1.3631572723388672,
          5.640280723571777,
          3.9426796436309814,
          2.709353446960449,
          6.359875679016113,
          7.587026596069336,
          6.714984893798828,
          1.1715993881225586,
          4.950324535369873,
          2.253441095352173,
          2.939908504486084,
          1.3723580837249756,
          0.7454693913459778,
          1.729032278060913,
          7.543362617492676,
          3.6281328201293945,
          6.157590866088867,
          6.367319107055664,
          6.378734588623047,
          -0.47710078954696655,
          7.400358200073242,
          6.969709396362305,
          6.536900043487549,
          1.104195237159729,
          3.2370643615722656,
          3.6402809619903564,
          -0.6853765845298767,
          5.8244853019714355,
          1.209559679031372,
          4.777873516082764,
          7.521031856536865,
          -1.25406014919281,
          4.768496513366699,
          3.106560707092285,
          3.237901210784912,
          6.048316478729248,
          2.2502706050872803,
          1.4122493267059326,
          6.3122878074646,
          8.077963829040527,
          3.791590452194214,
          5.75599479675293,
          0.15180355310440063,
          9.107934951782227,
          -1.1788456439971924,
          2.2472634315490723,
          2.8942601680755615,
          5.426758289337158,
          5.308422088623047,
          -1.3653589487075806,
          1.884220838546753,
          6.217681884765625,
          2.0546655654907227,
          -0.4107261598110199,
          1.6141936779022217,
          6.282891750335693,
          5.741420269012451,
          8.561835289001465,
          0.3567844033241272,
          9.370842933654785,
          7.011821746826172,
          3.953404426574707,
          5.598699569702148,
          1.4994150400161743,
          0.2660349905490875,
          6.729626178741455,
          2.457170248031616,
          5.668374538421631,
          2.2840871810913086,
          2.898512840270996,
          1.5166867971420288,
          -0.25955596566200256,
          4.894058704376221,
          2.5070269107818604,
          7.345852851867676,
          3.142320156097412,
          5.797747611999512,
          2.4829342365264893,
          0.19244472682476044,
          -0.9566201567649841,
          2.007805109024048,
          2.971604824066162,
          7.865762233734131,
          1.9131872653961182,
          3.8993022441864014,
          5.708954334259033,
          2.0524346828460693,
          7.458762168884277,
          0.6364572048187256,
          1.8568506240844727,
          5.212491989135742,
          3.0463063716888428,
          8.22085952758789,
          4.750617027282715,
          6.836052417755127,
          2.0312674045562744,
          6.87192964553833,
          -0.9760245084762573,
          9.116423606872559,
          7.577693462371826,
          5.950955867767334,
          1.356217861175537,
          2.4357635974884033,
          5.1800150871276855,
          0.6412745714187622,
          7.453371047973633,
          8.485258102416992,
          -1.2993495464324951,
          0.3550422787666321,
          5.455690383911133,
          7.807082176208496,
          10.026300430297852,
          7.01942253112793,
          9.672239303588867,
          8.492754936218262,
          6.299464225769043,
          1.1561428308486938,
          4.047665596008301,
          6.945521354675293,
          7.545279502868652,
          0.33153051137924194,
          -0.955288290977478,
          0.7353196740150452,
          7.8719401359558105,
          4.795068264007568,
          5.654155254364014,
          6.3552632331848145,
          7.469287395477295,
          6.748425483703613,
          3.2919723987579346,
          0.7511200904846191,
          1.8787208795547485,
          6.530582427978516,
          1.2002216577529907,
          6.436513900756836,
          6.853541851043701,
          6.630621910095215,
          -0.4364278316497803,
          0.3521532416343689,
          9.777437210083008,
          -0.23812681436538696,
          6.371296405792236,
          5.659694671630859,
          5.679143905639648,
          0.3094787001609802,
          1.657202959060669,
          -0.4446648955345154,
          -1.2324718236923218,
          9.143847465515137,
          0.5595601201057434,
          7.197704792022705,
          -0.6395297646522522,
          7.543128490447998,
          7.558663845062256,
          10.137389183044434,
          3.127673387527466,
          5.714078903198242,
          3.2259938716888428,
          1.3652111291885376,
          -0.2657041549682617,
          6.250974655151367,
          -0.05052387714385986,
          7.63347053527832,
          1.607658863067627,
          -1.3514888286590576,
          6.604260444641113,
          8.074830055236816,
          3.9533531665802,
          6.528484344482422,
          7.494545936584473,
          5.636431694030762,
          9.35326099395752,
          0.20417633652687073,
          -0.8198288083076477,
          7.03844690322876,
          3.306001901626587,
          6.2441630363464355,
          0.25850608944892883,
          -0.8023799657821655,
          5.6327409744262695,
          1.3882243633270264,
          0.31353551149368286,
          5.585502624511719,
          4.5664873123168945,
          8.40278434753418,
          2.6308140754699707,
          9.353446960449219,
          6.388146877288818,
          8.779763221740723,
          8.828285217285156,
          2.407904624938965,
          7.7981953620910645,
          4.15933895111084,
          -0.33417922258377075,
          -1.1749987602233887,
          7.026847839355469,
          -0.1771164983510971,
          6.374413967132568,
          4.994375228881836,
          6.749476909637451,
          2.26066255569458,
          6.343006610870361,
          1.736041784286499,
          4.946789264678955,
          3.9539334774017334,
          -0.30900001525878906,
          1.612229585647583,
          2.560336112976074,
          3.8531265258789062,
          7.521510601043701,
          6.740646839141846,
          7.667692184448242,
          -1.0447967052459717,
          3.1889865398406982,
          2.2016358375549316,
          3.0669875144958496,
          6.2614336013793945,
          6.7400665283203125,
          2.986293315887451,
          0.5373011827468872,
          10.185994148254395,
          6.496915817260742,
          4.69563102722168,
          9.666744232177734,
          6.577129364013672,
          5.989843845367432,
          3.166743278503418,
          1.4110345840454102,
          3.0421438217163086,
          6.226539134979248,
          3.123993396759033,
          7.554325103759766,
          1.8378697633743286,
          9.624473571777344,
          6.1569294929504395,
          7.033522605895996,
          4.758845806121826,
          1.2981107234954834,
          -1.414528727531433,
          0.4707754850387573,
          6.484314441680908,
          0.3019377291202545,
          6.521554946899414,
          2.3402767181396484,
          5.861606597900391,
          -0.4910695254802704,
          -0.8208969831466675,
          1.722914218902588,
          0.34707656502723694,
          5.264630317687988,
          0.4534652829170227,
          -0.9002980589866638,
          5.155699729919434,
          8.058511734008789,
          -0.3674158751964569,
          3.135336399078369,
          3.24979305267334,
          5.684752464294434,
          2.1880366802215576,
          6.999754428863525,
          1.4046448469161987,
          3.419372320175171,
          9.895669937133789,
          2.8139050006866455,
          6.191568374633789,
          4.419870853424072,
          4.300440788269043,
          6.24873685836792,
          4.753939151763916,
          -1.029797911643982,
          1.2504674196243286,
          2.0170443058013916,
          6.797080993652344,
          6.230506420135498,
          1.7918105125427246,
          6.087358474731445,
          4.867537021636963,
          -0.9181244969367981,
          4.932555198669434,
          6.82057523727417,
          1.2809598445892334,
          0.7077183127403259,
          2.9695491790771484,
          1.9789005517959595,
          3.6744589805603027,
          -0.5106135010719299,
          6.2642292976379395,
          5.243509292602539,
          2.8034520149230957,
          4.692861557006836,
          6.057951927185059,
          6.247132778167725,
          -0.9101057648658752,
          4.0539164543151855,
          5.666944980621338,
          8.034111022949219,
          -0.8434144854545593,
          7.891800880432129,
          8.383525848388672,
          4.529271125793457,
          6.992031574249268,
          4.020362854003906,
          5.233974456787109,
          6.925449371337891,
          5.837961673736572,
          5.276368141174316,
          3.296475410461426,
          -0.35926923155784607,
          2.153130292892456,
          6.362062454223633,
          0.598646342754364,
          3.330054759979248,
          0.7487373352050781,
          -0.313693106174469,
          6.363706111907959,
          0.3509927988052368,
          0.3939955532550812,
          7.034302234649658,
          0.1610107421875,
          6.504416465759277,
          10.218408584594727,
          1.8682242631912231,
          3.6034514904022217,
          -0.7020038962364197,
          7.567611217498779,
          6.213984489440918,
          5.069891452789307,
          0.3180038332939148,
          6.390636920928955,
          1.324583888053894,
          7.419059753417969,
          7.528154373168945,
          9.722217559814453,
          -0.288749098777771,
          5.547973155975342,
          7.033332347869873,
          0.02441980503499508,
          2.1762049198150635,
          6.535355567932129,
          -1.3357771635055542,
          4.786585807800293,
          8.735182762145996,
          6.440730094909668,
          6.826430320739746,
          1.8903591632843018,
          2.2601075172424316,
          6.978344917297363,
          -1.1279661655426025,
          5.3596906661987305,
          9.4610595703125,
          7.27239465713501,
          10.067413330078125,
          3.01446270942688,
          4.829769134521484,
          3.3984217643737793,
          4.2323174476623535,
          3.052441358566284,
          -1.0087708234786987,
          7.513728618621826,
          1.006105661392212,
          1.9023858308792114,
          3.3372409343719482,
          6.301098346710205,
          2.5430502891540527,
          -0.1632433533668518,
          10.090276718139648,
          -0.4547046422958374,
          -0.9026724100112915,
          5.660272598266602,
          3.0663347244262695,
          -1.0476858615875244,
          1.3350889682769775,
          1.0377761125564575,
          1.334193468093872,
          8.830921173095703,
          8.80284309387207,
          3.99377703666687,
          1.1153454780578613,
          -0.9093145132064819,
          3.84853196144104,
          -0.13199350237846375,
          7.144484519958496,
          6.519641876220703,
          5.554254531860352,
          5.508683681488037,
          9.471226692199707,
          3.304513454437256,
          -0.8133498430252075,
          5.77588415145874,
          10.076637268066406,
          2.987379312515259,
          -1.0624388456344604,
          5.643708229064941,
          1.0158743858337402,
          2.9722249507904053,
          2.2015275955200195,
          9.884156227111816,
          -0.3011947572231293,
          4.54798698425293,
          3.7730417251586914,
          6.708079814910889,
          8.030779838562012,
          8.396610260009766,
          8.25959587097168,
          1.4950947761535645,
          3.798682689666748,
          3.298952341079712,
          4.756638526916504,
          3.155782461166382,
          1.1979141235351562,
          -0.4523785412311554,
          5.687079906463623,
          -1.3138350248336792,
          5.6855926513671875,
          9.372797966003418,
          6.3090500831604,
          -0.5213423371315002,
          3.003978967666626,
          7.5206828117370605,
          -0.6686812043190002,
          6.8453874588012695,
          5.083028793334961,
          6.909027099609375,
          6.322560787200928,
          4.9031500816345215,
          4.052027702331543,
          0.5351805686950684,
          -0.981609046459198,
          0.28721264004707336,
          6.318053245544434,
          -0.8088687062263489,
          6.394306182861328,
          1.6701915264129639,
          -0.9622422456741333,
          6.808565616607666,
          8.35470962524414,
          6.161775588989258,
          8.427116394042969,
          0.449239581823349,
          -0.2882707715034485,
          1.6777480840682983,
          2.37341046333313,
          0.2906723618507385,
          5.8559465408325195,
          0.6118894219398499,
          -0.8760622143745422,
          3.268028497695923,
          7.811583995819092,
          3.3696823120117188,
          3.565798282623291,
          6.751437664031982,
          -1.2572828531265259,
          3.1539738178253174,
          1.2122799158096313,
          5.002965450286865,
          -0.12627895176410675,
          9.492632865905762,
          6.217076301574707,
          -1.0707892179489136,
          5.824759483337402,
          6.43052339553833,
          6.60770320892334,
          9.369061470031738,
          0.5427587628364563,
          6.216667652130127,
          7.681004524230957,
          8.336230278015137,
          1.157640814781189,
          6.82558536529541,
          1.850486397743225,
          6.32559871673584,
          5.629356861114502,
          9.227513313293457,
          4.769430160522461,
          7.538280010223389,
          3.471498966217041,
          5.732913494110107,
          1.759161114692688,
          4.8499650955200195,
          7.696147918701172,
          6.6972808837890625,
          1.1392930746078491,
          8.441298484802246,
          7.260459899902344,
          1.3517673015594482,
          2.160583019256592,
          1.4182192087173462,
          1.357790470123291,
          -1.1250938177108765,
          7.233108997344971,
          0.5899480581283569,
          2.2353012561798096,
          2.192155599594116,
          -0.3177405595779419,
          7.686197757720947,
          2.951178550720215,
          5.891493797302246,
          0.4128234386444092,
          6.753375053405762,
          -0.4934460520744324,
          2.9906132221221924,
          2.0580475330352783,
          1.9069879055023193,
          6.8282880783081055,
          7.597809791564941,
          2.077009439468384,
          4.9084625244140625,
          9.748063087463379,
          1.7550475597381592,
          5.670202732086182,
          7.607007026672363,
          3.632683038711548,
          6.657382488250732,
          0.3152129352092743,
          7.280049800872803,
          -0.32579097151756287,
          6.595474720001221,
          2.1314404010772705,
          -0.9388930797576904,
          3.1602706909179688,
          7.715116024017334,
          4.473145008087158,
          9.900334358215332,
          3.27662992477417,
          6.348386764526367,
          2.0387182235717773,
          2.8261044025421143,
          5.365575790405273,
          5.876053810119629,
          5.410399436950684,
          6.649548053741455,
          5.683911323547363,
          5.147767066955566,
          1.9119714498519897,
          2.4840354919433594,
          4.071859359741211,
          -0.2583307921886444,
          7.0712890625,
          -0.7400567531585693,
          2.192713975906372,
          5.476039886474609,
          10.224918365478516,
          6.1959919929504395,
          5.2884063720703125,
          0.2438478320837021,
          1.6846632957458496,
          -0.2926023304462433,
          3.7268495559692383,
          3.929993152618408,
          9.727339744567871,
          0.5237897634506226,
          2.524259328842163,
          8.492669105529785,
          5.0452470779418945,
          2.116164445877075,
          6.71444034576416,
          2.1200666427612305,
          4.532434463500977,
          -0.3414343297481537,
          4.266504764556885,
          2.3987348079681396,
          3.4401113986968994,
          1.840161919593811,
          6.402751445770264,
          7.9331583976745605,
          8.333418846130371,
          2.9857981204986572,
          4.557039260864258,
          -0.9551104307174683,
          7.5639328956604,
          6.795742034912109,
          3.146091938018799,
          9.419025421142578,
          6.084028244018555,
          0.2557031512260437,
          6.221081256866455,
          6.276535511016846,
          7.26365852355957,
          6.498781681060791,
          1.8697510957717896,
          2.809954881668091,
          -0.48850032687187195,
          -1.1151034832000732,
          6.825432777404785,
          2.047159433364868,
          7.502631187438965,
          7.451661109924316,
          6.9377593994140625,
          -0.9862290024757385,
          10.23321533203125,
          8.549407005310059,
          0.4102206230163574,
          2.0474050045013428,
          7.235358238220215,
          -0.911101222038269,
          4.255004405975342,
          6.870650291442871,
          5.601369380950928,
          6.730067729949951,
          7.0143327713012695,
          6.797438144683838,
          2.8641905784606934,
          0.6422367691993713,
          0.2991066575050354,
          1.405098795890808,
          9.77896785736084,
          6.7446465492248535,
          1.8037241697311401,
          6.467967987060547,
          10.178691864013672,
          1.0662305355072021,
          6.342670440673828,
          9.838286399841309,
          4.99419641494751,
          2.9860918521881104,
          -1.2084527015686035,
          3.1323304176330566,
          6.1837849617004395,
          8.209293365478516,
          5.2024078369140625,
          3.1489908695220947,
          2.406582832336426,
          2.154787540435791,
          -1.267728567123413,
          3.3022708892822266,
          1.6163824796676636,
          4.580587387084961,
          6.010275840759277,
          1.851934790611267,
          8.143733024597168,
          0.8111197352409363,
          7.648136138916016,
          3.104677200317383,
          -0.957247793674469,
          8.75882625579834,
          0.2746167778968811,
          2.3941550254821777,
          6.512512683868408,
          2.560349702835083,
          1.6767297983169556,
          10.170900344848633,
          0.6221300959587097,
          -0.4297610819339752,
          7.197744369506836,
          6.909114360809326,
          -0.3378444015979767,
          7.645727634429932,
          5.627659797668457,
          6.903558731079102,
          -0.2558552026748657,
          0.5027299523353577,
          5.2809977531433105,
          1.3449769020080566,
          -1.1827679872512817,
          7.061118125915527,
          -0.34243255853652954,
          1.9822673797607422,
          8.397212982177734,
          5.685905456542969,
          6.468793869018555,
          6.944964408874512,
          8.080390930175781,
          6.632176399230957,
          1.638815999031067,
          1.8922703266143799,
          -0.3962814211845398,
          1.284684181213379,
          -1.2383184432983398,
          9.391307830810547,
          6.770885467529297,
          7.26182746887207,
          -1.1510525941848755,
          3.0386605262756348,
          6.156406402587891,
          -0.559187114238739,
          5.0164971351623535,
          7.770078659057617,
          -0.37052807211875916,
          5.4620890617370605,
          1.2243285179138184,
          2.217165470123291,
          7.247589588165283,
          8.415107727050781,
          9.6778564453125,
          4.035532474517822,
          7.535106182098389,
          0.9137586951255798,
          6.024524211883545,
          1.8502473831176758,
          7.465438365936279,
          6.781339645385742,
          7.161121368408203,
          6.277667999267578,
          6.274914264678955,
          6.158973693847656,
          7.42362642288208,
          1.7783308029174805,
          6.181473255157471,
          7.529358386993408,
          4.025956630706787,
          5.493312358856201,
          5.741902828216553,
          0.6046210527420044,
          9.733116149902344,
          0.45999112725257874,
          2.9211020469665527,
          6.893736839294434,
          6.972977638244629,
          8.07712173461914,
          3.2750959396362305,
          4.062784194946289,
          5.629146575927734,
          9.434982299804688,
          -0.157282292842865,
          9.429197311401367,
          5.947659969329834,
          -0.2782670855522156,
          5.28085470199585,
          10.126472473144531,
          5.261212348937988,
          1.229230284690857,
          3.1502246856689453,
          1.9703367948532104,
          7.0388569831848145,
          5.699798107147217,
          -1.117316484451294,
          6.198582649230957,
          0.27104225754737854,
          5.802774429321289,
          5.759908199310303,
          -0.9479793310165405,
          1.4106321334838867,
          3.710487127304077,
          0.35674357414245605,
          3.6570589542388916,
          -0.8934021592140198,
          5.555065155029297,
          3.6286263465881348,
          3.4032630920410156,
          6.966043949127197,
          2.9634780883789062,
          -0.43527013063430786,
          0.9445912837982178,
          6.527183532714844,
          -0.7547662258148193,
          6.6255598068237305,
          3.522650718688965,
          2.365476369857788,
          7.412388801574707,
          2.888380289077759,
          -0.37889546155929565,
          1.1728734970092773,
          5.140479564666748,
          1.7197256088256836,
          2.2179558277130127,
          1.2329992055892944,
          2.874819040298462,
          2.6388065814971924,
          6.838926315307617,
          6.184128284454346,
          4.992306709289551,
          -0.966815173625946,
          8.51752758026123,
          6.823610305786133,
          2.855470895767212,
          6.842597961425781,
          5.3821587562561035,
          8.771771430969238,
          5.491806507110596,
          8.622884750366211,
          10.219136238098145,
          6.828747749328613,
          5.488155841827393,
          1.9365570545196533,
          -1.347468614578247,
          7.581076145172119,
          7.540829658508301,
          4.0354743003845215,
          -0.8440942764282227,
          -0.8312836289405823,
          3.209010124206543,
          1.8557630777359009,
          -1.2350326776504517,
          6.44735860824585,
          4.62529993057251,
          1.821212887763977,
          6.833653926849365,
          7.52875280380249,
          5.823373317718506,
          -0.5908019542694092,
          5.977327346801758,
          5.043770790100098,
          9.699891090393066,
          9.651206970214844,
          3.181705951690674,
          6.832124710083008,
          -0.11919107288122177,
          1.4215450286865234,
          3.011061191558838,
          3.733447790145874,
          6.281062602996826,
          2.843740463256836,
          5.621868133544922,
          1.2437267303466797,
          2.575258255004883,
          0.9025832414627075,
          6.490187644958496,
          0.35466185212135315,
          1.8175930976867676,
          6.4044599533081055,
          1.9846893548965454,
          1.9512797594070435,
          4.969708442687988,
          3.025487184524536,
          6.805619716644287,
          6.489107608795166,
          1.3426599502563477,
          9.778397560119629,
          1.905866026878357,
          1.4159492254257202,
          0.3158300220966339,
          6.0555195808410645,
          6.69846248626709,
          4.984447479248047,
          5.874764919281006,
          6.766036510467529,
          7.5444464683532715,
          3.332399368286133,
          -0.5602298378944397,
          1.8423471450805664,
          -0.3348109722137451,
          0.025480469688773155,
          -0.8575090765953064,
          5.085219860076904,
          6.768150806427002,
          6.113589763641357,
          0.25583550333976746,
          5.726351737976074,
          0.8040488958358765,
          2.434962034225464,
          8.490028381347656,
          1.1442961692810059,
          -1.1456717252731323,
          8.178814888000488,
          0.6593652367591858,
          5.563851833343506,
          -1.211253046989441,
          -0.11276807636022568,
          0.4659283757209778,
          6.901479244232178,
          6.433703899383545,
          8.85350513458252,
          6.487544059753418,
          2.318098783493042,
          -0.9489303827285767,
          0.25499171018600464,
          1.8590857982635498,
          1.7672312259674072,
          6.771053314208984,
          7.551223278045654,
          7.541675567626953,
          4.211806297302246,
          9.86613941192627,
          5.285397052764893,
          -0.7677024006843567,
          4.560826778411865,
          7.062732219696045,
          4.002593517303467,
          0.22780753672122955,
          -0.8660807013511658,
          8.707427024841309,
          1.5156315565109253,
          5.6178388595581055,
          1.932083249092102,
          8.324531555175781,
          7.506362438201904,
          -0.35156816244125366,
          0.7779709696769714,
          5.774837970733643,
          0.3802267014980316,
          2.9900519847869873,
          1.9942530393600464,
          3.9623801708221436,
          6.088047504425049,
          1.7608182430267334,
          3.7740471363067627,
          6.123147010803223,
          -0.33661749958992004,
          4.0168328285217285,
          2.8038535118103027,
          2.4019699096679688,
          -0.025980094447731972,
          2.6753363609313965,
          5.661031246185303,
          5.0513410568237305,
          4.180210590362549,
          2.3488404750823975,
          8.386512756347656,
          6.639139652252197,
          -0.6527391076087952,
          5.668421268463135,
          0.5931452512741089,
          2.4137508869171143,
          5.702976703643799,
          -1.1797207593917847,
          5.5215888023376465,
          6.880455017089844,
          5.667890548706055,
          6.220305442810059,
          4.85870361328125,
          6.355593204498291,
          6.397341728210449,
          7.0582404136657715,
          0.4003598690032959,
          7.614170551300049,
          9.593433380126953,
          2.0743260383605957,
          9.901138305664062,
          0.5455215573310852,
          5.660777568817139,
          7.18769645690918,
          5.245757102966309,
          0.513042688369751,
          5.667375087738037,
          1.440430760383606,
          7.269537925720215,
          -0.3870771825313568,
          3.981405019760132,
          3.2333109378814697,
          2.4732706546783447,
          2.444037675857544,
          2.070333957672119,
          4.581571578979492,
          1.7847779989242554,
          1.9907238483428955,
          0.778883695602417,
          4.895244598388672,
          7.213287353515625,
          -0.6451519131660461,
          1.4742200374603271,
          -0.6032611727714539,
          2.9961509704589844,
          6.105591297149658,
          3.5607333183288574,
          1.8689872026443481,
          1.2006057500839233,
          1.7367609739303589,
          4.575325012207031,
          -0.16334368288516998,
          6.248631000518799,
          2.187638521194458,
          0.9779400825500488,
          5.542086124420166,
          -1.3392319679260254,
          9.932558059692383,
          1.9084020853042603,
          1.6800457239151,
          6.714398384094238,
          5.744208812713623,
          6.3805623054504395,
          2.385324239730835,
          1.6099483966827393,
          9.308348655700684,
          -1.2446670532226562,
          9.905719757080078,
          2.9278554916381836,
          6.260974884033203,
          6.908400058746338,
          3.7510480880737305,
          6.377084732055664,
          6.875123977661133,
          6.083194255828857,
          5.648401737213135,
          6.176077842712402,
          6.63720703125,
          6.535684585571289,
          1.8711905479431152,
          -0.3396156132221222,
          6.093654632568359,
          -0.3217909336090088,
          6.376058578491211,
          5.340170860290527,
          2.4242849349975586,
          2.623056173324585,
          1.3764036893844604,
          2.2531347274780273,
          2.3783318996429443,
          7.293844223022461,
          6.677192211151123,
          4.839722156524658,
          5.402339935302734,
          -1.2088422775268555,
          8.491338729858398,
          2.1945278644561768,
          2.9922125339508057,
          8.619563102722168,
          5.701718330383301,
          9.37387752532959,
          -0.3063797354698181,
          5.6637282371521,
          6.442816257476807,
          2.2300455570220947,
          5.193165302276611,
          1.3276665210723877,
          6.744263172149658,
          2.6617019176483154,
          5.859603404998779,
          4.976904392242432,
          1.9659959077835083,
          4.923986911773682,
          8.385488510131836,
          7.5135040283203125,
          6.276782989501953,
          5.710270404815674,
          0.21285377442836761,
          6.238921642303467,
          4.966287612915039,
          6.224644184112549,
          -0.39601051807403564,
          1.1875662803649902,
          -1.1488393545150757,
          2.1812121868133545,
          2.4846272468566895,
          7.02149772644043,
          1.9513733386993408,
          6.3351216316223145,
          7.561232566833496,
          6.977492809295654,
          0.7462453842163086,
          0.28242987394332886,
          7.615196228027344,
          1.6811710596084595,
          7.511778354644775,
          2.6612281799316406,
          2.899343252182007,
          1.3941861391067505,
          -0.4925099313259125,
          6.382320404052734,
          2.9601552486419678,
          -1.3102086782455444,
          5.841409206390381,
          -1.1257303953170776,
          1.3486851453781128,
          6.492728233337402,
          8.38572883605957,
          0.35228848457336426,
          5.25605583190918,
          -1.3517117500305176,
          6.610369682312012,
          1.157696008682251,
          -0.34794801473617554,
          1.9040119647979736,
          -0.7605013847351074,
          2.822409152984619,
          6.663302421569824,
          5.661064147949219,
          -0.6027513742446899,
          6.0354156494140625,
          6.679392337799072,
          1.673824667930603,
          9.926119804382324,
          5.180706024169922,
          5.532841682434082
         ],
         "xaxis": "x",
         "y": [
          7.195420742034912,
          11.122028350830078,
          7.880393028259277,
          4.462969779968262,
          11.67339038848877,
          3.323683500289917,
          6.241672039031982,
          9.084493637084961,
          9.30052375793457,
          7.146803379058838,
          13.083456039428711,
          7.60902214050293,
          6.323763370513916,
          5.5719146728515625,
          8.95132064819336,
          9.347285270690918,
          8.61505126953125,
          6.2693963050842285,
          3.371948003768921,
          2.134969711303711,
          3.4694724082946777,
          15.058199882507324,
          7.709056377410889,
          7.888094425201416,
          10.476871490478516,
          6.771021366119385,
          7.465909957885742,
          12.35579776763916,
          14.031131744384766,
          4.723260879516602,
          1.163323998451233,
          3.5545332431793213,
          7.1651611328125,
          6.411101341247559,
          7.839701175689697,
          0.7188101410865784,
          2.9267098903656006,
          12.248517990112305,
          3.8491415977478027,
          10.294078826904297,
          12.819451332092285,
          6.93410062789917,
          2.1155214309692383,
          8.635937690734863,
          11.096488952636719,
          6.407345771789551,
          10.987797737121582,
          5.349033355712891,
          3.081552028656006,
          8.486700057983398,
          3.1411685943603516,
          5.5691609382629395,
          8.957508087158203,
          0.9425296783447266,
          8.817818641662598,
          15.021466255187988,
          10.779376983642578,
          5.183473587036133,
          7.584290027618408,
          14.886710166931152,
          5.517296314239502,
          2.8543238639831543,
          6.415763854980469,
          1.1921449899673462,
          3.282057285308838,
          2.2384674549102783,
          3.2613372802734375,
          7.023038864135742,
          14.845502853393555,
          10.99500560760498,
          11.815043449401855,
          8.836379051208496,
          6.788987636566162,
          7.061309814453125,
          12.813641548156738,
          4.477463245391846,
          11.757201194763184,
          2.9269776344299316,
          6.252760410308838,
          10.96157455444336,
          7.170192241668701,
          3.8531811237335205,
          4.864567756652832,
          10.031063079833984,
          13.261524200439453,
          9.491759300231934,
          10.031609535217285,
          3.4187705516815186,
          11.171175956726074,
          4.71394681930542,
          4.7418951988220215,
          2.836174964904785,
          14.088354110717773,
          12.654871940612793,
          10.90202808380127,
          3.8431577682495117,
          9.000930786132812,
          5.623338222503662,
          8.7548189163208,
          9.237430572509766,
          7.795013427734375,
          3.0936930179595947,
          13.001134872436523,
          8.550552368164062,
          7.035282611846924,
          14.21642017364502,
          4.3448967933654785,
          7.25397253036499,
          8.073725700378418,
          9.030733108520508,
          3.4366543292999268,
          5.564581871032715,
          4.017126083374023,
          6.783695220947266,
          4.499660491943359,
          7.551581382751465,
          12.505351066589355,
          4.664080619812012,
          3.7049167156219482,
          8.36178207397461,
          0.9882166981697083,
          15.002881050109863,
          1.1419868469238281,
          7.561304092407227,
          1.9978779554367065,
          3.1937332153320312,
          9.915243148803711,
          3.5201923847198486,
          12.910133361816406,
          7.782349586486816,
          3.434295415878296,
          9.182991981506348,
          8.971675872802734,
          8.02486801147461,
          4.388437747955322,
          11.090782165527344,
          12.760757446289062,
          5.17812967300415,
          11.010270118713379,
          14.836421966552734,
          1.9233570098876953,
          13.10419750213623,
          4.619587421417236,
          7.0604166984558105,
          2.7324435710906982,
          0.7016348242759705,
          12.469850540161133,
          10.055530548095703,
          4.5236592292785645,
          2.797257423400879,
          4.422521114349365,
          8.003055572509766,
          6.571972370147705,
          5.1499433517456055,
          11.92604923248291,
          8.144039154052734,
          1.0079057216644287,
          2.744907855987549,
          3.221252918243408,
          3.191969633102417,
          5.513803958892822,
          8.513659477233887,
          6.013831615447998,
          11.754195213317871,
          12.793787002563477,
          6.004063129425049,
          6.194664478302002,
          6.15194845199585,
          5.611460208892822,
          8.864100456237793,
          4.862110614776611,
          7.240370750427246,
          2.9694905281066895,
          13.462126731872559,
          4.945428848266602,
          9.040946006774902,
          5.332780361175537,
          12.602724075317383,
          10.009353637695312,
          15.016915321350098,
          7.770152568817139,
          5.213695526123047,
          2.841740131378174,
          7.734882354736328,
          5.240559101104736,
          7.291808128356934,
          8.360296249389648,
          2.848869562149048,
          4.770622253417969,
          2.7722558975219727,
          11.998772621154785,
          6.049725532531738,
          3.605100154876709,
          6.490987777709961,
          3.170844793319702,
          8.64432144165039,
          14.943595886230469,
          8.859478950500488,
          9.538335800170898,
          6.78185510635376,
          6.599373817443848,
          8.597593307495117,
          6.353374481201172,
          4.598297595977783,
          12.242341041564941,
          7.101841926574707,
          13.416465759277344,
          12.825425148010254,
          6.014889717102051,
          3.3823421001434326,
          3.7578842639923096,
          6.245079040527344,
          8.468169212341309,
          3.1684343814849854,
          8.762495040893555,
          8.82854175567627,
          3.355381488800049,
          8.314839363098145,
          8.982781410217285,
          7.670655250549316,
          12.652132034301758,
          7.349732398986816,
          8.280717849731445,
          14.73583984375,
          11.552860260009766,
          5.969097137451172,
          3.670149803161621,
          7.198184490203857,
          4.511318683624268,
          6.222147464752197,
          11.700931549072266,
          8.96072769165039,
          7.771865367889404,
          15.040862083435059,
          4.769461631774902,
          8.89733600616455,
          2.9308876991271973,
          5.671726226806641,
          5.537454128265381,
          0.8524989485740662,
          6.307967662811279,
          7.6510114669799805,
          5.382150173187256,
          5.732624530792236,
          5.086735725402832,
          12.81649398803711,
          11.267409324645996,
          4.02236795425415,
          8.365931510925293,
          6.232102394104004,
          9.39941120147705,
          8.724637031555176,
          6.592823505401611,
          11.548422813415527,
          3.0620360374450684,
          11.7885160446167,
          2.8249740600585938,
          6.081030368804932,
          7.182549953460693,
          9.393143653869629,
          4.607966899871826,
          0.9031333923339844,
          7.059335708618164,
          14.82183837890625,
          14.32667064666748,
          12.87480354309082,
          8.345688819885254,
          6.346057415008545,
          2.958989143371582,
          11.124837875366211,
          13.457258224487305,
          8.377358436584473,
          11.110279083251953,
          4.521388530731201,
          5.965816020965576,
          8.190584182739258,
          5.78026008605957,
          6.131476879119873,
          14.429085731506348,
          2.7810323238372803,
          7.683182239532471,
          8.31906509399414,
          11.134897232055664,
          13.221362113952637,
          0.6857275366783142,
          14.85274887084961,
          4.5520524978637695,
          6.54351806640625,
          5.468252658843994,
          4.509383201599121,
          5.925270080566406,
          7.159339904785156,
          8.556076049804688,
          8.901190757751465,
          8.18203353881836,
          9.491621971130371,
          4.741282939910889,
          2.8871147632598877,
          11.91848087310791,
          7.039141654968262,
          8.238890647888184,
          6.931083679199219,
          4.030048370361328,
          12.785849571228027,
          5.810854911804199,
          7.799645900726318,
          12.621979713439941,
          5.8362650871276855,
          4.028134822845459,
          7.779801845550537,
          6.242794513702393,
          11.551025390625,
          4.892996311187744,
          4.496918678283691,
          8.530937194824219,
          6.119378089904785,
          6.292312145233154,
          7.454848289489746,
          14.111531257629395,
          10.399115562438965,
          11.31396484375,
          13.760543823242188,
          10.048860549926758,
          8.222943305969238,
          8.627458572387695,
          1.865701675415039,
          2.7119874954223633,
          14.195432662963867,
          7.204299449920654,
          8.521590232849121,
          11.398344039916992,
          7.80677604675293,
          6.012723445892334,
          12.418006896972656,
          7.7959370613098145,
          3.3994460105895996,
          11.097393989562988,
          4.286884784698486,
          10.832798957824707,
          7.073874473571777,
          14.406103134155273,
          12.65471076965332,
          7.625301361083984,
          5.890321254730225,
          11.847634315490723,
          14.141380310058594,
          7.998067855834961,
          7.246205806732178,
          15.01248836517334,
          12.680594444274902,
          7.214770317077637,
          12.746564865112305,
          12.241558074951172,
          10.28662109375,
          6.2806196212768555,
          7.284523010253906,
          12.706694602966309,
          6.226473808288574,
          8.784317016601562,
          12.853715896606445,
          6.22988748550415,
          7.258265018463135,
          6.780686855316162,
          11.945064544677734,
          3.2074437141418457,
          7.765671253204346,
          3.127333641052246,
          9.029258728027344,
          8.758138656616211,
          9.604571342468262,
          4.83558464050293,
          6.2418670654296875,
          8.968412399291992,
          6.738057613372803,
          5.951383113861084,
          7.070798397064209,
          6.692349433898926,
          7.122213840484619,
          13.304655075073242,
          12.80294418334961,
          6.567412853240967,
          5.922240257263184,
          8.949280738830566,
          2.271077871322632,
          3.180037021636963,
          5.063950538635254,
          6.257326126098633,
          3.132295608520508,
          15.126940727233887,
          4.5074968338012695,
          9.376760482788086,
          4.982211112976074,
          11.903905868530273,
          8.548973083496094,
          10.003746032714844,
          6.483749866485596,
          8.823101043701172,
          2.7562787532806396,
          4.4683685302734375,
          4.984630584716797,
          3.1058967113494873,
          9.4899263381958,
          12.980456352233887,
          6.684963703155518,
          6.311699390411377,
          5.988831043243408,
          11.135992050170898,
          9.981687545776367,
          10.390986442565918,
          10.634369850158691,
          0.6384614109992981,
          7.4000020027160645,
          14.810351371765137,
          2.980638265609741,
          1.9945483207702637,
          6.173891544342041,
          11.982147216796875,
          0.9153249859809875,
          6.11976432800293,
          5.977544784545898,
          6.735067367553711,
          9.10438060760498,
          15.025446891784668,
          9.979266166687012,
          9.069849967956543,
          7.940793991088867,
          4.794319152832031,
          7.129048824310303,
          5.390916347503662,
          5.960831165313721,
          7.563762664794922,
          8.781758308410645,
          7.758113861083984,
          10.82608413696289,
          9.275086402893066,
          12.372937202453613,
          7.914381504058838,
          11.520691871643066,
          11.732446670532227,
          6.668972969055176,
          7.741633892059326,
          7.789736270904541,
          3.8425095081329346,
          6.058865070343018,
          3.269277572631836,
          9.25516414642334,
          2.9494118690490723,
          2.984111785888672,
          0.6869317889213562,
          6.739105224609375,
          6.481551170349121,
          3.974902868270874,
          5.655352592468262,
          10.966096878051758,
          3.5022671222686768,
          12.672362327575684,
          12.230597496032715,
          5.668855667114258,
          4.658662796020508,
          10.877720832824707,
          3.3567395210266113,
          10.047913551330566,
          10.086431503295898,
          4.8584208488464355,
          6.136857509613037,
          14.984491348266602,
          8.97954273223877,
          2.951685905456543,
          6.8608198165893555,
          11.744668960571289,
          7.077517509460449,
          0.7118952870368958,
          14.82314395904541,
          7.621924877166748,
          4.410776138305664,
          6.529788970947266,
          2.9532837867736816,
          7.796931266784668,
          5.9756903648376465,
          10.856683731079102,
          6.059255599975586,
          9.339312553405762,
          5.724666118621826,
          13.655790328979492,
          7.164074897766113,
          7.488267421722412,
          2.8173532485961914,
          8.203767776489258,
          2.7296595573425293,
          12.280354499816895,
          11.698036193847656,
          5.50247859954834,
          4.853779315948486,
          3.142704486846924,
          6.911458492279053,
          1.0574318170547485,
          5.859489917755127,
          14.340006828308105,
          5.351388454437256,
          7.632493019104004,
          11.155744552612305,
          12.771773338317871,
          10.352663040161133,
          11.031941413879395,
          11.802074432373047,
          8.497456550598145,
          7.815746307373047,
          2.951162576675415,
          6.300328731536865,
          9.018531799316406,
          6.707028388977051,
          14.22346019744873,
          8.148480415344238,
          2.877365827560425,
          8.474102973937988,
          6.007226943969727,
          6.108493804931641,
          4.8256449699401855,
          7.532028675079346,
          12.83639144897461,
          5.376192092895508,
          2.9231202602386475,
          2.9718945026397705,
          2.0251073837280273,
          9.178265571594238,
          15.045679092407227,
          6.421131134033203,
          10.061692237854004,
          5.191579818725586,
          10.473128318786621,
          3.6104369163513184,
          2.1143081188201904,
          9.963799476623535,
          12.829360008239746,
          3.534966468811035,
          7.2854413986206055,
          5.608365058898926,
          12.734611511230469,
          8.58841323852539,
          8.711127281188965,
          2.2146925926208496,
          7.266523838043213,
          9.418810844421387,
          12.265068054199219,
          6.136965751647949,
          3.051997661590576,
          5.028733730316162,
          8.88182258605957,
          12.846129417419434,
          0.7105416655540466,
          8.721419334411621,
          5.595221996307373,
          5.658107280731201,
          6.569103240966797,
          11.108258247375488,
          4.033713340759277,
          2.0420339107513428,
          11.873119354248047,
          3.307659149169922,
          6.808191776275635,
          9.904210090637207,
          6.218062400817871,
          4.581954479217529,
          11.742330551147461,
          5.216363430023193,
          10.751677513122559,
          5.4819817543029785,
          9.246586799621582,
          6.31065034866333,
          8.987957954406738,
          14.141748428344727,
          4.835010528564453,
          7.967942714691162,
          3.4085097312927246,
          6.166386604309082,
          5.668127059936523,
          6.094221591949463,
          6.233168601989746,
          8.807761192321777,
          4.306050777435303,
          7.653441905975342,
          12.659506797790527,
          2.813629627227783,
          5.8791069984436035,
          6.710927486419678,
          15.053853034973145,
          2.698435068130493,
          4.422033309936523,
          0.9559449553489685,
          7.199518203735352,
          7.336259841918945,
          6.490176200866699,
          7.307700157165527,
          3.809403657913208,
          11.725915908813477,
          5.956295967102051,
          13.96621322631836,
          12.683481216430664,
          6.0012125968933105,
          6.851578235626221,
          3.2574994564056396,
          10.946940422058105,
          11.100003242492676,
          6.60356330871582,
          3.280191659927368,
          7.328161716461182,
          5.840953350067139,
          6.46148157119751,
          6.6437530517578125,
          11.642812728881836,
          6.758358478546143,
          10.285672187805176,
          4.015661716461182,
          10.830673217773438,
          3.1034533977508545,
          6.372921943664551,
          7.0805559158325195,
          7.7861409187316895,
          5.85326623916626,
          5.6832427978515625,
          0.6998611688613892,
          5.695645332336426,
          9.085545539855957,
          13.332395553588867,
          3.3225433826446533,
          7.751115798950195,
          6.737048149108887,
          13.41318130493164,
          3.7951724529266357,
          14.261706352233887,
          13.378606796264648,
          12.295788764953613,
          8.172858238220215,
          7.074284076690674,
          7.586526393890381,
          6.2303314208984375,
          9.435867309570312,
          5.992231845855713,
          1.7027422189712524,
          5.203717231750488,
          12.879524230957031,
          4.434680461883545,
          9.09745979309082,
          5.941347599029541,
          5.679322242736816,
          6.213562488555908,
          4.755648136138916,
          12.254992485046387,
          7.3018951416015625,
          11.244796752929688,
          11.989517211914062,
          8.805261611938477,
          7.026756286621094,
          4.513007164001465,
          4.590058326721191,
          7.530188083648682,
          4.624110221862793,
          3.7574963569641113,
          8.381379127502441,
          6.091099739074707,
          3.477536916732788,
          2.4618070125579834,
          4.83827543258667,
          5.917394161224365,
          4.958637237548828,
          8.795110702514648,
          6.1513752937316895,
          6.124993801116943,
          0.6677973866462708,
          9.461075782775879,
          6.278221130371094,
          11.688687324523926,
          12.498688697814941,
          2.7720253467559814,
          6.558935165405273,
          3.171933174133301,
          3.000081777572632,
          8.576559066772461,
          6.247299671173096,
          2.8633766174316406,
          5.669458389282227,
          3.425792932510376,
          4.452154636383057,
          5.702566623687744,
          3.0790741443634033,
          3.343017339706421,
          11.163976669311523,
          9.096541404724121,
          5.934973239898682,
          8.984192848205566,
          1.0427120923995972,
          12.056641578674316,
          9.273062705993652,
          6.818742275238037,
          6.035614013671875,
          3.2072975635528564,
          6.446030139923096,
          6.358013153076172,
          2.9096133708953857,
          7.254817962646484,
          13.380669593811035,
          2.9743237495422363,
          12.40475845336914,
          3.1114308834075928,
          4.3392815589904785,
          13.005473136901855,
          5.243341445922852,
          9.485302925109863,
          6.198774337768555,
          8.86552619934082,
          7.000094890594482,
          5.583312034606934,
          3.4443700313568115,
          8.823486328125,
          4.480470180511475,
          12.641477584838867,
          8.109371185302734,
          4.519187927246094,
          1.9905259609222412,
          6.207002639770508,
          5.0387420654296875,
          9.453721046447754,
          6.7480387687683105,
          8.327263832092285,
          12.20541763305664,
          9.403904914855957,
          3.3635592460632324,
          8.953784942626953,
          8.225820541381836,
          6.4012370109558105,
          12.822795867919922,
          6.38537073135376,
          11.586592674255371,
          8.734665870666504,
          6.760536193847656,
          12.756439208984375,
          5.553349018096924,
          6.480688095092773,
          7.257913112640381,
          3.250532627105713,
          5.225081443786621,
          11.75234603881836,
          2.7424185276031494,
          13.32961368560791,
          6.069034576416016,
          6.174142360687256,
          8.853899955749512,
          11.656636238098145,
          11.795620918273926,
          12.864809036254883,
          7.632153511047363,
          11.717761993408203,
          13.43766975402832,
          7.219601631164551,
          11.696892738342285,
          14.932463645935059,
          6.004608631134033,
          6.099964141845703,
          5.864644527435303,
          0.7255838513374329,
          5.9945173263549805,
          4.479526996612549,
          12.683992385864258,
          6.232057571411133,
          11.174521446228027,
          2.8886802196502686,
          6.703224182128906,
          8.953146934509277,
          5.88775110244751,
          3.8438808917999268,
          3.141752243041992,
          13.00624942779541,
          6.041128158569336,
          12.772289276123047,
          2.8829262256622314,
          6.335090160369873,
          4.390781879425049,
          4.5807390213012695,
          14.96681022644043,
          9.020862579345703,
          4.999849319458008,
          5.653265953063965,
          3.7391433715820312,
          11.79148006439209,
          7.801723480224609,
          8.33902359008789,
          10.957534790039062,
          9.59912109375,
          10.973814964294434,
          7.821748733520508,
          11.61618709564209,
          10.900910377502441,
          6.790182590484619,
          12.237898826599121,
          7.7417683601379395,
          6.1444573402404785,
          5.2129669189453125,
          6.659421443939209,
          7.199085712432861,
          7.096026420593262,
          10.565279006958008,
          1.0695102214813232,
          12.90953254699707,
          0.744102418422699,
          3.967503070831299,
          4.908873081207275,
          6.615577697753906,
          8.206012725830078,
          8.60937786102295,
          2.8894524574279785,
          7.497856616973877,
          3.1832168102264404,
          2.748964309692383,
          8.93493366241455,
          6.4429731369018555,
          7.99794864654541,
          5.4756669998168945,
          8.360345840454102,
          3.2494637966156006,
          2.7415528297424316,
          12.6334810256958,
          5.531783103942871,
          3.046102523803711,
          5.446634769439697,
          5.948483467102051,
          4.41762638092041,
          3.0155603885650635,
          4.45960807800293,
          9.114709854125977,
          3.2888190746307373,
          14.841997146606445,
          7.198343276977539,
          7.2651472091674805,
          8.277472496032715,
          6.286312580108643,
          2.805955648422241,
          9.462321281433105,
          7.558721542358398,
          5.719778537750244,
          2.057385206222534,
          2.7539584636688232,
          14.805193901062012,
          3.9954798221588135,
          7.122396945953369,
          4.5432515144348145,
          6.092917442321777,
          6.120159149169922,
          6.130125522613525,
          7.7910895347595215,
          11.971220016479492,
          9.223177909851074,
          8.510337829589844,
          0.6317994594573975,
          10.908090591430664,
          11.857495307922363,
          3.1241767406463623,
          15.054908752441406,
          7.28286600112915,
          0.8935528993606567,
          4.648979663848877,
          11.717822074890137,
          9.59365177154541,
          4.64115047454834,
          7.611050128936768,
          4.3322224617004395,
          4.429854393005371,
          6.275528907775879,
          0.6878975033760071,
          6.27819299697876,
          7.929992198944092,
          8.530834197998047,
          5.984382152557373,
          1.9484484195709229,
          8.31568717956543,
          5.83047342300415,
          9.135059356689453,
          5.827056407928467,
          6.4487433433532715,
          13.050372123718262,
          3.4602737426757812,
          14.84619426727295,
          7.752060890197754,
          8.098315238952637,
          1.9039106369018555,
          4.036101341247559,
          6.416284084320068,
          7.716303825378418,
          6.523775100708008,
          2.8182687759399414,
          2.82220458984375,
          3.7022438049316406,
          3.602391004562378,
          5.30621337890625,
          2.9626753330230713,
          5.484047889709473,
          4.86164665222168,
          9.477666854858398,
          12.500555038452148,
          3.1339704990386963,
          3.1192104816436768,
          8.388079643249512,
          9.325295448303223,
          5.013521671295166,
          5.924437522888184,
          7.570092678070068,
          5.960782051086426,
          11.881821632385254,
          2.8784637451171875,
          9.092809677124023,
          9.53443717956543,
          4.444962024688721,
          2.148204803466797,
          8.33384895324707,
          14.854333877563477,
          5.378052711486816,
          7.0960307121276855,
          6.441201210021973,
          12.798002243041992,
          7.569919586181641,
          5.662914276123047,
          6.504776954650879,
          7.522587776184082,
          8.943824768066406,
          7.289559841156006,
          5.930216312408447,
          2.8226253986358643,
          3.2011325359344482,
          2.125498056411743,
          5.674586772918701,
          14.764193534851074,
          4.003236293792725,
          5.355835437774658,
          3.9728360176086426,
          3.9380619525909424,
          9.726412773132324,
          8.525755882263184,
          7.122960567474365,
          9.15410041809082,
          2.712015390396118,
          11.072501182556152,
          8.741114616394043,
          5.773736476898193,
          7.157562732696533,
          7.627716064453125,
          3.1078526973724365,
          8.959161758422852,
          3.1839444637298584,
          15.013946533203125,
          6.548338890075684,
          7.085312843322754,
          7.1534576416015625,
          5.549099445343018,
          6.015523433685303,
          7.095785140991211,
          15.003625869750977,
          4.648550510406494,
          3.1486763954162598,
          3.6591107845306396,
          8.347883224487305,
          12.702949523925781,
          12.190535545349121,
          15.016519546508789,
          11.598841667175293,
          9.954915046691895,
          7.575743198394775,
          8.652056694030762,
          6.152884006500244,
          4.148060321807861,
          5.120330333709717,
          6.397061824798584,
          6.711627960205078,
          6.3929443359375,
          3.252206325531006,
          2.9365992546081543,
          12.265595436096191,
          2.780766725540161,
          3.3158304691314697,
          15.037181854248047,
          8.59634780883789,
          12.930737495422363,
          6.364930152893066,
          7.348305702209473,
          6.235414028167725,
          2.8741633892059326,
          3.226186752319336,
          8.559444427490234,
          5.6785197257995605,
          7.267972946166992,
          4.288035869598389,
          5.2722954750061035,
          9.91593074798584,
          5.405953884124756,
          7.969979763031006,
          8.195696830749512,
          8.207503318786621,
          9.90322494506836,
          4.682927131652832,
          6.559765338897705,
          7.085315704345703,
          4.931493759155273,
          4.6316704750061035,
          5.745168209075928,
          3.1802449226379395,
          8.61977481842041,
          8.680503845214844,
          5.407340049743652,
          3.252140522003174,
          9.259366035461426,
          6.320737361907959,
          1.9445489645004272,
          4.5311689376831055,
          11.678990364074707,
          2.9309093952178955,
          7.712424278259277,
          3.13081693649292,
          4.564910888671875,
          6.395111560821533,
          8.46936321258545,
          6.182859420776367,
          7.700302600860596,
          14.169205665588379,
          4.447981357574463,
          10.940064430236816,
          12.047618865966797,
          5.91731595993042,
          2.797659397125244,
          8.781791687011719,
          13.90905475616455,
          6.05456018447876,
          7.8694376945495605,
          2.024505615234375,
          3.989201545715332,
          11.7007474899292,
          7.349963188171387,
          6.7524824142456055,
          12.763114929199219,
          9.060567855834961,
          7.473865509033203,
          2.251588821411133,
          3.6945979595184326,
          3.1529970169067383,
          12.309121131896973,
          6.908575534820557,
          9.968902587890625,
          12.909679412841797,
          8.516857147216797,
          5.499629974365234,
          8.626952171325684,
          0.6770140528678894,
          6.5090789794921875,
          2.9991672039031982,
          6.813215732574463,
          3.121805191040039,
          12.248236656188965,
          8.822071075439453,
          6.863162517547607,
          5.931257247924805,
          7.735563278198242,
          8.025472640991211,
          5.032617568969727,
          14.78136920928955,
          6.149391174316406,
          4.149819374084473,
          6.354656219482422,
          12.237556457519531,
          13.263045310974121,
          13.497252464294434,
          12.943361282348633,
          3.669271469116211,
          14.176277160644531,
          6.1034746170043945,
          13.540223121643066,
          6.385909080505371,
          2.8708913326263428,
          8.870856285095215,
          3.9418139457702637,
          3.2132115364074707,
          6.304835319519043,
          1.8390583992004395,
          8.717438697814941,
          14.853975296020508,
          4.47800350189209,
          4.701798439025879,
          3.7829954624176025,
          5.160635948181152,
          7.726851940155029,
          13.297965049743652,
          7.48702335357666,
          7.726598739624023,
          8.058613777160645,
          7.0663065910339355,
          7.579091548919678,
          0.6944553852081299,
          8.615893363952637,
          11.872743606567383,
          9.420347213745117,
          2.2658329010009766,
          8.374777793884277,
          5.68589448928833,
          4.006218433380127,
          12.950157165527344,
          8.59079360961914,
          7.1031365394592285,
          4.877529621124268,
          8.848501205444336,
          4.5009965896606445,
          7.131427764892578,
          7.593905448913574,
          4.512604713439941,
          15.02075481414795,
          7.173921585083008,
          4.68194055557251,
          8.328282356262207,
          4.548270225524902,
          6.394837379455566,
          2.7323403358459473,
          11.68856430053711
         ],
         "yaxis": "y"
        }
       ],
       "layout": {
        "coloraxis": {
         "colorbar": {
          "title": {
           "text": "Anomaly"
          }
         },
         "colorscale": [
          [
           0,
           "#0d0887"
          ],
          [
           0.1111111111111111,
           "#46039f"
          ],
          [
           0.2222222222222222,
           "#7201a8"
          ],
          [
           0.3333333333333333,
           "#9c179e"
          ],
          [
           0.4444444444444444,
           "#bd3786"
          ],
          [
           0.5555555555555556,
           "#d8576b"
          ],
          [
           0.6666666666666666,
           "#ed7953"
          ],
          [
           0.7777777777777778,
           "#fb9f3a"
          ],
          [
           0.8888888888888888,
           "#fdca26"
          ],
          [
           1,
           "#f0f921"
          ]
         ]
        },
        "height": 800,
        "legend": {
         "tracegroupgap": 0
        },
        "template": {
         "data": {
          "bar": [
           {
            "error_x": {
             "color": "#2a3f5f"
            },
            "error_y": {
             "color": "#2a3f5f"
            },
            "marker": {
             "line": {
              "color": "#E5ECF6",
              "width": 0.5
             },
             "pattern": {
              "fillmode": "overlay",
              "size": 10,
              "solidity": 0.2
             }
            },
            "type": "bar"
           }
          ],
          "barpolar": [
           {
            "marker": {
             "line": {
              "color": "#E5ECF6",
              "width": 0.5
             },
             "pattern": {
              "fillmode": "overlay",
              "size": 10,
              "solidity": 0.2
             }
            },
            "type": "barpolar"
           }
          ],
          "carpet": [
           {
            "aaxis": {
             "endlinecolor": "#2a3f5f",
             "gridcolor": "white",
             "linecolor": "white",
             "minorgridcolor": "white",
             "startlinecolor": "#2a3f5f"
            },
            "baxis": {
             "endlinecolor": "#2a3f5f",
             "gridcolor": "white",
             "linecolor": "white",
             "minorgridcolor": "white",
             "startlinecolor": "#2a3f5f"
            },
            "type": "carpet"
           }
          ],
          "choropleth": [
           {
            "colorbar": {
             "outlinewidth": 0,
             "ticks": ""
            },
            "type": "choropleth"
           }
          ],
          "contour": [
           {
            "colorbar": {
             "outlinewidth": 0,
             "ticks": ""
            },
            "colorscale": [
             [
              0,
              "#0d0887"
             ],
             [
              0.1111111111111111,
              "#46039f"
             ],
             [
              0.2222222222222222,
              "#7201a8"
             ],
             [
              0.3333333333333333,
              "#9c179e"
             ],
             [
              0.4444444444444444,
              "#bd3786"
             ],
             [
              0.5555555555555556,
              "#d8576b"
             ],
             [
              0.6666666666666666,
              "#ed7953"
             ],
             [
              0.7777777777777778,
              "#fb9f3a"
             ],
             [
              0.8888888888888888,
              "#fdca26"
             ],
             [
              1,
              "#f0f921"
             ]
            ],
            "type": "contour"
           }
          ],
          "contourcarpet": [
           {
            "colorbar": {
             "outlinewidth": 0,
             "ticks": ""
            },
            "type": "contourcarpet"
           }
          ],
          "heatmap": [
           {
            "colorbar": {
             "outlinewidth": 0,
             "ticks": ""
            },
            "colorscale": [
             [
              0,
              "#0d0887"
             ],
             [
              0.1111111111111111,
              "#46039f"
             ],
             [
              0.2222222222222222,
              "#7201a8"
             ],
             [
              0.3333333333333333,
              "#9c179e"
             ],
             [
              0.4444444444444444,
              "#bd3786"
             ],
             [
              0.5555555555555556,
              "#d8576b"
             ],
             [
              0.6666666666666666,
              "#ed7953"
             ],
             [
              0.7777777777777778,
              "#fb9f3a"
             ],
             [
              0.8888888888888888,
              "#fdca26"
             ],
             [
              1,
              "#f0f921"
             ]
            ],
            "type": "heatmap"
           }
          ],
          "heatmapgl": [
           {
            "colorbar": {
             "outlinewidth": 0,
             "ticks": ""
            },
            "colorscale": [
             [
              0,
              "#0d0887"
             ],
             [
              0.1111111111111111,
              "#46039f"
             ],
             [
              0.2222222222222222,
              "#7201a8"
             ],
             [
              0.3333333333333333,
              "#9c179e"
             ],
             [
              0.4444444444444444,
              "#bd3786"
             ],
             [
              0.5555555555555556,
              "#d8576b"
             ],
             [
              0.6666666666666666,
              "#ed7953"
             ],
             [
              0.7777777777777778,
              "#fb9f3a"
             ],
             [
              0.8888888888888888,
              "#fdca26"
             ],
             [
              1,
              "#f0f921"
             ]
            ],
            "type": "heatmapgl"
           }
          ],
          "histogram": [
           {
            "marker": {
             "pattern": {
              "fillmode": "overlay",
              "size": 10,
              "solidity": 0.2
             }
            },
            "type": "histogram"
           }
          ],
          "histogram2d": [
           {
            "colorbar": {
             "outlinewidth": 0,
             "ticks": ""
            },
            "colorscale": [
             [
              0,
              "#0d0887"
             ],
             [
              0.1111111111111111,
              "#46039f"
             ],
             [
              0.2222222222222222,
              "#7201a8"
             ],
             [
              0.3333333333333333,
              "#9c179e"
             ],
             [
              0.4444444444444444,
              "#bd3786"
             ],
             [
              0.5555555555555556,
              "#d8576b"
             ],
             [
              0.6666666666666666,
              "#ed7953"
             ],
             [
              0.7777777777777778,
              "#fb9f3a"
             ],
             [
              0.8888888888888888,
              "#fdca26"
             ],
             [
              1,
              "#f0f921"
             ]
            ],
            "type": "histogram2d"
           }
          ],
          "histogram2dcontour": [
           {
            "colorbar": {
             "outlinewidth": 0,
             "ticks": ""
            },
            "colorscale": [
             [
              0,
              "#0d0887"
             ],
             [
              0.1111111111111111,
              "#46039f"
             ],
             [
              0.2222222222222222,
              "#7201a8"
             ],
             [
              0.3333333333333333,
              "#9c179e"
             ],
             [
              0.4444444444444444,
              "#bd3786"
             ],
             [
              0.5555555555555556,
              "#d8576b"
             ],
             [
              0.6666666666666666,
              "#ed7953"
             ],
             [
              0.7777777777777778,
              "#fb9f3a"
             ],
             [
              0.8888888888888888,
              "#fdca26"
             ],
             [
              1,
              "#f0f921"
             ]
            ],
            "type": "histogram2dcontour"
           }
          ],
          "mesh3d": [
           {
            "colorbar": {
             "outlinewidth": 0,
             "ticks": ""
            },
            "type": "mesh3d"
           }
          ],
          "parcoords": [
           {
            "line": {
             "colorbar": {
              "outlinewidth": 0,
              "ticks": ""
             }
            },
            "type": "parcoords"
           }
          ],
          "pie": [
           {
            "automargin": true,
            "type": "pie"
           }
          ],
          "scatter": [
           {
            "fillpattern": {
             "fillmode": "overlay",
             "size": 10,
             "solidity": 0.2
            },
            "type": "scatter"
           }
          ],
          "scatter3d": [
           {
            "line": {
             "colorbar": {
              "outlinewidth": 0,
              "ticks": ""
             }
            },
            "marker": {
             "colorbar": {
              "outlinewidth": 0,
              "ticks": ""
             }
            },
            "type": "scatter3d"
           }
          ],
          "scattercarpet": [
           {
            "marker": {
             "colorbar": {
              "outlinewidth": 0,
              "ticks": ""
             }
            },
            "type": "scattercarpet"
           }
          ],
          "scattergeo": [
           {
            "marker": {
             "colorbar": {
              "outlinewidth": 0,
              "ticks": ""
             }
            },
            "type": "scattergeo"
           }
          ],
          "scattergl": [
           {
            "marker": {
             "colorbar": {
              "outlinewidth": 0,
              "ticks": ""
             }
            },
            "type": "scattergl"
           }
          ],
          "scattermapbox": [
           {
            "marker": {
             "colorbar": {
              "outlinewidth": 0,
              "ticks": ""
             }
            },
            "type": "scattermapbox"
           }
          ],
          "scatterpolar": [
           {
            "marker": {
             "colorbar": {
              "outlinewidth": 0,
              "ticks": ""
             }
            },
            "type": "scatterpolar"
           }
          ],
          "scatterpolargl": [
           {
            "marker": {
             "colorbar": {
              "outlinewidth": 0,
              "ticks": ""
             }
            },
            "type": "scatterpolargl"
           }
          ],
          "scatterternary": [
           {
            "marker": {
             "colorbar": {
              "outlinewidth": 0,
              "ticks": ""
             }
            },
            "type": "scatterternary"
           }
          ],
          "surface": [
           {
            "colorbar": {
             "outlinewidth": 0,
             "ticks": ""
            },
            "colorscale": [
             [
              0,
              "#0d0887"
             ],
             [
              0.1111111111111111,
              "#46039f"
             ],
             [
              0.2222222222222222,
              "#7201a8"
             ],
             [
              0.3333333333333333,
              "#9c179e"
             ],
             [
              0.4444444444444444,
              "#bd3786"
             ],
             [
              0.5555555555555556,
              "#d8576b"
             ],
             [
              0.6666666666666666,
              "#ed7953"
             ],
             [
              0.7777777777777778,
              "#fb9f3a"
             ],
             [
              0.8888888888888888,
              "#fdca26"
             ],
             [
              1,
              "#f0f921"
             ]
            ],
            "type": "surface"
           }
          ],
          "table": [
           {
            "cells": {
             "fill": {
              "color": "#EBF0F8"
             },
             "line": {
              "color": "white"
             }
            },
            "header": {
             "fill": {
              "color": "#C8D4E3"
             },
             "line": {
              "color": "white"
             }
            },
            "type": "table"
           }
          ]
         },
         "layout": {
          "annotationdefaults": {
           "arrowcolor": "#2a3f5f",
           "arrowhead": 0,
           "arrowwidth": 1
          },
          "autotypenumbers": "strict",
          "coloraxis": {
           "colorbar": {
            "outlinewidth": 0,
            "ticks": ""
           }
          },
          "colorscale": {
           "diverging": [
            [
             0,
             "#8e0152"
            ],
            [
             0.1,
             "#c51b7d"
            ],
            [
             0.2,
             "#de77ae"
            ],
            [
             0.3,
             "#f1b6da"
            ],
            [
             0.4,
             "#fde0ef"
            ],
            [
             0.5,
             "#f7f7f7"
            ],
            [
             0.6,
             "#e6f5d0"
            ],
            [
             0.7,
             "#b8e186"
            ],
            [
             0.8,
             "#7fbc41"
            ],
            [
             0.9,
             "#4d9221"
            ],
            [
             1,
             "#276419"
            ]
           ],
           "sequential": [
            [
             0,
             "#0d0887"
            ],
            [
             0.1111111111111111,
             "#46039f"
            ],
            [
             0.2222222222222222,
             "#7201a8"
            ],
            [
             0.3333333333333333,
             "#9c179e"
            ],
            [
             0.4444444444444444,
             "#bd3786"
            ],
            [
             0.5555555555555556,
             "#d8576b"
            ],
            [
             0.6666666666666666,
             "#ed7953"
            ],
            [
             0.7777777777777778,
             "#fb9f3a"
            ],
            [
             0.8888888888888888,
             "#fdca26"
            ],
            [
             1,
             "#f0f921"
            ]
           ],
           "sequentialminus": [
            [
             0,
             "#0d0887"
            ],
            [
             0.1111111111111111,
             "#46039f"
            ],
            [
             0.2222222222222222,
             "#7201a8"
            ],
            [
             0.3333333333333333,
             "#9c179e"
            ],
            [
             0.4444444444444444,
             "#bd3786"
            ],
            [
             0.5555555555555556,
             "#d8576b"
            ],
            [
             0.6666666666666666,
             "#ed7953"
            ],
            [
             0.7777777777777778,
             "#fb9f3a"
            ],
            [
             0.8888888888888888,
             "#fdca26"
            ],
            [
             1,
             "#f0f921"
            ]
           ]
          },
          "colorway": [
           "#636efa",
           "#EF553B",
           "#00cc96",
           "#ab63fa",
           "#FFA15A",
           "#19d3f3",
           "#FF6692",
           "#B6E880",
           "#FF97FF",
           "#FECB52"
          ],
          "font": {
           "color": "#2a3f5f"
          },
          "geo": {
           "bgcolor": "white",
           "lakecolor": "white",
           "landcolor": "#E5ECF6",
           "showlakes": true,
           "showland": true,
           "subunitcolor": "white"
          },
          "hoverlabel": {
           "align": "left"
          },
          "hovermode": "closest",
          "mapbox": {
           "style": "light"
          },
          "paper_bgcolor": "white",
          "plot_bgcolor": "#E5ECF6",
          "polar": {
           "angularaxis": {
            "gridcolor": "white",
            "linecolor": "white",
            "ticks": ""
           },
           "bgcolor": "#E5ECF6",
           "radialaxis": {
            "gridcolor": "white",
            "linecolor": "white",
            "ticks": ""
           }
          },
          "scene": {
           "xaxis": {
            "backgroundcolor": "#E5ECF6",
            "gridcolor": "white",
            "gridwidth": 2,
            "linecolor": "white",
            "showbackground": true,
            "ticks": "",
            "zerolinecolor": "white"
           },
           "yaxis": {
            "backgroundcolor": "#E5ECF6",
            "gridcolor": "white",
            "gridwidth": 2,
            "linecolor": "white",
            "showbackground": true,
            "ticks": "",
            "zerolinecolor": "white"
           },
           "zaxis": {
            "backgroundcolor": "#E5ECF6",
            "gridcolor": "white",
            "gridwidth": 2,
            "linecolor": "white",
            "showbackground": true,
            "ticks": "",
            "zerolinecolor": "white"
           }
          },
          "shapedefaults": {
           "line": {
            "color": "#2a3f5f"
           }
          },
          "ternary": {
           "aaxis": {
            "gridcolor": "white",
            "linecolor": "white",
            "ticks": ""
           },
           "baxis": {
            "gridcolor": "white",
            "linecolor": "white",
            "ticks": ""
           },
           "bgcolor": "#E5ECF6",
           "caxis": {
            "gridcolor": "white",
            "linecolor": "white",
            "ticks": ""
           }
          },
          "title": {
           "x": 0.05
          },
          "xaxis": {
           "automargin": true,
           "gridcolor": "white",
           "linecolor": "white",
           "ticks": "",
           "title": {
            "standoff": 15
           },
           "zerolinecolor": "white",
           "zerolinewidth": 2
          },
          "yaxis": {
           "automargin": true,
           "gridcolor": "white",
           "linecolor": "white",
           "ticks": "",
           "title": {
            "standoff": 15
           },
           "zerolinecolor": "white",
           "zerolinewidth": 2
          }
         }
        },
        "title": {
         "text": "uMAP Plot for Outliers"
        },
        "width": 900,
        "xaxis": {
         "anchor": "y",
         "autorange": true,
         "domain": [
          0,
          1
         ],
         "range": [
          -2.13761163337402,
          10.956298237873836
         ],
         "title": {
          "text": "0"
         },
         "type": "linear"
        },
        "yaxis": {
         "anchor": "x",
         "autorange": true,
         "domain": [
          0,
          1
         ],
         "range": [
          -0.28319810467563256,
          16.041938291366918
         ],
         "title": {
          "text": "1"
         },
         "type": "linear"
        }
       }
      },
      "image/png": "[encoded data removed]",
      "text/html": [
       "<div>                            <div id=\"1c20e88a-318a-44ce-8f90-61edfbf046ec\" class=\"plotly-graph-div\" style=\"height:800px; width:900px;\"></div>            <script type=\"text/javascript\">                require([\"plotly\"], function(Plotly) {                    window.PLOTLYENV=window.PLOTLYENV || {};                                    if (document.getElementById(\"1c20e88a-318a-44ce-8f90-61edfbf046ec\")) {                    Plotly.newPlot(                        \"1c20e88a-318a-44ce-8f90-61edfbf046ec\",                        [{\"customdata\":[[50.0],[116.0],[32.0],[49.0],[32.0],[32.0],[32.0],[48.0],[50.0],[48.0],[48.0],[47.0],[101.0],[32.0],[32.0],[52.0],[47.0],[99.0],[32.0],[48.0],[32.0],[32.0],[9.0],[32.0],[114.0],[106.0],[65.0],[32.0],[32.0],[62.0],[32.0],[32.0],[121.0],[9.0],[32.0],[32.0],[32.0],[32.0],[32.0],[111.0],[32.0],[112.0],[48.0],[101.0],[92.0],[32.0],[102.0],[32.0],[32.0],[32.0],[82.0],[32.0],[32.0],[32.0],[100.0],[32.0],[119.0],[32.0],[32.0],[32.0],[32.0],[32.0],[49.0],[32.0],[10.0],[32.0],[48.0],[91.0],[32.0],[114.0],[32.0],[53.0],[116.0],[116.0],[32.0],[32.0],[32.0],[32.0],[115.0],[112.0],[10.0],[32.0],[91.0],[101.0],[32.0],[67.0],[105.0],[32.0],[84.0],[32.0],[41.0],[48.0],[10.0],[32.0],[112.0],[32.0],[10.0],[32.0],[117.0],[32.0],[32.0],[32.0],[47.0],[47.0],[111.0],[10.0],[9.0],[84.0],[114.0],[32.0],[32.0],[32.0],[111.0],[32.0],[32.0],[47.0],[48.0],[62.0],[111.0],[32.0],[32.0],[32.0],[32.0],[47.0],[32.0],[106.0],[83.0],[9.0],[49.0],[10.0],[32.0],[32.0],[48.0],[80.0],[32.0],[101.0],[48.0],[84.0],[115.0],[32.0],[48.0],[32.0],[102.0],[101.0],[32.0],[32.0],[32.0],[116.0],[32.0],[32.0],[32.0],[48.0],[10.0],[32.0],[45.0],[105.0],[32.0],[32.0],[62.0],[32.0],[32.0],[97.0],[101.0],[62.0],[48.0],[32.0],[32.0],[32.0],[32.0],[60.0],[110.0],[32.0],[32.0],[32.0],[101.0],[10.0],[49.0],[32.0],[121.0],[32.0],[49.0],[32.0],[32.0],[9.0],[48.0],[99.0],[32.0],[10.0],[32.0],[32.0],[32.0],[32.0],[83.0],[32.0],[110.0],[32.0],[37.0],[9.0],[99.0],[101.0],[111.0],[10.0],[48.0],[101.0],[32.0],[82.0],[32.0],[48.0],[32.0],[32.0],[32.0],[110.0],[62.0],[114.0],[32.0],[50.0],[32.0],[80.0],[98.0],[32.0],[9.0],[9.0],[32.0],[32.0],[46.0],[32.0],[116.0],[32.0],[32.0],[111.0],[32.0],[32.0],[62.0],[32.0],[82.0],[47.0],[32.0],[117.0],[32.0],[32.0],[47.0],[9.0],[32.0],[51.0],[47.0],[32.0],[82.0],[110.0],[110.0],[48.0],[103.0],[47.0],[9.0],[32.0],[48.0],[32.0],[32.0],[46.0],[70.0],[111.0],[57.0],[32.0],[32.0],[32.0],[10.0],[32.0],[80.0],[110.0],[52.0],[110.0],[9.0],[32.0],[109.0],[110.0],[32.0],[32.0],[83.0],[48.0],[10.0],[32.0],[32.0],[101.0],[110.0],[32.0],[32.0],[32.0],[32.0],[32.0],[32.0],[32.0],[48.0],[100.0],[106.0],[62.0],[9.0],[48.0],[32.0],[32.0],[49.0],[112.0],[101.0],[111.0],[110.0],[60.0],[48.0],[111.0],[70.0],[48.0],[101.0],[10.0],[116.0],[48.0],[32.0],[32.0],[32.0],[115.0],[32.0],[48.0],[9.0],[100.0],[84.0],[10.0],[114.0],[91.0],[62.0],[32.0],[32.0],[9.0],[117.0],[9.0],[79.0],[48.0],[53.0],[32.0],[97.0],[48.0],[111.0],[10.0],[105.0],[93.0],[10.0],[62.0],[47.0],[69.0],[46.0],[10.0],[47.0],[32.0],[32.0],[32.0],[32.0],[49.0],[32.0],[121.0],[32.0],[32.0],[60.0],[32.0],[32.0],[55.0],[116.0],[114.0],[103.0],[32.0],[68.0],[10.0],[54.0],[66.0],[48.0],[114.0],[114.0],[32.0],[48.0],[98.0],[32.0],[115.0],[70.0],[32.0],[32.0],[32.0],[10.0],[77.0],[65.0],[32.0],[32.0],[32.0],[32.0],[110.0],[32.0],[32.0],[54.0],[62.0],[32.0],[103.0],[97.0],[9.0],[49.0],[32.0],[32.0],[9.0],[32.0],[48.0],[48.0],[32.0],[10.0],[32.0],[117.0],[85.0],[92.0],[97.0],[32.0],[32.0],[32.0],[47.0],[32.0],[121.0],[32.0],[32.0],[60.0],[32.0],[112.0],[100.0],[32.0],[92.0],[47.0],[108.0],[84.0],[115.0],[32.0],[32.0],[10.0],[48.0],[101.0],[115.0],[62.0],[32.0],[32.0],[32.0],[54.0],[32.0],[9.0],[55.0],[32.0],[32.0],[32.0],[115.0],[32.0],[48.0],[32.0],[101.0],[9.0],[97.0],[106.0],[110.0],[32.0],[32.0],[32.0],[48.0],[68.0],[115.0],[32.0],[104.0],[119.0],[103.0],[50.0],[32.0],[111.0],[32.0],[32.0],[32.0],[110.0],[32.0],[32.0],[32.0],[32.0],[10.0],[32.0],[10.0],[49.0],[110.0],[47.0],[102.0],[47.0],[9.0],[32.0],[32.0],[10.0],[112.0],[32.0],[32.0],[32.0],[32.0],[111.0],[98.0],[111.0],[32.0],[98.0],[32.0],[10.0],[60.0],[116.0],[53.0],[84.0],[83.0],[32.0],[98.0],[9.0],[32.0],[47.0],[32.0],[10.0],[9.0],[57.0],[32.0],[32.0],[32.0],[32.0],[106.0],[32.0],[32.0],[32.0],[32.0],[32.0],[9.0],[9.0],[32.0],[37.0],[97.0],[32.0],[111.0],[32.0],[52.0],[103.0],[48.0],[32.0],[116.0],[32.0],[32.0],[32.0],[48.0],[32.0],[111.0],[111.0],[32.0],[51.0],[9.0],[60.0],[97.0],[32.0],[32.0],[10.0],[32.0],[32.0],[117.0],[116.0],[32.0],[32.0],[32.0],[32.0],[110.0],[80.0],[32.0],[48.0],[49.0],[32.0],[92.0],[32.0],[48.0],[10.0],[54.0],[10.0],[32.0],[101.0],[9.0],[45.0],[122.0],[47.0],[111.0],[48.0],[9.0],[46.0],[70.0],[32.0],[32.0],[66.0],[32.0],[32.0],[32.0],[32.0],[32.0],[121.0],[48.0],[48.0],[9.0],[62.0],[32.0],[9.0],[60.0],[10.0],[108.0],[111.0],[92.0],[119.0],[9.0],[73.0],[70.0],[32.0],[9.0],[101.0],[32.0],[110.0],[101.0],[114.0],[84.0],[48.0],[97.0],[97.0],[32.0],[32.0],[32.0],[32.0],[110.0],[62.0],[32.0],[32.0],[10.0],[32.0],[32.0],[111.0],[10.0],[10.0],[32.0],[32.0],[105.0],[48.0],[32.0],[82.0],[32.0],[32.0],[32.0],[32.0],[32.0],[62.0],[32.0],[32.0],[114.0],[41.0],[32.0],[50.0],[97.0],[32.0],[10.0],[51.0],[32.0],[32.0],[32.0],[112.0],[95.0],[75.0],[70.0],[32.0],[32.0],[32.0],[32.0],[111.0],[9.0],[47.0],[48.0],[32.0],[49.0],[116.0],[32.0],[32.0],[32.0],[84.0],[32.0],[48.0],[111.0],[105.0],[32.0],[98.0],[32.0],[32.0],[32.0],[47.0],[32.0],[92.0],[10.0],[32.0],[48.0],[32.0],[32.0],[40.0],[106.0],[32.0],[70.0],[101.0],[10.0],[32.0],[82.0],[32.0],[32.0],[32.0],[82.0],[109.0],[62.0],[111.0],[48.0],[32.0],[105.0],[106.0],[32.0],[32.0],[49.0],[32.0],[32.0],[32.0],[49.0],[32.0],[67.0],[99.0],[62.0],[32.0],[32.0],[32.0],[82.0],[32.0],[51.0],[68.0],[32.0],[32.0],[80.0],[70.0],[48.0],[116.0],[32.0],[32.0],[10.0],[32.0],[32.0],[32.0],[32.0],[48.0],[32.0],[46.0],[32.0],[45.0],[32.0],[32.0],[32.0],[97.0],[32.0],[32.0],[48.0],[62.0],[32.0],[32.0],[60.0],[32.0],[32.0],[32.0],[32.0],[32.0],[116.0],[109.0],[32.0],[32.0],[101.0],[32.0],[32.0],[101.0],[52.0],[32.0],[60.0],[10.0],[116.0],[10.0],[32.0],[32.0],[48.0],[32.0],[60.0],[32.0],[48.0],[32.0],[97.0],[116.0],[101.0],[84.0],[115.0],[49.0],[101.0],[47.0],[32.0],[32.0],[48.0],[32.0],[99.0],[47.0],[48.0],[101.0],[32.0],[32.0],[32.0],[101.0],[115.0],[32.0],[98.0],[48.0],[32.0],[32.0],[32.0],[32.0],[57.0],[48.0],[47.0],[32.0],[32.0],[10.0],[32.0],[48.0],[32.0],[32.0],[32.0],[32.0],[32.0],[32.0],[9.0],[97.0],[32.0],[32.0],[49.0],[48.0],[120.0],[105.0],[32.0],[62.0],[55.0],[101.0],[32.0],[32.0],[32.0],[32.0],[111.0],[32.0],[32.0],[46.0],[71.0],[9.0],[32.0],[116.0],[48.0],[32.0],[93.0],[32.0],[32.0],[32.0],[100.0],[32.0],[120.0],[32.0],[114.0],[48.0],[32.0],[10.0],[9.0],[60.0],[32.0],[32.0],[32.0],[49.0],[32.0],[10.0],[82.0],[47.0],[53.0],[32.0],[60.0],[48.0],[32.0],[48.0],[9.0],[80.0],[32.0],[108.0],[106.0],[47.0],[9.0],[32.0],[32.0],[101.0],[32.0],[48.0],[32.0],[32.0],[114.0],[98.0],[32.0],[62.0],[32.0],[103.0],[62.0],[60.0],[32.0],[32.0],[32.0],[32.0],[32.0],[60.0],[100.0],[32.0],[46.0],[32.0],[32.0],[32.0],[47.0],[9.0],[62.0],[60.0],[118.0],[47.0],[32.0],[48.0],[32.0],[32.0],[32.0],[32.0],[62.0],[32.0],[32.0],[100.0],[10.0],[68.0],[98.0],[60.0],[48.0],[62.0],[48.0],[32.0],[115.0],[32.0],[110.0],[62.0],[47.0],[32.0],[106.0],[46.0],[32.0],[32.0],[48.0],[80.0],[32.0],[10.0],[51.0],[32.0],[100.0],[32.0],[32.0],[101.0],[60.0],[32.0],[32.0],[32.0],[79.0],[32.0],[52.0],[32.0],[102.0],[32.0],[10.0],[101.0],[32.0],[67.0],[32.0],[32.0],[32.0],[82.0],[32.0],[10.0],[32.0],[47.0],[9.0],[116.0],[32.0],[9.0],[48.0],[108.0],[116.0],[10.0],[48.0],[84.0],[32.0],[121.0],[116.0],[70.0],[98.0],[32.0],[48.0],[101.0],[110.0],[52.0],[101.0],[76.0],[10.0],[32.0],[32.0],[32.0],[103.0],[32.0],[32.0],[47.0],[32.0],[32.0],[10.0],[32.0],[53.0],[47.0],[101.0],[32.0],[32.0],[9.0],[32.0],[84.0],[32.0],[32.0],[32.0],[50.0],[10.0],[32.0],[32.0],[9.0],[84.0],[32.0],[84.0],[105.0],[47.0],[32.0],[65.0],[32.0],[9.0],[32.0],[32.0],[60.0],[106.0],[48.0],[97.0],[32.0],[48.0],[32.0],[10.0],[32.0],[32.0],[116.0],[60.0],[32.0],[114.0],[48.0],[115.0],[32.0],[32.0],[32.0],[49.0],[32.0],[60.0],[32.0],[32.0],[9.0],[62.0],[103.0],[9.0],[47.0],[10.0],[48.0],[10.0],[47.0],[32.0],[32.0],[40.0],[32.0],[32.0],[32.0],[32.0],[116.0],[114.0],[32.0],[120.0],[32.0],[60.0],[32.0],[109.0],[97.0],[32.0],[32.0],[80.0],[55.0],[101.0],[10.0],[32.0],[32.0],[121.0],[60.0],[111.0],[48.0],[116.0],[106.0],[32.0],[32.0],[48.0],[32.0],[32.0],[101.0],[32.0],[32.0],[48.0],[32.0],[32.0],[60.0]],\"hovertemplate\":\"0=%{x}<br>1=%{y}<br>Feature=%{customdata[0]}<br>Anomaly=%{marker.color}<extra></extra>\",\"legendgroup\":\"\",\"marker\":{\"color\":[0,0,0,0,0,0,0,0,0,0,0,0,0,0,0,0,0,0,0,0,0,0,0,0,0,0,0,0,0,0,0,0,1,0,0,0,0,0,0,0,0,0,0,0,0,0,0,0,0,0,0,0,0,0,1,0,0,0,0,0,0,0,0,0,0,0,0,0,0,0,0,0,0,1,0,0,0,0,0,0,1,0,0,0,0,0,0,0,0,0,0,0,0,0,0,0,1,0,1,0,0,0,0,1,0,0,0,0,0,0,0,0,0,0,0,0,0,0,0,0,0,0,0,0,0,0,0,0,0,0,0,0,0,1,0,0,0,0,0,0,0,0,0,0,0,0,0,0,0,0,0,0,0,0,0,0,0,0,0,0,0,1,0,0,0,0,0,0,0,0,0,0,0,0,0,0,0,0,0,0,0,0,0,0,0,0,0,0,0,0,0,1,0,0,0,0,0,0,0,0,0,1,0,0,0,0,0,0,0,0,0,0,0,0,0,0,0,0,1,0,0,0,0,0,0,0,0,0,0,0,0,0,1,0,0,0,0,0,0,0,0,0,0,0,0,0,0,0,0,0,0,0,0,0,0,0,0,0,0,0,0,0,0,0,0,0,0,0,0,0,0,0,0,0,0,0,0,0,0,0,0,0,0,0,0,0,0,0,0,0,0,0,1,0,0,0,0,0,0,0,1,0,0,0,0,1,0,0,0,0,0,0,0,0,0,0,0,0,0,0,0,0,0,0,0,0,0,0,0,0,0,1,0,0,0,0,0,0,0,1,0,0,0,0,0,0,1,0,0,0,0,0,0,0,0,0,0,0,0,0,0,1,0,0,0,0,0,0,0,0,0,0,0,0,0,0,0,0,0,0,0,0,0,0,0,0,0,0,0,0,0,0,0,1,0,0,0,0,0,0,0,0,0,0,0,0,0,0,0,0,0,0,0,0,0,0,0,0,0,0,1,0,0,0,0,0,0,0,0,0,0,0,1,0,0,0,0,0,0,0,0,0,0,0,0,1,0,0,0,0,0,0,0,0,0,0,0,0,0,0,0,0,0,0,1,0,1,0,0,0,0,0,0,0,0,0,0,0,0,0,0,0,0,0,1,0,0,1,0,0,0,0,0,0,0,0,0,0,0,0,0,0,0,0,0,1,0,0,0,0,0,0,1,0,0,0,0,0,0,0,0,0,0,0,0,0,0,0,0,0,0,0,0,0,0,0,0,0,0,0,0,0,0,0,0,0,0,0,0,0,0,0,0,1,0,0,0,0,0,0,0,0,0,0,0,0,0,0,0,0,0,0,1,0,0,0,0,0,0,0,0,0,0,0,0,0,0,0,0,0,0,0,0,0,0,0,0,0,0,0,0,0,0,0,0,0,0,0,0,0,0,0,0,0,0,0,0,0,0,0,0,0,1,0,0,0,0,0,0,0,0,0,0,0,0,0,0,0,0,0,0,0,1,0,0,0,0,0,0,0,0,0,0,0,0,0,0,0,0,0,0,0,0,0,0,0,0,0,0,0,0,0,0,0,0,0,0,1,0,0,0,0,0,0,0,0,0,1,0,0,0,0,0,0,0,0,1,0,0,0,0,0,0,0,0,0,0,0,0,0,0,0,0,0,0,0,0,0,0,0,0,0,0,0,0,0,0,0,0,0,0,1,0,0,0,0,0,0,0,0,0,0,0,0,0,0,0,0,0,0,0,0,0,0,0,0,0,0,0,0,0,0,0,0,0,0,0,0,0,0,0,0,0,0,0,0,0,0,0,1,0,0,0,0,1,0,0,0,0,1,0,0,0,0,0,0,0,0,0,0,0,0,0,0,0,0,0,0,0,0,0,0,0,0,0,1,0,0,0,0,0,0,0,0,0,0,0,0,0,0,0,0,0,1,0,0,0,0,0,0,0,0,0,0,0,0,0,0,0,0,0,0,0,0,0,0,0,0,0,0,0,0,0,0,0,0,0,0,0,0,0,0,0,0,0,0,0,0,0,0,0,0,0,0,0,0,1,0,0,0,0,0,0,0,0,0,0,0,0,0,1,0,0,0,0,0,0,0,0,1,0,0,0,0,0,0,0,0,1,0,0,0,0,0,0,0,0,0,0,0,0,0,0,0,0,0,0,0,0,0,0,0,0,0,0,0,0,0,0,0,0,0,0,1,0,0,0,0,0,0,0,0,0,0,0,0,0,0,0,0,0,0,0,0,0,0,0,0,0,0,1,0,0,0,0,0,0,0,0,0,0,0,0,0,0,0,0,0,0,0,0,0,0,0,0,0,0,1,0,0,0,0,0,0,0,0,0,1,0,0,0,0,0,0,0,0,0,0,0,0,0,0,0,0,0,0,0,0,0,0,0,0,0,0,0,1,0,0,0,0,0,0,0,0,0,0,0,0,0,0,0,0,0,0,0,0,0,0,0,0,0,0,1,0,0,0,0,0,0,0,0,0,0,0,0,0,0,0,0,0,0,0,0,0,0,0,0,0,0,0,0,1,0,0,1,0,0,0,0,0,1,0,0,0,0,0,0],\"coloraxis\":\"coloraxis\",\"opacity\":0.7,\"symbol\":\"circle\"},\"mode\":\"markers\",\"name\":\"\",\"showlegend\":false,\"x\":[-0.6797153949737549,3.786151647567749,6.423851013183594,1.6508562564849854,6.137270927429199,7.669083118438721,0.7042180895805359,6.112130165100098,-0.08022048324346542,-0.7934803366661072,5.966363906860352,2.8061599731445312,3.3652231693267822,8.438053131103516,2.344348907470703,0.1646559238433838,2.1862058639526367,3.2607181072235107,7.674444675445557,1.5180085897445679,5.68064546585083,5.622796535491943,3.316096544265747,6.5100626945495605,3.5026986598968506,6.373503684997559,2.6333558559417725,7.188386917114258,7.134654521942139,1.5601519346237183,2.318099021911621,6.689309120178223,-0.330587774515152,9.540924072265625,6.429101467132568,2.9220352172851562,6.879391670227051,6.834561347961426,5.780520439147949,3.3169288635253906,7.483365058898926,1.9574960470199585,1.8483542203903198,-0.5731921792030334,2.955312490463257,9.9454345703125,3.7301158905029297,8.759907722473145,2.6119191646575928,6.5638651847839355,-0.23734813928604126,8.636483192443848,6.277118682861328,2.503600597381592,-1.3631572723388672,5.640280723571777,3.9426796436309814,2.709353446960449,6.359875679016113,7.587026596069336,6.714984893798828,1.1715993881225586,4.950324535369873,2.253441095352173,2.939908504486084,1.3723580837249756,0.7454693913459778,1.729032278060913,7.543362617492676,3.6281328201293945,6.157590866088867,6.367319107055664,6.378734588623047,-0.47710078954696655,7.400358200073242,6.969709396362305,6.536900043487549,1.104195237159729,3.2370643615722656,3.6402809619903564,-0.6853765845298767,5.8244853019714355,1.209559679031372,4.777873516082764,7.521031856536865,-1.25406014919281,4.768496513366699,3.106560707092285,3.237901210784912,6.048316478729248,2.2502706050872803,1.4122493267059326,6.3122878074646,8.077963829040527,3.791590452194214,5.75599479675293,0.15180355310440063,9.107934951782227,-1.1788456439971924,2.2472634315490723,2.8942601680755615,5.426758289337158,5.308422088623047,-1.3653589487075806,1.884220838546753,6.217681884765625,2.0546655654907227,-0.4107261598110199,1.6141936779022217,6.282891750335693,5.741420269012451,8.561835289001465,0.3567844033241272,9.370842933654785,7.011821746826172,3.953404426574707,5.598699569702148,1.4994150400161743,0.2660349905490875,6.729626178741455,2.457170248031616,5.668374538421631,2.2840871810913086,2.898512840270996,1.5166867971420288,-0.25955596566200256,4.894058704376221,2.5070269107818604,7.345852851867676,3.142320156097412,5.797747611999512,2.4829342365264893,0.19244472682476044,-0.9566201567649841,2.007805109024048,2.971604824066162,7.865762233734131,1.9131872653961182,3.8993022441864014,5.708954334259033,2.0524346828460693,7.458762168884277,0.6364572048187256,1.8568506240844727,5.212491989135742,3.0463063716888428,8.22085952758789,4.750617027282715,6.836052417755127,2.0312674045562744,6.87192964553833,-0.9760245084762573,9.116423606872559,7.577693462371826,5.950955867767334,1.356217861175537,2.4357635974884033,5.1800150871276855,0.6412745714187622,7.453371047973633,8.485258102416992,-1.2993495464324951,0.3550422787666321,5.455690383911133,7.807082176208496,10.026300430297852,7.01942253112793,9.672239303588867,8.492754936218262,6.299464225769043,1.1561428308486938,4.047665596008301,6.945521354675293,7.545279502868652,0.33153051137924194,-0.955288290977478,0.7353196740150452,7.8719401359558105,4.795068264007568,5.654155254364014,6.3552632331848145,7.469287395477295,6.748425483703613,3.2919723987579346,0.7511200904846191,1.8787208795547485,6.530582427978516,1.2002216577529907,6.436513900756836,6.853541851043701,6.630621910095215,-0.4364278316497803,0.3521532416343689,9.777437210083008,-0.23812681436538696,6.371296405792236,5.659694671630859,5.679143905639648,0.3094787001609802,1.657202959060669,-0.4446648955345154,-1.2324718236923218,9.143847465515137,0.5595601201057434,7.197704792022705,-0.6395297646522522,7.543128490447998,7.558663845062256,10.137389183044434,3.127673387527466,5.714078903198242,3.2259938716888428,1.3652111291885376,-0.2657041549682617,6.250974655151367,-0.05052387714385986,7.63347053527832,1.607658863067627,-1.3514888286590576,6.604260444641113,8.074830055236816,3.9533531665802,6.528484344482422,7.494545936584473,5.636431694030762,9.35326099395752,0.20417633652687073,-0.8198288083076477,7.03844690322876,3.306001901626587,6.2441630363464355,0.25850608944892883,-0.8023799657821655,5.6327409744262695,1.3882243633270264,0.31353551149368286,5.585502624511719,4.5664873123168945,8.40278434753418,2.6308140754699707,9.353446960449219,6.388146877288818,8.779763221740723,8.828285217285156,2.407904624938965,7.7981953620910645,4.15933895111084,-0.33417922258377075,-1.1749987602233887,7.026847839355469,-0.1771164983510971,6.374413967132568,4.994375228881836,6.749476909637451,2.26066255569458,6.343006610870361,1.736041784286499,4.946789264678955,3.9539334774017334,-0.30900001525878906,1.612229585647583,2.560336112976074,3.8531265258789062,7.521510601043701,6.740646839141846,7.667692184448242,-1.0447967052459717,3.1889865398406982,2.2016358375549316,3.0669875144958496,6.2614336013793945,6.7400665283203125,2.986293315887451,0.5373011827468872,10.185994148254395,6.496915817260742,4.69563102722168,9.666744232177734,6.577129364013672,5.989843845367432,3.166743278503418,1.4110345840454102,3.0421438217163086,6.226539134979248,3.123993396759033,7.554325103759766,1.8378697633743286,9.624473571777344,6.1569294929504395,7.033522605895996,4.758845806121826,1.2981107234954834,-1.414528727531433,0.4707754850387573,6.484314441680908,0.3019377291202545,6.521554946899414,2.3402767181396484,5.861606597900391,-0.4910695254802704,-0.8208969831466675,1.722914218902588,0.34707656502723694,5.264630317687988,0.4534652829170227,-0.9002980589866638,5.155699729919434,8.058511734008789,-0.3674158751964569,3.135336399078369,3.24979305267334,5.684752464294434,2.1880366802215576,6.999754428863525,1.4046448469161987,3.419372320175171,9.895669937133789,2.8139050006866455,6.191568374633789,4.419870853424072,4.300440788269043,6.24873685836792,4.753939151763916,-1.029797911643982,1.2504674196243286,2.0170443058013916,6.797080993652344,6.230506420135498,1.7918105125427246,6.087358474731445,4.867537021636963,-0.9181244969367981,4.932555198669434,6.82057523727417,1.2809598445892334,0.7077183127403259,2.9695491790771484,1.9789005517959595,3.6744589805603027,-0.5106135010719299,6.2642292976379395,5.243509292602539,2.8034520149230957,4.692861557006836,6.057951927185059,6.247132778167725,-0.9101057648658752,4.0539164543151855,5.666944980621338,8.034111022949219,-0.8434144854545593,7.891800880432129,8.383525848388672,4.529271125793457,6.992031574249268,4.020362854003906,5.233974456787109,6.925449371337891,5.837961673736572,5.276368141174316,3.296475410461426,-0.35926923155784607,2.153130292892456,6.362062454223633,0.598646342754364,3.330054759979248,0.7487373352050781,-0.313693106174469,6.363706111907959,0.3509927988052368,0.3939955532550812,7.034302234649658,0.1610107421875,6.504416465759277,10.218408584594727,1.8682242631912231,3.6034514904022217,-0.7020038962364197,7.567611217498779,6.213984489440918,5.069891452789307,0.3180038332939148,6.390636920928955,1.324583888053894,7.419059753417969,7.528154373168945,9.722217559814453,-0.288749098777771,5.547973155975342,7.033332347869873,0.02441980503499508,2.1762049198150635,6.535355567932129,-1.3357771635055542,4.786585807800293,8.735182762145996,6.440730094909668,6.826430320739746,1.8903591632843018,2.2601075172424316,6.978344917297363,-1.1279661655426025,5.3596906661987305,9.4610595703125,7.27239465713501,10.067413330078125,3.01446270942688,4.829769134521484,3.3984217643737793,4.2323174476623535,3.052441358566284,-1.0087708234786987,7.513728618621826,1.006105661392212,1.9023858308792114,3.3372409343719482,6.301098346710205,2.5430502891540527,-0.1632433533668518,10.090276718139648,-0.4547046422958374,-0.9026724100112915,5.660272598266602,3.0663347244262695,-1.0476858615875244,1.3350889682769775,1.0377761125564575,1.334193468093872,8.830921173095703,8.80284309387207,3.99377703666687,1.1153454780578613,-0.9093145132064819,3.84853196144104,-0.13199350237846375,7.144484519958496,6.519641876220703,5.554254531860352,5.508683681488037,9.471226692199707,3.304513454437256,-0.8133498430252075,5.77588415145874,10.076637268066406,2.987379312515259,-1.0624388456344604,5.643708229064941,1.0158743858337402,2.9722249507904053,2.2015275955200195,9.884156227111816,-0.3011947572231293,4.54798698425293,3.7730417251586914,6.708079814910889,8.030779838562012,8.396610260009766,8.25959587097168,1.4950947761535645,3.798682689666748,3.298952341079712,4.756638526916504,3.155782461166382,1.1979141235351562,-0.4523785412311554,5.687079906463623,-1.3138350248336792,5.6855926513671875,9.372797966003418,6.3090500831604,-0.5213423371315002,3.003978967666626,7.5206828117370605,-0.6686812043190002,6.8453874588012695,5.083028793334961,6.909027099609375,6.322560787200928,4.9031500816345215,4.052027702331543,0.5351805686950684,-0.981609046459198,0.28721264004707336,6.318053245544434,-0.8088687062263489,6.394306182861328,1.6701915264129639,-0.9622422456741333,6.808565616607666,8.35470962524414,6.161775588989258,8.427116394042969,0.449239581823349,-0.2882707715034485,1.6777480840682983,2.37341046333313,0.2906723618507385,5.8559465408325195,0.6118894219398499,-0.8760622143745422,3.268028497695923,7.811583995819092,3.3696823120117188,3.565798282623291,6.751437664031982,-1.2572828531265259,3.1539738178253174,1.2122799158096313,5.002965450286865,-0.12627895176410675,9.492632865905762,6.217076301574707,-1.0707892179489136,5.824759483337402,6.43052339553833,6.60770320892334,9.369061470031738,0.5427587628364563,6.216667652130127,7.681004524230957,8.336230278015137,1.157640814781189,6.82558536529541,1.850486397743225,6.32559871673584,5.629356861114502,9.227513313293457,4.769430160522461,7.538280010223389,3.471498966217041,5.732913494110107,1.759161114692688,4.8499650955200195,7.696147918701172,6.6972808837890625,1.1392930746078491,8.441298484802246,7.260459899902344,1.3517673015594482,2.160583019256592,1.4182192087173462,1.357790470123291,-1.1250938177108765,7.233108997344971,0.5899480581283569,2.2353012561798096,2.192155599594116,-0.3177405595779419,7.686197757720947,2.951178550720215,5.891493797302246,0.4128234386444092,6.753375053405762,-0.4934460520744324,2.9906132221221924,2.0580475330352783,1.9069879055023193,6.8282880783081055,7.597809791564941,2.077009439468384,4.9084625244140625,9.748063087463379,1.7550475597381592,5.670202732086182,7.607007026672363,3.632683038711548,6.657382488250732,0.3152129352092743,7.280049800872803,-0.32579097151756287,6.595474720001221,2.1314404010772705,-0.9388930797576904,3.1602706909179688,7.715116024017334,4.473145008087158,9.900334358215332,3.27662992477417,6.348386764526367,2.0387182235717773,2.8261044025421143,5.365575790405273,5.876053810119629,5.410399436950684,6.649548053741455,5.683911323547363,5.147767066955566,1.9119714498519897,2.4840354919433594,4.071859359741211,-0.2583307921886444,7.0712890625,-0.7400567531585693,2.192713975906372,5.476039886474609,10.224918365478516,6.1959919929504395,5.2884063720703125,0.2438478320837021,1.6846632957458496,-0.2926023304462433,3.7268495559692383,3.929993152618408,9.727339744567871,0.5237897634506226,2.524259328842163,8.492669105529785,5.0452470779418945,2.116164445877075,6.71444034576416,2.1200666427612305,4.532434463500977,-0.3414343297481537,4.266504764556885,2.3987348079681396,3.4401113986968994,1.840161919593811,6.402751445770264,7.9331583976745605,8.333418846130371,2.9857981204986572,4.557039260864258,-0.9551104307174683,7.5639328956604,6.795742034912109,3.146091938018799,9.419025421142578,6.084028244018555,0.2557031512260437,6.221081256866455,6.276535511016846,7.26365852355957,6.498781681060791,1.8697510957717896,2.809954881668091,-0.48850032687187195,-1.1151034832000732,6.825432777404785,2.047159433364868,7.502631187438965,7.451661109924316,6.9377593994140625,-0.9862290024757385,10.23321533203125,8.549407005310059,0.4102206230163574,2.0474050045013428,7.235358238220215,-0.911101222038269,4.255004405975342,6.870650291442871,5.601369380950928,6.730067729949951,7.0143327713012695,6.797438144683838,2.8641905784606934,0.6422367691993713,0.2991066575050354,1.405098795890808,9.77896785736084,6.7446465492248535,1.8037241697311401,6.467967987060547,10.178691864013672,1.0662305355072021,6.342670440673828,9.838286399841309,4.99419641494751,2.9860918521881104,-1.2084527015686035,3.1323304176330566,6.1837849617004395,8.209293365478516,5.2024078369140625,3.1489908695220947,2.406582832336426,2.154787540435791,-1.267728567123413,3.3022708892822266,1.6163824796676636,4.580587387084961,6.010275840759277,1.851934790611267,8.143733024597168,0.8111197352409363,7.648136138916016,3.104677200317383,-0.957247793674469,8.75882625579834,0.2746167778968811,2.3941550254821777,6.512512683868408,2.560349702835083,1.6767297983169556,10.170900344848633,0.6221300959587097,-0.4297610819339752,7.197744369506836,6.909114360809326,-0.3378444015979767,7.645727634429932,5.627659797668457,6.903558731079102,-0.2558552026748657,0.5027299523353577,5.2809977531433105,1.3449769020080566,-1.1827679872512817,7.061118125915527,-0.34243255853652954,1.9822673797607422,8.397212982177734,5.685905456542969,6.468793869018555,6.944964408874512,8.080390930175781,6.632176399230957,1.638815999031067,1.8922703266143799,-0.3962814211845398,1.284684181213379,-1.2383184432983398,9.391307830810547,6.770885467529297,7.26182746887207,-1.1510525941848755,3.0386605262756348,6.156406402587891,-0.559187114238739,5.0164971351623535,7.770078659057617,-0.37052807211875916,5.4620890617370605,1.2243285179138184,2.217165470123291,7.247589588165283,8.415107727050781,9.6778564453125,4.035532474517822,7.535106182098389,0.9137586951255798,6.024524211883545,1.8502473831176758,7.465438365936279,6.781339645385742,7.161121368408203,6.277667999267578,6.274914264678955,6.158973693847656,7.42362642288208,1.7783308029174805,6.181473255157471,7.529358386993408,4.025956630706787,5.493312358856201,5.741902828216553,0.6046210527420044,9.733116149902344,0.45999112725257874,2.9211020469665527,6.893736839294434,6.972977638244629,8.07712173461914,3.2750959396362305,4.062784194946289,5.629146575927734,9.434982299804688,-0.157282292842865,9.429197311401367,5.947659969329834,-0.2782670855522156,5.28085470199585,10.126472473144531,5.261212348937988,1.229230284690857,3.1502246856689453,1.9703367948532104,7.0388569831848145,5.699798107147217,-1.117316484451294,6.198582649230957,0.27104225754737854,5.802774429321289,5.759908199310303,-0.9479793310165405,1.4106321334838867,3.710487127304077,0.35674357414245605,3.6570589542388916,-0.8934021592140198,5.555065155029297,3.6286263465881348,3.4032630920410156,6.966043949127197,2.9634780883789062,-0.43527013063430786,0.9445912837982178,6.527183532714844,-0.7547662258148193,6.6255598068237305,3.522650718688965,2.365476369857788,7.412388801574707,2.888380289077759,-0.37889546155929565,1.1728734970092773,5.140479564666748,1.7197256088256836,2.2179558277130127,1.2329992055892944,2.874819040298462,2.6388065814971924,6.838926315307617,6.184128284454346,4.992306709289551,-0.966815173625946,8.51752758026123,6.823610305786133,2.855470895767212,6.842597961425781,5.3821587562561035,8.771771430969238,5.491806507110596,8.622884750366211,10.219136238098145,6.828747749328613,5.488155841827393,1.9365570545196533,-1.347468614578247,7.581076145172119,7.540829658508301,4.0354743003845215,-0.8440942764282227,-0.8312836289405823,3.209010124206543,1.8557630777359009,-1.2350326776504517,6.44735860824585,4.62529993057251,1.821212887763977,6.833653926849365,7.52875280380249,5.823373317718506,-0.5908019542694092,5.977327346801758,5.043770790100098,9.699891090393066,9.651206970214844,3.181705951690674,6.832124710083008,-0.11919107288122177,1.4215450286865234,3.011061191558838,3.733447790145874,6.281062602996826,2.843740463256836,5.621868133544922,1.2437267303466797,2.575258255004883,0.9025832414627075,6.490187644958496,0.35466185212135315,1.8175930976867676,6.4044599533081055,1.9846893548965454,1.9512797594070435,4.969708442687988,3.025487184524536,6.805619716644287,6.489107608795166,1.3426599502563477,9.778397560119629,1.905866026878357,1.4159492254257202,0.3158300220966339,6.0555195808410645,6.69846248626709,4.984447479248047,5.874764919281006,6.766036510467529,7.5444464683532715,3.332399368286133,-0.5602298378944397,1.8423471450805664,-0.3348109722137451,0.025480469688773155,-0.8575090765953064,5.085219860076904,6.768150806427002,6.113589763641357,0.25583550333976746,5.726351737976074,0.8040488958358765,2.434962034225464,8.490028381347656,1.1442961692810059,-1.1456717252731323,8.178814888000488,0.6593652367591858,5.563851833343506,-1.211253046989441,-0.11276807636022568,0.4659283757209778,6.901479244232178,6.433703899383545,8.85350513458252,6.487544059753418,2.318098783493042,-0.9489303827285767,0.25499171018600464,1.8590857982635498,1.7672312259674072,6.771053314208984,7.551223278045654,7.541675567626953,4.211806297302246,9.86613941192627,5.285397052764893,-0.7677024006843567,4.560826778411865,7.062732219696045,4.002593517303467,0.22780753672122955,-0.8660807013511658,8.707427024841309,1.5156315565109253,5.6178388595581055,1.932083249092102,8.324531555175781,7.506362438201904,-0.35156816244125366,0.7779709696769714,5.774837970733643,0.3802267014980316,2.9900519847869873,1.9942530393600464,3.9623801708221436,6.088047504425049,1.7608182430267334,3.7740471363067627,6.123147010803223,-0.33661749958992004,4.0168328285217285,2.8038535118103027,2.4019699096679688,-0.025980094447731972,2.6753363609313965,5.661031246185303,5.0513410568237305,4.180210590362549,2.3488404750823975,8.386512756347656,6.639139652252197,-0.6527391076087952,5.668421268463135,0.5931452512741089,2.4137508869171143,5.702976703643799,-1.1797207593917847,5.5215888023376465,6.880455017089844,5.667890548706055,6.220305442810059,4.85870361328125,6.355593204498291,6.397341728210449,7.0582404136657715,0.4003598690032959,7.614170551300049,9.593433380126953,2.0743260383605957,9.901138305664062,0.5455215573310852,5.660777568817139,7.18769645690918,5.245757102966309,0.513042688369751,5.667375087738037,1.440430760383606,7.269537925720215,-0.3870771825313568,3.981405019760132,3.2333109378814697,2.4732706546783447,2.444037675857544,2.070333957672119,4.581571578979492,1.7847779989242554,1.9907238483428955,0.778883695602417,4.895244598388672,7.213287353515625,-0.6451519131660461,1.4742200374603271,-0.6032611727714539,2.9961509704589844,6.105591297149658,3.5607333183288574,1.8689872026443481,1.2006057500839233,1.7367609739303589,4.575325012207031,-0.16334368288516998,6.248631000518799,2.187638521194458,0.9779400825500488,5.542086124420166,-1.3392319679260254,9.932558059692383,1.9084020853042603,1.6800457239151,6.714398384094238,5.744208812713623,6.3805623054504395,2.385324239730835,1.6099483966827393,9.308348655700684,-1.2446670532226562,9.905719757080078,2.9278554916381836,6.260974884033203,6.908400058746338,3.7510480880737305,6.377084732055664,6.875123977661133,6.083194255828857,5.648401737213135,6.176077842712402,6.63720703125,6.535684585571289,1.8711905479431152,-0.3396156132221222,6.093654632568359,-0.3217909336090088,6.376058578491211,5.340170860290527,2.4242849349975586,2.623056173324585,1.3764036893844604,2.2531347274780273,2.3783318996429443,7.293844223022461,6.677192211151123,4.839722156524658,5.402339935302734,-1.2088422775268555,8.491338729858398,2.1945278644561768,2.9922125339508057,8.619563102722168,5.701718330383301,9.37387752532959,-0.3063797354698181,5.6637282371521,6.442816257476807,2.2300455570220947,5.193165302276611,1.3276665210723877,6.744263172149658,2.6617019176483154,5.859603404998779,4.976904392242432,1.9659959077835083,4.923986911773682,8.385488510131836,7.5135040283203125,6.276782989501953,5.710270404815674,0.21285377442836761,6.238921642303467,4.966287612915039,6.224644184112549,-0.39601051807403564,1.1875662803649902,-1.1488393545150757,2.1812121868133545,2.4846272468566895,7.02149772644043,1.9513733386993408,6.3351216316223145,7.561232566833496,6.977492809295654,0.7462453842163086,0.28242987394332886,7.615196228027344,1.6811710596084595,7.511778354644775,2.6612281799316406,2.899343252182007,1.3941861391067505,-0.4925099313259125,6.382320404052734,2.9601552486419678,-1.3102086782455444,5.841409206390381,-1.1257303953170776,1.3486851453781128,6.492728233337402,8.38572883605957,0.35228848457336426,5.25605583190918,-1.3517117500305176,6.610369682312012,1.157696008682251,-0.34794801473617554,1.9040119647979736,-0.7605013847351074,2.822409152984619,6.663302421569824,5.661064147949219,-0.6027513742446899,6.0354156494140625,6.679392337799072,1.673824667930603,9.926119804382324,5.180706024169922,5.532841682434082],\"xaxis\":\"x\",\"y\":[7.195420742034912,11.122028350830078,7.880393028259277,4.462969779968262,11.67339038848877,3.323683500289917,6.241672039031982,9.084493637084961,9.30052375793457,7.146803379058838,13.083456039428711,7.60902214050293,6.323763370513916,5.5719146728515625,8.95132064819336,9.347285270690918,8.61505126953125,6.2693963050842285,3.371948003768921,2.134969711303711,3.4694724082946777,15.058199882507324,7.709056377410889,7.888094425201416,10.476871490478516,6.771021366119385,7.465909957885742,12.35579776763916,14.031131744384766,4.723260879516602,1.163323998451233,3.5545332431793213,7.1651611328125,6.411101341247559,7.839701175689697,0.7188101410865784,2.9267098903656006,12.248517990112305,3.8491415977478027,10.294078826904297,12.819451332092285,6.93410062789917,2.1155214309692383,8.635937690734863,11.096488952636719,6.407345771789551,10.987797737121582,5.349033355712891,3.081552028656006,8.486700057983398,3.1411685943603516,5.5691609382629395,8.957508087158203,0.9425296783447266,8.817818641662598,15.021466255187988,10.779376983642578,5.183473587036133,7.584290027618408,14.886710166931152,5.517296314239502,2.8543238639831543,6.415763854980469,1.1921449899673462,3.282057285308838,2.2384674549102783,3.2613372802734375,7.023038864135742,14.845502853393555,10.99500560760498,11.815043449401855,8.836379051208496,6.788987636566162,7.061309814453125,12.813641548156738,4.477463245391846,11.757201194763184,2.9269776344299316,6.252760410308838,10.96157455444336,7.170192241668701,3.8531811237335205,4.864567756652832,10.031063079833984,13.261524200439453,9.491759300231934,10.031609535217285,3.4187705516815186,11.171175956726074,4.71394681930542,4.7418951988220215,2.836174964904785,14.088354110717773,12.654871940612793,10.90202808380127,3.8431577682495117,9.000930786132812,5.623338222503662,8.7548189163208,9.237430572509766,7.795013427734375,3.0936930179595947,13.001134872436523,8.550552368164062,7.035282611846924,14.21642017364502,4.3448967933654785,7.25397253036499,8.073725700378418,9.030733108520508,3.4366543292999268,5.564581871032715,4.017126083374023,6.783695220947266,4.499660491943359,7.551581382751465,12.505351066589355,4.664080619812012,3.7049167156219482,8.36178207397461,0.9882166981697083,15.002881050109863,1.1419868469238281,7.561304092407227,1.9978779554367065,3.1937332153320312,9.915243148803711,3.5201923847198486,12.910133361816406,7.782349586486816,3.434295415878296,9.182991981506348,8.971675872802734,8.02486801147461,4.388437747955322,11.090782165527344,12.760757446289062,5.17812967300415,11.010270118713379,14.836421966552734,1.9233570098876953,13.10419750213623,4.619587421417236,7.0604166984558105,2.7324435710906982,0.7016348242759705,12.469850540161133,10.055530548095703,4.5236592292785645,2.797257423400879,4.422521114349365,8.003055572509766,6.571972370147705,5.1499433517456055,11.92604923248291,8.144039154052734,1.0079057216644287,2.744907855987549,3.221252918243408,3.191969633102417,5.513803958892822,8.513659477233887,6.013831615447998,11.754195213317871,12.793787002563477,6.004063129425049,6.194664478302002,6.15194845199585,5.611460208892822,8.864100456237793,4.862110614776611,7.240370750427246,2.9694905281066895,13.462126731872559,4.945428848266602,9.040946006774902,5.332780361175537,12.602724075317383,10.009353637695312,15.016915321350098,7.770152568817139,5.213695526123047,2.841740131378174,7.734882354736328,5.240559101104736,7.291808128356934,8.360296249389648,2.848869562149048,4.770622253417969,2.7722558975219727,11.998772621154785,6.049725532531738,3.605100154876709,6.490987777709961,3.170844793319702,8.64432144165039,14.943595886230469,8.859478950500488,9.538335800170898,6.78185510635376,6.599373817443848,8.597593307495117,6.353374481201172,4.598297595977783,12.242341041564941,7.101841926574707,13.416465759277344,12.825425148010254,6.014889717102051,3.3823421001434326,3.7578842639923096,6.245079040527344,8.468169212341309,3.1684343814849854,8.762495040893555,8.82854175567627,3.355381488800049,8.314839363098145,8.982781410217285,7.670655250549316,12.652132034301758,7.349732398986816,8.280717849731445,14.73583984375,11.552860260009766,5.969097137451172,3.670149803161621,7.198184490203857,4.511318683624268,6.222147464752197,11.700931549072266,8.96072769165039,7.771865367889404,15.040862083435059,4.769461631774902,8.89733600616455,2.9308876991271973,5.671726226806641,5.537454128265381,0.8524989485740662,6.307967662811279,7.6510114669799805,5.382150173187256,5.732624530792236,5.086735725402832,12.81649398803711,11.267409324645996,4.02236795425415,8.365931510925293,6.232102394104004,9.39941120147705,8.724637031555176,6.592823505401611,11.548422813415527,3.0620360374450684,11.7885160446167,2.8249740600585938,6.081030368804932,7.182549953460693,9.393143653869629,4.607966899871826,0.9031333923339844,7.059335708618164,14.82183837890625,14.32667064666748,12.87480354309082,8.345688819885254,6.346057415008545,2.958989143371582,11.124837875366211,13.457258224487305,8.377358436584473,11.110279083251953,4.521388530731201,5.965816020965576,8.190584182739258,5.78026008605957,6.131476879119873,14.429085731506348,2.7810323238372803,7.683182239532471,8.31906509399414,11.134897232055664,13.221362113952637,0.6857275366783142,14.85274887084961,4.5520524978637695,6.54351806640625,5.468252658843994,4.509383201599121,5.925270080566406,7.159339904785156,8.556076049804688,8.901190757751465,8.18203353881836,9.491621971130371,4.741282939910889,2.8871147632598877,11.91848087310791,7.039141654968262,8.238890647888184,6.931083679199219,4.030048370361328,12.785849571228027,5.810854911804199,7.799645900726318,12.621979713439941,5.8362650871276855,4.028134822845459,7.779801845550537,6.242794513702393,11.551025390625,4.892996311187744,4.496918678283691,8.530937194824219,6.119378089904785,6.292312145233154,7.454848289489746,14.111531257629395,10.399115562438965,11.31396484375,13.760543823242188,10.048860549926758,8.222943305969238,8.627458572387695,1.865701675415039,2.7119874954223633,14.195432662963867,7.204299449920654,8.521590232849121,11.398344039916992,7.80677604675293,6.012723445892334,12.418006896972656,7.7959370613098145,3.3994460105895996,11.097393989562988,4.286884784698486,10.832798957824707,7.073874473571777,14.406103134155273,12.65471076965332,7.625301361083984,5.890321254730225,11.847634315490723,14.141380310058594,7.998067855834961,7.246205806732178,15.01248836517334,12.680594444274902,7.214770317077637,12.746564865112305,12.241558074951172,10.28662109375,6.2806196212768555,7.284523010253906,12.706694602966309,6.226473808288574,8.784317016601562,12.853715896606445,6.22988748550415,7.258265018463135,6.780686855316162,11.945064544677734,3.2074437141418457,7.765671253204346,3.127333641052246,9.029258728027344,8.758138656616211,9.604571342468262,4.83558464050293,6.2418670654296875,8.968412399291992,6.738057613372803,5.951383113861084,7.070798397064209,6.692349433898926,7.122213840484619,13.304655075073242,12.80294418334961,6.567412853240967,5.922240257263184,8.949280738830566,2.271077871322632,3.180037021636963,5.063950538635254,6.257326126098633,3.132295608520508,15.126940727233887,4.5074968338012695,9.376760482788086,4.982211112976074,11.903905868530273,8.548973083496094,10.003746032714844,6.483749866485596,8.823101043701172,2.7562787532806396,4.4683685302734375,4.984630584716797,3.1058967113494873,9.4899263381958,12.980456352233887,6.684963703155518,6.311699390411377,5.988831043243408,11.135992050170898,9.981687545776367,10.390986442565918,10.634369850158691,0.6384614109992981,7.4000020027160645,14.810351371765137,2.980638265609741,1.9945483207702637,6.173891544342041,11.982147216796875,0.9153249859809875,6.11976432800293,5.977544784545898,6.735067367553711,9.10438060760498,15.025446891784668,9.979266166687012,9.069849967956543,7.940793991088867,4.794319152832031,7.129048824310303,5.390916347503662,5.960831165313721,7.563762664794922,8.781758308410645,7.758113861083984,10.82608413696289,9.275086402893066,12.372937202453613,7.914381504058838,11.520691871643066,11.732446670532227,6.668972969055176,7.741633892059326,7.789736270904541,3.8425095081329346,6.058865070343018,3.269277572631836,9.25516414642334,2.9494118690490723,2.984111785888672,0.6869317889213562,6.739105224609375,6.481551170349121,3.974902868270874,5.655352592468262,10.966096878051758,3.5022671222686768,12.672362327575684,12.230597496032715,5.668855667114258,4.658662796020508,10.877720832824707,3.3567395210266113,10.047913551330566,10.086431503295898,4.8584208488464355,6.136857509613037,14.984491348266602,8.97954273223877,2.951685905456543,6.8608198165893555,11.744668960571289,7.077517509460449,0.7118952870368958,14.82314395904541,7.621924877166748,4.410776138305664,6.529788970947266,2.9532837867736816,7.796931266784668,5.9756903648376465,10.856683731079102,6.059255599975586,9.339312553405762,5.724666118621826,13.655790328979492,7.164074897766113,7.488267421722412,2.8173532485961914,8.203767776489258,2.7296595573425293,12.280354499816895,11.698036193847656,5.50247859954834,4.853779315948486,3.142704486846924,6.911458492279053,1.0574318170547485,5.859489917755127,14.340006828308105,5.351388454437256,7.632493019104004,11.155744552612305,12.771773338317871,10.352663040161133,11.031941413879395,11.802074432373047,8.497456550598145,7.815746307373047,2.951162576675415,6.300328731536865,9.018531799316406,6.707028388977051,14.22346019744873,8.148480415344238,2.877365827560425,8.474102973937988,6.007226943969727,6.108493804931641,4.8256449699401855,7.532028675079346,12.83639144897461,5.376192092895508,2.9231202602386475,2.9718945026397705,2.0251073837280273,9.178265571594238,15.045679092407227,6.421131134033203,10.061692237854004,5.191579818725586,10.473128318786621,3.6104369163513184,2.1143081188201904,9.963799476623535,12.829360008239746,3.534966468811035,7.2854413986206055,5.608365058898926,12.734611511230469,8.58841323852539,8.711127281188965,2.2146925926208496,7.266523838043213,9.418810844421387,12.265068054199219,6.136965751647949,3.051997661590576,5.028733730316162,8.88182258605957,12.846129417419434,0.7105416655540466,8.721419334411621,5.595221996307373,5.658107280731201,6.569103240966797,11.108258247375488,4.033713340759277,2.0420339107513428,11.873119354248047,3.307659149169922,6.808191776275635,9.904210090637207,6.218062400817871,4.581954479217529,11.742330551147461,5.216363430023193,10.751677513122559,5.4819817543029785,9.246586799621582,6.31065034866333,8.987957954406738,14.141748428344727,4.835010528564453,7.967942714691162,3.4085097312927246,6.166386604309082,5.668127059936523,6.094221591949463,6.233168601989746,8.807761192321777,4.306050777435303,7.653441905975342,12.659506797790527,2.813629627227783,5.8791069984436035,6.710927486419678,15.053853034973145,2.698435068130493,4.422033309936523,0.9559449553489685,7.199518203735352,7.336259841918945,6.490176200866699,7.307700157165527,3.809403657913208,11.725915908813477,5.956295967102051,13.96621322631836,12.683481216430664,6.0012125968933105,6.851578235626221,3.2574994564056396,10.946940422058105,11.100003242492676,6.60356330871582,3.280191659927368,7.328161716461182,5.840953350067139,6.46148157119751,6.6437530517578125,11.642812728881836,6.758358478546143,10.285672187805176,4.015661716461182,10.830673217773438,3.1034533977508545,6.372921943664551,7.0805559158325195,7.7861409187316895,5.85326623916626,5.6832427978515625,0.6998611688613892,5.695645332336426,9.085545539855957,13.332395553588867,3.3225433826446533,7.751115798950195,6.737048149108887,13.41318130493164,3.7951724529266357,14.261706352233887,13.378606796264648,12.295788764953613,8.172858238220215,7.074284076690674,7.586526393890381,6.2303314208984375,9.435867309570312,5.992231845855713,1.7027422189712524,5.203717231750488,12.879524230957031,4.434680461883545,9.09745979309082,5.941347599029541,5.679322242736816,6.213562488555908,4.755648136138916,12.254992485046387,7.3018951416015625,11.244796752929688,11.989517211914062,8.805261611938477,7.026756286621094,4.513007164001465,4.590058326721191,7.530188083648682,4.624110221862793,3.7574963569641113,8.381379127502441,6.091099739074707,3.477536916732788,2.4618070125579834,4.83827543258667,5.917394161224365,4.958637237548828,8.795110702514648,6.1513752937316895,6.124993801116943,0.6677973866462708,9.461075782775879,6.278221130371094,11.688687324523926,12.498688697814941,2.7720253467559814,6.558935165405273,3.171933174133301,3.000081777572632,8.576559066772461,6.247299671173096,2.8633766174316406,5.669458389282227,3.425792932510376,4.452154636383057,5.702566623687744,3.0790741443634033,3.343017339706421,11.163976669311523,9.096541404724121,5.934973239898682,8.984192848205566,1.0427120923995972,12.056641578674316,9.273062705993652,6.818742275238037,6.035614013671875,3.2072975635528564,6.446030139923096,6.358013153076172,2.9096133708953857,7.254817962646484,13.380669593811035,2.9743237495422363,12.40475845336914,3.1114308834075928,4.3392815589904785,13.005473136901855,5.243341445922852,9.485302925109863,6.198774337768555,8.86552619934082,7.000094890594482,5.583312034606934,3.4443700313568115,8.823486328125,4.480470180511475,12.641477584838867,8.109371185302734,4.519187927246094,1.9905259609222412,6.207002639770508,5.0387420654296875,9.453721046447754,6.7480387687683105,8.327263832092285,12.20541763305664,9.403904914855957,3.3635592460632324,8.953784942626953,8.225820541381836,6.4012370109558105,12.822795867919922,6.38537073135376,11.586592674255371,8.734665870666504,6.760536193847656,12.756439208984375,5.553349018096924,6.480688095092773,7.257913112640381,3.250532627105713,5.225081443786621,11.75234603881836,2.7424185276031494,13.32961368560791,6.069034576416016,6.174142360687256,8.853899955749512,11.656636238098145,11.795620918273926,12.864809036254883,7.632153511047363,11.717761993408203,13.43766975402832,7.219601631164551,11.696892738342285,14.932463645935059,6.004608631134033,6.099964141845703,5.864644527435303,0.7255838513374329,5.9945173263549805,4.479526996612549,12.683992385864258,6.232057571411133,11.174521446228027,2.8886802196502686,6.703224182128906,8.953146934509277,5.88775110244751,3.8438808917999268,3.141752243041992,13.00624942779541,6.041128158569336,12.772289276123047,2.8829262256622314,6.335090160369873,4.390781879425049,4.5807390213012695,14.96681022644043,9.020862579345703,4.999849319458008,5.653265953063965,3.7391433715820312,11.79148006439209,7.801723480224609,8.33902359008789,10.957534790039062,9.59912109375,10.973814964294434,7.821748733520508,11.61618709564209,10.900910377502441,6.790182590484619,12.237898826599121,7.7417683601379395,6.1444573402404785,5.2129669189453125,6.659421443939209,7.199085712432861,7.096026420593262,10.565279006958008,1.0695102214813232,12.90953254699707,0.744102418422699,3.967503070831299,4.908873081207275,6.615577697753906,8.206012725830078,8.60937786102295,2.8894524574279785,7.497856616973877,3.1832168102264404,2.748964309692383,8.93493366241455,6.4429731369018555,7.99794864654541,5.4756669998168945,8.360345840454102,3.2494637966156006,2.7415528297424316,12.6334810256958,5.531783103942871,3.046102523803711,5.446634769439697,5.948483467102051,4.41762638092041,3.0155603885650635,4.45960807800293,9.114709854125977,3.2888190746307373,14.841997146606445,7.198343276977539,7.2651472091674805,8.277472496032715,6.286312580108643,2.805955648422241,9.462321281433105,7.558721542358398,5.719778537750244,2.057385206222534,2.7539584636688232,14.805193901062012,3.9954798221588135,7.122396945953369,4.5432515144348145,6.092917442321777,6.120159149169922,6.130125522613525,7.7910895347595215,11.971220016479492,9.223177909851074,8.510337829589844,0.6317994594573975,10.908090591430664,11.857495307922363,3.1241767406463623,15.054908752441406,7.28286600112915,0.8935528993606567,4.648979663848877,11.717822074890137,9.59365177154541,4.64115047454834,7.611050128936768,4.3322224617004395,4.429854393005371,6.275528907775879,0.6878975033760071,6.27819299697876,7.929992198944092,8.530834197998047,5.984382152557373,1.9484484195709229,8.31568717956543,5.83047342300415,9.135059356689453,5.827056407928467,6.4487433433532715,13.050372123718262,3.4602737426757812,14.84619426727295,7.752060890197754,8.098315238952637,1.9039106369018555,4.036101341247559,6.416284084320068,7.716303825378418,6.523775100708008,2.8182687759399414,2.82220458984375,3.7022438049316406,3.602391004562378,5.30621337890625,2.9626753330230713,5.484047889709473,4.86164665222168,9.477666854858398,12.500555038452148,3.1339704990386963,3.1192104816436768,8.388079643249512,9.325295448303223,5.013521671295166,5.924437522888184,7.570092678070068,5.960782051086426,11.881821632385254,2.8784637451171875,9.092809677124023,9.53443717956543,4.444962024688721,2.148204803466797,8.33384895324707,14.854333877563477,5.378052711486816,7.0960307121276855,6.441201210021973,12.798002243041992,7.569919586181641,5.662914276123047,6.504776954650879,7.522587776184082,8.943824768066406,7.289559841156006,5.930216312408447,2.8226253986358643,3.2011325359344482,2.125498056411743,5.674586772918701,14.764193534851074,4.003236293792725,5.355835437774658,3.9728360176086426,3.9380619525909424,9.726412773132324,8.525755882263184,7.122960567474365,9.15410041809082,2.712015390396118,11.072501182556152,8.741114616394043,5.773736476898193,7.157562732696533,7.627716064453125,3.1078526973724365,8.959161758422852,3.1839444637298584,15.013946533203125,6.548338890075684,7.085312843322754,7.1534576416015625,5.549099445343018,6.015523433685303,7.095785140991211,15.003625869750977,4.648550510406494,3.1486763954162598,3.6591107845306396,8.347883224487305,12.702949523925781,12.190535545349121,15.016519546508789,11.598841667175293,9.954915046691895,7.575743198394775,8.652056694030762,6.152884006500244,4.148060321807861,5.120330333709717,6.397061824798584,6.711627960205078,6.3929443359375,3.252206325531006,2.9365992546081543,12.265595436096191,2.780766725540161,3.3158304691314697,15.037181854248047,8.59634780883789,12.930737495422363,6.364930152893066,7.348305702209473,6.235414028167725,2.8741633892059326,3.226186752319336,8.559444427490234,5.6785197257995605,7.267972946166992,4.288035869598389,5.2722954750061035,9.91593074798584,5.405953884124756,7.969979763031006,8.195696830749512,8.207503318786621,9.90322494506836,4.682927131652832,6.559765338897705,7.085315704345703,4.931493759155273,4.6316704750061035,5.745168209075928,3.1802449226379395,8.61977481842041,8.680503845214844,5.407340049743652,3.252140522003174,9.259366035461426,6.320737361907959,1.9445489645004272,4.5311689376831055,11.678990364074707,2.9309093952178955,7.712424278259277,3.13081693649292,4.564910888671875,6.395111560821533,8.46936321258545,6.182859420776367,7.700302600860596,14.169205665588379,4.447981357574463,10.940064430236816,12.047618865966797,5.91731595993042,2.797659397125244,8.781791687011719,13.90905475616455,6.05456018447876,7.8694376945495605,2.024505615234375,3.989201545715332,11.7007474899292,7.349963188171387,6.7524824142456055,12.763114929199219,9.060567855834961,7.473865509033203,2.251588821411133,3.6945979595184326,3.1529970169067383,12.309121131896973,6.908575534820557,9.968902587890625,12.909679412841797,8.516857147216797,5.499629974365234,8.626952171325684,0.6770140528678894,6.5090789794921875,2.9991672039031982,6.813215732574463,3.121805191040039,12.248236656188965,8.822071075439453,6.863162517547607,5.931257247924805,7.735563278198242,8.025472640991211,5.032617568969727,14.78136920928955,6.149391174316406,4.149819374084473,6.354656219482422,12.237556457519531,13.263045310974121,13.497252464294434,12.943361282348633,3.669271469116211,14.176277160644531,6.1034746170043945,13.540223121643066,6.385909080505371,2.8708913326263428,8.870856285095215,3.9418139457702637,3.2132115364074707,6.304835319519043,1.8390583992004395,8.717438697814941,14.853975296020508,4.47800350189209,4.701798439025879,3.7829954624176025,5.160635948181152,7.726851940155029,13.297965049743652,7.48702335357666,7.726598739624023,8.058613777160645,7.0663065910339355,7.579091548919678,0.6944553852081299,8.615893363952637,11.872743606567383,9.420347213745117,2.2658329010009766,8.374777793884277,5.68589448928833,4.006218433380127,12.950157165527344,8.59079360961914,7.1031365394592285,4.877529621124268,8.848501205444336,4.5009965896606445,7.131427764892578,7.593905448913574,4.512604713439941,15.02075481414795,7.173921585083008,4.68194055557251,8.328282356262207,4.548270225524902,6.394837379455566,2.7323403358459473,11.68856430053711],\"yaxis\":\"y\",\"type\":\"scattergl\"}],                        {\"template\":{\"data\":{\"histogram2dcontour\":[{\"type\":\"histogram2dcontour\",\"colorbar\":{\"outlinewidth\":0,\"ticks\":\"\"},\"colorscale\":[[0.0,\"#0d0887\"],[0.1111111111111111,\"#46039f\"],[0.2222222222222222,\"#7201a8\"],[0.3333333333333333,\"#9c179e\"],[0.4444444444444444,\"#bd3786\"],[0.5555555555555556,\"#d8576b\"],[0.6666666666666666,\"#ed7953\"],[0.7777777777777778,\"#fb9f3a\"],[0.8888888888888888,\"#fdca26\"],[1.0,\"#f0f921\"]]}],\"choropleth\":[{\"type\":\"choropleth\",\"colorbar\":{\"outlinewidth\":0,\"ticks\":\"\"}}],\"histogram2d\":[{\"type\":\"histogram2d\",\"colorbar\":{\"outlinewidth\":0,\"ticks\":\"\"},\"colorscale\":[[0.0,\"#0d0887\"],[0.1111111111111111,\"#46039f\"],[0.2222222222222222,\"#7201a8\"],[0.3333333333333333,\"#9c179e\"],[0.4444444444444444,\"#bd3786\"],[0.5555555555555556,\"#d8576b\"],[0.6666666666666666,\"#ed7953\"],[0.7777777777777778,\"#fb9f3a\"],[0.8888888888888888,\"#fdca26\"],[1.0,\"#f0f921\"]]}],\"heatmap\":[{\"type\":\"heatmap\",\"colorbar\":{\"outlinewidth\":0,\"ticks\":\"\"},\"colorscale\":[[0.0,\"#0d0887\"],[0.1111111111111111,\"#46039f\"],[0.2222222222222222,\"#7201a8\"],[0.3333333333333333,\"#9c179e\"],[0.4444444444444444,\"#bd3786\"],[0.5555555555555556,\"#d8576b\"],[0.6666666666666666,\"#ed7953\"],[0.7777777777777778,\"#fb9f3a\"],[0.8888888888888888,\"#fdca26\"],[1.0,\"#f0f921\"]]}],\"heatmapgl\":[{\"type\":\"heatmapgl\",\"colorbar\":{\"outlinewidth\":0,\"ticks\":\"\"},\"colorscale\":[[0.0,\"#0d0887\"],[0.1111111111111111,\"#46039f\"],[0.2222222222222222,\"#7201a8\"],[0.3333333333333333,\"#9c179e\"],[0.4444444444444444,\"#bd3786\"],[0.5555555555555556,\"#d8576b\"],[0.6666666666666666,\"#ed7953\"],[0.7777777777777778,\"#fb9f3a\"],[0.8888888888888888,\"#fdca26\"],[1.0,\"#f0f921\"]]}],\"contourcarpet\":[{\"type\":\"contourcarpet\",\"colorbar\":{\"outlinewidth\":0,\"ticks\":\"\"}}],\"contour\":[{\"type\":\"contour\",\"colorbar\":{\"outlinewidth\":0,\"ticks\":\"\"},\"colorscale\":[[0.0,\"#0d0887\"],[0.1111111111111111,\"#46039f\"],[0.2222222222222222,\"#7201a8\"],[0.3333333333333333,\"#9c179e\"],[0.4444444444444444,\"#bd3786\"],[0.5555555555555556,\"#d8576b\"],[0.6666666666666666,\"#ed7953\"],[0.7777777777777778,\"#fb9f3a\"],[0.8888888888888888,\"#fdca26\"],[1.0,\"#f0f921\"]]}],\"surface\":[{\"type\":\"surface\",\"colorbar\":{\"outlinewidth\":0,\"ticks\":\"\"},\"colorscale\":[[0.0,\"#0d0887\"],[0.1111111111111111,\"#46039f\"],[0.2222222222222222,\"#7201a8\"],[0.3333333333333333,\"#9c179e\"],[0.4444444444444444,\"#bd3786\"],[0.5555555555555556,\"#d8576b\"],[0.6666666666666666,\"#ed7953\"],[0.7777777777777778,\"#fb9f3a\"],[0.8888888888888888,\"#fdca26\"],[1.0,\"#f0f921\"]]}],\"mesh3d\":[{\"type\":\"mesh3d\",\"colorbar\":{\"outlinewidth\":0,\"ticks\":\"\"}}],\"scatter\":[{\"fillpattern\":{\"fillmode\":\"overlay\",\"size\":10,\"solidity\":0.2},\"type\":\"scatter\"}],\"parcoords\":[{\"type\":\"parcoords\",\"line\":{\"colorbar\":{\"outlinewidth\":0,\"ticks\":\"\"}}}],\"scatterpolargl\":[{\"type\":\"scatterpolargl\",\"marker\":{\"colorbar\":{\"outlinewidth\":0,\"ticks\":\"\"}}}],\"bar\":[{\"error_x\":{\"color\":\"#2a3f5f\"},\"error_y\":{\"color\":\"#2a3f5f\"},\"marker\":{\"line\":{\"color\":\"#E5ECF6\",\"width\":0.5},\"pattern\":{\"fillmode\":\"overlay\",\"size\":10,\"solidity\":0.2}},\"type\":\"bar\"}],\"scattergeo\":[{\"type\":\"scattergeo\",\"marker\":{\"colorbar\":{\"outlinewidth\":0,\"ticks\":\"\"}}}],\"scatterpolar\":[{\"type\":\"scatterpolar\",\"marker\":{\"colorbar\":{\"outlinewidth\":0,\"ticks\":\"\"}}}],\"histogram\":[{\"marker\":{\"pattern\":{\"fillmode\":\"overlay\",\"size\":10,\"solidity\":0.2}},\"type\":\"histogram\"}],\"scattergl\":[{\"type\":\"scattergl\",\"marker\":{\"colorbar\":{\"outlinewidth\":0,\"ticks\":\"\"}}}],\"scatter3d\":[{\"type\":\"scatter3d\",\"line\":{\"colorbar\":{\"outlinewidth\":0,\"ticks\":\"\"}},\"marker\":{\"colorbar\":{\"outlinewidth\":0,\"ticks\":\"\"}}}],\"scattermapbox\":[{\"type\":\"scattermapbox\",\"marker\":{\"colorbar\":{\"outlinewidth\":0,\"ticks\":\"\"}}}],\"scatterternary\":[{\"type\":\"scatterternary\",\"marker\":{\"colorbar\":{\"outlinewidth\":0,\"ticks\":\"\"}}}],\"scattercarpet\":[{\"type\":\"scattercarpet\",\"marker\":{\"colorbar\":{\"outlinewidth\":0,\"ticks\":\"\"}}}],\"carpet\":[{\"aaxis\":{\"endlinecolor\":\"#2a3f5f\",\"gridcolor\":\"white\",\"linecolor\":\"white\",\"minorgridcolor\":\"white\",\"startlinecolor\":\"#2a3f5f\"},\"baxis\":{\"endlinecolor\":\"#2a3f5f\",\"gridcolor\":\"white\",\"linecolor\":\"white\",\"minorgridcolor\":\"white\",\"startlinecolor\":\"#2a3f5f\"},\"type\":\"carpet\"}],\"table\":[{\"cells\":{\"fill\":{\"color\":\"#EBF0F8\"},\"line\":{\"color\":\"white\"}},\"header\":{\"fill\":{\"color\":\"#C8D4E3\"},\"line\":{\"color\":\"white\"}},\"type\":\"table\"}],\"barpolar\":[{\"marker\":{\"line\":{\"color\":\"#E5ECF6\",\"width\":0.5},\"pattern\":{\"fillmode\":\"overlay\",\"size\":10,\"solidity\":0.2}},\"type\":\"barpolar\"}],\"pie\":[{\"automargin\":true,\"type\":\"pie\"}]},\"layout\":{\"autotypenumbers\":\"strict\",\"colorway\":[\"#636efa\",\"#EF553B\",\"#00cc96\",\"#ab63fa\",\"#FFA15A\",\"#19d3f3\",\"#FF6692\",\"#B6E880\",\"#FF97FF\",\"#FECB52\"],\"font\":{\"color\":\"#2a3f5f\"},\"hovermode\":\"closest\",\"hoverlabel\":{\"align\":\"left\"},\"paper_bgcolor\":\"white\",\"plot_bgcolor\":\"#E5ECF6\",\"polar\":{\"bgcolor\":\"#E5ECF6\",\"angularaxis\":{\"gridcolor\":\"white\",\"linecolor\":\"white\",\"ticks\":\"\"},\"radialaxis\":{\"gridcolor\":\"white\",\"linecolor\":\"white\",\"ticks\":\"\"}},\"ternary\":{\"bgcolor\":\"#E5ECF6\",\"aaxis\":{\"gridcolor\":\"white\",\"linecolor\":\"white\",\"ticks\":\"\"},\"baxis\":{\"gridcolor\":\"white\",\"linecolor\":\"white\",\"ticks\":\"\"},\"caxis\":{\"gridcolor\":\"white\",\"linecolor\":\"white\",\"ticks\":\"\"}},\"coloraxis\":{\"colorbar\":{\"outlinewidth\":0,\"ticks\":\"\"}},\"colorscale\":{\"sequential\":[[0.0,\"#0d0887\"],[0.1111111111111111,\"#46039f\"],[0.2222222222222222,\"#7201a8\"],[0.3333333333333333,\"#9c179e\"],[0.4444444444444444,\"#bd3786\"],[0.5555555555555556,\"#d8576b\"],[0.6666666666666666,\"#ed7953\"],[0.7777777777777778,\"#fb9f3a\"],[0.8888888888888888,\"#fdca26\"],[1.0,\"#f0f921\"]],\"sequentialminus\":[[0.0,\"#0d0887\"],[0.1111111111111111,\"#46039f\"],[0.2222222222222222,\"#7201a8\"],[0.3333333333333333,\"#9c179e\"],[0.4444444444444444,\"#bd3786\"],[0.5555555555555556,\"#d8576b\"],[0.6666666666666666,\"#ed7953\"],[0.7777777777777778,\"#fb9f3a\"],[0.8888888888888888,\"#fdca26\"],[1.0,\"#f0f921\"]],\"diverging\":[[0,\"#8e0152\"],[0.1,\"#c51b7d\"],[0.2,\"#de77ae\"],[0.3,\"#f1b6da\"],[0.4,\"#fde0ef\"],[0.5,\"#f7f7f7\"],[0.6,\"#e6f5d0\"],[0.7,\"#b8e186\"],[0.8,\"#7fbc41\"],[0.9,\"#4d9221\"],[1,\"#276419\"]]},\"xaxis\":{\"gridcolor\":\"white\",\"linecolor\":\"white\",\"ticks\":\"\",\"title\":{\"standoff\":15},\"zerolinecolor\":\"white\",\"automargin\":true,\"zerolinewidth\":2},\"yaxis\":{\"gridcolor\":\"white\",\"linecolor\":\"white\",\"ticks\":\"\",\"title\":{\"standoff\":15},\"zerolinecolor\":\"white\",\"automargin\":true,\"zerolinewidth\":2},\"scene\":{\"xaxis\":{\"backgroundcolor\":\"#E5ECF6\",\"gridcolor\":\"white\",\"linecolor\":\"white\",\"showbackground\":true,\"ticks\":\"\",\"zerolinecolor\":\"white\",\"gridwidth\":2},\"yaxis\":{\"backgroundcolor\":\"#E5ECF6\",\"gridcolor\":\"white\",\"linecolor\":\"white\",\"showbackground\":true,\"ticks\":\"\",\"zerolinecolor\":\"white\",\"gridwidth\":2},\"zaxis\":{\"backgroundcolor\":\"#E5ECF6\",\"gridcolor\":\"white\",\"linecolor\":\"white\",\"showbackground\":true,\"ticks\":\"\",\"zerolinecolor\":\"white\",\"gridwidth\":2}},\"shapedefaults\":{\"line\":{\"color\":\"#2a3f5f\"}},\"annotationdefaults\":{\"arrowcolor\":\"#2a3f5f\",\"arrowhead\":0,\"arrowwidth\":1},\"geo\":{\"bgcolor\":\"white\",\"landcolor\":\"#E5ECF6\",\"subunitcolor\":\"white\",\"showland\":true,\"showlakes\":true,\"lakecolor\":\"white\"},\"title\":{\"x\":0.05},\"mapbox\":{\"style\":\"light\"}}},\"xaxis\":{\"anchor\":\"y\",\"domain\":[0.0,1.0],\"title\":{\"text\":\"0\"}},\"yaxis\":{\"anchor\":\"x\",\"domain\":[0.0,1.0],\"title\":{\"text\":\"1\"}},\"coloraxis\":{\"colorbar\":{\"title\":{\"text\":\"Anomaly\"}},\"colorscale\":[[0.0,\"#0d0887\"],[0.1111111111111111,\"#46039f\"],[0.2222222222222222,\"#7201a8\"],[0.3333333333333333,\"#9c179e\"],[0.4444444444444444,\"#bd3786\"],[0.5555555555555556,\"#d8576b\"],[0.6666666666666666,\"#ed7953\"],[0.7777777777777778,\"#fb9f3a\"],[0.8888888888888888,\"#fdca26\"],[1.0,\"#f0f921\"]]},\"legend\":{\"tracegroupgap\":0},\"title\":{\"text\":\"uMAP Plot for Outliers\"},\"height\":800,\"width\":900},                        {\"responsive\": true}                    ).then(function(){\n",
       "                            \n",
       "var gd = document.getElementById('1c20e88a-318a-44ce-8f90-61edfbf046ec');\n",
       "var x = new MutationObserver(function (mutations, observer) {{\n",
       "        var display = window.getComputedStyle(gd).display;\n",
       "        if (!display || display === 'none') {{\n",
       "            console.log([gd, 'removed!']);\n",
       "            Plotly.purge(gd);\n",
       "            observer.disconnect();\n",
       "        }}\n",
       "}});\n",
       "\n",
       "// Listen for the removal of the full notebook cells\n",
       "var notebookContainer = gd.closest('#notebook-container');\n",
       "if (notebookContainer) {{\n",
       "    x.observe(notebookContainer, {childList: true});\n",
       "}}\n",
       "\n",
       "// Listen for the clearing of the current output cell\n",
       "var outputEl = gd.closest('.output');\n",
       "if (outputEl) {{\n",
       "    x.observe(outputEl, {childList: true});\n",
       "}}\n",
       "\n",
       "                        })                };                });            </script>        </div>"
      ]
     },
     "metadata": {},
     "output_type": "display_data"
    }
   ],
   "source": [
    "# plot_model(iforest, plot = 'tsne')\n",
    "plot_model(svm, plot = 'umap')"
   ]
  },
  {
   "cell_type": "code",
   "execution_count": null,
   "id": "fee6d6b6-efaa-4ee5-b27a-38afdbef827a",
   "metadata": {},
   "outputs": [],
   "source": []
  }
 ],
 "metadata": {
  "kernelspec": {
   "display_name": "Python 3 (ipykernel)",
   "language": "python",
   "name": "python3"
  },
  "language_info": {
   "codemirror_mode": {
    "name": "ipython",
    "version": 3
   },
   "file_extension": ".py",
   "mimetype": "text/x-python",
   "name": "python",
   "nbconvert_exporter": "python",
   "pygments_lexer": "ipython3",
   "version": "3.7.15"
  }
 },
 "nbformat": 4,
 "nbformat_minor": 5
}
